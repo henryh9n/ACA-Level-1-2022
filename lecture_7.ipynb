{
 "cells": [
  {
   "cell_type": "markdown",
   "id": "4417519e-f195-4309-b73b-1750c8f88630",
   "metadata": {},
   "source": [
    "# Lecture 7 ~ OOP"
   ]
  },
  {
   "cell_type": "markdown",
   "id": "2e030260-31d6-421d-99e4-8862a83f4062",
   "metadata": {},
   "source": [
    "## Instance vs Class"
   ]
  },
  {
   "cell_type": "markdown",
   "id": "3b6db529-8bd0-405b-b417-f213be288a1a",
   "metadata": {},
   "source": [
    "Property vs Behaviour"
   ]
  },
  {
   "cell_type": "code",
   "execution_count": 1,
   "id": "97743253-2ee6-4023-8b68-e0fab14d342a",
   "metadata": {},
   "outputs": [],
   "source": [
    "class Dog:\n",
    "    def __init__(self, name):  # Consrtructor\n",
    "        self.name = name"
   ]
  },
  {
   "cell_type": "code",
   "execution_count": 2,
   "id": "2db8df66-38e5-4252-af3d-289e7102ae1c",
   "metadata": {},
   "outputs": [],
   "source": [
    "bob = Dog(name=\"Bob\")\n",
    "jack = Dog(\"Jack\")"
   ]
  },
  {
   "cell_type": "code",
   "execution_count": 3,
   "id": "837b55a1-722d-4e8a-94da-e3771684766a",
   "metadata": {},
   "outputs": [
    {
     "data": {
      "text/plain": [
       "'Bob'"
      ]
     },
     "execution_count": 3,
     "metadata": {},
     "output_type": "execute_result"
    }
   ],
   "source": [
    "bob.name"
   ]
  },
  {
   "cell_type": "code",
   "execution_count": 4,
   "id": "77a2c036-b7ad-4f76-a7ef-cd3596d71675",
   "metadata": {},
   "outputs": [
    {
     "data": {
      "text/plain": [
       "'Jack'"
      ]
     },
     "execution_count": 4,
     "metadata": {},
     "output_type": "execute_result"
    }
   ],
   "source": [
    "jack.name"
   ]
  },
  {
   "cell_type": "code",
   "execution_count": 5,
   "id": "7dfefe11-240c-49cb-be68-67818a4b75a1",
   "metadata": {},
   "outputs": [
    {
     "data": {
      "text/plain": [
       "4357117744"
      ]
     },
     "execution_count": 5,
     "metadata": {},
     "output_type": "execute_result"
    }
   ],
   "source": [
    "id(bob)"
   ]
  },
  {
   "cell_type": "code",
   "execution_count": 6,
   "id": "e623903f-f6d0-4aa0-8c95-309eb6bd6a60",
   "metadata": {},
   "outputs": [
    {
     "data": {
      "text/plain": [
       "4357118032"
      ]
     },
     "execution_count": 6,
     "metadata": {},
     "output_type": "execute_result"
    }
   ],
   "source": [
    "id(jack)"
   ]
  },
  {
   "cell_type": "code",
   "execution_count": 7,
   "id": "d24aaae9-4e92-4065-b084-1d6eae15460b",
   "metadata": {},
   "outputs": [
    {
     "data": {
      "text/plain": [
       "__main__.Dog"
      ]
     },
     "execution_count": 7,
     "metadata": {},
     "output_type": "execute_result"
    }
   ],
   "source": [
    "type(bob)"
   ]
  },
  {
   "cell_type": "code",
   "execution_count": 8,
   "id": "65fea7a1-2dc2-4f13-b717-1e70b5cf3c0d",
   "metadata": {},
   "outputs": [
    {
     "data": {
      "text/plain": [
       "__main__.Dog"
      ]
     },
     "execution_count": 8,
     "metadata": {},
     "output_type": "execute_result"
    }
   ],
   "source": [
    "type(jack)"
   ]
  },
  {
   "cell_type": "code",
   "execution_count": 9,
   "id": "f018a71b-a9de-45d0-9965-35909b3a5766",
   "metadata": {},
   "outputs": [],
   "source": [
    "class Dog:\n",
    "    def __init__(self, name, age):\n",
    "        self.name = name\n",
    "        self.age = age"
   ]
  },
  {
   "cell_type": "code",
   "execution_count": 11,
   "id": "609b3dcb-83ef-4484-94b6-54931c8b4324",
   "metadata": {},
   "outputs": [],
   "source": [
    "rich = Dog(name=\"Richie\", age=7)"
   ]
  },
  {
   "cell_type": "code",
   "execution_count": 12,
   "id": "83b25b2e-0738-420d-8837-931826931a0b",
   "metadata": {},
   "outputs": [],
   "source": [
    "rich = Dog(\"Richie\", 7)"
   ]
  },
  {
   "cell_type": "code",
   "execution_count": 13,
   "id": "c61d56ea-5d4b-4361-91e3-daf310fca56e",
   "metadata": {},
   "outputs": [],
   "source": [
    "rich = Dog(age=7, name=\"Richie\")"
   ]
  },
  {
   "cell_type": "code",
   "execution_count": 14,
   "id": "d92ae3e5-9e00-489a-b6e2-dd838ad2d8c0",
   "metadata": {},
   "outputs": [],
   "source": [
    "class Dog:\n",
    "    def __init__(self, name, age, color=\"black\"):\n",
    "        if not isinstance(name, str):\n",
    "            raise Exception(\"name should be a string\")\n",
    "        self.name = name\n",
    "        self.age = age"
   ]
  },
  {
   "cell_type": "code",
   "execution_count": 15,
   "id": "a144f78d-25a0-49ef-bdd0-17b46cd0724e",
   "metadata": {},
   "outputs": [
    {
     "ename": "Exception",
     "evalue": "name should be a string",
     "output_type": "error",
     "traceback": [
      "\u001b[0;31m---------------------------------------------------------------------------\u001b[0m",
      "\u001b[0;31mException\u001b[0m                                 Traceback (most recent call last)",
      "Input \u001b[0;32mIn [15]\u001b[0m, in \u001b[0;36m<cell line: 1>\u001b[0;34m()\u001b[0m\n\u001b[0;32m----> 1\u001b[0m \u001b[43mDog\u001b[49m\u001b[43m(\u001b[49m\u001b[38;5;241;43m12\u001b[39;49m\u001b[43m,\u001b[49m\u001b[43m \u001b[49m\u001b[38;5;124;43m\"\u001b[39;49m\u001b[38;5;124;43mjack\u001b[39;49m\u001b[38;5;124;43m\"\u001b[39;49m\u001b[43m)\u001b[49m\n",
      "Input \u001b[0;32mIn [14]\u001b[0m, in \u001b[0;36mDog.__init__\u001b[0;34m(self, name, age)\u001b[0m\n\u001b[1;32m      2\u001b[0m \u001b[38;5;28;01mdef\u001b[39;00m \u001b[38;5;21m__init__\u001b[39m(\u001b[38;5;28mself\u001b[39m, name, age):\n\u001b[1;32m      3\u001b[0m     \u001b[38;5;28;01mif\u001b[39;00m \u001b[38;5;129;01mnot\u001b[39;00m \u001b[38;5;28misinstance\u001b[39m(name, \u001b[38;5;28mstr\u001b[39m):\n\u001b[0;32m----> 4\u001b[0m         \u001b[38;5;28;01mraise\u001b[39;00m \u001b[38;5;167;01mException\u001b[39;00m(\u001b[38;5;124m\"\u001b[39m\u001b[38;5;124mname should be a string\u001b[39m\u001b[38;5;124m\"\u001b[39m)\n\u001b[1;32m      5\u001b[0m     \u001b[38;5;28mself\u001b[39m\u001b[38;5;241m.\u001b[39mname \u001b[38;5;241m=\u001b[39m name\n\u001b[1;32m      6\u001b[0m     \u001b[38;5;28mself\u001b[39m\u001b[38;5;241m.\u001b[39mage \u001b[38;5;241m=\u001b[39m age\n",
      "\u001b[0;31mException\u001b[0m: name should be a string"
     ]
    }
   ],
   "source": [
    "Dog(12, \"jack\")"
   ]
  },
  {
   "cell_type": "code",
   "execution_count": 21,
   "id": "ac5c3d57-53f1-4d77-ab95-7cd5c5cb96f0",
   "metadata": {},
   "outputs": [],
   "source": [
    "# BAD\n",
    "bob = [\"Bob\", 12, \"black\"]\n",
    "jack = [\"Jack\", 7, \"yellow\", \"Henry\"]"
   ]
  },
  {
   "cell_type": "code",
   "execution_count": 22,
   "id": "9931ae8f-95c1-407a-a4c8-276122540125",
   "metadata": {},
   "outputs": [],
   "source": [
    "bob = {\n",
    "    \"name\": \"Bob\",\n",
    "    \"age\": 12,\n",
    "    \"color\": \"black\"\n",
    "}"
   ]
  },
  {
   "cell_type": "code",
   "execution_count": 23,
   "id": "c39f9a07-8961-4737-b6c0-bf95d5ce306a",
   "metadata": {},
   "outputs": [
    {
     "data": {
      "text/plain": [
       "['__class__',\n",
       " '__delattr__',\n",
       " '__dict__',\n",
       " '__dir__',\n",
       " '__doc__',\n",
       " '__eq__',\n",
       " '__format__',\n",
       " '__ge__',\n",
       " '__getattribute__',\n",
       " '__gt__',\n",
       " '__hash__',\n",
       " '__init__',\n",
       " '__init_subclass__',\n",
       " '__le__',\n",
       " '__lt__',\n",
       " '__module__',\n",
       " '__ne__',\n",
       " '__new__',\n",
       " '__reduce__',\n",
       " '__reduce_ex__',\n",
       " '__repr__',\n",
       " '__setattr__',\n",
       " '__sizeof__',\n",
       " '__str__',\n",
       " '__subclasshook__',\n",
       " '__weakref__',\n",
       " 'age',\n",
       " 'name']"
      ]
     },
     "execution_count": 23,
     "metadata": {},
     "output_type": "execute_result"
    }
   ],
   "source": [
    "dir(rich)"
   ]
  },
  {
   "cell_type": "code",
   "execution_count": 24,
   "id": "fdf8395f-ee95-4c35-adcd-940667e875cf",
   "metadata": {},
   "outputs": [
    {
     "data": {
      "text/plain": [
       "{'name': 'Richie', 'age': 7}"
      ]
     },
     "execution_count": 24,
     "metadata": {},
     "output_type": "execute_result"
    }
   ],
   "source": [
    "vars(rich)"
   ]
  },
  {
   "cell_type": "code",
   "execution_count": 25,
   "id": "6784246d-26d9-4815-9908-c35f34d2358a",
   "metadata": {},
   "outputs": [],
   "source": [
    "a = Dog(\"Jack\", 12)"
   ]
  },
  {
   "cell_type": "code",
   "execution_count": 26,
   "id": "919e69be-4737-4c33-b621-37ffdd9374b3",
   "metadata": {},
   "outputs": [],
   "source": [
    "b = Dog(\"Jack\", 12)"
   ]
  },
  {
   "cell_type": "code",
   "execution_count": 27,
   "id": "fa7c46c3-446e-474d-8efb-9f2b771e8e0b",
   "metadata": {},
   "outputs": [
    {
     "data": {
      "text/plain": [
       "False"
      ]
     },
     "execution_count": 27,
     "metadata": {},
     "output_type": "execute_result"
    }
   ],
   "source": [
    "a == b"
   ]
  },
  {
   "cell_type": "code",
   "execution_count": 28,
   "id": "f602e214-0150-4d12-b6fa-b14a860d45ba",
   "metadata": {},
   "outputs": [
    {
     "data": {
      "text/plain": [
       "4400174896"
      ]
     },
     "execution_count": 28,
     "metadata": {},
     "output_type": "execute_result"
    }
   ],
   "source": [
    "id(a)"
   ]
  },
  {
   "cell_type": "code",
   "execution_count": 29,
   "id": "d80b3ec1-aa09-4dfe-b6e5-600c5bcfe036",
   "metadata": {},
   "outputs": [
    {
     "data": {
      "text/plain": [
       "4400176816"
      ]
     },
     "execution_count": 29,
     "metadata": {},
     "output_type": "execute_result"
    }
   ],
   "source": [
    "id(b)"
   ]
  },
  {
   "cell_type": "code",
   "execution_count": 30,
   "id": "658cddf2-09af-4600-b212-4aa705afa68a",
   "metadata": {},
   "outputs": [
    {
     "data": {
      "text/plain": [
       "False"
      ]
     },
     "execution_count": 30,
     "metadata": {},
     "output_type": "execute_result"
    }
   ],
   "source": [
    "a is b"
   ]
  },
  {
   "cell_type": "code",
   "execution_count": 31,
   "id": "1045ca39-940d-4663-8f0a-d66179ed2865",
   "metadata": {},
   "outputs": [
    {
     "data": {
      "text/plain": [
       "True"
      ]
     },
     "execution_count": 31,
     "metadata": {},
     "output_type": "execute_result"
    }
   ],
   "source": [
    "a == a"
   ]
  },
  {
   "cell_type": "code",
   "execution_count": 32,
   "id": "ce887cf4-6e4c-41ab-aaa8-2b994fc51087",
   "metadata": {},
   "outputs": [
    {
     "data": {
      "text/plain": [
       "True"
      ]
     },
     "execution_count": 32,
     "metadata": {},
     "output_type": "execute_result"
    }
   ],
   "source": [
    "a is a"
   ]
  },
  {
   "cell_type": "code",
   "execution_count": 33,
   "id": "88d2f480-fea7-443b-8716-004716bccdd1",
   "metadata": {},
   "outputs": [
    {
     "data": {
      "text/plain": [
       "True"
      ]
     },
     "execution_count": 33,
     "metadata": {},
     "output_type": "execute_result"
    }
   ],
   "source": [
    "a.name == b.name"
   ]
  },
  {
   "cell_type": "code",
   "execution_count": 35,
   "id": "6482b5ad-51f6-4da6-99e2-010d99e3d817",
   "metadata": {},
   "outputs": [
    {
     "data": {
      "text/plain": [
       "True"
      ]
     },
     "execution_count": 35,
     "metadata": {},
     "output_type": "execute_result"
    }
   ],
   "source": [
    "a.age == b.age"
   ]
  },
  {
   "cell_type": "code",
   "execution_count": 36,
   "id": "b93a0c6d-931c-4f52-8a94-d7d0afe0c17a",
   "metadata": {},
   "outputs": [
    {
     "data": {
      "text/plain": [
       "False"
      ]
     },
     "execution_count": 36,
     "metadata": {},
     "output_type": "execute_result"
    }
   ],
   "source": [
    "a == b"
   ]
  },
  {
   "cell_type": "markdown",
   "id": "11be1f3d-e809-4088-beb6-674550e1394c",
   "metadata": {},
   "source": [
    "## Instance Attribute vs Class Attribute"
   ]
  },
  {
   "cell_type": "code",
   "execution_count": 43,
   "id": "02c68edf-7b97-477c-9757-7318d7da7223",
   "metadata": {},
   "outputs": [],
   "source": [
    "class Person:\n",
    "    no_of_ears = 2  # class attribute\n",
    "    \n",
    "    def __init__(self, name, age):\n",
    "        self.name = name  # instance attribute\n",
    "        self.age = age    # instance attribute"
   ]
  },
  {
   "cell_type": "code",
   "execution_count": 44,
   "id": "eb07c860-c2fa-4a40-896f-00731d5ddc6a",
   "metadata": {},
   "outputs": [],
   "source": [
    "person_1 = Person(\"Jack\", 42)\n",
    "person_2 = Person(\"Adam\", 24)"
   ]
  },
  {
   "cell_type": "code",
   "execution_count": 45,
   "id": "16e1ace0-4f26-433f-9801-4234f72023c3",
   "metadata": {},
   "outputs": [
    {
     "data": {
      "text/plain": [
       "'Jack'"
      ]
     },
     "execution_count": 45,
     "metadata": {},
     "output_type": "execute_result"
    }
   ],
   "source": [
    "person_1.name"
   ]
  },
  {
   "cell_type": "code",
   "execution_count": 46,
   "id": "1819bea2-5fcf-477e-80f6-ba2d71d592ed",
   "metadata": {},
   "outputs": [
    {
     "data": {
      "text/plain": [
       "2"
      ]
     },
     "execution_count": 46,
     "metadata": {},
     "output_type": "execute_result"
    }
   ],
   "source": [
    "person_1.no_of_ears"
   ]
  },
  {
   "cell_type": "code",
   "execution_count": 47,
   "id": "a30fb634-c478-45bb-adb4-07e6ab4ce3a6",
   "metadata": {},
   "outputs": [],
   "source": [
    "person_3 = Person(\"Vincent van Gogh\", 42)"
   ]
  },
  {
   "cell_type": "code",
   "execution_count": 48,
   "id": "a69102c8-55cc-4c7b-9c72-2141ebeaf485",
   "metadata": {},
   "outputs": [
    {
     "data": {
      "text/plain": [
       "'Vincent van Gogh'"
      ]
     },
     "execution_count": 48,
     "metadata": {},
     "output_type": "execute_result"
    }
   ],
   "source": [
    "person_3.name"
   ]
  },
  {
   "cell_type": "code",
   "execution_count": 49,
   "id": "823abaa7-dfa2-4467-ba63-7ee09dc78db7",
   "metadata": {},
   "outputs": [
    {
     "data": {
      "text/plain": [
       "2"
      ]
     },
     "execution_count": 49,
     "metadata": {},
     "output_type": "execute_result"
    }
   ],
   "source": [
    "person_3.no_of_ears"
   ]
  },
  {
   "cell_type": "code",
   "execution_count": 51,
   "id": "c1c41e73-28e3-430c-93f2-669c4b7f3947",
   "metadata": {},
   "outputs": [],
   "source": [
    "person_3.no_of_ears -= 1"
   ]
  },
  {
   "cell_type": "code",
   "execution_count": 52,
   "id": "eb2674f6-85f8-4300-82ff-0bd0f4150843",
   "metadata": {},
   "outputs": [
    {
     "data": {
      "text/plain": [
       "1"
      ]
     },
     "execution_count": 52,
     "metadata": {},
     "output_type": "execute_result"
    }
   ],
   "source": [
    "person_3.no_of_ears"
   ]
  },
  {
   "cell_type": "code",
   "execution_count": 53,
   "id": "1ed40880-e950-4ae5-ab05-06fa945882ef",
   "metadata": {},
   "outputs": [
    {
     "data": {
      "text/plain": [
       "2"
      ]
     },
     "execution_count": 53,
     "metadata": {},
     "output_type": "execute_result"
    }
   ],
   "source": [
    "person_2.no_of_ears"
   ]
  },
  {
   "cell_type": "code",
   "execution_count": 54,
   "id": "7d1d0bb8-5968-4dc7-a7fa-11a3b29c9acb",
   "metadata": {},
   "outputs": [
    {
     "data": {
      "text/plain": [
       "2"
      ]
     },
     "execution_count": 54,
     "metadata": {},
     "output_type": "execute_result"
    }
   ],
   "source": [
    "Person.no_of_ears"
   ]
  },
  {
   "cell_type": "code",
   "execution_count": 55,
   "id": "2c8a028f-8751-4542-b88b-0bef09c8d8b1",
   "metadata": {},
   "outputs": [],
   "source": [
    "Person.no_of_ears = 4"
   ]
  },
  {
   "cell_type": "code",
   "execution_count": 56,
   "id": "1dad1ebe-3c47-4980-9012-f8a3775cf412",
   "metadata": {},
   "outputs": [
    {
     "data": {
      "text/plain": [
       "4"
      ]
     },
     "execution_count": 56,
     "metadata": {},
     "output_type": "execute_result"
    }
   ],
   "source": [
    "person_1.no_of_ears"
   ]
  },
  {
   "cell_type": "code",
   "execution_count": 57,
   "id": "9b9a6245-c06b-4b8a-8f2c-66cb9b3ce623",
   "metadata": {},
   "outputs": [
    {
     "data": {
      "text/plain": [
       "4"
      ]
     },
     "execution_count": 57,
     "metadata": {},
     "output_type": "execute_result"
    }
   ],
   "source": [
    "person_2.no_of_ears"
   ]
  },
  {
   "cell_type": "code",
   "execution_count": 58,
   "id": "8e143f9f-64d7-405a-83dc-f96a3276f538",
   "metadata": {},
   "outputs": [
    {
     "data": {
      "text/plain": [
       "1"
      ]
     },
     "execution_count": 58,
     "metadata": {},
     "output_type": "execute_result"
    }
   ],
   "source": [
    "person_3.no_of_ears"
   ]
  },
  {
   "cell_type": "code",
   "execution_count": 59,
   "id": "14e4d1c1-4b01-4f6c-a635-edc543a5fb09",
   "metadata": {},
   "outputs": [
    {
     "data": {
      "text/plain": [
       "4301482384"
      ]
     },
     "execution_count": 59,
     "metadata": {},
     "output_type": "execute_result"
    }
   ],
   "source": [
    "id(person_1.no_of_ears)"
   ]
  },
  {
   "cell_type": "code",
   "execution_count": 60,
   "id": "9eb32a89-62bf-4bce-8fe6-7ca427938edf",
   "metadata": {},
   "outputs": [
    {
     "data": {
      "text/plain": [
       "4301482384"
      ]
     },
     "execution_count": 60,
     "metadata": {},
     "output_type": "execute_result"
    }
   ],
   "source": [
    "id(person_2.no_of_ears)"
   ]
  },
  {
   "cell_type": "code",
   "execution_count": 61,
   "id": "2581bd10-17d6-4073-8a46-9d2774250795",
   "metadata": {},
   "outputs": [
    {
     "data": {
      "text/plain": [
       "4301482288"
      ]
     },
     "execution_count": 61,
     "metadata": {},
     "output_type": "execute_result"
    }
   ],
   "source": [
    "id(person_3.no_of_ears)"
   ]
  },
  {
   "cell_type": "code",
   "execution_count": 62,
   "id": "2accdf5c-a56a-4be9-9758-fcbcde05cff2",
   "metadata": {},
   "outputs": [
    {
     "data": {
      "text/plain": [
       "4301482384"
      ]
     },
     "execution_count": 62,
     "metadata": {},
     "output_type": "execute_result"
    }
   ],
   "source": [
    "id(Person.no_of_ears)"
   ]
  },
  {
   "cell_type": "code",
   "execution_count": 72,
   "id": "159f5099-b938-4b2a-9568-32239b413121",
   "metadata": {},
   "outputs": [],
   "source": [
    "class Employee:\n",
    "    company_domain = \"aca.am\"\n",
    "    \n",
    "    def __init__(self, name, surname, external_domain=None):\n",
    "        self.name = name\n",
    "        self.surname = surname\n",
    "        if external_domain is not None:\n",
    "            self.company_domain = external_domain\n",
    "        \n",
    "    def get_company_domain(self):\n",
    "        return f\"{self.name}.{self.surname}@{self.company_domain}\""
   ]
  },
  {
   "cell_type": "code",
   "execution_count": 73,
   "id": "0f2cb4b0-dafa-4a95-9767-4325695f1354",
   "metadata": {},
   "outputs": [],
   "source": [
    "employee_1 = Employee(\"Henry\", \"Harutyunyan\")"
   ]
  },
  {
   "cell_type": "code",
   "execution_count": 74,
   "id": "686468d4-deaa-45a6-92ae-8791490ad942",
   "metadata": {},
   "outputs": [
    {
     "data": {
      "text/plain": [
       "'Henry.Harutyunyan@aca.am'"
      ]
     },
     "execution_count": 74,
     "metadata": {},
     "output_type": "execute_result"
    }
   ],
   "source": [
    "employee_1.get_company_domain()"
   ]
  },
  {
   "cell_type": "code",
   "execution_count": 75,
   "id": "b5ef9e12-9b31-49ee-8a53-4721eb16db89",
   "metadata": {},
   "outputs": [],
   "source": [
    "employee_2 = Employee(\"Adam\", \"Smith\")"
   ]
  },
  {
   "cell_type": "code",
   "execution_count": 76,
   "id": "7ae89192-0654-4fc8-ae58-fa2b7aebb496",
   "metadata": {},
   "outputs": [
    {
     "data": {
      "text/plain": [
       "'Adam.Smith@aca.am'"
      ]
     },
     "execution_count": 76,
     "metadata": {},
     "output_type": "execute_result"
    }
   ],
   "source": [
    "employee_2.get_company_domain()"
   ]
  },
  {
   "cell_type": "code",
   "execution_count": 77,
   "id": "9c69f92f-ffac-45c4-9eef-a93a972f07c9",
   "metadata": {},
   "outputs": [],
   "source": [
    "Employee.company_domain = \"aca.com\""
   ]
  },
  {
   "cell_type": "code",
   "execution_count": 78,
   "id": "7b785122-3eae-4239-808c-75134c50976e",
   "metadata": {},
   "outputs": [
    {
     "data": {
      "text/plain": [
       "'Henry.Harutyunyan@aca.com'"
      ]
     },
     "execution_count": 78,
     "metadata": {},
     "output_type": "execute_result"
    }
   ],
   "source": [
    "employee_1.get_company_domain()"
   ]
  },
  {
   "cell_type": "code",
   "execution_count": 79,
   "id": "cc956f13-df02-422b-99ab-cdf0b9c7715a",
   "metadata": {},
   "outputs": [],
   "source": [
    "employee_3 = Employee(\"Jack\", \"Beckett\", external_domain=\"gmail.com\")"
   ]
  },
  {
   "cell_type": "code",
   "execution_count": 80,
   "id": "6b5a30fc-15c7-4431-a1c8-105949a2b10c",
   "metadata": {},
   "outputs": [
    {
     "data": {
      "text/plain": [
       "'Jack.Beckett@gmail.com'"
      ]
     },
     "execution_count": 80,
     "metadata": {},
     "output_type": "execute_result"
    }
   ],
   "source": [
    "employee_3.get_company_domain()"
   ]
  },
  {
   "cell_type": "markdown",
   "id": "5e9695fc-7046-480b-953c-4cac4b73ed7e",
   "metadata": {},
   "source": [
    "## Methods"
   ]
  },
  {
   "cell_type": "code",
   "execution_count": 109,
   "id": "75e4d188-6341-490a-ab60-22a80234c5d1",
   "metadata": {},
   "outputs": [],
   "source": [
    "class Dog:\n",
    "    def __init__(self, name, age):\n",
    "        self.name = name\n",
    "        self.age = age\n",
    "\n",
    "    def speak(self):  # instance method\n",
    "        return \"woof woof\""
   ]
  },
  {
   "cell_type": "code",
   "execution_count": 110,
   "id": "614aa12e-7683-4efc-9bea-7d3f01b0d453",
   "metadata": {},
   "outputs": [],
   "source": [
    "dog_1 = Dog(\"Bob\", 12)"
   ]
  },
  {
   "cell_type": "code",
   "execution_count": 111,
   "id": "47795ba5-27dc-494e-987d-b0ad48d0b04c",
   "metadata": {},
   "outputs": [
    {
     "data": {
      "text/plain": [
       "'Bob'"
      ]
     },
     "execution_count": 111,
     "metadata": {},
     "output_type": "execute_result"
    }
   ],
   "source": [
    "dog_1.name"
   ]
  },
  {
   "cell_type": "code",
   "execution_count": 112,
   "id": "94b7bb3f-af40-47b1-9c74-ac4e44b37028",
   "metadata": {},
   "outputs": [
    {
     "data": {
      "text/plain": [
       "12"
      ]
     },
     "execution_count": 112,
     "metadata": {},
     "output_type": "execute_result"
    }
   ],
   "source": [
    "dog_1.age"
   ]
  },
  {
   "cell_type": "code",
   "execution_count": 113,
   "id": "9629a873-8038-4cbc-af05-61dcfcdf4876",
   "metadata": {},
   "outputs": [
    {
     "data": {
      "text/plain": [
       "'woof woof'"
      ]
     },
     "execution_count": 113,
     "metadata": {},
     "output_type": "execute_result"
    }
   ],
   "source": [
    "dog_1.speak()  # Method"
   ]
  },
  {
   "cell_type": "code",
   "execution_count": 114,
   "id": "789073ff-6bbf-438e-a058-a03557ffe8bd",
   "metadata": {},
   "outputs": [
    {
     "name": "stdout",
     "output_type": "stream",
     "text": [
      "hello\n"
     ]
    }
   ],
   "source": [
    "print(\"hello\")  # Function"
   ]
  },
  {
   "cell_type": "code",
   "execution_count": 115,
   "id": "f52e348a-620a-4e55-b751-433739dee602",
   "metadata": {},
   "outputs": [],
   "source": [
    "class Employee:\n",
    "    company_domain = \"aca.am\"\n",
    "    \n",
    "    def __init__(self, name, surname):\n",
    "        self.name = name\n",
    "        self.surname = surname\n",
    "        self.email = f\"{self.name}.{self.surname}@{self.company_domain}\""
   ]
  },
  {
   "cell_type": "code",
   "execution_count": 116,
   "id": "13c02da3-b2a7-4ca1-91fd-8a3193d46ab5",
   "metadata": {},
   "outputs": [],
   "source": [
    "employee_1 = Employee(\"Adam\", \"Smith\")"
   ]
  },
  {
   "cell_type": "code",
   "execution_count": 117,
   "id": "836512b7-96e5-4484-bfa1-9ade0cdbcc26",
   "metadata": {},
   "outputs": [
    {
     "data": {
      "text/plain": [
       "'Adam.Smith@aca.am'"
      ]
     },
     "execution_count": 117,
     "metadata": {},
     "output_type": "execute_result"
    }
   ],
   "source": [
    "employee_1.email  # >>> adam.smith@aca.am"
   ]
  },
  {
   "cell_type": "code",
   "execution_count": 118,
   "id": "c95259a5-6863-48e3-9d0f-723c7bb07062",
   "metadata": {},
   "outputs": [],
   "source": [
    "Employee.company_domain = \"google.com\""
   ]
  },
  {
   "cell_type": "code",
   "execution_count": 119,
   "id": "a5b1ccb8-8ea9-42ce-8972-25cdf30c610e",
   "metadata": {},
   "outputs": [
    {
     "data": {
      "text/plain": [
       "'Adam.Smith@aca.am'"
      ]
     },
     "execution_count": 119,
     "metadata": {},
     "output_type": "execute_result"
    }
   ],
   "source": [
    "employee_1.email"
   ]
  },
  {
   "cell_type": "code",
   "execution_count": 120,
   "id": "05924623-0d98-4e10-891e-3e6d4f3737d9",
   "metadata": {},
   "outputs": [],
   "source": [
    "employee_1.name = \"Henry\""
   ]
  },
  {
   "cell_type": "code",
   "execution_count": 121,
   "id": "97b4d44a-e7fc-4d56-895d-411bf9bcdfad",
   "metadata": {},
   "outputs": [
    {
     "data": {
      "text/plain": [
       "'Adam.Smith@aca.am'"
      ]
     },
     "execution_count": 121,
     "metadata": {},
     "output_type": "execute_result"
    }
   ],
   "source": [
    "employee_1.email"
   ]
  },
  {
   "cell_type": "code",
   "execution_count": 125,
   "id": "1ccd668a-fb65-4be1-a520-37b194f44101",
   "metadata": {},
   "outputs": [],
   "source": [
    "class Employee:\n",
    "    compnay_domain = \"aca.am\"\n",
    "    \n",
    "    def __init__(self, name, surname):\n",
    "        self.name = name\n",
    "        self.surname = surname\n",
    "        \n",
    "    @property\n",
    "    def email(self):\n",
    "        return f\"{self.name.lower()}.{self.surname.lower()}@{self.compnay_domain}\""
   ]
  },
  {
   "cell_type": "code",
   "execution_count": 126,
   "id": "08947c3f-fe91-4243-a773-cb2cca1ffe67",
   "metadata": {},
   "outputs": [],
   "source": [
    "employee_4 = Employee(\"Samuel\", \"Buckett\")"
   ]
  },
  {
   "cell_type": "code",
   "execution_count": 127,
   "id": "5dad0d49-11a6-4fcc-b55d-f05fa116fb5b",
   "metadata": {},
   "outputs": [
    {
     "data": {
      "text/plain": [
       "'samuel.buckett@aca.am'"
      ]
     },
     "execution_count": 127,
     "metadata": {},
     "output_type": "execute_result"
    }
   ],
   "source": [
    "employee_4.email"
   ]
  },
  {
   "cell_type": "code",
   "execution_count": 128,
   "id": "4e812d6f-b53b-472d-a8e0-d2375257b13f",
   "metadata": {},
   "outputs": [],
   "source": [
    "Employee.compnay_domain = \"google.com\""
   ]
  },
  {
   "cell_type": "code",
   "execution_count": 129,
   "id": "85f8cea7-43cb-48d7-b195-cfc3dd5ace81",
   "metadata": {},
   "outputs": [
    {
     "data": {
      "text/plain": [
       "'samuel.buckett@google.com'"
      ]
     },
     "execution_count": 129,
     "metadata": {},
     "output_type": "execute_result"
    }
   ],
   "source": [
    "employee_4.email"
   ]
  },
  {
   "cell_type": "code",
   "execution_count": 130,
   "id": "963052e6-d3cd-4e4c-b0ab-51519364c151",
   "metadata": {},
   "outputs": [],
   "source": [
    "employee_4.name = \"Samvel\""
   ]
  },
  {
   "cell_type": "code",
   "execution_count": 131,
   "id": "88e67ebb-a3c8-4067-871a-00d07ef35cf2",
   "metadata": {},
   "outputs": [
    {
     "data": {
      "text/plain": [
       "'samvel.buckett@google.com'"
      ]
     },
     "execution_count": 131,
     "metadata": {},
     "output_type": "execute_result"
    }
   ],
   "source": [
    "employee_4.email"
   ]
  },
  {
   "cell_type": "code",
   "execution_count": 136,
   "id": "4a2eb957-e612-4183-b76b-ca70d1f33e09",
   "metadata": {
    "tags": []
   },
   "outputs": [],
   "source": [
    "class Employee:\n",
    "    compnay_domain = \"aca.am\"\n",
    "    \n",
    "    def __init__(self, name, surname, email=None):\n",
    "        self.name = name\n",
    "        self.surname = surname\n",
    "        self.custom_email = email\n",
    "        \n",
    "    @property\n",
    "    def email(self):\n",
    "        if self.custom_email:\n",
    "            return self.custom_email\n",
    "        return f\"{self.name.lower()}.{self.surname.lower()}@{self.compnay_domain}\"\n",
    "    \n",
    "    @email.setter\n",
    "    def email(self, email):\n",
    "        self.custom_email = email"
   ]
  },
  {
   "cell_type": "code",
   "execution_count": 137,
   "id": "058db2d7-650a-443d-bed5-8acf8b9309b9",
   "metadata": {},
   "outputs": [],
   "source": [
    "employee_4 = Employee(\"Samuel\", \"Buckett\", \"samuel1975@gmail.com\")"
   ]
  },
  {
   "cell_type": "code",
   "execution_count": 138,
   "id": "1a9fe008-2771-41af-a912-f27094e831db",
   "metadata": {},
   "outputs": [
    {
     "data": {
      "text/plain": [
       "'samuel1975@gmail.com'"
      ]
     },
     "execution_count": 138,
     "metadata": {},
     "output_type": "execute_result"
    }
   ],
   "source": [
    "employee_4.email  # >>> samuel1975@gmail.com"
   ]
  },
  {
   "cell_type": "code",
   "execution_count": 139,
   "id": "eaa1b9dd-7c3e-4df7-89a1-8d44e679fbac",
   "metadata": {},
   "outputs": [],
   "source": [
    "employee_4.email = \"samuel@yahoo.com\""
   ]
  },
  {
   "cell_type": "code",
   "execution_count": 140,
   "id": "bd5a952c-b340-4c56-bb9e-e796274535c3",
   "metadata": {},
   "outputs": [
    {
     "data": {
      "text/plain": [
       "'samuel@yahoo.com'"
      ]
     },
     "execution_count": 140,
     "metadata": {},
     "output_type": "execute_result"
    }
   ],
   "source": [
    "employee_4.email"
   ]
  },
  {
   "cell_type": "code",
   "execution_count": 149,
   "id": "3c0a76f1-0c11-400c-af9d-581ccf7b1b10",
   "metadata": {},
   "outputs": [],
   "source": [
    "employee_5 = Employee(\"Adam\", \"Smith\")"
   ]
  },
  {
   "cell_type": "code",
   "execution_count": 150,
   "id": "dfff71d0-34f5-496c-8350-b5cfc754e0b5",
   "metadata": {},
   "outputs": [
    {
     "data": {
      "text/plain": [
       "'adam.smith@aca.am'"
      ]
     },
     "execution_count": 150,
     "metadata": {},
     "output_type": "execute_result"
    }
   ],
   "source": [
    "employee_5.email"
   ]
  },
  {
   "cell_type": "code",
   "execution_count": 151,
   "id": "c31f4836-4f63-42ff-99ec-802d31cf369f",
   "metadata": {},
   "outputs": [],
   "source": [
    "employee_5.email = \"adam@gmail.com\""
   ]
  },
  {
   "cell_type": "code",
   "execution_count": 152,
   "id": "3c17edec-e8b5-479b-8c94-ea53f9a364e5",
   "metadata": {},
   "outputs": [
    {
     "data": {
      "text/plain": [
       "'adam@gmail.com'"
      ]
     },
     "execution_count": 152,
     "metadata": {},
     "output_type": "execute_result"
    }
   ],
   "source": [
    "employee_5.email"
   ]
  },
  {
   "cell_type": "code",
   "execution_count": null,
   "id": "44004408-fb91-4ac4-87ca-88a82e39d866",
   "metadata": {},
   "outputs": [],
   "source": []
  }
 ],
 "metadata": {
  "kernelspec": {
   "display_name": "Python 3 (ipykernel)",
   "language": "python",
   "name": "python3"
  },
  "language_info": {
   "codemirror_mode": {
    "name": "ipython",
    "version": 3
   },
   "file_extension": ".py",
   "mimetype": "text/x-python",
   "name": "python",
   "nbconvert_exporter": "python",
   "pygments_lexer": "ipython3",
   "version": "3.9.13"
  }
 },
 "nbformat": 4,
 "nbformat_minor": 5
}
