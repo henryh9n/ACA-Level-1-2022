{
 "cells": [
  {
   "cell_type": "markdown",
   "id": "16ce246b-1847-43c4-af01-5c9de068d08b",
   "metadata": {},
   "source": [
    "# Lesson 3"
   ]
  },
  {
   "cell_type": "markdown",
   "id": "70e10403-778a-4394-9063-f37f1391d8b2",
   "metadata": {},
   "source": [
    "## Collections"
   ]
  },
  {
   "cell_type": "code",
   "execution_count": 1,
   "id": "baa3c78d-5e4b-41ee-9dfa-98c8d081a35c",
   "metadata": {},
   "outputs": [],
   "source": [
    "l = [42, \"test\", 3.14]"
   ]
  },
  {
   "cell_type": "code",
   "execution_count": 2,
   "id": "da1c769b-b187-449a-9fc2-c0d1f255caf2",
   "metadata": {},
   "outputs": [],
   "source": [
    "t = (42, \"test\", 3.14)"
   ]
  },
  {
   "cell_type": "code",
   "execution_count": 3,
   "id": "41346da8-21bf-4900-9a29-4555c26b2bd9",
   "metadata": {},
   "outputs": [],
   "source": [
    "s = {42, \"test\", 3.14}"
   ]
  },
  {
   "cell_type": "code",
   "execution_count": 4,
   "id": "c951cd1f-9f21-4baa-be9f-decb35f103b5",
   "metadata": {},
   "outputs": [],
   "source": [
    "d = {\"num\": 42, \"text\": \"test\"}"
   ]
  },
  {
   "cell_type": "code",
   "execution_count": 5,
   "id": "87f4a43e-d059-4927-a281-e0874641fafa",
   "metadata": {},
   "outputs": [
    {
     "data": {
      "text/plain": [
       "4394796480"
      ]
     },
     "execution_count": 5,
     "metadata": {},
     "output_type": "execute_result"
    }
   ],
   "source": [
    "id(l)"
   ]
  },
  {
   "cell_type": "code",
   "execution_count": 6,
   "id": "57ae83dd-a315-44d3-9898-ca025ec6b689",
   "metadata": {},
   "outputs": [
    {
     "data": {
      "text/plain": [
       "4347588176"
      ]
     },
     "execution_count": 6,
     "metadata": {},
     "output_type": "execute_result"
    }
   ],
   "source": [
    "id(l[0])"
   ]
  },
  {
   "cell_type": "markdown",
   "id": "fbbdf80e-20d5-4b65-9a71-9814d784e978",
   "metadata": {},
   "source": [
    "List -> Dynamic Array"
   ]
  },
  {
   "cell_type": "code",
   "execution_count": 7,
   "id": "bd1e1955-5b58-464b-a7cf-3aa8586693b7",
   "metadata": {},
   "outputs": [],
   "source": [
    "l.append(\"new\")"
   ]
  },
  {
   "cell_type": "code",
   "execution_count": 8,
   "id": "fd28f4ac-5185-4c0f-bcce-28a7ce71866d",
   "metadata": {},
   "outputs": [
    {
     "data": {
      "text/plain": [
       "[42, 'test', 3.14, 'new']"
      ]
     },
     "execution_count": 8,
     "metadata": {},
     "output_type": "execute_result"
    }
   ],
   "source": [
    "l"
   ]
  },
  {
   "cell_type": "code",
   "execution_count": 10,
   "id": "062d0755-71bc-45ae-9e38-1899f441ad5b",
   "metadata": {},
   "outputs": [
    {
     "data": {
      "text/plain": [
       "4394796480"
      ]
     },
     "execution_count": 10,
     "metadata": {},
     "output_type": "execute_result"
    }
   ],
   "source": [
    "id(l)"
   ]
  },
  {
   "cell_type": "code",
   "execution_count": 11,
   "id": "019e0a19-0fb5-4c58-8d6d-0da0eeba940d",
   "metadata": {},
   "outputs": [],
   "source": [
    "a = 42"
   ]
  },
  {
   "cell_type": "code",
   "execution_count": 12,
   "id": "862e1b06-8194-4df6-bf3f-5dae6e906c52",
   "metadata": {},
   "outputs": [
    {
     "data": {
      "text/plain": [
       "4347588176"
      ]
     },
     "execution_count": 12,
     "metadata": {},
     "output_type": "execute_result"
    }
   ],
   "source": [
    "id(a)"
   ]
  },
  {
   "cell_type": "code",
   "execution_count": 13,
   "id": "2a8fefa2-d5c3-4691-93e0-2a87e780a6b6",
   "metadata": {},
   "outputs": [
    {
     "data": {
      "text/plain": [
       "4347588176"
      ]
     },
     "execution_count": 13,
     "metadata": {},
     "output_type": "execute_result"
    }
   ],
   "source": [
    "id(l[0])"
   ]
  },
  {
   "cell_type": "code",
   "execution_count": 14,
   "id": "4bc57a6f-c085-4c4c-86a0-0b19ebdc78d2",
   "metadata": {},
   "outputs": [
    {
     "data": {
      "text/plain": [
       "[42, 'test', 3.14, 'new']"
      ]
     },
     "execution_count": 14,
     "metadata": {},
     "output_type": "execute_result"
    }
   ],
   "source": [
    "l"
   ]
  },
  {
   "cell_type": "code",
   "execution_count": 15,
   "id": "20958d3f-c05c-4d64-8021-9fa50fe490f2",
   "metadata": {},
   "outputs": [
    {
     "data": {
      "text/plain": [
       "3.14"
      ]
     },
     "execution_count": 15,
     "metadata": {},
     "output_type": "execute_result"
    }
   ],
   "source": [
    "l[2]"
   ]
  },
  {
   "cell_type": "code",
   "execution_count": 16,
   "id": "08da6eb4-d541-429d-b503-973002da9d7a",
   "metadata": {},
   "outputs": [
    {
     "data": {
      "text/plain": [
       "True"
      ]
     },
     "execution_count": 16,
     "metadata": {},
     "output_type": "execute_result"
    }
   ],
   "source": [
    "\"new\" in l"
   ]
  },
  {
   "cell_type": "code",
   "execution_count": 17,
   "id": "56aa7d90-8444-42bf-92bc-ed70447d74cf",
   "metadata": {},
   "outputs": [
    {
     "data": {
      "text/plain": [
       "False"
      ]
     },
     "execution_count": 17,
     "metadata": {},
     "output_type": "execute_result"
    }
   ],
   "source": [
    "\"no\" in l"
   ]
  },
  {
   "cell_type": "code",
   "execution_count": 18,
   "id": "d451e8aa-d5c7-41db-a8f4-d476474df33d",
   "metadata": {},
   "outputs": [
    {
     "data": {
      "text/plain": [
       "4"
      ]
     },
     "execution_count": 18,
     "metadata": {},
     "output_type": "execute_result"
    }
   ],
   "source": [
    "len(l)"
   ]
  },
  {
   "cell_type": "code",
   "execution_count": 20,
   "id": "99fe414e-9562-42b6-bd6a-55584c5a9092",
   "metadata": {},
   "outputs": [],
   "source": [
    "a = (1, 2)\n",
    "b = (\"new\", 24)"
   ]
  },
  {
   "cell_type": "code",
   "execution_count": 21,
   "id": "f15d1f30-a8bf-46c0-97ff-235046400b2f",
   "metadata": {},
   "outputs": [
    {
     "data": {
      "text/plain": [
       "4388608896"
      ]
     },
     "execution_count": 21,
     "metadata": {},
     "output_type": "execute_result"
    }
   ],
   "source": [
    "id(a)"
   ]
  },
  {
   "cell_type": "code",
   "execution_count": 30,
   "id": "8f2a452d-595c-4a1a-a3c3-6af8d02ed49e",
   "metadata": {},
   "outputs": [],
   "source": [
    "c = a + b"
   ]
  },
  {
   "cell_type": "code",
   "execution_count": 33,
   "id": "043ea47b-1d24-4d15-bdc7-a7a92488b086",
   "metadata": {},
   "outputs": [
    {
     "data": {
      "text/plain": [
       "4393733312"
      ]
     },
     "execution_count": 33,
     "metadata": {},
     "output_type": "execute_result"
    }
   ],
   "source": [
    "id(c)"
   ]
  },
  {
   "cell_type": "code",
   "execution_count": 31,
   "id": "eba23c35-7a20-42fb-9677-7c1e0bb3db00",
   "metadata": {},
   "outputs": [
    {
     "data": {
      "text/plain": [
       "4348657328"
      ]
     },
     "execution_count": 31,
     "metadata": {},
     "output_type": "execute_result"
    }
   ],
   "source": [
    "id(c[2])"
   ]
  },
  {
   "cell_type": "code",
   "execution_count": 32,
   "id": "7f3e9486-6772-49f1-8d2a-e1799acb76fa",
   "metadata": {},
   "outputs": [
    {
     "data": {
      "text/plain": [
       "4348657328"
      ]
     },
     "execution_count": 32,
     "metadata": {},
     "output_type": "execute_result"
    }
   ],
   "source": [
    "id(b[0])"
   ]
  },
  {
   "cell_type": "code",
   "execution_count": 34,
   "id": "e4402ea3-95a7-45bb-b703-55e942370edf",
   "metadata": {},
   "outputs": [],
   "source": [
    "l_a = [1, 2]"
   ]
  },
  {
   "cell_type": "code",
   "execution_count": 35,
   "id": "19c6f4f4-5baa-482c-8c4f-028a3da51872",
   "metadata": {},
   "outputs": [],
   "source": [
    "l_b = [\"new\", 24]"
   ]
  },
  {
   "cell_type": "code",
   "execution_count": 36,
   "id": "0f125fe4-5165-484e-9d76-309a1d831ad7",
   "metadata": {},
   "outputs": [
    {
     "data": {
      "text/plain": [
       "4394765888"
      ]
     },
     "execution_count": 36,
     "metadata": {},
     "output_type": "execute_result"
    }
   ],
   "source": [
    "id(l_a)"
   ]
  },
  {
   "cell_type": "code",
   "execution_count": 37,
   "id": "bcf5f60c-ba6d-4800-8652-5bb4cab01785",
   "metadata": {},
   "outputs": [],
   "source": [
    "l_c = l_a + l_b"
   ]
  },
  {
   "cell_type": "code",
   "execution_count": 38,
   "id": "963c5faf-0c9e-412c-acd6-47c0d518c55b",
   "metadata": {},
   "outputs": [
    {
     "data": {
      "text/plain": [
       "[1, 2, 'new', 24]"
      ]
     },
     "execution_count": 38,
     "metadata": {},
     "output_type": "execute_result"
    }
   ],
   "source": [
    "l_c"
   ]
  },
  {
   "cell_type": "code",
   "execution_count": 40,
   "id": "86f6bde5-91e3-497a-aff2-bf33dddcce9b",
   "metadata": {},
   "outputs": [
    {
     "data": {
      "text/plain": [
       "4394487488"
      ]
     },
     "execution_count": 40,
     "metadata": {},
     "output_type": "execute_result"
    }
   ],
   "source": [
    "id(l_c)"
   ]
  },
  {
   "cell_type": "code",
   "execution_count": 42,
   "id": "6d5006b4-8049-43f7-b77d-fdc3b1955a83",
   "metadata": {},
   "outputs": [
    {
     "data": {
      "text/plain": [
       "4348657328"
      ]
     },
     "execution_count": 42,
     "metadata": {},
     "output_type": "execute_result"
    }
   ],
   "source": [
    "id(l_b[0])"
   ]
  },
  {
   "cell_type": "code",
   "execution_count": 43,
   "id": "9b22372d-5bf9-4ddd-8683-eb3a9efe1f33",
   "metadata": {},
   "outputs": [
    {
     "data": {
      "text/plain": [
       "4348657328"
      ]
     },
     "execution_count": 43,
     "metadata": {},
     "output_type": "execute_result"
    }
   ],
   "source": [
    "id(l_c[2])"
   ]
  },
  {
   "cell_type": "code",
   "execution_count": 44,
   "id": "cc6cb2a3-7ddb-4c0c-b24b-8310e5c9a516",
   "metadata": {},
   "outputs": [],
   "source": [
    "l_c[2] = \"brand new\""
   ]
  },
  {
   "cell_type": "code",
   "execution_count": 45,
   "id": "cf9d213b-1398-4ecd-81f3-d2ed22083960",
   "metadata": {},
   "outputs": [
    {
     "data": {
      "text/plain": [
       "[1, 2, 'brand new', 24]"
      ]
     },
     "execution_count": 45,
     "metadata": {},
     "output_type": "execute_result"
    }
   ],
   "source": [
    "l_c"
   ]
  },
  {
   "cell_type": "code",
   "execution_count": 46,
   "id": "2446213b-acce-4a9d-9169-627ad1e2dca2",
   "metadata": {},
   "outputs": [
    {
     "data": {
      "text/plain": [
       "['new', 24]"
      ]
     },
     "execution_count": 46,
     "metadata": {},
     "output_type": "execute_result"
    }
   ],
   "source": [
    "l_b"
   ]
  },
  {
   "cell_type": "code",
   "execution_count": 47,
   "id": "5af8fd0c-1745-4ab1-acb7-00ddb5efa560",
   "metadata": {},
   "outputs": [],
   "source": [
    "l_c.append(\"new\")"
   ]
  },
  {
   "cell_type": "code",
   "execution_count": 48,
   "id": "8deb0fb9-3367-4d62-9626-667b488ca821",
   "metadata": {},
   "outputs": [
    {
     "data": {
      "text/plain": [
       "4348657328"
      ]
     },
     "execution_count": 48,
     "metadata": {},
     "output_type": "execute_result"
    }
   ],
   "source": [
    "id(l_c[-1])"
   ]
  },
  {
   "cell_type": "code",
   "execution_count": 49,
   "id": "c0d7e78e-9bf5-4140-ad27-9634dfef9c4c",
   "metadata": {},
   "outputs": [],
   "source": [
    "a = ([1, 2], 42)"
   ]
  },
  {
   "cell_type": "code",
   "execution_count": 50,
   "id": "71ffa48d-1162-4dbb-ad4a-437216dbed44",
   "metadata": {},
   "outputs": [
    {
     "data": {
      "text/plain": [
       "4425770624"
      ]
     },
     "execution_count": 50,
     "metadata": {},
     "output_type": "execute_result"
    }
   ],
   "source": [
    "id(a)"
   ]
  },
  {
   "cell_type": "code",
   "execution_count": 51,
   "id": "dd34b4be-a178-439e-bfe5-e2522af8990b",
   "metadata": {},
   "outputs": [
    {
     "data": {
      "text/plain": [
       "4417707968"
      ]
     },
     "execution_count": 51,
     "metadata": {},
     "output_type": "execute_result"
    }
   ],
   "source": [
    "id(a[0])"
   ]
  },
  {
   "cell_type": "code",
   "execution_count": 52,
   "id": "635cf1a7-8b38-4b08-9443-4aac4ea5bb2c",
   "metadata": {},
   "outputs": [],
   "source": [
    "a[0].append(24)"
   ]
  },
  {
   "cell_type": "code",
   "execution_count": 53,
   "id": "e27f7c5c-36ba-45d6-97b0-ea01591f7be4",
   "metadata": {},
   "outputs": [
    {
     "data": {
      "text/plain": [
       "([1, 2, 24], 42)"
      ]
     },
     "execution_count": 53,
     "metadata": {},
     "output_type": "execute_result"
    }
   ],
   "source": [
    "a"
   ]
  },
  {
   "cell_type": "code",
   "execution_count": 54,
   "id": "b0df5d0f-2491-433b-bbe5-6151c0239a1d",
   "metadata": {},
   "outputs": [
    {
     "data": {
      "text/plain": [
       "4425770624"
      ]
     },
     "execution_count": 54,
     "metadata": {},
     "output_type": "execute_result"
    }
   ],
   "source": [
    "id(a)"
   ]
  },
  {
   "cell_type": "code",
   "execution_count": 55,
   "id": "ccce4b80-25a8-41ac-9698-e766347b746c",
   "metadata": {},
   "outputs": [
    {
     "data": {
      "text/plain": [
       "4417707968"
      ]
     },
     "execution_count": 55,
     "metadata": {},
     "output_type": "execute_result"
    }
   ],
   "source": [
    "id(a[0])"
   ]
  },
  {
   "cell_type": "code",
   "execution_count": 56,
   "id": "62c62284-462c-458c-9044-c721e6d75634",
   "metadata": {},
   "outputs": [
    {
     "data": {
      "text/plain": [
       "{3.14, 42, 'test'}"
      ]
     },
     "execution_count": 56,
     "metadata": {},
     "output_type": "execute_result"
    }
   ],
   "source": [
    "s"
   ]
  },
  {
   "cell_type": "code",
   "execution_count": 57,
   "id": "439456c6-88a4-49bd-87b6-33af506172cd",
   "metadata": {},
   "outputs": [
    {
     "ename": "TypeError",
     "evalue": "'set' object is not subscriptable",
     "output_type": "error",
     "traceback": [
      "\u001b[0;31m---------------------------------------------------------------------------\u001b[0m",
      "\u001b[0;31mTypeError\u001b[0m                                 Traceback (most recent call last)",
      "Input \u001b[0;32mIn [57]\u001b[0m, in \u001b[0;36m<cell line: 1>\u001b[0;34m()\u001b[0m\n\u001b[0;32m----> 1\u001b[0m \u001b[43ms\u001b[49m\u001b[43m[\u001b[49m\u001b[38;5;241;43m0\u001b[39;49m\u001b[43m]\u001b[49m\n",
      "\u001b[0;31mTypeError\u001b[0m: 'set' object is not subscriptable"
     ]
    }
   ],
   "source": [
    "s[0]"
   ]
  },
  {
   "cell_type": "code",
   "execution_count": 58,
   "id": "f9acdc1c-e125-43e5-b767-9e601d8b91b7",
   "metadata": {},
   "outputs": [
    {
     "name": "stdout",
     "output_type": "stream",
     "text": [
      "42\n",
      "3.14\n",
      "test\n"
     ]
    }
   ],
   "source": [
    "for item in s:\n",
    "    print(item)"
   ]
  },
  {
   "cell_type": "code",
   "execution_count": 59,
   "id": "7a8dce59-f2ad-497f-8b78-100515d34018",
   "metadata": {},
   "outputs": [],
   "source": [
    "s.add(42)"
   ]
  },
  {
   "cell_type": "code",
   "execution_count": 60,
   "id": "8f92f5af-2a11-4f8e-821e-62c0a7d18b4c",
   "metadata": {},
   "outputs": [
    {
     "data": {
      "text/plain": [
       "{3.14, 42, 'test'}"
      ]
     },
     "execution_count": 60,
     "metadata": {},
     "output_type": "execute_result"
    }
   ],
   "source": [
    "s"
   ]
  },
  {
   "cell_type": "code",
   "execution_count": 61,
   "id": "49c79731-17be-431b-a853-bebfc1955704",
   "metadata": {},
   "outputs": [
    {
     "data": {
      "text/plain": [
       "{'num': 42, 'text': 'test'}"
      ]
     },
     "execution_count": 61,
     "metadata": {},
     "output_type": "execute_result"
    }
   ],
   "source": [
    "d"
   ]
  },
  {
   "cell_type": "code",
   "execution_count": null,
   "id": "7e457987-e4ff-4bfb-a765-e5f93b0307d7",
   "metadata": {},
   "outputs": [],
   "source": []
  }
 ],
 "metadata": {
  "kernelspec": {
   "display_name": "Python 3 (ipykernel)",
   "language": "python",
   "name": "python3"
  },
  "language_info": {
   "codemirror_mode": {
    "name": "ipython",
    "version": 3
   },
   "file_extension": ".py",
   "mimetype": "text/x-python",
   "name": "python",
   "nbconvert_exporter": "python",
   "pygments_lexer": "ipython3",
   "version": "3.9.13"
  }
 },
 "nbformat": 4,
 "nbformat_minor": 5
}
