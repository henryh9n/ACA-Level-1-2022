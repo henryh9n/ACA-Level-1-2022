{
 "cells": [
  {
   "cell_type": "markdown",
   "id": "3de156df-9677-4bb6-a32c-0cce71d40d88",
   "metadata": {},
   "source": [
    "# Lecture 12"
   ]
  },
  {
   "cell_type": "code",
   "execution_count": 2,
   "id": "b582ea95-9247-4e5d-9b32-a3ba00c005cb",
   "metadata": {},
   "outputs": [],
   "source": [
    "class Foo:\n",
    "    def __init__(self, name):\n",
    "        self.name = name"
   ]
  },
  {
   "cell_type": "code",
   "execution_count": 3,
   "id": "d18db2cf-d92b-45ef-bf2e-b1f4e44e2ce5",
   "metadata": {},
   "outputs": [],
   "source": [
    "a = Foo(\"Adam\")"
   ]
  },
  {
   "cell_type": "code",
   "execution_count": 4,
   "id": "046dee74-2d5d-4666-85f7-45cd2397f21a",
   "metadata": {},
   "outputs": [
    {
     "data": {
      "text/plain": [
       "'Adam'"
      ]
     },
     "execution_count": 4,
     "metadata": {},
     "output_type": "execute_result"
    }
   ],
   "source": [
    "a.name"
   ]
  },
  {
   "cell_type": "code",
   "execution_count": 5,
   "id": "730efd63-e20b-4fc6-86f0-1f03ef4913d6",
   "metadata": {},
   "outputs": [
    {
     "data": {
      "text/plain": [
       "'adam'"
      ]
     },
     "execution_count": 5,
     "metadata": {},
     "output_type": "execute_result"
    }
   ],
   "source": [
    "a.name.lower()"
   ]
  },
  {
   "cell_type": "code",
   "execution_count": 6,
   "id": "c320b138-d41e-4556-89a4-0ac5f07c9e87",
   "metadata": {},
   "outputs": [],
   "source": [
    "class Employee:\n",
    "    def __init__(self, name, salary, position):\n",
    "        self.name = name\n",
    "        self.salary = salary\n",
    "        self.position = position"
   ]
  },
  {
   "cell_type": "code",
   "execution_count": 7,
   "id": "85080aff-9be0-421c-b583-a066936ad864",
   "metadata": {},
   "outputs": [],
   "source": [
    "employee_1 = Employee(name=\"Adam\", salary=100_000, position=\"Junior Engineer\")"
   ]
  },
  {
   "cell_type": "code",
   "execution_count": 24,
   "id": "c528d969-e02b-4afb-b35a-ba49b5ab82d5",
   "metadata": {},
   "outputs": [],
   "source": [
    "# \"Mastrots 1, Yerevan 002, Armenia\"\n",
    "class Address:\n",
    "    def __init__(\n",
    "        self,\n",
    "        street_name,\n",
    "        building_number,\n",
    "        city,\n",
    "        postal_index,\n",
    "        country,\n",
    "        apartment_number=None,\n",
    "    ):\n",
    "        self.street_name = street_name\n",
    "        self.building_number = building_number\n",
    "        self.apartment_number = apartment_number\n",
    "        self.city = city\n",
    "        self.postal_index = postal_index\n",
    "        self.country = country\n",
    "    \n",
    "    def __str__(self):\n",
    "        return self.full_address\n",
    "    \n",
    "    @property\n",
    "    def full_address(self):\n",
    "        return f\"{self.street_name} {self.building_number}{f', apt. {self.apartment_number}' if self.apartment_number else ''}, {self.city} {self.postal_index}, {self.country}\"\n",
    "    \n",
    "    def __repr__(self):\n",
    "        return self.full_address"
   ]
  },
  {
   "cell_type": "code",
   "execution_count": 25,
   "id": "5b094e25-101e-450f-805f-b43da571d4a5",
   "metadata": {},
   "outputs": [],
   "source": [
    "address_1 = Address(\n",
    "    street_name=\"Mashtots\",\n",
    "    building_number=1,\n",
    "    city=\"Yerevan\",\n",
    "    postal_index=\"0002\",\n",
    "    country=\"Armenia\",\n",
    ")"
   ]
  },
  {
   "cell_type": "code",
   "execution_count": 26,
   "id": "0eee7576-915c-4ecd-8c00-94a42af2e537",
   "metadata": {},
   "outputs": [
    {
     "name": "stdout",
     "output_type": "stream",
     "text": [
      "Mashtots 1, Yerevan 0002, Armenia\n"
     ]
    }
   ],
   "source": [
    "print(address_1)"
   ]
  },
  {
   "cell_type": "code",
   "execution_count": 27,
   "id": "2315d6d8-214f-42c9-b831-5e596bdba968",
   "metadata": {},
   "outputs": [
    {
     "data": {
      "text/plain": [
       "'Mashtots 1, Yerevan 0002, Armenia'"
      ]
     },
     "execution_count": 27,
     "metadata": {},
     "output_type": "execute_result"
    }
   ],
   "source": [
    "address_1.full_address"
   ]
  },
  {
   "cell_type": "code",
   "execution_count": 28,
   "id": "57569db3-8534-4cda-9990-e2f5a130f886",
   "metadata": {},
   "outputs": [
    {
     "data": {
      "text/plain": [
       "'Yerevan'"
      ]
     },
     "execution_count": 28,
     "metadata": {},
     "output_type": "execute_result"
    }
   ],
   "source": [
    "address_1.city"
   ]
  },
  {
   "cell_type": "code",
   "execution_count": 29,
   "id": "43bb38ac-7251-4279-97ee-be9175d8cdcf",
   "metadata": {},
   "outputs": [],
   "source": [
    "class Employee:\n",
    "    def __init__(self, name, salary, position, address):\n",
    "        self.name = name\n",
    "        self.salary = salary\n",
    "        self.position = position\n",
    "        self.address = address"
   ]
  },
  {
   "cell_type": "code",
   "execution_count": 30,
   "id": "7659eced-0192-4076-9036-1ecd8cbcca34",
   "metadata": {},
   "outputs": [],
   "source": [
    "employee_1 = Employee(name=\"Adam\", salary=100_000, position=\"Junior Engineer\", address=address_1)"
   ]
  },
  {
   "cell_type": "code",
   "execution_count": 31,
   "id": "6033b2b5-7be7-4a38-ba97-d7414d3f87c8",
   "metadata": {},
   "outputs": [
    {
     "data": {
      "text/plain": [
       "'Mashtots 1, Yerevan 0002, Armenia'"
      ]
     },
     "execution_count": 31,
     "metadata": {},
     "output_type": "execute_result"
    }
   ],
   "source": [
    "employee_1.address.full_address"
   ]
  },
  {
   "cell_type": "code",
   "execution_count": 32,
   "id": "64bb401a-32a1-4cab-9417-099944cbac23",
   "metadata": {},
   "outputs": [
    {
     "data": {
      "text/plain": [
       "'Yerevan'"
      ]
     },
     "execution_count": 32,
     "metadata": {},
     "output_type": "execute_result"
    }
   ],
   "source": [
    "employee_1.address.city"
   ]
  },
  {
   "cell_type": "code",
   "execution_count": 33,
   "id": "20c431fb-41f2-43bd-aea5-20a13cb9f02a",
   "metadata": {},
   "outputs": [
    {
     "data": {
      "text/plain": [
       "Mashtots 1, Yerevan 0002, Armenia"
      ]
     },
     "execution_count": 33,
     "metadata": {},
     "output_type": "execute_result"
    }
   ],
   "source": [
    "employee_1.address"
   ]
  },
  {
   "cell_type": "code",
   "execution_count": 38,
   "id": "845878ba-f7e6-4529-94c2-70e1c4a0be99",
   "metadata": {},
   "outputs": [],
   "source": [
    "employee_1 = Employee(\n",
    "    name=\"Adam\", \n",
    "    salary=100_000, \n",
    "    position=\"Junior Engineer\", \n",
    "    address=Address(\n",
    "        street_name=\"Mashtots\",\n",
    "        building_number=1,\n",
    "        city=\"Yerevan\",\n",
    "        postal_index=\"0002\",\n",
    "        country=\"Armenia\",\n",
    "    ),\n",
    ")"
   ]
  },
  {
   "cell_type": "code",
   "execution_count": 39,
   "id": "fba5e4b3-218e-4f42-8c52-9cc6ecb89af6",
   "metadata": {},
   "outputs": [],
   "source": [
    "employee_1.address.city = \"Ashtarak\""
   ]
  },
  {
   "cell_type": "code",
   "execution_count": 40,
   "id": "4273e94a-a5c0-4872-8268-e2c76a43644b",
   "metadata": {},
   "outputs": [
    {
     "data": {
      "text/plain": [
       "'Mashtots 1, Ashtarak 0002, Armenia'"
      ]
     },
     "execution_count": 40,
     "metadata": {},
     "output_type": "execute_result"
    }
   ],
   "source": [
    "employee_1.address.full_address"
   ]
  },
  {
   "cell_type": "code",
   "execution_count": 41,
   "id": "44f090a5-0e34-4b6c-92a6-93bee2d74697",
   "metadata": {},
   "outputs": [
    {
     "data": {
      "text/plain": [
       "'Ashtarak'"
      ]
     },
     "execution_count": 41,
     "metadata": {},
     "output_type": "execute_result"
    }
   ],
   "source": [
    "employee_1.address.city"
   ]
  },
  {
   "cell_type": "code",
   "execution_count": 43,
   "id": "c431c17a-6071-4484-a364-a45665587dc8",
   "metadata": {},
   "outputs": [],
   "source": [
    "employee_1 = Employee(\n",
    "    name=\"Adam\", \n",
    "    salary=100_000, \n",
    "    position=\"Junior Engineer\", \n",
    "    address=Address(\n",
    "        street_name=\"Mashtots\",\n",
    "        building_number=1,\n",
    "        city=\"Yerevan\",\n",
    "        postal_index=\"0002\",\n",
    "        country=\"Armenia\",\n",
    "    ),\n",
    ")\n",
    "\n",
    "employee_2 = Employee(\n",
    "    name=\"Yeva\", \n",
    "    salary=120_000, \n",
    "    position=\"Junior Engineer\", \n",
    "    address=Address(\n",
    "        street_name=\"Mashtots\",\n",
    "        building_number=1,\n",
    "        city=\"Yerevan\",\n",
    "        postal_index=\"0002\",\n",
    "        country=\"Armenia\",\n",
    "    ),\n",
    ")"
   ]
  },
  {
   "cell_type": "code",
   "execution_count": 44,
   "id": "9458b161-1109-463b-ad96-b561dc52bc96",
   "metadata": {},
   "outputs": [
    {
     "data": {
      "text/plain": [
       "'Mashtots 1, Yerevan 0002, Armenia'"
      ]
     },
     "execution_count": 44,
     "metadata": {},
     "output_type": "execute_result"
    }
   ],
   "source": [
    "employee_1.address.full_address"
   ]
  },
  {
   "cell_type": "code",
   "execution_count": 45,
   "id": "e2a3db85-1d5a-47d1-95ea-6187f52b782d",
   "metadata": {},
   "outputs": [
    {
     "data": {
      "text/plain": [
       "'Mashtots 1, Yerevan 0002, Armenia'"
      ]
     },
     "execution_count": 45,
     "metadata": {},
     "output_type": "execute_result"
    }
   ],
   "source": [
    "employee_2.address.full_address"
   ]
  },
  {
   "cell_type": "code",
   "execution_count": 46,
   "id": "1f98fdfc-ed01-446b-88a7-f528528db290",
   "metadata": {},
   "outputs": [],
   "source": [
    "employee_1.address.city = \"Ashtarak\""
   ]
  },
  {
   "cell_type": "code",
   "execution_count": 47,
   "id": "b04a8250-5e2f-41f4-b214-67b9ebe212ad",
   "metadata": {},
   "outputs": [
    {
     "data": {
      "text/plain": [
       "'Mashtots 1, Ashtarak 0002, Armenia'"
      ]
     },
     "execution_count": 47,
     "metadata": {},
     "output_type": "execute_result"
    }
   ],
   "source": [
    "employee_1.address.full_address"
   ]
  },
  {
   "cell_type": "code",
   "execution_count": 48,
   "id": "9dcd5e1a-b284-4849-a84d-8b82681116f9",
   "metadata": {},
   "outputs": [
    {
     "data": {
      "text/plain": [
       "'Mashtots 1, Yerevan 0002, Armenia'"
      ]
     },
     "execution_count": 48,
     "metadata": {},
     "output_type": "execute_result"
    }
   ],
   "source": [
    "employee_2.address.full_address"
   ]
  },
  {
   "cell_type": "code",
   "execution_count": 49,
   "id": "92223709-4dba-4ba5-a31c-afe26e7dfe3b",
   "metadata": {},
   "outputs": [],
   "source": [
    "address = Address(\n",
    "    street_name=\"Mashtots\",\n",
    "    building_number=1,\n",
    "    city=\"Yerevan\",\n",
    "    postal_index=\"0002\",\n",
    "    country=\"Armenia\",\n",
    ")\n",
    "\n",
    "employee_1 = Employee(\n",
    "    name=\"Adam\", \n",
    "    salary=100_000, \n",
    "    position=\"Junior Engineer\", \n",
    "    address=address,\n",
    ")\n",
    "\n",
    "employee_2 = Employee(\n",
    "    name=\"Yeva\", \n",
    "    salary=120_000, \n",
    "    position=\"Junior Engineer\", \n",
    "    address=address,\n",
    ")"
   ]
  },
  {
   "cell_type": "code",
   "execution_count": 50,
   "id": "09b5aba0-374d-48c8-8ecb-1b38c8243773",
   "metadata": {},
   "outputs": [
    {
     "data": {
      "text/plain": [
       "'Mashtots 1, Yerevan 0002, Armenia'"
      ]
     },
     "execution_count": 50,
     "metadata": {},
     "output_type": "execute_result"
    }
   ],
   "source": [
    "employee_1.address.full_address"
   ]
  },
  {
   "cell_type": "code",
   "execution_count": 51,
   "id": "b000893e-fe3a-4556-999c-657f26a088c6",
   "metadata": {},
   "outputs": [
    {
     "data": {
      "text/plain": [
       "'Mashtots 1, Yerevan 0002, Armenia'"
      ]
     },
     "execution_count": 51,
     "metadata": {},
     "output_type": "execute_result"
    }
   ],
   "source": [
    "employee_2.address.full_address"
   ]
  },
  {
   "cell_type": "code",
   "execution_count": 54,
   "id": "83313225-1d95-4454-8c1b-98198f3a6863",
   "metadata": {},
   "outputs": [],
   "source": [
    "employee_1.address.city = \"Ashtarak\""
   ]
  },
  {
   "cell_type": "code",
   "execution_count": 55,
   "id": "9e73acea-946a-493f-b03e-66150f9b31cf",
   "metadata": {},
   "outputs": [
    {
     "data": {
      "text/plain": [
       "'Mashtots 1, Ashtarak 0002, Armenia'"
      ]
     },
     "execution_count": 55,
     "metadata": {},
     "output_type": "execute_result"
    }
   ],
   "source": [
    "employee_1.address.full_address"
   ]
  },
  {
   "cell_type": "code",
   "execution_count": 56,
   "id": "801ada03-99a1-4c03-883d-d77583436930",
   "metadata": {},
   "outputs": [
    {
     "data": {
      "text/plain": [
       "'Mashtots 1, Ashtarak 0002, Armenia'"
      ]
     },
     "execution_count": 56,
     "metadata": {},
     "output_type": "execute_result"
    }
   ],
   "source": [
    "employee_2.address.full_address"
   ]
  },
  {
   "cell_type": "code",
   "execution_count": 58,
   "id": "a78bbaab-a65e-4d67-8ff9-965fd7420a96",
   "metadata": {},
   "outputs": [],
   "source": [
    "class School:\n",
    "    def __init__(self, name, number, address):\n",
    "        self.name = name\n",
    "        self.address = address\n",
    "        self.number = number"
   ]
  },
  {
   "cell_type": "code",
   "execution_count": 59,
   "id": "a5639aa8-a8f7-4a14-b68a-5f6ab08e575e",
   "metadata": {},
   "outputs": [],
   "source": [
    "school_1 = School(\n",
    "    number=19, \n",
    "    name=\"Kurupski\", \n",
    "    address=Address(\n",
    "        street_name=\"Mashtots\",\n",
    "        building_number=1,\n",
    "        city=\"Yerevan\",\n",
    "        postal_index=\"0002\",\n",
    "        country=\"Armenia\",\n",
    "    )\n",
    ")"
   ]
  },
  {
   "cell_type": "code",
   "execution_count": 60,
   "id": "7e8d1b66-ba0a-46e3-8b4e-49ac5255a1cf",
   "metadata": {},
   "outputs": [],
   "source": [
    "class Child:\n",
    "    def __init__(self, name, date_of_birth, school):\n",
    "        self.name = name\n",
    "        self.date_of_birth = date_of_birth\n",
    "        self.school = school"
   ]
  },
  {
   "cell_type": "code",
   "execution_count": 61,
   "id": "87b289ba-97ab-40c1-a082-04d338a32778",
   "metadata": {},
   "outputs": [],
   "source": [
    "child_1 = Child(\"Jack\", date_of_birth=\"2001-01-01\", school=school_1)"
   ]
  },
  {
   "cell_type": "code",
   "execution_count": 62,
   "id": "43b466bd-82f1-4a16-91b7-9bd11da69b38",
   "metadata": {},
   "outputs": [],
   "source": [
    "child_2 = Child(\"John\", date_of_birth=\"2003-03-03\", school=school_1)"
   ]
  },
  {
   "cell_type": "code",
   "execution_count": 63,
   "id": "07f7f81d-a290-4330-890e-e00e17ba96e5",
   "metadata": {},
   "outputs": [
    {
     "data": {
      "text/plain": [
       "'Kurupski'"
      ]
     },
     "execution_count": 63,
     "metadata": {},
     "output_type": "execute_result"
    }
   ],
   "source": [
    "child_1.school.name"
   ]
  },
  {
   "cell_type": "code",
   "execution_count": 64,
   "id": "64d43b82-de25-426d-b857-577c022a3177",
   "metadata": {},
   "outputs": [
    {
     "data": {
      "text/plain": [
       "'Kurupski'"
      ]
     },
     "execution_count": 64,
     "metadata": {},
     "output_type": "execute_result"
    }
   ],
   "source": [
    "child_2.school.name"
   ]
  },
  {
   "cell_type": "code",
   "execution_count": 65,
   "id": "12132f6a-3246-4a56-8bab-cbeefc59414b",
   "metadata": {},
   "outputs": [],
   "source": [
    "school_1.name = \"Nikol Aghbalyab\""
   ]
  },
  {
   "cell_type": "code",
   "execution_count": 66,
   "id": "38d46661-c8c1-430b-8225-4ec5ab071df9",
   "metadata": {},
   "outputs": [
    {
     "data": {
      "text/plain": [
       "'Nikol Aghbalyab'"
      ]
     },
     "execution_count": 66,
     "metadata": {},
     "output_type": "execute_result"
    }
   ],
   "source": [
    "child_1.school.name"
   ]
  },
  {
   "cell_type": "code",
   "execution_count": 67,
   "id": "0381667f-619e-4cc3-bf7b-e852cb967442",
   "metadata": {},
   "outputs": [
    {
     "data": {
      "text/plain": [
       "'Nikol Aghbalyab'"
      ]
     },
     "execution_count": 67,
     "metadata": {},
     "output_type": "execute_result"
    }
   ],
   "source": [
    "child_2.school.name"
   ]
  },
  {
   "cell_type": "code",
   "execution_count": 68,
   "id": "8438514a-6b06-4e94-bc44-cf2e5f484743",
   "metadata": {},
   "outputs": [],
   "source": [
    "child_2.school = School(\n",
    "    name=\"Pushkin\",\n",
    "    number=8,\n",
    "    address=address_1,\n",
    ")"
   ]
  },
  {
   "cell_type": "code",
   "execution_count": 69,
   "id": "ff6c010b-d459-4ef9-87c2-037d1866cf6e",
   "metadata": {},
   "outputs": [
    {
     "data": {
      "text/plain": [
       "'Nikol Aghbalyab'"
      ]
     },
     "execution_count": 69,
     "metadata": {},
     "output_type": "execute_result"
    }
   ],
   "source": [
    "child_1.school.name"
   ]
  },
  {
   "cell_type": "code",
   "execution_count": 70,
   "id": "97d2a989-150c-4309-8994-685afbc63da3",
   "metadata": {},
   "outputs": [
    {
     "data": {
      "text/plain": [
       "'Pushkin'"
      ]
     },
     "execution_count": 70,
     "metadata": {},
     "output_type": "execute_result"
    }
   ],
   "source": [
    "child_2.school.name"
   ]
  },
  {
   "cell_type": "code",
   "execution_count": 72,
   "id": "3c481014-e1c5-4eb9-b993-737efbbb7b28",
   "metadata": {},
   "outputs": [
    {
     "data": {
      "text/plain": [
       "315377280"
      ]
     },
     "execution_count": 72,
     "metadata": {},
     "output_type": "execute_result"
    }
   ],
   "source": [
    "10 * 365 * 24 * 60 * 60 + 2 * 24 * 360"
   ]
  },
  {
   "cell_type": "code",
   "execution_count": 73,
   "id": "02df2124-6355-44a3-a6f6-3dc31073f99b",
   "metadata": {},
   "outputs": [],
   "source": [
    "import datetime"
   ]
  },
  {
   "cell_type": "code",
   "execution_count": 75,
   "id": "dca3d09d-48cf-4ce8-9a11-8045d36a1b1e",
   "metadata": {},
   "outputs": [],
   "source": [
    "the_date = datetime.date(2002, 2, 21)"
   ]
  },
  {
   "cell_type": "code",
   "execution_count": 76,
   "id": "df1acbbf-6018-4ae7-9bd3-6f5b71bf030a",
   "metadata": {},
   "outputs": [
    {
     "data": {
      "text/plain": [
       "datetime.date(2002, 2, 21)"
      ]
     },
     "execution_count": 76,
     "metadata": {},
     "output_type": "execute_result"
    }
   ],
   "source": [
    "the_date"
   ]
  },
  {
   "cell_type": "code",
   "execution_count": 77,
   "id": "f77f67d0-f8a3-409c-a478-8d3270c54e3d",
   "metadata": {},
   "outputs": [
    {
     "data": {
      "text/plain": [
       "datetime.date"
      ]
     },
     "execution_count": 77,
     "metadata": {},
     "output_type": "execute_result"
    }
   ],
   "source": [
    "type(the_date)"
   ]
  },
  {
   "cell_type": "code",
   "execution_count": 78,
   "id": "496415b2-703b-4477-a36a-f822b55563a3",
   "metadata": {},
   "outputs": [
    {
     "data": {
      "text/plain": [
       "'2002-02-21'"
      ]
     },
     "execution_count": 78,
     "metadata": {},
     "output_type": "execute_result"
    }
   ],
   "source": [
    "the_date.isoformat()"
   ]
  },
  {
   "cell_type": "code",
   "execution_count": 79,
   "id": "b34b3841-ab17-466c-b586-dd5a80919946",
   "metadata": {},
   "outputs": [
    {
     "data": {
      "text/plain": [
       "'02-21-2002'"
      ]
     },
     "execution_count": 79,
     "metadata": {},
     "output_type": "execute_result"
    }
   ],
   "source": [
    "the_date.strftime(\"%m-%d-%Y\")"
   ]
  },
  {
   "cell_type": "code",
   "execution_count": 80,
   "id": "d29b8e7a-85e0-4500-be98-e10e45f6fcda",
   "metadata": {},
   "outputs": [
    {
     "data": {
      "text/plain": [
       "'02-21-02'"
      ]
     },
     "execution_count": 80,
     "metadata": {},
     "output_type": "execute_result"
    }
   ],
   "source": [
    "the_date.strftime(\"%m-%d-%y\")"
   ]
  },
  {
   "cell_type": "code",
   "execution_count": 82,
   "id": "c67c6077-cffb-477d-970a-047ab7ac88ef",
   "metadata": {},
   "outputs": [
    {
     "data": {
      "text/plain": [
       "'02/21/2002'"
      ]
     },
     "execution_count": 82,
     "metadata": {},
     "output_type": "execute_result"
    }
   ],
   "source": [
    "the_date.strftime(\"%m/%d/%Y\")"
   ]
  },
  {
   "cell_type": "code",
   "execution_count": 88,
   "id": "3d527c23-64f5-4f6f-8d62-85f3d5b34c81",
   "metadata": {},
   "outputs": [
    {
     "data": {
      "text/plain": [
       "'🎉 Thu February 21, 2002 🎉'"
      ]
     },
     "execution_count": 88,
     "metadata": {},
     "output_type": "execute_result"
    }
   ],
   "source": [
    "the_date.strftime(\"🎉 %a %B %d, %Y 🎉\")"
   ]
  },
  {
   "cell_type": "code",
   "execution_count": 91,
   "id": "f2da674d-142c-4d13-b8d4-2dd38743871d",
   "metadata": {},
   "outputs": [
    {
     "data": {
      "text/plain": [
       "datetime.date(2002, 2, 21)"
      ]
     },
     "execution_count": 91,
     "metadata": {},
     "output_type": "execute_result"
    }
   ],
   "source": [
    "datetime.datetime.strptime('🎉 Thu February 21, 2002 🎉', \"🎉 %a %B %d, %Y 🎉\")"
   ]
  },
  {
   "cell_type": "code",
   "execution_count": 98,
   "id": "cf116a54-9e15-4cb6-aa39-c354279ce04a",
   "metadata": {},
   "outputs": [],
   "source": [
    "new_date = datetime.datetime.strptime('🎉 Thu February 21, 2002 🎉', \"🎉 %a %B %d, %Y 🎉\")"
   ]
  },
  {
   "cell_type": "code",
   "execution_count": 99,
   "id": "db26491f-c7a3-4dea-87dc-6b53decccb5a",
   "metadata": {},
   "outputs": [
    {
     "data": {
      "text/plain": [
       "datetime.datetime(2002, 2, 28, 7, 0)"
      ]
     },
     "execution_count": 99,
     "metadata": {},
     "output_type": "execute_result"
    }
   ],
   "source": [
    "new_date + datetime.timedelta(days=7, hours=7)"
   ]
  },
  {
   "cell_type": "code",
   "execution_count": 100,
   "id": "3dea15b8-f635-4a19-ba3a-2b0e15051176",
   "metadata": {},
   "outputs": [],
   "source": [
    "import calendar"
   ]
  },
  {
   "cell_type": "code",
   "execution_count": 102,
   "id": "17cc897f-e8a9-43fa-95c7-6e2576b42d44",
   "metadata": {},
   "outputs": [
    {
     "data": {
      "text/plain": [
       "'                                  2022\\n\\n      January                   February                   March\\nMo Tu We Th Fr Sa Su      Mo Tu We Th Fr Sa Su      Mo Tu We Th Fr Sa Su\\n                1  2          1  2  3  4  5  6          1  2  3  4  5  6\\n 3  4  5  6  7  8  9       7  8  9 10 11 12 13       7  8  9 10 11 12 13\\n10 11 12 13 14 15 16      14 15 16 17 18 19 20      14 15 16 17 18 19 20\\n17 18 19 20 21 22 23      21 22 23 24 25 26 27      21 22 23 24 25 26 27\\n24 25 26 27 28 29 30      28                        28 29 30 31\\n31\\n\\n       April                      May                       June\\nMo Tu We Th Fr Sa Su      Mo Tu We Th Fr Sa Su      Mo Tu We Th Fr Sa Su\\n             1  2  3                         1             1  2  3  4  5\\n 4  5  6  7  8  9 10       2  3  4  5  6  7  8       6  7  8  9 10 11 12\\n11 12 13 14 15 16 17       9 10 11 12 13 14 15      13 14 15 16 17 18 19\\n18 19 20 21 22 23 24      16 17 18 19 20 21 22      20 21 22 23 24 25 26\\n25 26 27 28 29 30         23 24 25 26 27 28 29      27 28 29 30\\n                          30 31\\n\\n        July                     August                  September\\nMo Tu We Th Fr Sa Su      Mo Tu We Th Fr Sa Su      Mo Tu We Th Fr Sa Su\\n             1  2  3       1  2  3  4  5  6  7                1  2  3  4\\n 4  5  6  7  8  9 10       8  9 10 11 12 13 14       5  6  7  8  9 10 11\\n11 12 13 14 15 16 17      15 16 17 18 19 20 21      12 13 14 15 16 17 18\\n18 19 20 21 22 23 24      22 23 24 25 26 27 28      19 20 21 22 23 24 25\\n25 26 27 28 29 30 31      29 30 31                  26 27 28 29 30\\n\\n      October                   November                  December\\nMo Tu We Th Fr Sa Su      Mo Tu We Th Fr Sa Su      Mo Tu We Th Fr Sa Su\\n                1  2          1  2  3  4  5  6                1  2  3  4\\n 3  4  5  6  7  8  9       7  8  9 10 11 12 13       5  6  7  8  9 10 11\\n10 11 12 13 14 15 16      14 15 16 17 18 19 20      12 13 14 15 16 17 18\\n17 18 19 20 21 22 23      21 22 23 24 25 26 27      19 20 21 22 23 24 25\\n24 25 26 27 28 29 30      28 29 30                  26 27 28 29 30 31\\n31\\n'"
      ]
     },
     "execution_count": 102,
     "metadata": {},
     "output_type": "execute_result"
    }
   ],
   "source": [
    "calendar.calendar(2022)"
   ]
  },
  {
   "cell_type": "markdown",
   "id": "27df029e-f57e-476d-b5ac-141c960c5d36",
   "metadata": {},
   "source": [
    "## Encapsulation"
   ]
  },
  {
   "cell_type": "code",
   "execution_count": 1,
   "id": "248822c1-0c0f-4484-a9bc-27282cc0da61",
   "metadata": {},
   "outputs": [],
   "source": [
    "class Test:\n",
    "    foo = 42\n",
    "    _bar = 24    # protected\n",
    "    __baz = 12   # private"
   ]
  },
  {
   "cell_type": "code",
   "execution_count": 104,
   "id": "e9cfed56-b5d7-452b-99ba-57c036eed52a",
   "metadata": {},
   "outputs": [],
   "source": [
    "a = Test()"
   ]
  },
  {
   "cell_type": "code",
   "execution_count": 105,
   "id": "ee11a56d-a1cd-44ed-a61c-62e82e8ac844",
   "metadata": {},
   "outputs": [
    {
     "data": {
      "text/plain": [
       "42"
      ]
     },
     "execution_count": 105,
     "metadata": {},
     "output_type": "execute_result"
    }
   ],
   "source": [
    "a.foo"
   ]
  },
  {
   "cell_type": "code",
   "execution_count": 106,
   "id": "5398fc69-a2a4-4aad-ae91-4c7967b71d11",
   "metadata": {},
   "outputs": [
    {
     "data": {
      "text/plain": [
       "24"
      ]
     },
     "execution_count": 106,
     "metadata": {},
     "output_type": "execute_result"
    }
   ],
   "source": [
    "a._bar"
   ]
  },
  {
   "cell_type": "code",
   "execution_count": 107,
   "id": "0b025b58-f832-48d7-bf9c-ebadf816999a",
   "metadata": {},
   "outputs": [
    {
     "ename": "AttributeError",
     "evalue": "'Test' object has no attribute '__baz'",
     "output_type": "error",
     "traceback": [
      "\u001b[0;31m---------------------------------------------------------------------------\u001b[0m",
      "\u001b[0;31mAttributeError\u001b[0m                            Traceback (most recent call last)",
      "Input \u001b[0;32mIn [107]\u001b[0m, in \u001b[0;36m<cell line: 1>\u001b[0;34m()\u001b[0m\n\u001b[0;32m----> 1\u001b[0m \u001b[43ma\u001b[49m\u001b[38;5;241;43m.\u001b[39;49m\u001b[43m__baz\u001b[49m\n",
      "\u001b[0;31mAttributeError\u001b[0m: 'Test' object has no attribute '__baz'"
     ]
    }
   ],
   "source": [
    "a.__baz"
   ]
  },
  {
   "cell_type": "code",
   "execution_count": 108,
   "id": "d5aab05f-5923-451f-a0fa-5cafe7931785",
   "metadata": {},
   "outputs": [
    {
     "data": {
      "text/plain": [
       "12"
      ]
     },
     "execution_count": 108,
     "metadata": {},
     "output_type": "execute_result"
    }
   ],
   "source": [
    "a._Test__baz"
   ]
  },
  {
   "cell_type": "code",
   "execution_count": 123,
   "id": "45427ae9-5b8e-4b19-b8a1-09eb6e8f4736",
   "metadata": {
    "jupyter": {
     "source_hidden": true
    },
    "tags": []
   },
   "outputs": [],
   "source": [
    "class Test:\n",
    "    foo = 42\n",
    "    _bar = 24\n",
    "    __baz = 12\n",
    "    \n",
    "    def test(self):\n",
    "        print(self.foo)\n",
    "        print(self._bar)\n",
    "        print(self.__baz)\n",
    "        \n",
    "        self.__private()\n",
    "        \n",
    "    def __private(self):\n",
    "        print(\"Super secret\")"
   ]
  },
  {
   "cell_type": "code",
   "execution_count": 124,
   "id": "21b72f43-6334-40cc-bd6b-af7d6e2306f0",
   "metadata": {},
   "outputs": [],
   "source": [
    "b = Test()"
   ]
  },
  {
   "cell_type": "code",
   "execution_count": 125,
   "id": "6c7b8157-9df4-4145-a883-7207645b75d4",
   "metadata": {
    "tags": []
   },
   "outputs": [
    {
     "name": "stdout",
     "output_type": "stream",
     "text": [
      "42\n",
      "24\n",
      "12\n",
      "Super secret\n"
     ]
    }
   ],
   "source": [
    "b.test()"
   ]
  },
  {
   "cell_type": "code",
   "execution_count": 126,
   "id": "14db2e95-ba8b-4450-9c7e-210c9ca0a012",
   "metadata": {},
   "outputs": [
    {
     "ename": "AttributeError",
     "evalue": "'Test' object has no attribute '__private'",
     "output_type": "error",
     "traceback": [
      "\u001b[0;31m---------------------------------------------------------------------------\u001b[0m",
      "\u001b[0;31mAttributeError\u001b[0m                            Traceback (most recent call last)",
      "Input \u001b[0;32mIn [126]\u001b[0m, in \u001b[0;36m<cell line: 1>\u001b[0;34m()\u001b[0m\n\u001b[0;32m----> 1\u001b[0m \u001b[43mb\u001b[49m\u001b[38;5;241;43m.\u001b[39;49m\u001b[43m__private\u001b[49m()\n",
      "\u001b[0;31mAttributeError\u001b[0m: 'Test' object has no attribute '__private'"
     ]
    }
   ],
   "source": [
    "b.__private()"
   ]
  },
  {
   "cell_type": "code",
   "execution_count": 116,
   "id": "f4be9448-b37f-4b52-a463-a1b0ed7fdb4b",
   "metadata": {},
   "outputs": [],
   "source": [
    "class ChildTest(Test):\n",
    "    def test(self):\n",
    "        print(self.foo)\n",
    "        print(self._bar)\n",
    "        print(self.__baz)"
   ]
  },
  {
   "cell_type": "code",
   "execution_count": 117,
   "id": "be93b50d-b6f7-439c-8e60-af51c17b9bfc",
   "metadata": {},
   "outputs": [],
   "source": [
    "c = ChildTest()"
   ]
  },
  {
   "cell_type": "code",
   "execution_count": 118,
   "id": "7c78b516-eff2-4bf6-8877-8c93b62dbf2c",
   "metadata": {},
   "outputs": [
    {
     "name": "stdout",
     "output_type": "stream",
     "text": [
      "42\n",
      "24\n"
     ]
    },
    {
     "ename": "AttributeError",
     "evalue": "'ChildTest' object has no attribute '_ChildTest__baz'",
     "output_type": "error",
     "traceback": [
      "\u001b[0;31m---------------------------------------------------------------------------\u001b[0m",
      "\u001b[0;31mAttributeError\u001b[0m                            Traceback (most recent call last)",
      "Input \u001b[0;32mIn [118]\u001b[0m, in \u001b[0;36m<cell line: 1>\u001b[0;34m()\u001b[0m\n\u001b[0;32m----> 1\u001b[0m \u001b[43mc\u001b[49m\u001b[38;5;241;43m.\u001b[39;49m\u001b[43mtest\u001b[49m\u001b[43m(\u001b[49m\u001b[43m)\u001b[49m\n",
      "Input \u001b[0;32mIn [116]\u001b[0m, in \u001b[0;36mChildTest.test\u001b[0;34m(self)\u001b[0m\n\u001b[1;32m      3\u001b[0m \u001b[38;5;28mprint\u001b[39m(\u001b[38;5;28mself\u001b[39m\u001b[38;5;241m.\u001b[39mfoo)\n\u001b[1;32m      4\u001b[0m \u001b[38;5;28mprint\u001b[39m(\u001b[38;5;28mself\u001b[39m\u001b[38;5;241m.\u001b[39m_bar)\n\u001b[0;32m----> 5\u001b[0m \u001b[38;5;28mprint\u001b[39m(\u001b[38;5;28;43mself\u001b[39;49m\u001b[38;5;241;43m.\u001b[39;49m\u001b[43m__baz\u001b[49m)\n",
      "\u001b[0;31mAttributeError\u001b[0m: 'ChildTest' object has no attribute '_ChildTest__baz'"
     ]
    }
   ],
   "source": [
    "c.test()"
   ]
  },
  {
   "cell_type": "code",
   "execution_count": null,
   "id": "8ee71b97-dbb0-4ac9-99a1-7074fefd5bfd",
   "metadata": {},
   "outputs": [],
   "source": []
  }
 ],
 "metadata": {
  "kernelspec": {
   "display_name": "Python 3 (ipykernel)",
   "language": "python",
   "name": "python3"
  },
  "language_info": {
   "codemirror_mode": {
    "name": "ipython",
    "version": 3
   },
   "file_extension": ".py",
   "mimetype": "text/x-python",
   "name": "python",
   "nbconvert_exporter": "python",
   "pygments_lexer": "ipython3",
   "version": "3.9.13"
  }
 },
 "nbformat": 4,
 "nbformat_minor": 5
}
