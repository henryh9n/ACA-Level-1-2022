{
 "cells": [
  {
   "cell_type": "markdown",
   "id": "941ad97c-93f5-4321-95aa-0983e1b00926",
   "metadata": {},
   "source": [
    "# Lesson 8 ~ Methods"
   ]
  },
  {
   "cell_type": "code",
   "execution_count": 1,
   "id": "94d9ced3-33c3-4825-aeb0-1c41032da817",
   "metadata": {},
   "outputs": [],
   "source": [
    "class Dog:\n",
    "    def __init__(self, name, age):\n",
    "        self.name = name\n",
    "        self.age = age\n",
    "        \n",
    "    def speak(self):\n",
    "        return \"woof\""
   ]
  },
  {
   "cell_type": "code",
   "execution_count": 2,
   "id": "4826e446-ce28-4168-86a0-738d7ab859e9",
   "metadata": {},
   "outputs": [],
   "source": [
    "dog_1 = Dog(\"Bob\", 12)"
   ]
  },
  {
   "cell_type": "code",
   "execution_count": 3,
   "id": "f05dfc85-4094-45f9-ba4a-20682e210fd9",
   "metadata": {},
   "outputs": [
    {
     "data": {
      "text/plain": [
       "'woof'"
      ]
     },
     "execution_count": 3,
     "metadata": {},
     "output_type": "execute_result"
    }
   ],
   "source": [
    "dog_1.speak()"
   ]
  },
  {
   "cell_type": "code",
   "execution_count": 4,
   "id": "ef9d4c15-6421-4dfc-bdd5-1cf8ca7bb669",
   "metadata": {},
   "outputs": [],
   "source": [
    "class Parrot:\n",
    "    def __init__(self, name, age):\n",
    "        self.name = name\n",
    "        self.age = age\n",
    "        \n",
    "    def speak(self, persons_name):\n",
    "        return f\"Hello {persons_name}\""
   ]
  },
  {
   "cell_type": "code",
   "execution_count": 5,
   "id": "9c841410-e75e-440c-9fe6-0d9a4306a709",
   "metadata": {},
   "outputs": [],
   "source": [
    "parrot_1 = Parrot(\"Jack\", 12)"
   ]
  },
  {
   "cell_type": "code",
   "execution_count": 7,
   "id": "b33f5366-d223-4857-8e9b-b0bc9939747e",
   "metadata": {},
   "outputs": [
    {
     "data": {
      "text/plain": [
       "'Hello Henry'"
      ]
     },
     "execution_count": 7,
     "metadata": {},
     "output_type": "execute_result"
    }
   ],
   "source": [
    "parrot_1.speak(\"Henry\")"
   ]
  },
  {
   "cell_type": "code",
   "execution_count": 12,
   "id": "fc266113-e849-403b-bc61-922f8a9eeb9f",
   "metadata": {},
   "outputs": [],
   "source": [
    "class Parrot:\n",
    "    def __init__(self, name, age):\n",
    "        self.name = name\n",
    "        self.age = age\n",
    "\n",
    "    def speak(self, persons_name):\n",
    "        return f\"Hello {persons_name}, I'm {self.name} and I am {self.age} years old\""
   ]
  },
  {
   "cell_type": "code",
   "execution_count": 13,
   "id": "49e52f81-9dea-497c-a1aa-5ccda1182d5f",
   "metadata": {},
   "outputs": [],
   "source": [
    "parrot_2 = Parrot(\"Kesha\", 12)"
   ]
  },
  {
   "cell_type": "code",
   "execution_count": 14,
   "id": "9c13d10d-00ed-4cba-9425-81552a0f1421",
   "metadata": {},
   "outputs": [
    {
     "data": {
      "text/plain": [
       "\"Hello Henry, I'm Kesha and I am 12 years old\""
      ]
     },
     "execution_count": 14,
     "metadata": {},
     "output_type": "execute_result"
    }
   ],
   "source": [
    "parrot_2.speak(\"Henry\")"
   ]
  },
  {
   "cell_type": "code",
   "execution_count": 15,
   "id": "c92e310b-a5e4-44c4-83ee-296a832ba7fb",
   "metadata": {},
   "outputs": [
    {
     "data": {
      "text/plain": [
       "<__main__.Parrot at 0x121d6bc10>"
      ]
     },
     "execution_count": 15,
     "metadata": {},
     "output_type": "execute_result"
    }
   ],
   "source": [
    "parrot_2"
   ]
  },
  {
   "cell_type": "code",
   "execution_count": 23,
   "id": "97f99f29-f527-4a2f-8f6c-728233bd9f2d",
   "metadata": {},
   "outputs": [],
   "source": [
    "class Employee:\n",
    "    company_name = \"ACA\"\n",
    "    company_domain = \"aca.am\"\n",
    "    \n",
    "    def __init__(self, name, age):\n",
    "        self.name = name\n",
    "        self.age = age\n",
    "    \n",
    "    @classmethod\n",
    "    def get_company_info(cls):\n",
    "        return f\"This employee works at {cls.company_name} (website: {cls.company_domain})\""
   ]
  },
  {
   "cell_type": "code",
   "execution_count": 24,
   "id": "25dd7e8d-0130-4a9e-9d37-b81a9f4acdd0",
   "metadata": {},
   "outputs": [],
   "source": [
    "employee_1 = Employee(\"Adam Smith\", 42)"
   ]
  },
  {
   "cell_type": "code",
   "execution_count": 25,
   "id": "0a1499d2-9215-42cf-b8ac-cce6b0b521c5",
   "metadata": {},
   "outputs": [
    {
     "data": {
      "text/plain": [
       "'This employee works at ACA (website: aca.am)'"
      ]
     },
     "execution_count": 25,
     "metadata": {},
     "output_type": "execute_result"
    }
   ],
   "source": [
    "employee_1.get_company_info()"
   ]
  },
  {
   "cell_type": "code",
   "execution_count": 26,
   "id": "f9b2f36c-2815-4765-8e50-9a6fd0784a87",
   "metadata": {},
   "outputs": [
    {
     "data": {
      "text/plain": [
       "'This employee works at ACA (website: aca.am)'"
      ]
     },
     "execution_count": 26,
     "metadata": {},
     "output_type": "execute_result"
    }
   ],
   "source": [
    "Employee.get_company_info()"
   ]
  },
  {
   "cell_type": "code",
   "execution_count": 27,
   "id": "8fff9b68-b415-4863-8409-cf796e95b9ff",
   "metadata": {},
   "outputs": [
    {
     "ename": "TypeError",
     "evalue": "speak() missing 1 required positional argument: 'self'",
     "output_type": "error",
     "traceback": [
      "\u001b[0;31m---------------------------------------------------------------------------\u001b[0m",
      "\u001b[0;31mTypeError\u001b[0m                                 Traceback (most recent call last)",
      "Input \u001b[0;32mIn [27]\u001b[0m, in \u001b[0;36m<cell line: 1>\u001b[0;34m()\u001b[0m\n\u001b[0;32m----> 1\u001b[0m \u001b[43mDog\u001b[49m\u001b[38;5;241;43m.\u001b[39;49m\u001b[43mspeak\u001b[49m\u001b[43m(\u001b[49m\u001b[43m)\u001b[49m\n",
      "\u001b[0;31mTypeError\u001b[0m: speak() missing 1 required positional argument: 'self'"
     ]
    }
   ],
   "source": [
    "Dog.speak()"
   ]
  },
  {
   "cell_type": "code",
   "execution_count": 28,
   "id": "fd1690c9-8d7a-4101-9a9f-c9d98b40dad0",
   "metadata": {},
   "outputs": [],
   "source": [
    "employee_1.company_name = \"Google\""
   ]
  },
  {
   "cell_type": "code",
   "execution_count": 29,
   "id": "d21549a3-76b1-462a-9b5c-84692e39faa5",
   "metadata": {},
   "outputs": [
    {
     "data": {
      "text/plain": [
       "'This employee works at ACA (website: aca.am)'"
      ]
     },
     "execution_count": 29,
     "metadata": {},
     "output_type": "execute_result"
    }
   ],
   "source": [
    "employee_1.get_company_info()"
   ]
  },
  {
   "cell_type": "code",
   "execution_count": 45,
   "id": "78a83129-3aed-4c98-a97a-acad776364e3",
   "metadata": {},
   "outputs": [],
   "source": [
    "class Pizza:\n",
    "    def __init__(self, name, ingredients):\n",
    "        self.name = name\n",
    "        self.ingredients = ingredients\n",
    "    \n",
    "    @classmethod\n",
    "    def make_margarita(cls):\n",
    "        return cls(\n",
    "            name=\"Margarita\",\n",
    "            ingredients=[\"mozarella\", \"tomato\"],\n",
    "        )\n",
    "        \n",
    "    @classmethod\n",
    "    def make_pepperoni(cls):\n",
    "        return cls(\n",
    "            name=\"Pepperoni\",\n",
    "            ingredients=[\"pepperoni\", \"mozarella\", \"parmezan\"],\n",
    "        )"
   ]
  },
  {
   "cell_type": "code",
   "execution_count": 46,
   "id": "58687e0f-82b7-42b4-b4dd-8690c945fffe",
   "metadata": {},
   "outputs": [],
   "source": [
    "custom_pizza = Pizza(\"ACA\", [\"pepperoni\", \"parmezan\", \"lori\"])"
   ]
  },
  {
   "cell_type": "code",
   "execution_count": 47,
   "id": "f4c31782-1062-40cf-aa9c-dc748f9adab2",
   "metadata": {},
   "outputs": [
    {
     "data": {
      "text/plain": [
       "['pepperoni', 'parmezan', 'lori']"
      ]
     },
     "execution_count": 47,
     "metadata": {},
     "output_type": "execute_result"
    }
   ],
   "source": [
    "custom_pizza.ingredients"
   ]
  },
  {
   "cell_type": "code",
   "execution_count": 48,
   "id": "e466c465-bea3-4a12-9823-10fd7078bcf9",
   "metadata": {},
   "outputs": [],
   "source": [
    "margarita = Pizza.make_margarita()"
   ]
  },
  {
   "cell_type": "code",
   "execution_count": 49,
   "id": "ec0dd9dc-9d5d-4214-8fb0-57389b7ff264",
   "metadata": {},
   "outputs": [
    {
     "data": {
      "text/plain": [
       "['mozarella', 'tomato']"
      ]
     },
     "execution_count": 49,
     "metadata": {},
     "output_type": "execute_result"
    }
   ],
   "source": [
    "margarita.ingredients"
   ]
  },
  {
   "cell_type": "code",
   "execution_count": 50,
   "id": "0731dc28-e08f-4f20-9b72-ed2c9986fbd8",
   "metadata": {},
   "outputs": [],
   "source": [
    "class Rectangle:\n",
    "    def __init__(self, width, length):\n",
    "        self.width = width\n",
    "        self.length = length\n",
    "        \n",
    "    def area(self):\n",
    "        return self.width * self.length"
   ]
  },
  {
   "cell_type": "code",
   "execution_count": 51,
   "id": "5df81bce-cb73-4ef7-8c7a-3c6abc29f88b",
   "metadata": {},
   "outputs": [],
   "source": [
    "rectangle_1 = Rectangle(10, 12)"
   ]
  },
  {
   "cell_type": "code",
   "execution_count": 52,
   "id": "968aa673-9f07-4b3f-b152-223976094691",
   "metadata": {},
   "outputs": [
    {
     "data": {
      "text/plain": [
       "120"
      ]
     },
     "execution_count": 52,
     "metadata": {},
     "output_type": "execute_result"
    }
   ],
   "source": [
    "rectangle_1.area()"
   ]
  },
  {
   "cell_type": "code",
   "execution_count": 61,
   "id": "83ebe75f-f7c7-453d-8aba-615bd35ee59e",
   "metadata": {},
   "outputs": [],
   "source": [
    "class Rectangle:\n",
    "    def __init__(self, width, length):\n",
    "        self.width = width\n",
    "        self.length = length\n",
    "    \n",
    "    def area(self):\n",
    "        return self.calculate_area(self.width, self.length)\n",
    "    \n",
    "    @staticmethod\n",
    "    def calculate_area(width, length):\n",
    "        return width * length"
   ]
  },
  {
   "cell_type": "code",
   "execution_count": 62,
   "id": "43f4f584-faec-492e-b36c-fa05aa9e087f",
   "metadata": {},
   "outputs": [
    {
     "data": {
      "text/plain": [
       "1000"
      ]
     },
     "execution_count": 62,
     "metadata": {},
     "output_type": "execute_result"
    }
   ],
   "source": [
    "Rectangle.calculate_area(20, 50)"
   ]
  },
  {
   "cell_type": "code",
   "execution_count": 63,
   "id": "e3626be1-3c75-4484-b6c3-9351275d7a22",
   "metadata": {},
   "outputs": [],
   "source": [
    "import math"
   ]
  },
  {
   "cell_type": "code",
   "execution_count": 64,
   "id": "9730c47c-3e4f-4303-a22e-3b6185fbd30e",
   "metadata": {},
   "outputs": [],
   "source": [
    "class Cycle:\n",
    "    def __init__(self, radius):\n",
    "        self.radius = radius\n",
    "        \n",
    "    def area(self):\n",
    "        return self.calculate_area(self.radius)\n",
    "    \n",
    "    @staticmethod\n",
    "    def calculate_area(radius):\n",
    "        return (radius ** 2) * math.pi"
   ]
  },
  {
   "cell_type": "code",
   "execution_count": 65,
   "id": "175a6e87-a3ac-490d-89e1-66fa141f03cf",
   "metadata": {},
   "outputs": [],
   "source": [
    "rectangle_2 = Rectangle(20, 50)"
   ]
  },
  {
   "cell_type": "code",
   "execution_count": 66,
   "id": "022aea57-0d66-48c1-b611-2aa7b67e0e9d",
   "metadata": {},
   "outputs": [
    {
     "data": {
      "text/plain": [
       "1000"
      ]
     },
     "execution_count": 66,
     "metadata": {},
     "output_type": "execute_result"
    }
   ],
   "source": [
    "rectangle_2.area()"
   ]
  },
  {
   "cell_type": "markdown",
   "id": "d7b77478-dc7c-40c6-9073-d13da0fb5742",
   "metadata": {},
   "source": [
    "## Magic Methods"
   ]
  },
  {
   "cell_type": "code",
   "execution_count": 67,
   "id": "dcf96052-2320-4d91-bb15-8a452d42df52",
   "metadata": {},
   "outputs": [],
   "source": [
    "class Employee:\n",
    "    company_name = \"ACA\"\n",
    "    company_domain = \"aca.am\"\n",
    "    \n",
    "    def __init__(self, name, age):\n",
    "        self.name = name\n",
    "        self.age = age\n",
    "    \n",
    "    @classmethod\n",
    "    def get_company_info(cls):\n",
    "        return f\"This employee works at {cls.company_name} (website: {cls.company_domain})\""
   ]
  },
  {
   "cell_type": "code",
   "execution_count": 68,
   "id": "85c36cca-ed08-413d-9dfa-415bbf373416",
   "metadata": {},
   "outputs": [],
   "source": [
    "employee_1 = Employee(\"Adam Smith\", 24)"
   ]
  },
  {
   "cell_type": "code",
   "execution_count": 70,
   "id": "fb1cea09-bdd1-4c3e-87f7-41ec7c160cb5",
   "metadata": {},
   "outputs": [
    {
     "name": "stdout",
     "output_type": "stream",
     "text": [
      "<__main__.Employee object at 0x12435d850>\n"
     ]
    }
   ],
   "source": [
    "print(employee_1)"
   ]
  },
  {
   "cell_type": "code",
   "execution_count": 83,
   "id": "fbf2275c-061d-4664-8587-71f0f4c2539a",
   "metadata": {},
   "outputs": [],
   "source": [
    "class Employee:\n",
    "    company_name = \"ACA\"\n",
    "    \n",
    "    def __init__(self, name, age):\n",
    "        self.name = name\n",
    "        self.age = age\n",
    "    \n",
    "    def __repr__(self):\n",
    "        return f\"Employee: {self.name} (from {self.company_name})\""
   ]
  },
  {
   "cell_type": "code",
   "execution_count": 84,
   "id": "50625fe6-f57d-4c5e-8a22-0639c6695afe",
   "metadata": {},
   "outputs": [],
   "source": [
    "employee = Employee(\"Adam Smith\", 24)"
   ]
  },
  {
   "cell_type": "code",
   "execution_count": 85,
   "id": "ee4d1116-3c50-41bc-a5d6-4e018d8e041d",
   "metadata": {},
   "outputs": [
    {
     "data": {
      "text/plain": [
       "Employee: Adam Smith (from ACA)"
      ]
     },
     "execution_count": 85,
     "metadata": {},
     "output_type": "execute_result"
    }
   ],
   "source": [
    "employee"
   ]
  },
  {
   "cell_type": "code",
   "execution_count": 86,
   "id": "3ffcc32c-a8ad-4f19-8a01-8e11cda45584",
   "metadata": {},
   "outputs": [
    {
     "data": {
      "text/plain": [
       "<__main__.Employee at 0x12435d850>"
      ]
     },
     "execution_count": 86,
     "metadata": {},
     "output_type": "execute_result"
    }
   ],
   "source": [
    "employee_1"
   ]
  },
  {
   "cell_type": "code",
   "execution_count": 87,
   "id": "a85816a9-fb73-4070-8720-eb15319d2908",
   "metadata": {},
   "outputs": [],
   "source": [
    "employees = [employee, employee_1]"
   ]
  },
  {
   "cell_type": "code",
   "execution_count": 88,
   "id": "d054c055-1cd0-41ca-b913-6122b78b7c93",
   "metadata": {},
   "outputs": [
    {
     "data": {
      "text/plain": [
       "[Employee: Adam Smith (from ACA), <__main__.Employee at 0x12435d850>]"
      ]
     },
     "execution_count": 88,
     "metadata": {},
     "output_type": "execute_result"
    }
   ],
   "source": [
    "employees"
   ]
  },
  {
   "cell_type": "code",
   "execution_count": 94,
   "id": "b6163ee6-1afa-40f8-892c-57a0eced27eb",
   "metadata": {},
   "outputs": [],
   "source": [
    "class Rectangle:\n",
    "    def __init__(self, width, length):\n",
    "        self.width = width\n",
    "        self.length = length\n",
    "    \n",
    "    def area(self):\n",
    "        return self.calculate_area(self.width, self.length)\n",
    "    \n",
    "    @staticmethod\n",
    "    def calculate_area(width, length):\n",
    "        return width * length\n",
    "    \n",
    "    def __repr__(self):\n",
    "        # area = self.area()\n",
    "        # return f\"Rectangle {area} m^2\"\n",
    "        return f\"Rectangle({self.width}, {self.length})\""
   ]
  },
  {
   "cell_type": "code",
   "execution_count": 95,
   "id": "372ee567-12d8-492d-b111-dedca3e6eda8",
   "metadata": {},
   "outputs": [],
   "source": [
    "rect = Rectangle(20, 50)"
   ]
  },
  {
   "cell_type": "code",
   "execution_count": 96,
   "id": "fa997ed9-27b1-4b68-9cb9-7dbb182a54f4",
   "metadata": {},
   "outputs": [
    {
     "data": {
      "text/plain": [
       "Rectangle(20, 50)"
      ]
     },
     "execution_count": 96,
     "metadata": {},
     "output_type": "execute_result"
    }
   ],
   "source": [
    "rect"
   ]
  },
  {
   "cell_type": "code",
   "execution_count": 97,
   "id": "be9925ed-e525-4c35-9cc9-118d631b82ae",
   "metadata": {},
   "outputs": [
    {
     "name": "stdout",
     "output_type": "stream",
     "text": [
      "this is -> Rectangle(20, 50)\n"
     ]
    }
   ],
   "source": [
    "print(f\"this is -> {rect}\")"
   ]
  },
  {
   "cell_type": "code",
   "execution_count": 98,
   "id": "ce92f7b7-5d8f-4fa3-8b12-c3bf4c65e30a",
   "metadata": {},
   "outputs": [
    {
     "data": {
      "text/plain": [
       "'Rectangle(20, 50)'"
      ]
     },
     "execution_count": 98,
     "metadata": {},
     "output_type": "execute_result"
    }
   ],
   "source": [
    "str(rect)"
   ]
  },
  {
   "cell_type": "code",
   "execution_count": 141,
   "id": "606a5631-2d6a-4e60-b630-e310a0fad347",
   "metadata": {},
   "outputs": [],
   "source": [
    "from functools import total_ordering"
   ]
  },
  {
   "cell_type": "code",
   "execution_count": 183,
   "id": "fed64d77-cb35-4537-854a-5e21703f3965",
   "metadata": {},
   "outputs": [],
   "source": [
    "@total_ordering\n",
    "class Rectangle:\n",
    "    def __init__(self, width, length):\n",
    "        self.width = width\n",
    "        self.length = length\n",
    "    \n",
    "    def area(self):\n",
    "        return self.calculate_area(self.width, self.length)\n",
    "    \n",
    "    @staticmethod\n",
    "    def calculate_area(width, length):\n",
    "        return width * length\n",
    "    \n",
    "    def __repr__(self):\n",
    "        return f\"Rectangle({self.width}, {self.length})\"\n",
    "    \n",
    "    def __lt__(self, other):\n",
    "        return self.area() < other.area()\n",
    "    \n",
    "    def __eq__(self, other):\n",
    "        return self.area() == other.area()\n",
    "    \n",
    "    def __bool__(self):\n",
    "        return self.area() > 0"
   ]
  },
  {
   "cell_type": "code",
   "execution_count": 184,
   "id": "03cf9e61-71da-42b6-8861-9617e9e89044",
   "metadata": {},
   "outputs": [],
   "source": [
    "rectangle_1 = Rectangle(7, 23)\n",
    "rectangle_2 = Rectangle(8, 21)\n",
    "rectangle_3 = Rectangle(7, 24)\n",
    "rectangle_4 = Rectangle(6, 21)"
   ]
  },
  {
   "cell_type": "code",
   "execution_count": 185,
   "id": "c26ea4da-dce1-4993-98ce-18d08b4cb6c3",
   "metadata": {},
   "outputs": [
    {
     "data": {
      "text/plain": [
       "True"
      ]
     },
     "execution_count": 185,
     "metadata": {},
     "output_type": "execute_result"
    }
   ],
   "source": [
    "rectangle_1.area() < rectangle_2.area()"
   ]
  },
  {
   "cell_type": "code",
   "execution_count": 186,
   "id": "12047d85-24a2-4058-96ea-cf27f18f1c9c",
   "metadata": {},
   "outputs": [
    {
     "data": {
      "text/plain": [
       "True"
      ]
     },
     "execution_count": 186,
     "metadata": {},
     "output_type": "execute_result"
    }
   ],
   "source": [
    "rectangle_1 < rectangle_2"
   ]
  },
  {
   "cell_type": "code",
   "execution_count": 187,
   "id": "7c28e4d9-d3c2-492a-b971-91985a3e9d6a",
   "metadata": {},
   "outputs": [
    {
     "data": {
      "text/plain": [
       "False"
      ]
     },
     "execution_count": 187,
     "metadata": {},
     "output_type": "execute_result"
    }
   ],
   "source": [
    "rectangle_1 == rectangle_2"
   ]
  },
  {
   "cell_type": "code",
   "execution_count": 188,
   "id": "bceff1d6-1dcf-4f66-9d6b-02106c9eaa7d",
   "metadata": {},
   "outputs": [
    {
     "data": {
      "text/plain": [
       "False"
      ]
     },
     "execution_count": 188,
     "metadata": {},
     "output_type": "execute_result"
    }
   ],
   "source": [
    "rectangle_1 > rectangle_2"
   ]
  },
  {
   "cell_type": "code",
   "execution_count": 189,
   "id": "1f015b65-3f09-4c10-a634-fe40456fc36b",
   "metadata": {},
   "outputs": [
    {
     "data": {
      "text/plain": [
       "True"
      ]
     },
     "execution_count": 189,
     "metadata": {},
     "output_type": "execute_result"
    }
   ],
   "source": [
    "rectangle_2 == rectangle_3"
   ]
  },
  {
   "cell_type": "code",
   "execution_count": 190,
   "id": "1f912504-0e5b-41ea-ab26-74379ff8a69c",
   "metadata": {},
   "outputs": [
    {
     "data": {
      "text/plain": [
       "True"
      ]
     },
     "execution_count": 190,
     "metadata": {},
     "output_type": "execute_result"
    }
   ],
   "source": [
    "rectangle_1 > rectangle_4"
   ]
  },
  {
   "cell_type": "code",
   "execution_count": 191,
   "id": "46d7f145-6185-43ad-8afb-c0433162d413",
   "metadata": {},
   "outputs": [
    {
     "data": {
      "text/plain": [
       "True"
      ]
     },
     "execution_count": 191,
     "metadata": {},
     "output_type": "execute_result"
    }
   ],
   "source": [
    "rectangle_1 <= rectangle_2"
   ]
  },
  {
   "cell_type": "code",
   "execution_count": 192,
   "id": "6db99769-611c-4e8e-843a-9be6c5547b42",
   "metadata": {},
   "outputs": [
    {
     "data": {
      "text/plain": [
       "True"
      ]
     },
     "execution_count": 192,
     "metadata": {},
     "output_type": "execute_result"
    }
   ],
   "source": [
    "rectangle_2 <= rectangle_3"
   ]
  },
  {
   "cell_type": "code",
   "execution_count": 193,
   "id": "203dbbfc-eca6-45c4-9ddc-3304530df2b5",
   "metadata": {},
   "outputs": [
    {
     "data": {
      "text/plain": [
       "True"
      ]
     },
     "execution_count": 193,
     "metadata": {},
     "output_type": "execute_result"
    }
   ],
   "source": [
    "rectangle_1 >= rectangle_4"
   ]
  },
  {
   "cell_type": "code",
   "execution_count": 194,
   "id": "c38288f5-a4d1-47c4-8de5-8f8baf018061",
   "metadata": {},
   "outputs": [
    {
     "data": {
      "text/plain": [
       "True"
      ]
     },
     "execution_count": 194,
     "metadata": {},
     "output_type": "execute_result"
    }
   ],
   "source": [
    "bool(rectangle_3)"
   ]
  },
  {
   "cell_type": "code",
   "execution_count": 195,
   "id": "47525852-1bae-4188-a81f-8d53eee1a0da",
   "metadata": {},
   "outputs": [],
   "source": [
    "rectangle_0 = Rectangle(0, 0)"
   ]
  },
  {
   "cell_type": "code",
   "execution_count": 196,
   "id": "f5f37beb-e5ad-42a7-8adb-9e53e5e6a3f2",
   "metadata": {},
   "outputs": [
    {
     "data": {
      "text/plain": [
       "False"
      ]
     },
     "execution_count": 196,
     "metadata": {},
     "output_type": "execute_result"
    }
   ],
   "source": [
    "bool(rectangle_0)"
   ]
  },
  {
   "cell_type": "code",
   "execution_count": 197,
   "id": "dc874205-fc7e-4a16-85a1-9ab83a9c8aa0",
   "metadata": {},
   "outputs": [
    {
     "name": "stdout",
     "output_type": "stream",
     "text": [
      "yes\n"
     ]
    }
   ],
   "source": [
    "if rectangle_1:\n",
    "    print(\"yes\")"
   ]
  },
  {
   "cell_type": "code",
   "execution_count": 198,
   "id": "7356bbfa-ad1b-48eb-bc3e-5933a4327202",
   "metadata": {},
   "outputs": [],
   "source": [
    "if rectangle_0:\n",
    "    print(\"yes\")"
   ]
  },
  {
   "cell_type": "code",
   "execution_count": null,
   "id": "c42859f3-b612-461d-b6b9-67f326003da9",
   "metadata": {},
   "outputs": [],
   "source": []
  }
 ],
 "metadata": {
  "kernelspec": {
   "display_name": "Python 3 (ipykernel)",
   "language": "python",
   "name": "python3"
  },
  "language_info": {
   "codemirror_mode": {
    "name": "ipython",
    "version": 3
   },
   "file_extension": ".py",
   "mimetype": "text/x-python",
   "name": "python",
   "nbconvert_exporter": "python",
   "pygments_lexer": "ipython3",
   "version": "3.9.13"
  }
 },
 "nbformat": 4,
 "nbformat_minor": 5
}
