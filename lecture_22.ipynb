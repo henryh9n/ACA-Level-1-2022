{
 "cells": [
  {
   "cell_type": "markdown",
   "id": "8ae6ca7d-e898-4dba-9e37-c3dadb5f79c3",
   "metadata": {},
   "source": [
    "# Lecture 22"
   ]
  },
  {
   "cell_type": "code",
   "execution_count": 1,
   "id": "e81a1f09-8e69-4a58-abcf-6f58ece99ef9",
   "metadata": {},
   "outputs": [],
   "source": [
    "d = {\n",
    "    'a': 1,\n",
    "    'b': False,\n",
    "}"
   ]
  },
  {
   "cell_type": "code",
   "execution_count": 2,
   "id": "25cd3f01-2440-4796-9933-a9f09b239500",
   "metadata": {},
   "outputs": [
    {
     "data": {
      "text/plain": [
       "1"
      ]
     },
     "execution_count": 2,
     "metadata": {},
     "output_type": "execute_result"
    }
   ],
   "source": [
    "d['a']"
   ]
  },
  {
   "cell_type": "code",
   "execution_count": 3,
   "id": "4411a7ad-8932-4271-a046-bbf14eea9c1b",
   "metadata": {},
   "outputs": [
    {
     "ename": "KeyError",
     "evalue": "'c'",
     "output_type": "error",
     "traceback": [
      "\u001b[0;31m---------------------------------------------------------------------------\u001b[0m",
      "\u001b[0;31mKeyError\u001b[0m                                  Traceback (most recent call last)",
      "Input \u001b[0;32mIn [3]\u001b[0m, in \u001b[0;36m<cell line: 1>\u001b[0;34m()\u001b[0m\n\u001b[0;32m----> 1\u001b[0m \u001b[43md\u001b[49m\u001b[43m[\u001b[49m\u001b[38;5;124;43m'\u001b[39;49m\u001b[38;5;124;43mc\u001b[39;49m\u001b[38;5;124;43m'\u001b[39;49m\u001b[43m]\u001b[49m\n",
      "\u001b[0;31mKeyError\u001b[0m: 'c'"
     ]
    }
   ],
   "source": [
    "d['c']"
   ]
  },
  {
   "cell_type": "code",
   "execution_count": 4,
   "id": "3db36a54-65c5-4d20-b6b0-a99bf932a367",
   "metadata": {},
   "outputs": [],
   "source": [
    "d['c'] = 24"
   ]
  },
  {
   "cell_type": "code",
   "execution_count": 5,
   "id": "8d767015-13ef-4475-a590-4d871b01249a",
   "metadata": {},
   "outputs": [
    {
     "data": {
      "text/plain": [
       "24"
      ]
     },
     "execution_count": 5,
     "metadata": {},
     "output_type": "execute_result"
    }
   ],
   "source": [
    "d['c']"
   ]
  },
  {
   "cell_type": "code",
   "execution_count": 6,
   "id": "213fc832-03fe-46b5-961c-31cf344b1d08",
   "metadata": {},
   "outputs": [],
   "source": [
    "from collections import defaultdict"
   ]
  },
  {
   "cell_type": "code",
   "execution_count": 7,
   "id": "d2e01072-6054-45d9-a391-b0c05b1c0c63",
   "metadata": {},
   "outputs": [],
   "source": [
    "d = defaultdict(int)"
   ]
  },
  {
   "cell_type": "code",
   "execution_count": 8,
   "id": "ad4486b3-2da4-49d6-b886-33007c4d8e0d",
   "metadata": {},
   "outputs": [
    {
     "data": {
      "text/plain": [
       "0"
      ]
     },
     "execution_count": 8,
     "metadata": {},
     "output_type": "execute_result"
    }
   ],
   "source": [
    "d['a']"
   ]
  },
  {
   "cell_type": "code",
   "execution_count": 9,
   "id": "c6ae2f9b-e72c-423c-8a3d-51b3cdf9546c",
   "metadata": {},
   "outputs": [],
   "source": [
    "d['a'] = 42"
   ]
  },
  {
   "cell_type": "code",
   "execution_count": 10,
   "id": "20fef3f7-50b5-45ce-ab96-a9822356b5d7",
   "metadata": {},
   "outputs": [
    {
     "data": {
      "text/plain": [
       "42"
      ]
     },
     "execution_count": 10,
     "metadata": {},
     "output_type": "execute_result"
    }
   ],
   "source": [
    "d['a']"
   ]
  },
  {
   "cell_type": "code",
   "execution_count": 11,
   "id": "7a1fb2ef-9c86-4ed3-99a5-fa1f64a3f76e",
   "metadata": {},
   "outputs": [
    {
     "data": {
      "text/plain": [
       "0"
      ]
     },
     "execution_count": 11,
     "metadata": {},
     "output_type": "execute_result"
    }
   ],
   "source": [
    "d['b']"
   ]
  },
  {
   "cell_type": "code",
   "execution_count": 12,
   "id": "34b657f1-c681-461b-9025-5c07d20d47ee",
   "metadata": {},
   "outputs": [],
   "source": [
    "d['b'] = \"test\""
   ]
  },
  {
   "cell_type": "code",
   "execution_count": 13,
   "id": "686b2c3d-6ad8-4a37-b6fd-7cd46d6de682",
   "metadata": {},
   "outputs": [
    {
     "data": {
      "text/plain": [
       "'test'"
      ]
     },
     "execution_count": 13,
     "metadata": {},
     "output_type": "execute_result"
    }
   ],
   "source": [
    "d['b']"
   ]
  },
  {
   "cell_type": "code",
   "execution_count": 14,
   "id": "354e7a7d-6ace-44e7-9c2d-15fcd9fa1e52",
   "metadata": {},
   "outputs": [
    {
     "data": {
      "text/plain": [
       "0"
      ]
     },
     "execution_count": 14,
     "metadata": {},
     "output_type": "execute_result"
    }
   ],
   "source": [
    "d['c']"
   ]
  },
  {
   "cell_type": "code",
   "execution_count": 15,
   "id": "cd7e1536-77a5-4fd6-8b22-d5c71556c5be",
   "metadata": {},
   "outputs": [],
   "source": [
    "qualified_students = defaultdict(bool)"
   ]
  },
  {
   "cell_type": "code",
   "execution_count": 16,
   "id": "bc16402d-fd42-4477-a483-d698bc66ab49",
   "metadata": {},
   "outputs": [
    {
     "data": {
      "text/plain": [
       "False"
      ]
     },
     "execution_count": 16,
     "metadata": {},
     "output_type": "execute_result"
    }
   ],
   "source": [
    "qualified_students['Henry']"
   ]
  },
  {
   "cell_type": "code",
   "execution_count": 17,
   "id": "19651477-1703-4cb6-8aa3-13a0ba3e3a57",
   "metadata": {},
   "outputs": [],
   "source": [
    "qualified_students['Henry'] = {'a': 42}"
   ]
  },
  {
   "cell_type": "code",
   "execution_count": 18,
   "id": "c97202f4-e229-4261-a453-ce158b1a5d37",
   "metadata": {},
   "outputs": [
    {
     "name": "stdout",
     "output_type": "stream",
     "text": [
      "{'a': 42}\n"
     ]
    }
   ],
   "source": [
    "if qualified_students['Henry']:\n",
    "    print(qualified_students['Henry'])"
   ]
  },
  {
   "cell_type": "code",
   "execution_count": 19,
   "id": "9fd90e90-0a5d-45da-be0a-57e72e6c1f35",
   "metadata": {},
   "outputs": [],
   "source": [
    "d = defaultdict(list)"
   ]
  },
  {
   "cell_type": "code",
   "execution_count": 20,
   "id": "f0ad33c6-1b32-489f-b25d-31043d445107",
   "metadata": {},
   "outputs": [
    {
     "data": {
      "text/plain": [
       "[]"
      ]
     },
     "execution_count": 20,
     "metadata": {},
     "output_type": "execute_result"
    }
   ],
   "source": [
    "d['a']"
   ]
  },
  {
   "cell_type": "code",
   "execution_count": 21,
   "id": "0131457a-b6e9-4d10-9463-98e2ca0129fb",
   "metadata": {},
   "outputs": [],
   "source": [
    "p = {}"
   ]
  },
  {
   "cell_type": "code",
   "execution_count": 22,
   "id": "f6a8cb38-1bde-4041-a36a-d894223edeba",
   "metadata": {},
   "outputs": [
    {
     "ename": "KeyError",
     "evalue": "'a'",
     "output_type": "error",
     "traceback": [
      "\u001b[0;31m---------------------------------------------------------------------------\u001b[0m",
      "\u001b[0;31mKeyError\u001b[0m                                  Traceback (most recent call last)",
      "Input \u001b[0;32mIn [22]\u001b[0m, in \u001b[0;36m<cell line: 1>\u001b[0;34m()\u001b[0m\n\u001b[0;32m----> 1\u001b[0m \u001b[43mp\u001b[49m\u001b[43m[\u001b[49m\u001b[38;5;124;43m'\u001b[39;49m\u001b[38;5;124;43ma\u001b[39;49m\u001b[38;5;124;43m'\u001b[39;49m\u001b[43m]\u001b[49m\n",
      "\u001b[0;31mKeyError\u001b[0m: 'a'"
     ]
    }
   ],
   "source": [
    "p['a']"
   ]
  },
  {
   "cell_type": "code",
   "execution_count": 23,
   "id": "41eea2a1-5323-42ec-9085-5b35949c4bca",
   "metadata": {},
   "outputs": [],
   "source": [
    "if 'a' not in p:\n",
    "    p['a'] = []"
   ]
  },
  {
   "cell_type": "code",
   "execution_count": 24,
   "id": "d8468e7d-88f0-4b3b-80c8-9e49c04b26ee",
   "metadata": {},
   "outputs": [],
   "source": [
    "p['a'].append(42)"
   ]
  },
  {
   "cell_type": "code",
   "execution_count": 25,
   "id": "975edc3e-d2d9-4745-930d-5ed0778fb465",
   "metadata": {},
   "outputs": [],
   "source": [
    "d['a'].append(42)"
   ]
  },
  {
   "cell_type": "markdown",
   "id": "f6ea6072-a048-4c6a-83ea-9ca51a9e4bac",
   "metadata": {},
   "source": [
    "## Generators"
   ]
  },
  {
   "cell_type": "code",
   "execution_count": 26,
   "id": "3d10d716-b8ad-43fa-82a5-2e851dd3e5cd",
   "metadata": {},
   "outputs": [],
   "source": [
    "a = [1, 2, 12, 24, 42]"
   ]
  },
  {
   "cell_type": "code",
   "execution_count": 27,
   "id": "197db44f-ee53-4291-b44e-59cd701c44d8",
   "metadata": {},
   "outputs": [],
   "source": [
    "b = iter(a)"
   ]
  },
  {
   "cell_type": "code",
   "execution_count": 28,
   "id": "0dcb2b90-310b-4288-afa5-fad6b6fb95fe",
   "metadata": {},
   "outputs": [
    {
     "data": {
      "text/plain": [
       "1"
      ]
     },
     "execution_count": 28,
     "metadata": {},
     "output_type": "execute_result"
    }
   ],
   "source": [
    "next(b)"
   ]
  },
  {
   "cell_type": "code",
   "execution_count": 31,
   "id": "c014b4e5-7bce-4882-8026-384bad24ba36",
   "metadata": {},
   "outputs": [
    {
     "data": {
      "text/plain": [
       "2"
      ]
     },
     "execution_count": 31,
     "metadata": {},
     "output_type": "execute_result"
    }
   ],
   "source": [
    "next(b)"
   ]
  },
  {
   "cell_type": "code",
   "execution_count": 32,
   "id": "f3c58438-e2c5-423f-b48a-e9d054a1d08c",
   "metadata": {},
   "outputs": [
    {
     "data": {
      "text/plain": [
       "12"
      ]
     },
     "execution_count": 32,
     "metadata": {},
     "output_type": "execute_result"
    }
   ],
   "source": [
    "next(b)"
   ]
  },
  {
   "cell_type": "code",
   "execution_count": 33,
   "id": "fc115af8-0f68-43eb-a20a-a1a5fdbbf266",
   "metadata": {},
   "outputs": [
    {
     "data": {
      "text/plain": [
       "24"
      ]
     },
     "execution_count": 33,
     "metadata": {},
     "output_type": "execute_result"
    }
   ],
   "source": [
    "next(b)"
   ]
  },
  {
   "cell_type": "code",
   "execution_count": 34,
   "id": "3b674190-66f1-492e-9c39-a1a81b70bb84",
   "metadata": {},
   "outputs": [
    {
     "data": {
      "text/plain": [
       "42"
      ]
     },
     "execution_count": 34,
     "metadata": {},
     "output_type": "execute_result"
    }
   ],
   "source": [
    "next(b)"
   ]
  },
  {
   "cell_type": "code",
   "execution_count": 35,
   "id": "55ae88c5-1e81-4c5d-8a8d-108b44d3eeb7",
   "metadata": {},
   "outputs": [
    {
     "ename": "StopIteration",
     "evalue": "",
     "output_type": "error",
     "traceback": [
      "\u001b[0;31m---------------------------------------------------------------------------\u001b[0m",
      "\u001b[0;31mStopIteration\u001b[0m                             Traceback (most recent call last)",
      "Input \u001b[0;32mIn [35]\u001b[0m, in \u001b[0;36m<cell line: 1>\u001b[0;34m()\u001b[0m\n\u001b[0;32m----> 1\u001b[0m \u001b[38;5;28;43mnext\u001b[39;49m\u001b[43m(\u001b[49m\u001b[43mb\u001b[49m\u001b[43m)\u001b[49m\n",
      "\u001b[0;31mStopIteration\u001b[0m: "
     ]
    }
   ],
   "source": [
    "next(b)"
   ]
  },
  {
   "cell_type": "code",
   "execution_count": 36,
   "id": "abd51433-06dc-4995-8dc1-2be87c868bd1",
   "metadata": {},
   "outputs": [
    {
     "data": {
      "text/plain": [
       "<list_iterator at 0x1057a67f0>"
      ]
     },
     "execution_count": 36,
     "metadata": {},
     "output_type": "execute_result"
    }
   ],
   "source": [
    "b"
   ]
  },
  {
   "cell_type": "code",
   "execution_count": 37,
   "id": "29b4c69c-37c9-4090-a0f8-5501fc7dd0f3",
   "metadata": {},
   "outputs": [
    {
     "ename": "StopIteration",
     "evalue": "",
     "output_type": "error",
     "traceback": [
      "\u001b[0;31m---------------------------------------------------------------------------\u001b[0m",
      "\u001b[0;31mStopIteration\u001b[0m                             Traceback (most recent call last)",
      "Input \u001b[0;32mIn [37]\u001b[0m, in \u001b[0;36m<cell line: 1>\u001b[0;34m()\u001b[0m\n\u001b[0;32m----> 1\u001b[0m \u001b[38;5;28;43mnext\u001b[39;49m\u001b[43m(\u001b[49m\u001b[43mb\u001b[49m\u001b[43m)\u001b[49m\n",
      "\u001b[0;31mStopIteration\u001b[0m: "
     ]
    }
   ],
   "source": [
    "next(b)"
   ]
  },
  {
   "cell_type": "code",
   "execution_count": 38,
   "id": "c48c484b-fa9d-440a-b9f8-9e11eb01ffce",
   "metadata": {},
   "outputs": [],
   "source": [
    "def factorial(n):\n",
    "    if n == 1 or n == 0:\n",
    "        return 1\n",
    "    return n * factorial(n-1)"
   ]
  },
  {
   "cell_type": "code",
   "execution_count": 39,
   "id": "810c1d02-986f-4fa4-9ac9-5e94949241cb",
   "metadata": {},
   "outputs": [
    {
     "data": {
      "text/plain": [
       "479001600"
      ]
     },
     "execution_count": 39,
     "metadata": {},
     "output_type": "execute_result"
    }
   ],
   "source": [
    "factorial(12)"
   ]
  },
  {
   "cell_type": "code",
   "execution_count": 40,
   "id": "7692fbb9-0cea-4938-ad63-012c385ffd7a",
   "metadata": {},
   "outputs": [],
   "source": [
    "def foo():\n",
    "    a = 42\n",
    "    yield a\n",
    "    a += 24\n",
    "    yield a\n",
    "    a += 12\n",
    "    yield a\n",
    "    print(\"here\")\n",
    "    yield \"Bye Bye\""
   ]
  },
  {
   "cell_type": "code",
   "execution_count": 41,
   "id": "bcf863f7-582c-4a9d-81ec-85cd83ee7c4c",
   "metadata": {},
   "outputs": [],
   "source": [
    "f = foo()"
   ]
  },
  {
   "cell_type": "code",
   "execution_count": 42,
   "id": "bf78b782-84da-47b2-8c0b-e62a15e02d76",
   "metadata": {},
   "outputs": [
    {
     "data": {
      "text/plain": [
       "<generator object foo at 0x105aa97b0>"
      ]
     },
     "execution_count": 42,
     "metadata": {},
     "output_type": "execute_result"
    }
   ],
   "source": [
    "f"
   ]
  },
  {
   "cell_type": "code",
   "execution_count": 43,
   "id": "62e79f2f-0b4a-4775-9544-fd610dd2016c",
   "metadata": {},
   "outputs": [
    {
     "data": {
      "text/plain": [
       "42"
      ]
     },
     "execution_count": 43,
     "metadata": {},
     "output_type": "execute_result"
    }
   ],
   "source": [
    "next(f)"
   ]
  },
  {
   "cell_type": "code",
   "execution_count": 44,
   "id": "f0cf376c-c257-4bcd-aed3-646cfceed4f1",
   "metadata": {},
   "outputs": [
    {
     "data": {
      "text/plain": [
       "66"
      ]
     },
     "execution_count": 44,
     "metadata": {},
     "output_type": "execute_result"
    }
   ],
   "source": [
    "next(f)"
   ]
  },
  {
   "cell_type": "code",
   "execution_count": 45,
   "id": "299ceb50-9721-41a9-9ee2-f5e43123dec7",
   "metadata": {},
   "outputs": [
    {
     "data": {
      "text/plain": [
       "78"
      ]
     },
     "execution_count": 45,
     "metadata": {},
     "output_type": "execute_result"
    }
   ],
   "source": [
    "next(f)"
   ]
  },
  {
   "cell_type": "code",
   "execution_count": 46,
   "id": "20d79a57-abce-4fe4-84b5-6a48bf41d501",
   "metadata": {},
   "outputs": [
    {
     "name": "stdout",
     "output_type": "stream",
     "text": [
      "here\n"
     ]
    },
    {
     "data": {
      "text/plain": [
       "'Bye Bye'"
      ]
     },
     "execution_count": 46,
     "metadata": {},
     "output_type": "execute_result"
    }
   ],
   "source": [
    "next(f)"
   ]
  },
  {
   "cell_type": "code",
   "execution_count": 47,
   "id": "e1a0c1ea-83aa-4ea7-8df5-a9dd5ba7e80e",
   "metadata": {},
   "outputs": [
    {
     "ename": "StopIteration",
     "evalue": "",
     "output_type": "error",
     "traceback": [
      "\u001b[0;31m---------------------------------------------------------------------------\u001b[0m",
      "\u001b[0;31mStopIteration\u001b[0m                             Traceback (most recent call last)",
      "Input \u001b[0;32mIn [47]\u001b[0m, in \u001b[0;36m<cell line: 1>\u001b[0;34m()\u001b[0m\n\u001b[0;32m----> 1\u001b[0m \u001b[38;5;28;43mnext\u001b[39;49m\u001b[43m(\u001b[49m\u001b[43mf\u001b[49m\u001b[43m)\u001b[49m\n",
      "\u001b[0;31mStopIteration\u001b[0m: "
     ]
    }
   ],
   "source": [
    "next(f)"
   ]
  },
  {
   "cell_type": "code",
   "execution_count": 48,
   "id": "5241d0d5-614b-4585-94cf-27b4f9ea2cc7",
   "metadata": {},
   "outputs": [
    {
     "data": {
      "text/plain": [
       "<generator object foo at 0x105aa97b0>"
      ]
     },
     "execution_count": 48,
     "metadata": {},
     "output_type": "execute_result"
    }
   ],
   "source": [
    "iter(f)"
   ]
  },
  {
   "cell_type": "code",
   "execution_count": 49,
   "id": "d38b4ae4-da70-413d-830d-fb0ca6cb5092",
   "metadata": {},
   "outputs": [
    {
     "data": {
      "text/plain": [
       "True"
      ]
     },
     "execution_count": 49,
     "metadata": {},
     "output_type": "execute_result"
    }
   ],
   "source": [
    "iter(f) is f"
   ]
  },
  {
   "cell_type": "code",
   "execution_count": 50,
   "id": "fce3c5a2-0e3f-4ed3-bd7f-24c1888edf0c",
   "metadata": {},
   "outputs": [
    {
     "name": "stdout",
     "output_type": "stream",
     "text": [
      "42\n",
      "66\n",
      "78\n",
      "here\n",
      "Bye Bye\n"
     ]
    }
   ],
   "source": [
    "for i in foo():\n",
    "    print(i)"
   ]
  },
  {
   "cell_type": "code",
   "execution_count": 51,
   "id": "02018a5c-7494-4601-862b-a16c621827d3",
   "metadata": {},
   "outputs": [
    {
     "data": {
      "text/plain": [
       "<generator object foo at 0x105aa9f90>"
      ]
     },
     "execution_count": 51,
     "metadata": {},
     "output_type": "execute_result"
    }
   ],
   "source": [
    "foo()"
   ]
  },
  {
   "cell_type": "code",
   "execution_count": 52,
   "id": "093da938-55e5-4596-aa90-74acd36a7020",
   "metadata": {},
   "outputs": [
    {
     "data": {
      "text/plain": [
       "<map at 0x104226ee0>"
      ]
     },
     "execution_count": 52,
     "metadata": {},
     "output_type": "execute_result"
    }
   ],
   "source": [
    "map(lambda x: x*2, [1, 2, 3])"
   ]
  },
  {
   "cell_type": "code",
   "execution_count": 53,
   "id": "288022da-d82d-4c5f-b030-f169ed28ff1d",
   "metadata": {},
   "outputs": [
    {
     "name": "stdout",
     "output_type": "stream",
     "text": [
      "2\n",
      "4\n",
      "6\n"
     ]
    }
   ],
   "source": [
    "for i in map(lambda x: x*2, [1, 2, 3]):\n",
    "    print(i)"
   ]
  },
  {
   "cell_type": "code",
   "execution_count": 54,
   "id": "e0e7bbf9-6592-4e8a-90e7-ce05b28cc73d",
   "metadata": {},
   "outputs": [],
   "source": [
    "m = map(lambda x: x*2, [1, 2, 3])"
   ]
  },
  {
   "cell_type": "code",
   "execution_count": 55,
   "id": "1ec5bfc7-231c-4980-a249-b0ba6adfc5e0",
   "metadata": {},
   "outputs": [
    {
     "data": {
      "text/plain": [
       "<map at 0x10578bd00>"
      ]
     },
     "execution_count": 55,
     "metadata": {},
     "output_type": "execute_result"
    }
   ],
   "source": [
    "m"
   ]
  },
  {
   "cell_type": "code",
   "execution_count": 56,
   "id": "054aecf8-adfe-4a8d-bbf8-5983dd7b3250",
   "metadata": {},
   "outputs": [
    {
     "data": {
      "text/plain": [
       "<map at 0x10578bd00>"
      ]
     },
     "execution_count": 56,
     "metadata": {},
     "output_type": "execute_result"
    }
   ],
   "source": [
    "iter(m)"
   ]
  },
  {
   "cell_type": "code",
   "execution_count": 57,
   "id": "9bd6fc0b-0f7b-40d9-84f3-2f7cfb5785e8",
   "metadata": {},
   "outputs": [
    {
     "data": {
      "text/plain": [
       "True"
      ]
     },
     "execution_count": 57,
     "metadata": {},
     "output_type": "execute_result"
    }
   ],
   "source": [
    "m is iter(m)"
   ]
  },
  {
   "cell_type": "code",
   "execution_count": 58,
   "id": "8c0c86ea-3472-4a16-9fde-0b6cc78ad51a",
   "metadata": {},
   "outputs": [
    {
     "data": {
      "text/plain": [
       "2"
      ]
     },
     "execution_count": 58,
     "metadata": {},
     "output_type": "execute_result"
    }
   ],
   "source": [
    "next(m)"
   ]
  },
  {
   "cell_type": "code",
   "execution_count": 59,
   "id": "2aff86b1-c5e2-4558-b3d9-cf0a91bbf8a4",
   "metadata": {},
   "outputs": [
    {
     "data": {
      "text/plain": [
       "4"
      ]
     },
     "execution_count": 59,
     "metadata": {},
     "output_type": "execute_result"
    }
   ],
   "source": [
    "next(m)"
   ]
  },
  {
   "cell_type": "code",
   "execution_count": 60,
   "id": "0a47b04b-f61b-413f-9d61-dc29a29cc892",
   "metadata": {},
   "outputs": [
    {
     "data": {
      "text/plain": [
       "6"
      ]
     },
     "execution_count": 60,
     "metadata": {},
     "output_type": "execute_result"
    }
   ],
   "source": [
    "next(m)"
   ]
  },
  {
   "cell_type": "code",
   "execution_count": 61,
   "id": "2da4742d-2fc5-434e-9e28-73b991b215da",
   "metadata": {},
   "outputs": [
    {
     "ename": "StopIteration",
     "evalue": "",
     "output_type": "error",
     "traceback": [
      "\u001b[0;31m---------------------------------------------------------------------------\u001b[0m",
      "\u001b[0;31mStopIteration\u001b[0m                             Traceback (most recent call last)",
      "Input \u001b[0;32mIn [61]\u001b[0m, in \u001b[0;36m<cell line: 1>\u001b[0;34m()\u001b[0m\n\u001b[0;32m----> 1\u001b[0m \u001b[38;5;28;43mnext\u001b[39;49m\u001b[43m(\u001b[49m\u001b[43mm\u001b[49m\u001b[43m)\u001b[49m\n",
      "\u001b[0;31mStopIteration\u001b[0m: "
     ]
    }
   ],
   "source": [
    "next(m)"
   ]
  },
  {
   "cell_type": "code",
   "execution_count": 62,
   "id": "f198875f-79ad-44b7-9667-2b99197babfa",
   "metadata": {},
   "outputs": [],
   "source": [
    "def foo():\n",
    "    a = 42\n",
    "    yield a\n",
    "    a += 24\n",
    "    yield a\n",
    "    a += 12\n",
    "    yield a\n",
    "    print(\"here\")\n",
    "    yield \"Bye Bye\""
   ]
  },
  {
   "cell_type": "code",
   "execution_count": 63,
   "id": "8ffb4164-99f9-43f3-9380-6ba39bb97b88",
   "metadata": {},
   "outputs": [],
   "source": [
    "def foo(name):\n",
    "    a = 42\n",
    "    yield a\n",
    "    a += 24\n",
    "    yield a\n",
    "    a += 12\n",
    "    yield a\n",
    "    print(name)\n",
    "    yield \"Bye Bye\""
   ]
  },
  {
   "cell_type": "code",
   "execution_count": 65,
   "id": "32fba8f5-d349-4dd2-8556-4ff2660650b1",
   "metadata": {},
   "outputs": [
    {
     "name": "stdout",
     "output_type": "stream",
     "text": [
      "42\n",
      "66\n",
      "78\n",
      "Adam\n",
      "Bye Bye\n"
     ]
    }
   ],
   "source": [
    "for i in foo(\"Adam\"):\n",
    "    print(i)"
   ]
  },
  {
   "cell_type": "code",
   "execution_count": 69,
   "id": "20592933-57f3-4c0d-bf64-9830b4273736",
   "metadata": {},
   "outputs": [],
   "source": [
    "from itertools import count as infinite_counter"
   ]
  },
  {
   "cell_type": "code",
   "execution_count": 70,
   "id": "7058bdfc-6a37-401e-a57a-4728888f5f68",
   "metadata": {},
   "outputs": [],
   "source": [
    "def factorial():\n",
    "    res = 1\n",
    "    for i in infinite_counter(2):\n",
    "        yield res\n",
    "        res *= i"
   ]
  },
  {
   "cell_type": "code",
   "execution_count": 78,
   "id": "83743ad0-dd73-4d8a-998d-85d15983e508",
   "metadata": {},
   "outputs": [],
   "source": [
    "def factorial(n):\n",
    "    res = 1\n",
    "    for i in range(1, n+1):\n",
    "        yield res\n",
    "        res *= i"
   ]
  },
  {
   "cell_type": "code",
   "execution_count": 82,
   "id": "770f0801-aefa-485b-80ea-1d3390394eac",
   "metadata": {},
   "outputs": [
    {
     "name": "stdout",
     "output_type": "stream",
     "text": [
      "0 1\n",
      "1 1\n",
      "2 2\n",
      "3 6\n",
      "4 24\n",
      "5 120\n",
      "6 720\n",
      "7 5040\n",
      "8 40320\n",
      "9 362880\n",
      "10 3628800\n",
      "11 39916800\n",
      "12 479001600\n",
      "13 6227020800\n",
      "14 87178291200\n",
      "15 1307674368000\n",
      "16 20922789888000\n",
      "17 355687428096000\n",
      "18 6402373705728000\n",
      "19 121645100408832000\n"
     ]
    }
   ],
   "source": [
    "for idx, val in enumerate(factorial(20)):\n",
    "    print(idx, val)"
   ]
  },
  {
   "cell_type": "code",
   "execution_count": 83,
   "id": "c97320de-9fa8-4f7a-a58e-408afc9cbc9c",
   "metadata": {},
   "outputs": [],
   "source": [
    "a = range(10)"
   ]
  },
  {
   "cell_type": "code",
   "execution_count": 84,
   "id": "81a5cc88-9b9b-4a89-a5c3-a3c885feafa1",
   "metadata": {},
   "outputs": [
    {
     "data": {
      "text/plain": [
       "range(0, 10)"
      ]
     },
     "execution_count": 84,
     "metadata": {},
     "output_type": "execute_result"
    }
   ],
   "source": [
    "a"
   ]
  },
  {
   "cell_type": "code",
   "execution_count": 85,
   "id": "b2b2540b-7e4f-47ea-bab7-23b60428fd33",
   "metadata": {},
   "outputs": [
    {
     "data": {
      "text/plain": [
       "False"
      ]
     },
     "execution_count": 85,
     "metadata": {},
     "output_type": "execute_result"
    }
   ],
   "source": [
    "iter(a) is a"
   ]
  },
  {
   "cell_type": "code",
   "execution_count": 87,
   "id": "b89cee56-4e03-4e1c-a43b-297405203875",
   "metadata": {},
   "outputs": [],
   "source": [
    "r = iter(a)"
   ]
  },
  {
   "cell_type": "code",
   "execution_count": 88,
   "id": "c95e3ca7-baf1-44ce-aac3-34f977e346f6",
   "metadata": {},
   "outputs": [
    {
     "data": {
      "text/plain": [
       "0"
      ]
     },
     "execution_count": 88,
     "metadata": {},
     "output_type": "execute_result"
    }
   ],
   "source": [
    "next(r)"
   ]
  },
  {
   "cell_type": "code",
   "execution_count": 89,
   "id": "1f0d9792-6da0-425e-9920-354c89e2e207",
   "metadata": {},
   "outputs": [
    {
     "data": {
      "text/plain": [
       "1"
      ]
     },
     "execution_count": 89,
     "metadata": {},
     "output_type": "execute_result"
    }
   ],
   "source": [
    "next(r)"
   ]
  },
  {
   "cell_type": "code",
   "execution_count": 90,
   "id": "1bf776ed-bb5d-485c-8c4d-395db820708b",
   "metadata": {},
   "outputs": [],
   "source": [
    "def foo():\n",
    "    n = 42\n",
    "    yield n\n",
    "    n += 12\n",
    "    yield n\n",
    "    n += 24\n",
    "    return n"
   ]
  },
  {
   "cell_type": "code",
   "execution_count": 91,
   "id": "3abdbc0f-5398-485f-af35-41706372f445",
   "metadata": {},
   "outputs": [],
   "source": [
    "a = foo()"
   ]
  },
  {
   "cell_type": "code",
   "execution_count": 92,
   "id": "5668d94d-50dc-4612-8bf0-9e53537329d2",
   "metadata": {},
   "outputs": [
    {
     "data": {
      "text/plain": [
       "<generator object foo at 0x10415f190>"
      ]
     },
     "execution_count": 92,
     "metadata": {},
     "output_type": "execute_result"
    }
   ],
   "source": [
    "a"
   ]
  },
  {
   "cell_type": "code",
   "execution_count": 93,
   "id": "48af964c-63ae-443a-a858-fdf8d29e0b6f",
   "metadata": {},
   "outputs": [
    {
     "name": "stdout",
     "output_type": "stream",
     "text": [
      "42\n",
      "54\n"
     ]
    }
   ],
   "source": [
    "for i in foo():\n",
    "    print(i)"
   ]
  },
  {
   "cell_type": "code",
   "execution_count": 97,
   "id": "9303dde6-db17-4478-aa8a-bd9782c37242",
   "metadata": {},
   "outputs": [
    {
     "data": {
      "text/plain": [
       "42"
      ]
     },
     "execution_count": 97,
     "metadata": {},
     "output_type": "execute_result"
    }
   ],
   "source": [
    "next(a)"
   ]
  },
  {
   "cell_type": "code",
   "execution_count": 98,
   "id": "4df08007-d198-4743-b62a-330dafb23c4e",
   "metadata": {},
   "outputs": [
    {
     "data": {
      "text/plain": [
       "54"
      ]
     },
     "execution_count": 98,
     "metadata": {},
     "output_type": "execute_result"
    }
   ],
   "source": [
    "next(a)"
   ]
  },
  {
   "cell_type": "code",
   "execution_count": 99,
   "id": "577fca77-0d92-42b4-af9c-2e9331321eff",
   "metadata": {},
   "outputs": [
    {
     "ename": "StopIteration",
     "evalue": "78",
     "output_type": "error",
     "traceback": [
      "\u001b[0;31m---------------------------------------------------------------------------\u001b[0m",
      "\u001b[0;31mStopIteration\u001b[0m                             Traceback (most recent call last)",
      "Input \u001b[0;32mIn [99]\u001b[0m, in \u001b[0;36m<cell line: 1>\u001b[0;34m()\u001b[0m\n\u001b[0;32m----> 1\u001b[0m \u001b[38;5;28;43mnext\u001b[39;49m\u001b[43m(\u001b[49m\u001b[43ma\u001b[49m\u001b[43m)\u001b[49m\n",
      "\u001b[0;31mStopIteration\u001b[0m: 78"
     ]
    }
   ],
   "source": [
    "next(a)"
   ]
  },
  {
   "cell_type": "code",
   "execution_count": 100,
   "id": "a7cb59a0-bba2-47c6-80cf-1a4d67a416b2",
   "metadata": {},
   "outputs": [
    {
     "data": {
      "text/plain": [
       "<generator object foo at 0x10415f190>"
      ]
     },
     "execution_count": 100,
     "metadata": {},
     "output_type": "execute_result"
    }
   ],
   "source": [
    "a"
   ]
  },
  {
   "cell_type": "code",
   "execution_count": 102,
   "id": "e28c3dff-54a6-4d02-9033-59531ec82022",
   "metadata": {},
   "outputs": [],
   "source": [
    "for i in a:\n",
    "    print(i)"
   ]
  },
  {
   "cell_type": "code",
   "execution_count": 104,
   "id": "a2ea5f7b-b147-486a-a18a-183d6da7d791",
   "metadata": {},
   "outputs": [],
   "source": [
    "a = [1, 2, 12, 24, 42]"
   ]
  },
  {
   "cell_type": "code",
   "execution_count": 105,
   "id": "f8eab651-ce49-4d69-958b-8b99c3456b2f",
   "metadata": {},
   "outputs": [
    {
     "data": {
      "text/plain": [
       "[1, 4, 144, 576, 1764]"
      ]
     },
     "execution_count": 105,
     "metadata": {},
     "output_type": "execute_result"
    }
   ],
   "source": [
    "[i**2 for i in a]"
   ]
  },
  {
   "cell_type": "code",
   "execution_count": 106,
   "id": "c962792f-72fd-4366-bc18-5b600bb1fcab",
   "metadata": {},
   "outputs": [],
   "source": [
    "def power_maker(numbers):\n",
    "    for i in numbers:\n",
    "        yield i**2"
   ]
  },
  {
   "cell_type": "code",
   "execution_count": 107,
   "id": "e17e0993-168d-46e6-8594-e7524d62365a",
   "metadata": {},
   "outputs": [
    {
     "name": "stdout",
     "output_type": "stream",
     "text": [
      "1\n",
      "4\n",
      "144\n",
      "576\n",
      "1764\n"
     ]
    }
   ],
   "source": [
    "for i in power_maker(a):\n",
    "    print(i)"
   ]
  },
  {
   "cell_type": "code",
   "execution_count": 108,
   "id": "43463297-d258-46ec-a1ad-6b4edc5cf35c",
   "metadata": {},
   "outputs": [
    {
     "name": "stdout",
     "output_type": "stream",
     "text": [
      "1\n",
      "4\n",
      "144\n",
      "576\n",
      "1764\n"
     ]
    }
   ],
   "source": [
    "for i in map(lambda x: x**2, a):\n",
    "    print(i)"
   ]
  },
  {
   "cell_type": "code",
   "execution_count": 109,
   "id": "cf7311ce-73b0-4dd6-ba41-49b554747738",
   "metadata": {},
   "outputs": [
    {
     "name": "stdout",
     "output_type": "stream",
     "text": [
      "1\n",
      "4\n",
      "144\n",
      "576\n",
      "1764\n"
     ]
    }
   ],
   "source": [
    "for i in [e**2 for e in a]:\n",
    "    print(i)"
   ]
  },
  {
   "cell_type": "code",
   "execution_count": 111,
   "id": "8256f85c-ea76-4567-b79c-2e8b78f87959",
   "metadata": {},
   "outputs": [],
   "source": [
    "import sys"
   ]
  },
  {
   "cell_type": "code",
   "execution_count": 144,
   "id": "f3d12695-6605-4ef0-bd93-f707da440103",
   "metadata": {},
   "outputs": [],
   "source": [
    "from random import randint"
   ]
  },
  {
   "cell_type": "code",
   "execution_count": 145,
   "id": "ea1fa4b4-230b-4814-a7c6-c000272f93fd",
   "metadata": {},
   "outputs": [],
   "source": [
    "a = [randint(1, 100) for _ in range(1000)]"
   ]
  },
  {
   "cell_type": "code",
   "execution_count": 147,
   "id": "a2a7e203-4f2b-4d2f-b0f6-07f46d6dddb0",
   "metadata": {},
   "outputs": [
    {
     "data": {
      "text/plain": [
       "8856"
      ]
     },
     "execution_count": 147,
     "metadata": {},
     "output_type": "execute_result"
    }
   ],
   "source": [
    "sys.getsizeof(a)"
   ]
  },
  {
   "cell_type": "code",
   "execution_count": 148,
   "id": "457088b5-90b3-46b9-8937-a78367be7824",
   "metadata": {},
   "outputs": [],
   "source": [
    "o_1 = [i**2 for i in a]"
   ]
  },
  {
   "cell_type": "code",
   "execution_count": 149,
   "id": "42dd3999-2183-4de0-882c-6de7adecf5aa",
   "metadata": {},
   "outputs": [
    {
     "data": {
      "text/plain": [
       "8856"
      ]
     },
     "execution_count": 149,
     "metadata": {},
     "output_type": "execute_result"
    }
   ],
   "source": [
    "sys.getsizeof(o_1)"
   ]
  },
  {
   "cell_type": "code",
   "execution_count": 150,
   "id": "ef4e26cf-1a7b-4e2c-9966-f78d4ce1623e",
   "metadata": {},
   "outputs": [],
   "source": [
    "o_2 = power_maker(a)"
   ]
  },
  {
   "cell_type": "code",
   "execution_count": 151,
   "id": "446a7cd4-93fe-4acf-a6ca-b0c916fb6bc0",
   "metadata": {},
   "outputs": [
    {
     "data": {
      "text/plain": [
       "112"
      ]
     },
     "execution_count": 151,
     "metadata": {},
     "output_type": "execute_result"
    }
   ],
   "source": [
    "sys.getsizeof(o_2)"
   ]
  },
  {
   "cell_type": "code",
   "execution_count": 152,
   "id": "5844a2ad-060f-4d66-a6c6-fd1e6554185d",
   "metadata": {},
   "outputs": [],
   "source": [
    "o_3 = map(lambda x: x**2, a)"
   ]
  },
  {
   "cell_type": "code",
   "execution_count": 154,
   "id": "b617fe64-d18f-483a-81b9-6db485f86e00",
   "metadata": {},
   "outputs": [
    {
     "data": {
      "text/plain": [
       "48"
      ]
     },
     "execution_count": 154,
     "metadata": {},
     "output_type": "execute_result"
    }
   ],
   "source": [
    "sys.getsizeof(o_3)"
   ]
  },
  {
   "cell_type": "code",
   "execution_count": 153,
   "id": "9679e176-6686-49f1-b701-5e4ba1118f4b",
   "metadata": {},
   "outputs": [],
   "source": [
    "o_4 = (i**2 for i in a)"
   ]
  },
  {
   "cell_type": "code",
   "execution_count": 155,
   "id": "8effd939-2a24-48c0-a04d-6a5951980d7d",
   "metadata": {},
   "outputs": [
    {
     "data": {
      "text/plain": [
       "112"
      ]
     },
     "execution_count": 155,
     "metadata": {},
     "output_type": "execute_result"
    }
   ],
   "source": [
    "sys.getsizeof(o_4)"
   ]
  },
  {
   "cell_type": "code",
   "execution_count": 157,
   "id": "383c9bf1-f201-47e5-b185-953245b9b648",
   "metadata": {},
   "outputs": [
    {
     "name": "stdout",
     "output_type": "stream",
     "text": [
      "1\n",
      "3\n",
      "5\n",
      "7\n",
      "9\n",
      "11\n",
      "13\n",
      "15\n",
      "17\n",
      "19\n"
     ]
    }
   ],
   "source": [
    "for i in range(1, 20, 2):\n",
    "    print(i)"
   ]
  },
  {
   "cell_type": "code",
   "execution_count": 158,
   "id": "42bb0050-fd20-4b5c-b443-aaa471962563",
   "metadata": {},
   "outputs": [
    {
     "name": "stdout",
     "output_type": "stream",
     "text": [
      "0\n",
      "1\n",
      "2\n",
      "3\n",
      "4\n",
      "5\n",
      "6\n",
      "7\n",
      "8\n",
      "9\n",
      "10\n",
      "11\n",
      "12\n",
      "13\n",
      "14\n",
      "15\n",
      "16\n",
      "17\n",
      "18\n",
      "19\n"
     ]
    }
   ],
   "source": [
    "for i in range(20):\n",
    "    print(i)"
   ]
  },
  {
   "cell_type": "code",
   "execution_count": 159,
   "id": "2765fabd-e05f-4ae8-803b-3befab9c9228",
   "metadata": {},
   "outputs": [],
   "source": [
    "def our_range(start, stop=None, step=1):\n",
    "    if stop is None:\n",
    "        start, stop = 0, start\n",
    "    while start < stop:\n",
    "        yield start\n",
    "        start += step"
   ]
  },
  {
   "cell_type": "code",
   "execution_count": 160,
   "id": "2223ea39-1ac7-44ad-ae61-e886d82bb258",
   "metadata": {},
   "outputs": [
    {
     "name": "stdout",
     "output_type": "stream",
     "text": [
      "1\n",
      "3\n",
      "5\n",
      "7\n",
      "9\n",
      "11\n",
      "13\n",
      "15\n",
      "17\n",
      "19\n"
     ]
    }
   ],
   "source": [
    "for i in our_range(1, 20, 2):\n",
    "    print(i)"
   ]
  },
  {
   "cell_type": "code",
   "execution_count": 162,
   "id": "72a28651-a30a-4875-87c2-c871c7f22af4",
   "metadata": {},
   "outputs": [
    {
     "name": "stdout",
     "output_type": "stream",
     "text": [
      "0\n",
      "1\n",
      "2\n",
      "3\n",
      "4\n",
      "5\n",
      "6\n",
      "7\n",
      "8\n",
      "9\n",
      "10\n",
      "11\n",
      "12\n",
      "13\n",
      "14\n",
      "15\n",
      "16\n",
      "17\n",
      "18\n",
      "19\n"
     ]
    }
   ],
   "source": [
    "for i in our_range(20):\n",
    "    print(i)"
   ]
  },
  {
   "cell_type": "code",
   "execution_count": 163,
   "id": "993fd3cc-0bfa-4713-9324-11ab82957908",
   "metadata": {},
   "outputs": [],
   "source": [
    "def our_count(n, step=1):\n",
    "    while True:\n",
    "        yield n\n",
    "        n += step"
   ]
  },
  {
   "cell_type": "code",
   "execution_count": 164,
   "id": "fea62a60-e59f-4dba-bb64-9b18dc780216",
   "metadata": {},
   "outputs": [
    {
     "name": "stdout",
     "output_type": "stream",
     "text": [
      "20\n",
      "22\n",
      "24\n",
      "26\n",
      "28\n",
      "30\n",
      "32\n",
      "34\n",
      "36\n",
      "38\n",
      "40\n",
      "42\n",
      "44\n",
      "46\n",
      "48\n",
      "50\n",
      "52\n",
      "54\n",
      "56\n",
      "58\n",
      "60\n"
     ]
    }
   ],
   "source": [
    "for i, e in enumerate(our_count(20, 2)):\n",
    "    print(e)\n",
    "    if i == 20:\n",
    "        break"
   ]
  },
  {
   "cell_type": "code",
   "execution_count": 171,
   "id": "4eb4960a-f47a-4600-bcc7-25d34d647eb9",
   "metadata": {},
   "outputs": [
    {
     "data": {
      "text/plain": [
       "1"
      ]
     },
     "execution_count": 171,
     "metadata": {},
     "output_type": "execute_result"
    }
   ],
   "source": [
    "iterables = ([1, 2, 3], [1, 2, 3, 4], [2, 3, 4], [1, 2, 3, 4, 5], [1])\n",
    "\n",
    "min(len(i) for i in iterables)"
   ]
  },
  {
   "cell_type": "code",
   "execution_count": 172,
   "id": "cb12ba26-0ed0-4209-9618-f8202322da84",
   "metadata": {},
   "outputs": [],
   "source": [
    "def our_zip(*iterables):\n",
    "    min_len = min(len(i) for i in iterables)\n",
    "\n",
    "    for i in our_range(min_len):\n",
    "        yield tuple(iterable[i] for iterable in iterables)"
   ]
  },
  {
   "cell_type": "code",
   "execution_count": 173,
   "id": "975107e5-90f9-4374-8f00-5cd633e1e26d",
   "metadata": {},
   "outputs": [
    {
     "name": "stdout",
     "output_type": "stream",
     "text": [
      "1 4\n",
      "2 5\n",
      "3 6\n"
     ]
    }
   ],
   "source": [
    "for x, y in our_zip([1, 2, 3], [4, 5, 6, 7]):\n",
    "    print(x, y)"
   ]
  },
  {
   "cell_type": "code",
   "execution_count": 174,
   "id": "26c5deb6-06e0-47ea-8248-e65f11208d6b",
   "metadata": {},
   "outputs": [],
   "source": [
    "def our_map(func, *iterables):\n",
    "    for params in zip(*iterables):\n",
    "        yield func(*params)"
   ]
  },
  {
   "cell_type": "code",
   "execution_count": 175,
   "id": "b0682dde-adb0-47b9-9444-d7db8ea5c5d0",
   "metadata": {},
   "outputs": [
    {
     "name": "stdout",
     "output_type": "stream",
     "text": [
      "1\n",
      "32\n",
      "729\n"
     ]
    }
   ],
   "source": [
    "for i in our_map(pow, [1, 2, 3], [4, 5, 6, 7]):\n",
    "    print(i)"
   ]
  },
  {
   "cell_type": "code",
   "execution_count": 177,
   "id": "cb0f46eb-bc35-4826-ae29-1e7b3dfcc105",
   "metadata": {},
   "outputs": [],
   "source": [
    "def our_filter(func, iterable):\n",
    "    for param in iterable:\n",
    "        if func(param):\n",
    "            yield param"
   ]
  },
  {
   "cell_type": "code",
   "execution_count": 180,
   "id": "87297420-8a58-4eeb-b518-44a5a139e0d6",
   "metadata": {},
   "outputs": [
    {
     "name": "stdout",
     "output_type": "stream",
     "text": [
      "2\n",
      "4\n"
     ]
    }
   ],
   "source": [
    "for i in our_filter(lambda x: x % 2 == 0, [1, 2, 3, 4, 5]):\n",
    "    print(i)"
   ]
  },
  {
   "cell_type": "code",
   "execution_count": null,
   "id": "0808bcad-1e0b-4ffa-b8fe-1d74f7d87c35",
   "metadata": {},
   "outputs": [],
   "source": []
  }
 ],
 "metadata": {
  "kernelspec": {
   "display_name": "Python 3 (ipykernel)",
   "language": "python",
   "name": "python3"
  },
  "language_info": {
   "codemirror_mode": {
    "name": "ipython",
    "version": 3
   },
   "file_extension": ".py",
   "mimetype": "text/x-python",
   "name": "python",
   "nbconvert_exporter": "python",
   "pygments_lexer": "ipython3",
   "version": "3.9.13"
  }
 },
 "nbformat": 4,
 "nbformat_minor": 5
}
