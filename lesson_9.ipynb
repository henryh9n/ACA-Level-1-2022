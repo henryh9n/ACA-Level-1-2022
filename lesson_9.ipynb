{
 "cells": [
  {
   "cell_type": "markdown",
   "id": "588ed9ac-1093-4bde-acef-2919f957445d",
   "metadata": {},
   "source": [
    "# Lesson 9 ~ Magic Methods"
   ]
  },
  {
   "cell_type": "code",
   "execution_count": 2,
   "id": "cdda198c-e4ae-41ec-9764-24d834a0faa8",
   "metadata": {},
   "outputs": [],
   "source": [
    "from functools import total_ordering"
   ]
  },
  {
   "cell_type": "code",
   "execution_count": 8,
   "id": "4e77e54b-a1f0-4295-b9a2-380f737b4850",
   "metadata": {},
   "outputs": [],
   "source": [
    "@total_ordering\n",
    "class Rectangle:\n",
    "    def __init__(self, width, length):\n",
    "        if width < 0 or length < 0:\n",
    "            raise Exception(\"width and length should be positive numbers\")\n",
    "        self.width = width\n",
    "        self.length = length\n",
    "    \n",
    "    def area(self):\n",
    "        return self.calculate_area(self.width, self.length)\n",
    "    \n",
    "    @staticmethod\n",
    "    def calculate_area(width, length):\n",
    "        return width * length\n",
    "    \n",
    "    def __repr__(self):\n",
    "        return f\"Rectangle({self.width}, {self.length})\"\n",
    "    \n",
    "    def __lt__(self, other):\n",
    "        return self.area() < other.area()\n",
    "    \n",
    "    def __eq__(self, other):\n",
    "        return self.area() == other.area()\n",
    "    \n",
    "    def __bool__(self):\n",
    "        return self.area() > 0"
   ]
  },
  {
   "cell_type": "code",
   "execution_count": 5,
   "id": "1b236e76-930a-4b60-8120-adfbafee78a3",
   "metadata": {},
   "outputs": [],
   "source": [
    "rectangle_1 = Rectangle(20, 50)"
   ]
  },
  {
   "cell_type": "code",
   "execution_count": 6,
   "id": "2d01f4d8-96eb-425c-82b3-7719c455e167",
   "metadata": {},
   "outputs": [
    {
     "name": "stdout",
     "output_type": "stream",
     "text": [
      "Rectangle(20, 50)\n"
     ]
    }
   ],
   "source": [
    "print(rectangle_1)"
   ]
  },
  {
   "cell_type": "code",
   "execution_count": 7,
   "id": "162fd019-c606-45b8-aa90-4e24204a6d7b",
   "metadata": {},
   "outputs": [
    {
     "data": {
      "text/plain": [
       "'Rectangle(20, 50)'"
      ]
     },
     "execution_count": 7,
     "metadata": {},
     "output_type": "execute_result"
    }
   ],
   "source": [
    "rectangle_1.__repr__()"
   ]
  },
  {
   "cell_type": "code",
   "execution_count": 13,
   "id": "cec1a155-4ec9-4d8a-a6f0-840c6eb8992a",
   "metadata": {},
   "outputs": [],
   "source": [
    "rectangle_2 = Rectangle(12, 24)"
   ]
  },
  {
   "cell_type": "code",
   "execution_count": 14,
   "id": "832c4016-96d6-485c-b018-1ec73600cbfd",
   "metadata": {},
   "outputs": [
    {
     "data": {
      "text/plain": [
       "False"
      ]
     },
     "execution_count": 14,
     "metadata": {},
     "output_type": "execute_result"
    }
   ],
   "source": [
    "rectangle_1 < rectangle_2"
   ]
  },
  {
   "cell_type": "code",
   "execution_count": 15,
   "id": "93be1891-bc0f-4240-8529-48ebe61119d9",
   "metadata": {},
   "outputs": [
    {
     "data": {
      "text/plain": [
       "1288"
      ]
     },
     "execution_count": 15,
     "metadata": {},
     "output_type": "execute_result"
    }
   ],
   "source": [
    "rectangle_1.area() + rectangle_2.area()"
   ]
  },
  {
   "cell_type": "code",
   "execution_count": 16,
   "id": "db810689-7f68-483c-b92a-fe339a4b600b",
   "metadata": {},
   "outputs": [
    {
     "ename": "TypeError",
     "evalue": "unsupported operand type(s) for +: 'Rectangle' and 'Rectangle'",
     "output_type": "error",
     "traceback": [
      "\u001b[0;31m---------------------------------------------------------------------------\u001b[0m",
      "\u001b[0;31mTypeError\u001b[0m                                 Traceback (most recent call last)",
      "Input \u001b[0;32mIn [16]\u001b[0m, in \u001b[0;36m<cell line: 1>\u001b[0;34m()\u001b[0m\n\u001b[0;32m----> 1\u001b[0m \u001b[43mrectangle_1\u001b[49m\u001b[43m \u001b[49m\u001b[38;5;241;43m+\u001b[39;49m\u001b[43m \u001b[49m\u001b[43mrectangle_2\u001b[49m\n",
      "\u001b[0;31mTypeError\u001b[0m: unsupported operand type(s) for +: 'Rectangle' and 'Rectangle'"
     ]
    }
   ],
   "source": [
    "rectangle_1 + rectangle_2"
   ]
  },
  {
   "cell_type": "code",
   "execution_count": 17,
   "id": "8b7d467e-cd72-4a4b-8533-f983bf6b28f7",
   "metadata": {},
   "outputs": [],
   "source": [
    "@total_ordering\n",
    "class Rectangle:\n",
    "    def __init__(self, width, length):\n",
    "        if width < 0 or length < 0:\n",
    "            raise Exception(\"width and length should be positive numbers\")\n",
    "        self.width = width\n",
    "        self.length = length\n",
    "    \n",
    "    def area(self):\n",
    "        return self.calculate_area(self.width, self.length)\n",
    "    \n",
    "    @staticmethod\n",
    "    def calculate_area(width, length):\n",
    "        return width * length\n",
    "    \n",
    "    def __repr__(self):\n",
    "        return f\"Rectangle({self.width}, {self.length})\"\n",
    "    \n",
    "    def __lt__(self, other):\n",
    "        return self.area() < other.area()\n",
    "    \n",
    "    def __eq__(self, other):\n",
    "        return self.area() == other.area()\n",
    "    \n",
    "    def __bool__(self):\n",
    "        return self.area() > 0\n",
    "    \n",
    "    def __add__(self, other):\n",
    "        return self.area() + other.area()"
   ]
  },
  {
   "cell_type": "code",
   "execution_count": 18,
   "id": "cb61ef8e-f79a-40c4-8d52-6fb47ff0e4f7",
   "metadata": {},
   "outputs": [],
   "source": [
    "rectangle_1 = Rectangle(20, 50)\n",
    "rectangle_2 = Rectangle(12, 24)"
   ]
  },
  {
   "cell_type": "code",
   "execution_count": 19,
   "id": "8a961f9c-fedc-4993-8f6a-a17c138601b2",
   "metadata": {},
   "outputs": [
    {
     "data": {
      "text/plain": [
       "1288"
      ]
     },
     "execution_count": 19,
     "metadata": {},
     "output_type": "execute_result"
    }
   ],
   "source": [
    "rectangle_1 + rectangle_2"
   ]
  },
  {
   "cell_type": "code",
   "execution_count": 21,
   "id": "74123252-33a6-4805-8505-e8986a28c57c",
   "metadata": {},
   "outputs": [
    {
     "data": {
      "text/plain": [
       "1000"
      ]
     },
     "execution_count": 21,
     "metadata": {},
     "output_type": "execute_result"
    }
   ],
   "source": [
    "rectangle_1.area()"
   ]
  },
  {
   "cell_type": "code",
   "execution_count": 22,
   "id": "e763554c-dfc7-49cd-a4d9-58a7bbcc7198",
   "metadata": {},
   "outputs": [
    {
     "ename": "AttributeError",
     "evalue": "'int' object has no attribute 'area'",
     "output_type": "error",
     "traceback": [
      "\u001b[0;31m---------------------------------------------------------------------------\u001b[0m",
      "\u001b[0;31mAttributeError\u001b[0m                            Traceback (most recent call last)",
      "Input \u001b[0;32mIn [22]\u001b[0m, in \u001b[0;36m<cell line: 1>\u001b[0;34m()\u001b[0m\n\u001b[0;32m----> 1\u001b[0m \u001b[43mrectangle_1\u001b[49m\u001b[43m \u001b[49m\u001b[38;5;241;43m+\u001b[39;49m\u001b[43m \u001b[49m\u001b[38;5;241;43m200\u001b[39;49m\n",
      "Input \u001b[0;32mIn [17]\u001b[0m, in \u001b[0;36mRectangle.__add__\u001b[0;34m(self, other)\u001b[0m\n\u001b[1;32m     28\u001b[0m \u001b[38;5;28;01mdef\u001b[39;00m \u001b[38;5;21m__add__\u001b[39m(\u001b[38;5;28mself\u001b[39m, other):\n\u001b[0;32m---> 29\u001b[0m     \u001b[38;5;28;01mreturn\u001b[39;00m \u001b[38;5;28mself\u001b[39m\u001b[38;5;241m.\u001b[39marea() \u001b[38;5;241m+\u001b[39m \u001b[43mother\u001b[49m\u001b[38;5;241;43m.\u001b[39;49m\u001b[43marea\u001b[49m()\n",
      "\u001b[0;31mAttributeError\u001b[0m: 'int' object has no attribute 'area'"
     ]
    }
   ],
   "source": [
    "rectangle_1 + 200"
   ]
  },
  {
   "cell_type": "code",
   "execution_count": 46,
   "id": "52192c1a-82cd-423a-a5a1-7c5708e96c30",
   "metadata": {},
   "outputs": [],
   "source": [
    "@total_ordering\n",
    "class Rectangle:\n",
    "    def __init__(self, width, length):\n",
    "        if width < 0 or length < 0:\n",
    "            raise Exception(\"width and length should be positive numbers\")\n",
    "        self.width = width\n",
    "        self.length = length\n",
    "    \n",
    "    def area(self):\n",
    "        return self.calculate_area(self.width, self.length)\n",
    "    \n",
    "    @staticmethod\n",
    "    def calculate_area(width, length):\n",
    "        return width * length\n",
    "    \n",
    "    def __repr__(self):\n",
    "        return f\"Rectangle({self.width}, {self.length})\"\n",
    "    \n",
    "    def __lt__(self, other):\n",
    "        return self.area() < other.area()\n",
    "    \n",
    "    def __eq__(self, other):\n",
    "        return self.area() == other.area()\n",
    "    \n",
    "    def __bool__(self):\n",
    "        return self.area() > 0\n",
    "    \n",
    "    def __add__(self, other):\n",
    "        if isinstance(other, (int, float)):\n",
    "            return self.area() + other\n",
    "        elif isinstance(other, self.__class__):\n",
    "            return self.area() + other.area()\n",
    "        else:\n",
    "            raise TypeError(f\"Can't add Rectangle with {other.__class__}\")"
   ]
  },
  {
   "cell_type": "code",
   "execution_count": 47,
   "id": "87c91424-00fa-4d79-a21e-9922bfab6d88",
   "metadata": {},
   "outputs": [],
   "source": [
    "rectangle_1 = Rectangle(20, 50)\n",
    "rectangle_2 = Rectangle(12, 24)"
   ]
  },
  {
   "cell_type": "code",
   "execution_count": 48,
   "id": "f94995cc-aa33-4d6a-9d62-9bf5b5fdb30b",
   "metadata": {},
   "outputs": [
    {
     "data": {
      "text/plain": [
       "1200"
      ]
     },
     "execution_count": 48,
     "metadata": {},
     "output_type": "execute_result"
    }
   ],
   "source": [
    "rectangle_1 + 200"
   ]
  },
  {
   "cell_type": "code",
   "execution_count": 49,
   "id": "3443a4ae-b9e9-4aa9-95c6-261cb8236135",
   "metadata": {},
   "outputs": [
    {
     "data": {
      "text/plain": [
       "1003.14"
      ]
     },
     "execution_count": 49,
     "metadata": {},
     "output_type": "execute_result"
    }
   ],
   "source": [
    "rectangle_1 + 3.14"
   ]
  },
  {
   "cell_type": "code",
   "execution_count": 50,
   "id": "117bd6fa-559c-4417-af91-3b6025fd280a",
   "metadata": {},
   "outputs": [
    {
     "data": {
      "text/plain": [
       "1288"
      ]
     },
     "execution_count": 50,
     "metadata": {},
     "output_type": "execute_result"
    }
   ],
   "source": [
    "rectangle_1 + rectangle_2"
   ]
  },
  {
   "cell_type": "code",
   "execution_count": 51,
   "id": "55bdefba-249e-48a0-99f8-566b55cb59c0",
   "metadata": {},
   "outputs": [
    {
     "ename": "TypeError",
     "evalue": "Can't add Rectangle with <class 'str'>",
     "output_type": "error",
     "traceback": [
      "\u001b[0;31m---------------------------------------------------------------------------\u001b[0m",
      "\u001b[0;31mTypeError\u001b[0m                                 Traceback (most recent call last)",
      "Input \u001b[0;32mIn [51]\u001b[0m, in \u001b[0;36m<cell line: 1>\u001b[0;34m()\u001b[0m\n\u001b[0;32m----> 1\u001b[0m \u001b[43mrectangle_1\u001b[49m\u001b[43m \u001b[49m\u001b[38;5;241;43m+\u001b[39;49m\u001b[43m \u001b[49m\u001b[38;5;124;43m\"\u001b[39;49m\u001b[38;5;124;43mtest\u001b[39;49m\u001b[38;5;124;43m\"\u001b[39;49m\n",
      "Input \u001b[0;32mIn [46]\u001b[0m, in \u001b[0;36mRectangle.__add__\u001b[0;34m(self, other)\u001b[0m\n\u001b[1;32m     32\u001b[0m     \u001b[38;5;28;01mreturn\u001b[39;00m \u001b[38;5;28mself\u001b[39m\u001b[38;5;241m.\u001b[39marea() \u001b[38;5;241m+\u001b[39m other\u001b[38;5;241m.\u001b[39marea()\n\u001b[1;32m     33\u001b[0m \u001b[38;5;28;01melse\u001b[39;00m:\n\u001b[0;32m---> 34\u001b[0m     \u001b[38;5;28;01mraise\u001b[39;00m \u001b[38;5;167;01mTypeError\u001b[39;00m(\u001b[38;5;124mf\u001b[39m\u001b[38;5;124m\"\u001b[39m\u001b[38;5;124mCan\u001b[39m\u001b[38;5;124m'\u001b[39m\u001b[38;5;124mt add Rectangle with \u001b[39m\u001b[38;5;132;01m{\u001b[39;00mother\u001b[38;5;241m.\u001b[39m\u001b[38;5;18m__class__\u001b[39m\u001b[38;5;132;01m}\u001b[39;00m\u001b[38;5;124m\"\u001b[39m)\n",
      "\u001b[0;31mTypeError\u001b[0m: Can't add Rectangle with <class 'str'>"
     ]
    }
   ],
   "source": [
    "rectangle_1 + \"test\""
   ]
  },
  {
   "cell_type": "code",
   "execution_count": 45,
   "id": "338a6d44-649b-441f-926a-76e541072583",
   "metadata": {},
   "outputs": [
    {
     "data": {
      "text/plain": [
       "True"
      ]
     },
     "execution_count": 45,
     "metadata": {},
     "output_type": "execute_result"
    }
   ],
   "source": [
    "isinstance(True, int)"
   ]
  },
  {
   "cell_type": "code",
   "execution_count": 52,
   "id": "66584b8c-995a-41c9-89c6-c81d2297d9dc",
   "metadata": {},
   "outputs": [
    {
     "data": {
      "text/plain": [
       "1200"
      ]
     },
     "execution_count": 52,
     "metadata": {},
     "output_type": "execute_result"
    }
   ],
   "source": [
    "rectangle_1 + 200"
   ]
  },
  {
   "cell_type": "code",
   "execution_count": 53,
   "id": "156e407f-5d05-4d9c-b158-ca1621ed97f6",
   "metadata": {},
   "outputs": [
    {
     "ename": "TypeError",
     "evalue": "unsupported operand type(s) for +: 'int' and 'Rectangle'",
     "output_type": "error",
     "traceback": [
      "\u001b[0;31m---------------------------------------------------------------------------\u001b[0m",
      "\u001b[0;31mTypeError\u001b[0m                                 Traceback (most recent call last)",
      "Input \u001b[0;32mIn [53]\u001b[0m, in \u001b[0;36m<cell line: 1>\u001b[0;34m()\u001b[0m\n\u001b[0;32m----> 1\u001b[0m \u001b[38;5;241;43m200\u001b[39;49m\u001b[43m \u001b[49m\u001b[38;5;241;43m+\u001b[39;49m\u001b[43m \u001b[49m\u001b[43mrectangle_1\u001b[49m\n",
      "\u001b[0;31mTypeError\u001b[0m: unsupported operand type(s) for +: 'int' and 'Rectangle'"
     ]
    }
   ],
   "source": [
    "200 + rectangle_1"
   ]
  },
  {
   "cell_type": "code",
   "execution_count": 54,
   "id": "96e73f08-ccaa-45bb-9097-332a95cfe30d",
   "metadata": {},
   "outputs": [],
   "source": [
    "rectangle_3 = Rectangle(42, 10)"
   ]
  },
  {
   "cell_type": "code",
   "execution_count": 55,
   "id": "b27d1734-7ca0-4983-b5d9-589bf5168b34",
   "metadata": {},
   "outputs": [
    {
     "ename": "TypeError",
     "evalue": "unsupported operand type(s) for +: 'int' and 'Rectangle'",
     "output_type": "error",
     "traceback": [
      "\u001b[0;31m---------------------------------------------------------------------------\u001b[0m",
      "\u001b[0;31mTypeError\u001b[0m                                 Traceback (most recent call last)",
      "Input \u001b[0;32mIn [55]\u001b[0m, in \u001b[0;36m<cell line: 1>\u001b[0;34m()\u001b[0m\n\u001b[0;32m----> 1\u001b[0m \u001b[43mrectangle_1\u001b[49m\u001b[43m \u001b[49m\u001b[38;5;241;43m+\u001b[39;49m\u001b[43m \u001b[49m\u001b[43mrectangle_2\u001b[49m\u001b[43m \u001b[49m\u001b[38;5;241;43m+\u001b[39;49m\u001b[43m \u001b[49m\u001b[43mrectangle_3\u001b[49m\n",
      "\u001b[0;31mTypeError\u001b[0m: unsupported operand type(s) for +: 'int' and 'Rectangle'"
     ]
    }
   ],
   "source": [
    "rectangle_1 + rectangle_2 + rectangle_3"
   ]
  },
  {
   "cell_type": "code",
   "execution_count": 76,
   "id": "2a807416-3905-4ef2-b4b0-388c0f45b730",
   "metadata": {},
   "outputs": [],
   "source": [
    "@total_ordering\n",
    "class Rectangle:\n",
    "    def __init__(self, width, length):\n",
    "        if width < 0 or length < 0:\n",
    "            raise Exception(\"width and length should be positive numbers\")\n",
    "        self.width = width\n",
    "        self.length = length\n",
    "    \n",
    "    def area(self):\n",
    "        return self.calculate_area(self.width, self.length)\n",
    "    \n",
    "    @staticmethod\n",
    "    def calculate_area(width, length):\n",
    "        return width * length\n",
    "    \n",
    "    def __repr__(self):\n",
    "        return f\"Rectangle({self.width}, {self.length})\"\n",
    "    \n",
    "    def __lt__(self, other):\n",
    "        return self.area() < other.area()\n",
    "    \n",
    "    def __eq__(self, other):\n",
    "        return self.area() == other.area()\n",
    "    \n",
    "    def __bool__(self):\n",
    "        return self.area() > 0\n",
    "    \n",
    "    def __add__(self, other):\n",
    "        if isinstance(other, (int, float)):\n",
    "            return self.area() + other\n",
    "        elif isinstance(other, self.__class__):\n",
    "            return self.area() + other.area()\n",
    "        else:\n",
    "            raise TypeError(f\"Can't add Rectangle with {other.__class__}\")\n",
    "       \n",
    "    def __radd__(self, other):\n",
    "        return self.__add__(other)\n",
    "    \n",
    "    def __iadd__(self, other):\n",
    "        raise TypeError(\"+= not supported for this object\")\n",
    "        \n",
    "    def __int__(self):\n",
    "        return int(self.area())"
   ]
  },
  {
   "cell_type": "code",
   "execution_count": 77,
   "id": "67a18dd1-e6f7-4ad9-94a0-7a9eab86a3eb",
   "metadata": {},
   "outputs": [],
   "source": [
    "rectangle_1 = Rectangle(20, 50)\n",
    "rectangle_2 = Rectangle(12, 24)\n",
    "rectangle_3 = Rectangle(42, 10)"
   ]
  },
  {
   "cell_type": "code",
   "execution_count": 78,
   "id": "ab1e6daa-f9c9-441a-b7bc-9c0eb578f6fc",
   "metadata": {},
   "outputs": [
    {
     "data": {
      "text/plain": [
       "1200"
      ]
     },
     "execution_count": 78,
     "metadata": {},
     "output_type": "execute_result"
    }
   ],
   "source": [
    "200 + rectangle_1"
   ]
  },
  {
   "cell_type": "code",
   "execution_count": 79,
   "id": "142bcc3d-d042-4aa8-8836-786bffefdb1b",
   "metadata": {},
   "outputs": [
    {
     "data": {
      "text/plain": [
       "1708"
      ]
     },
     "execution_count": 79,
     "metadata": {},
     "output_type": "execute_result"
    }
   ],
   "source": [
    "rectangle_1 + rectangle_2 + rectangle_3"
   ]
  },
  {
   "cell_type": "code",
   "execution_count": 80,
   "id": "55828311-13ca-4dda-b12e-bf375ac4afff",
   "metadata": {},
   "outputs": [
    {
     "ename": "TypeError",
     "evalue": "+= not supported for this object",
     "output_type": "error",
     "traceback": [
      "\u001b[0;31m---------------------------------------------------------------------------\u001b[0m",
      "\u001b[0;31mTypeError\u001b[0m                                 Traceback (most recent call last)",
      "Input \u001b[0;32mIn [80]\u001b[0m, in \u001b[0;36m<cell line: 1>\u001b[0;34m()\u001b[0m\n\u001b[0;32m----> 1\u001b[0m rectangle_1 \u001b[38;5;241m+\u001b[39m\u001b[38;5;241m=\u001b[39m rectangle_2\n",
      "Input \u001b[0;32mIn [76]\u001b[0m, in \u001b[0;36mRectangle.__iadd__\u001b[0;34m(self, other)\u001b[0m\n\u001b[1;32m     39\u001b[0m \u001b[38;5;28;01mdef\u001b[39;00m \u001b[38;5;21m__iadd__\u001b[39m(\u001b[38;5;28mself\u001b[39m, other):\n\u001b[0;32m---> 40\u001b[0m     \u001b[38;5;28;01mraise\u001b[39;00m \u001b[38;5;167;01mTypeError\u001b[39;00m(\u001b[38;5;124m\"\u001b[39m\u001b[38;5;124m+= not supported for this object\u001b[39m\u001b[38;5;124m\"\u001b[39m)\n",
      "\u001b[0;31mTypeError\u001b[0m: += not supported for this object"
     ]
    }
   ],
   "source": [
    "rectangle_1 += rectangle_2 # rectangle_1 = rectangle_1 + rectangle_2"
   ]
  },
  {
   "cell_type": "code",
   "execution_count": 81,
   "id": "8e75abe3-81f7-4b30-8eac-4aab829ed289",
   "metadata": {},
   "outputs": [
    {
     "data": {
      "text/plain": [
       "Rectangle(20, 50)"
      ]
     },
     "execution_count": 81,
     "metadata": {},
     "output_type": "execute_result"
    }
   ],
   "source": [
    "rectangle_1"
   ]
  },
  {
   "cell_type": "code",
   "execution_count": 82,
   "id": "697c209f-0da0-4300-be54-71af10fb2ade",
   "metadata": {},
   "outputs": [
    {
     "ename": "TypeError",
     "evalue": "bad operand type for unary -: 'Rectangle'",
     "output_type": "error",
     "traceback": [
      "\u001b[0;31m---------------------------------------------------------------------------\u001b[0m",
      "\u001b[0;31mTypeError\u001b[0m                                 Traceback (most recent call last)",
      "Input \u001b[0;32mIn [82]\u001b[0m, in \u001b[0;36m<cell line: 1>\u001b[0;34m()\u001b[0m\n\u001b[0;32m----> 1\u001b[0m \u001b[38;5;241;43m-\u001b[39;49m\u001b[43mrectangle_1\u001b[49m\n",
      "\u001b[0;31mTypeError\u001b[0m: bad operand type for unary -: 'Rectangle'"
     ]
    }
   ],
   "source": [
    "-rectangle_1"
   ]
  },
  {
   "cell_type": "code",
   "execution_count": 83,
   "id": "94646362-a0e6-4f6f-8783-ff7aa0ab78c4",
   "metadata": {},
   "outputs": [
    {
     "data": {
      "text/plain": [
       "1000"
      ]
     },
     "execution_count": 83,
     "metadata": {},
     "output_type": "execute_result"
    }
   ],
   "source": [
    "int(rectangle_1)"
   ]
  },
  {
   "cell_type": "code",
   "execution_count": 84,
   "id": "4dfa8074-acf0-487e-8804-008a04b01539",
   "metadata": {},
   "outputs": [
    {
     "ename": "TypeError",
     "evalue": "float() argument must be a string or a number, not 'Rectangle'",
     "output_type": "error",
     "traceback": [
      "\u001b[0;31m---------------------------------------------------------------------------\u001b[0m",
      "\u001b[0;31mTypeError\u001b[0m                                 Traceback (most recent call last)",
      "Input \u001b[0;32mIn [84]\u001b[0m, in \u001b[0;36m<cell line: 1>\u001b[0;34m()\u001b[0m\n\u001b[0;32m----> 1\u001b[0m \u001b[38;5;28;43mfloat\u001b[39;49m\u001b[43m(\u001b[49m\u001b[43mrectangle_1\u001b[49m\u001b[43m)\u001b[49m\n",
      "\u001b[0;31mTypeError\u001b[0m: float() argument must be a string or a number, not 'Rectangle'"
     ]
    }
   ],
   "source": [
    "float(rectangle_1)"
   ]
  },
  {
   "cell_type": "code",
   "execution_count": 85,
   "id": "25668fc9-6877-42f2-a04b-82cb4f7bbf66",
   "metadata": {},
   "outputs": [
    {
     "data": {
      "text/plain": [
       "'Rectangle(20, 50)'"
      ]
     },
     "execution_count": 85,
     "metadata": {},
     "output_type": "execute_result"
    }
   ],
   "source": [
    "str(rectangle_1)"
   ]
  },
  {
   "cell_type": "code",
   "execution_count": 121,
   "id": "ad67921a-90cf-4889-b7eb-8ec4c8aced18",
   "metadata": {},
   "outputs": [],
   "source": [
    "class Building:\n",
    "    def __init__(self, name, floors):\n",
    "        self.name = name\n",
    "        self.floors = floors\n",
    "        self.occupants = [None] * floors\n",
    "    \n",
    "    def occupy(self, floor_num, occupant_name):\n",
    "        self.occupants[floor_num] = occupant_name\n",
    "        \n",
    "    def get_occupant(self, floor_num):\n",
    "        if self.floors < floor_num < 0:\n",
    "            raise Exception(f\"This building has {self.floors} floors\")\n",
    "        return self.occupants[floor_num]"
   ]
  },
  {
   "cell_type": "code",
   "execution_count": 122,
   "id": "2388c9d1-0aa5-4a49-a7b0-80ba8eaa2c0d",
   "metadata": {},
   "outputs": [],
   "source": [
    "building_1 = Building(\"Empire State\", 3)"
   ]
  },
  {
   "cell_type": "code",
   "execution_count": 123,
   "id": "e11c4132-843c-48ff-9b87-eb9ddbe1339b",
   "metadata": {},
   "outputs": [
    {
     "data": {
      "text/plain": [
       "<__main__.Building at 0x112791370>"
      ]
     },
     "execution_count": 123,
     "metadata": {},
     "output_type": "execute_result"
    }
   ],
   "source": [
    "building_1"
   ]
  },
  {
   "cell_type": "code",
   "execution_count": 124,
   "id": "b9b4594d-25ea-42f4-8b5d-0cd1eb4ecbd9",
   "metadata": {},
   "outputs": [],
   "source": [
    "building_1.occupy(2, \"Adam's Home\")"
   ]
  },
  {
   "cell_type": "code",
   "execution_count": 125,
   "id": "7e5aa78f-bc9d-47d9-8088-c13369afa52b",
   "metadata": {},
   "outputs": [
    {
     "data": {
      "text/plain": [
       "\"Adam's Home\""
      ]
     },
     "execution_count": 125,
     "metadata": {},
     "output_type": "execute_result"
    }
   ],
   "source": [
    "building_1.get_occupant(2)"
   ]
  },
  {
   "cell_type": "code",
   "execution_count": 126,
   "id": "92574ade-f912-41a6-b111-01ffeed6e85f",
   "metadata": {},
   "outputs": [
    {
     "ename": "IndexError",
     "evalue": "list index out of range",
     "output_type": "error",
     "traceback": [
      "\u001b[0;31m---------------------------------------------------------------------------\u001b[0m",
      "\u001b[0;31mIndexError\u001b[0m                                Traceback (most recent call last)",
      "Input \u001b[0;32mIn [126]\u001b[0m, in \u001b[0;36m<cell line: 1>\u001b[0;34m()\u001b[0m\n\u001b[0;32m----> 1\u001b[0m \u001b[43mbuilding_1\u001b[49m\u001b[38;5;241;43m.\u001b[39;49m\u001b[43mget_occupant\u001b[49m\u001b[43m(\u001b[49m\u001b[38;5;241;43m11\u001b[39;49m\u001b[43m)\u001b[49m\n",
      "Input \u001b[0;32mIn [121]\u001b[0m, in \u001b[0;36mBuilding.get_occupant\u001b[0;34m(self, floor_num)\u001b[0m\n\u001b[1;32m     11\u001b[0m \u001b[38;5;28;01mif\u001b[39;00m \u001b[38;5;28mself\u001b[39m\u001b[38;5;241m.\u001b[39mfloors \u001b[38;5;241m<\u001b[39m floor_num \u001b[38;5;241m<\u001b[39m \u001b[38;5;241m0\u001b[39m:\n\u001b[1;32m     12\u001b[0m     \u001b[38;5;28;01mraise\u001b[39;00m \u001b[38;5;167;01mException\u001b[39;00m(\u001b[38;5;124mf\u001b[39m\u001b[38;5;124m\"\u001b[39m\u001b[38;5;124mThis building has \u001b[39m\u001b[38;5;132;01m{\u001b[39;00m\u001b[38;5;28mself\u001b[39m\u001b[38;5;241m.\u001b[39mfloors\u001b[38;5;132;01m}\u001b[39;00m\u001b[38;5;124m floors\u001b[39m\u001b[38;5;124m\"\u001b[39m)\n\u001b[0;32m---> 13\u001b[0m \u001b[38;5;28;01mreturn\u001b[39;00m \u001b[38;5;28;43mself\u001b[39;49m\u001b[38;5;241;43m.\u001b[39;49m\u001b[43moccupants\u001b[49m\u001b[43m[\u001b[49m\u001b[43mfloor_num\u001b[49m\u001b[43m]\u001b[49m\n",
      "\u001b[0;31mIndexError\u001b[0m: list index out of range"
     ]
    }
   ],
   "source": [
    "building_1.get_occupant(11)"
   ]
  },
  {
   "cell_type": "code",
   "execution_count": 127,
   "id": "b10b43de-8031-45a4-8813-d06872eaee56",
   "metadata": {},
   "outputs": [
    {
     "ename": "TypeError",
     "evalue": "'Building' object does not support item assignment",
     "output_type": "error",
     "traceback": [
      "\u001b[0;31m---------------------------------------------------------------------------\u001b[0m",
      "\u001b[0;31mTypeError\u001b[0m                                 Traceback (most recent call last)",
      "Input \u001b[0;32mIn [127]\u001b[0m, in \u001b[0;36m<cell line: 1>\u001b[0;34m()\u001b[0m\n\u001b[0;32m----> 1\u001b[0m \u001b[43mbuilding_1\u001b[49m\u001b[43m[\u001b[49m\u001b[38;5;241;43m2\u001b[39;49m\u001b[43m]\u001b[49m \u001b[38;5;241m=\u001b[39m \u001b[38;5;124m\"\u001b[39m\u001b[38;5;124mAdam Smith\u001b[39m\u001b[38;5;124m\"\u001b[39m\n",
      "\u001b[0;31mTypeError\u001b[0m: 'Building' object does not support item assignment"
     ]
    }
   ],
   "source": [
    "building_1[2] = \"Adam Smith\""
   ]
  },
  {
   "cell_type": "code",
   "execution_count": 128,
   "id": "0ea06388-22fe-4ddf-b6e6-1c35bd7f5cf7",
   "metadata": {},
   "outputs": [
    {
     "ename": "TypeError",
     "evalue": "'Building' object is not subscriptable",
     "output_type": "error",
     "traceback": [
      "\u001b[0;31m---------------------------------------------------------------------------\u001b[0m",
      "\u001b[0;31mTypeError\u001b[0m                                 Traceback (most recent call last)",
      "Input \u001b[0;32mIn [128]\u001b[0m, in \u001b[0;36m<cell line: 1>\u001b[0;34m()\u001b[0m\n\u001b[0;32m----> 1\u001b[0m \u001b[43mbuilding_1\u001b[49m\u001b[43m[\u001b[49m\u001b[38;5;241;43m2\u001b[39;49m\u001b[43m]\u001b[49m\n",
      "\u001b[0;31mTypeError\u001b[0m: 'Building' object is not subscriptable"
     ]
    }
   ],
   "source": [
    "building_1[2]"
   ]
  },
  {
   "cell_type": "code",
   "execution_count": 138,
   "id": "d1be707f-91cf-4ec9-a643-8755cf9a2421",
   "metadata": {},
   "outputs": [],
   "source": [
    "class Building:\n",
    "    def __init__(self, name, floors):\n",
    "        self.name = name\n",
    "        self.floors = floors\n",
    "        self.occupants = [None] * floors\n",
    "    \n",
    "    def __setitem__(self, key, value):\n",
    "        self.occupants[key] = value\n",
    "    \n",
    "    def __getitem__(self, key):\n",
    "        if  key > self.floors or key < 0:\n",
    "            raise Exception(f\"This building has {self.floors} floors\")\n",
    "        return self.occupants[key]\n",
    "    \n",
    "    def __len__(self):\n",
    "        return self.floors"
   ]
  },
  {
   "cell_type": "code",
   "execution_count": 139,
   "id": "5c8ad8f6-df4c-41db-851f-107f66ff60a6",
   "metadata": {},
   "outputs": [],
   "source": [
    "building_1 = Building(name=\"Empire State\", floors=3)"
   ]
  },
  {
   "cell_type": "code",
   "execution_count": 140,
   "id": "8074e073-979f-4b12-97eb-a99b88d216b8",
   "metadata": {},
   "outputs": [],
   "source": [
    "building_1[2] = \"Adam Smith's Home\""
   ]
  },
  {
   "cell_type": "code",
   "execution_count": 141,
   "id": "d36793f3-5fee-4c1e-a712-a7623e86d123",
   "metadata": {},
   "outputs": [
    {
     "data": {
      "text/plain": [
       "\"Adam Smith's Home\""
      ]
     },
     "execution_count": 141,
     "metadata": {},
     "output_type": "execute_result"
    }
   ],
   "source": [
    "building_1[2]"
   ]
  },
  {
   "cell_type": "code",
   "execution_count": 142,
   "id": "cb93ad11-1bfc-48c2-914f-afb77e54ce1e",
   "metadata": {},
   "outputs": [],
   "source": [
    "building_1[0]"
   ]
  },
  {
   "cell_type": "code",
   "execution_count": 143,
   "id": "1ee25528-0c65-4b74-8a31-190ac21bb491",
   "metadata": {},
   "outputs": [],
   "source": [
    "building_1[1]"
   ]
  },
  {
   "cell_type": "code",
   "execution_count": 144,
   "id": "8db33420-c020-4bb5-9665-72bd096734f5",
   "metadata": {},
   "outputs": [
    {
     "ename": "Exception",
     "evalue": "This building has 3 floors",
     "output_type": "error",
     "traceback": [
      "\u001b[0;31m---------------------------------------------------------------------------\u001b[0m",
      "\u001b[0;31mException\u001b[0m                                 Traceback (most recent call last)",
      "Input \u001b[0;32mIn [144]\u001b[0m, in \u001b[0;36m<cell line: 1>\u001b[0;34m()\u001b[0m\n\u001b[0;32m----> 1\u001b[0m \u001b[43mbuilding_1\u001b[49m\u001b[43m[\u001b[49m\u001b[38;5;241;43m11\u001b[39;49m\u001b[43m]\u001b[49m\n",
      "Input \u001b[0;32mIn [138]\u001b[0m, in \u001b[0;36mBuilding.__getitem__\u001b[0;34m(self, key)\u001b[0m\n\u001b[1;32m     10\u001b[0m \u001b[38;5;28;01mdef\u001b[39;00m \u001b[38;5;21m__getitem__\u001b[39m(\u001b[38;5;28mself\u001b[39m, key):\n\u001b[1;32m     11\u001b[0m     \u001b[38;5;28;01mif\u001b[39;00m  key \u001b[38;5;241m>\u001b[39m \u001b[38;5;28mself\u001b[39m\u001b[38;5;241m.\u001b[39mfloors \u001b[38;5;129;01mor\u001b[39;00m key \u001b[38;5;241m<\u001b[39m \u001b[38;5;241m0\u001b[39m:\n\u001b[0;32m---> 12\u001b[0m         \u001b[38;5;28;01mraise\u001b[39;00m \u001b[38;5;167;01mException\u001b[39;00m(\u001b[38;5;124mf\u001b[39m\u001b[38;5;124m\"\u001b[39m\u001b[38;5;124mThis building has \u001b[39m\u001b[38;5;132;01m{\u001b[39;00m\u001b[38;5;28mself\u001b[39m\u001b[38;5;241m.\u001b[39mfloors\u001b[38;5;132;01m}\u001b[39;00m\u001b[38;5;124m floors\u001b[39m\u001b[38;5;124m\"\u001b[39m)\n\u001b[1;32m     13\u001b[0m     \u001b[38;5;28;01mreturn\u001b[39;00m \u001b[38;5;28mself\u001b[39m\u001b[38;5;241m.\u001b[39moccupants[key]\n",
      "\u001b[0;31mException\u001b[0m: This building has 3 floors"
     ]
    }
   ],
   "source": [
    "building_1[11]"
   ]
  },
  {
   "cell_type": "code",
   "execution_count": 145,
   "id": "7cf9df67-aef1-4075-9531-751a91a835e9",
   "metadata": {},
   "outputs": [
    {
     "data": {
      "text/plain": [
       "3"
      ]
     },
     "execution_count": 145,
     "metadata": {},
     "output_type": "execute_result"
    }
   ],
   "source": [
    "len(building_1)"
   ]
  },
  {
   "cell_type": "code",
   "execution_count": 188,
   "id": "b2c11be4-75c0-4dbb-bcfa-e49b49bbd71b",
   "metadata": {},
   "outputs": [],
   "source": [
    "class Foo:\n",
    "    def __init__(self, x):\n",
    "        self.x = x\n",
    "        \n",
    "    def __setattr__(self, name, value):\n",
    "        allowed_attributes = {\"x\", \"test\", \"bar\"}\n",
    "        if name not in allowed_attributes:\n",
    "            raise AttributeError(f\"Attrubute not allowed. Allowed attributes are {allowed_attributes}\")\n",
    "        object.__setattr__(self, name, value)\n",
    "        \n",
    "    # def __getattribute__(self, name):\n",
    "        # print(f\"Getting the attribute: {name}\")\n",
    "        # return object.__getattribute__(self, name)\n",
    "    \n",
    "    def __getattr__(self, name):\n",
    "        print(f\"Getting the attribute: {name} which does not exist\")\n",
    "        return 42"
   ]
  },
  {
   "cell_type": "code",
   "execution_count": 189,
   "id": "9a240d28-e746-46af-b34a-fdb703295781",
   "metadata": {},
   "outputs": [],
   "source": [
    "a = Foo(42)"
   ]
  },
  {
   "cell_type": "code",
   "execution_count": 190,
   "id": "4ade294e-b33a-4020-a842-29bfdbb1a69a",
   "metadata": {},
   "outputs": [
    {
     "data": {
      "text/plain": [
       "42"
      ]
     },
     "execution_count": 190,
     "metadata": {},
     "output_type": "execute_result"
    }
   ],
   "source": [
    "a.x"
   ]
  },
  {
   "cell_type": "code",
   "execution_count": 191,
   "id": "a0179c64-ff44-4f8b-b149-111a070873fa",
   "metadata": {},
   "outputs": [
    {
     "ename": "AttributeError",
     "evalue": "Attrubute not allowed. Allowed attributes are {'x', 'test', 'bar'}",
     "output_type": "error",
     "traceback": [
      "\u001b[0;31m---------------------------------------------------------------------------\u001b[0m",
      "\u001b[0;31mAttributeError\u001b[0m                            Traceback (most recent call last)",
      "Input \u001b[0;32mIn [191]\u001b[0m, in \u001b[0;36m<cell line: 1>\u001b[0;34m()\u001b[0m\n\u001b[0;32m----> 1\u001b[0m \u001b[43ma\u001b[49m\u001b[38;5;241;43m.\u001b[39;49m\u001b[43my\u001b[49m \u001b[38;5;241m=\u001b[39m \u001b[38;5;241m24\u001b[39m\n",
      "Input \u001b[0;32mIn [188]\u001b[0m, in \u001b[0;36mFoo.__setattr__\u001b[0;34m(self, name, value)\u001b[0m\n\u001b[1;32m      6\u001b[0m allowed_attributes \u001b[38;5;241m=\u001b[39m {\u001b[38;5;124m\"\u001b[39m\u001b[38;5;124mx\u001b[39m\u001b[38;5;124m\"\u001b[39m, \u001b[38;5;124m\"\u001b[39m\u001b[38;5;124mtest\u001b[39m\u001b[38;5;124m\"\u001b[39m, \u001b[38;5;124m\"\u001b[39m\u001b[38;5;124mbar\u001b[39m\u001b[38;5;124m\"\u001b[39m}\n\u001b[1;32m      7\u001b[0m \u001b[38;5;28;01mif\u001b[39;00m name \u001b[38;5;129;01mnot\u001b[39;00m \u001b[38;5;129;01min\u001b[39;00m allowed_attributes:\n\u001b[0;32m----> 8\u001b[0m     \u001b[38;5;28;01mraise\u001b[39;00m \u001b[38;5;167;01mAttributeError\u001b[39;00m(\u001b[38;5;124mf\u001b[39m\u001b[38;5;124m\"\u001b[39m\u001b[38;5;124mAttrubute not allowed. Allowed attributes are \u001b[39m\u001b[38;5;132;01m{\u001b[39;00mallowed_attributes\u001b[38;5;132;01m}\u001b[39;00m\u001b[38;5;124m\"\u001b[39m)\n\u001b[1;32m      9\u001b[0m \u001b[38;5;28mobject\u001b[39m\u001b[38;5;241m.\u001b[39m\u001b[38;5;21m__setattr__\u001b[39m(\u001b[38;5;28mself\u001b[39m, name, value)\n",
      "\u001b[0;31mAttributeError\u001b[0m: Attrubute not allowed. Allowed attributes are {'x', 'test', 'bar'}"
     ]
    }
   ],
   "source": [
    "a.y = 24"
   ]
  },
  {
   "cell_type": "code",
   "execution_count": 193,
   "id": "2f8d7d15-02cb-479b-8313-7779568ead4b",
   "metadata": {},
   "outputs": [
    {
     "name": "stdout",
     "output_type": "stream",
     "text": [
      "Getting the attribute: y which does not exist\n"
     ]
    },
    {
     "data": {
      "text/plain": [
       "42"
      ]
     },
     "execution_count": 193,
     "metadata": {},
     "output_type": "execute_result"
    }
   ],
   "source": [
    "a.y"
   ]
  },
  {
   "cell_type": "code",
   "execution_count": 194,
   "id": "272da966-5b17-41c1-8231-f9e4787501d3",
   "metadata": {},
   "outputs": [],
   "source": [
    "a.test = \"test\""
   ]
  },
  {
   "cell_type": "code",
   "execution_count": 195,
   "id": "35fdf6de-2228-41de-8ede-c3b16c6ea5fb",
   "metadata": {},
   "outputs": [
    {
     "data": {
      "text/plain": [
       "'test'"
      ]
     },
     "execution_count": 195,
     "metadata": {},
     "output_type": "execute_result"
    }
   ],
   "source": [
    "a.test"
   ]
  },
  {
   "cell_type": "code",
   "execution_count": 196,
   "id": "cae7290c-24b2-4fa3-a164-52474fa40515",
   "metadata": {},
   "outputs": [],
   "source": [
    "a.bar = 42"
   ]
  },
  {
   "cell_type": "code",
   "execution_count": 197,
   "id": "337d4a37-54e8-4cc3-b412-fc3a33cd4ec6",
   "metadata": {},
   "outputs": [
    {
     "data": {
      "text/plain": [
       "42"
      ]
     },
     "execution_count": 197,
     "metadata": {},
     "output_type": "execute_result"
    }
   ],
   "source": [
    "a.bar"
   ]
  },
  {
   "cell_type": "code",
   "execution_count": 198,
   "id": "d4091d03-a745-4a07-9f21-9fbe025f9d44",
   "metadata": {},
   "outputs": [
    {
     "ename": "AttributeError",
     "evalue": "Attrubute not allowed. Allowed attributes are {'x', 'test', 'bar'}",
     "output_type": "error",
     "traceback": [
      "\u001b[0;31m---------------------------------------------------------------------------\u001b[0m",
      "\u001b[0;31mAttributeError\u001b[0m                            Traceback (most recent call last)",
      "Input \u001b[0;32mIn [198]\u001b[0m, in \u001b[0;36m<cell line: 1>\u001b[0;34m()\u001b[0m\n\u001b[0;32m----> 1\u001b[0m \u001b[43ma\u001b[49m\u001b[38;5;241;43m.\u001b[39;49m\u001b[43manother\u001b[49m \u001b[38;5;241m=\u001b[39m \u001b[38;5;124m\"\u001b[39m\u001b[38;5;124mtest\u001b[39m\u001b[38;5;124m\"\u001b[39m\n",
      "Input \u001b[0;32mIn [188]\u001b[0m, in \u001b[0;36mFoo.__setattr__\u001b[0;34m(self, name, value)\u001b[0m\n\u001b[1;32m      6\u001b[0m allowed_attributes \u001b[38;5;241m=\u001b[39m {\u001b[38;5;124m\"\u001b[39m\u001b[38;5;124mx\u001b[39m\u001b[38;5;124m\"\u001b[39m, \u001b[38;5;124m\"\u001b[39m\u001b[38;5;124mtest\u001b[39m\u001b[38;5;124m\"\u001b[39m, \u001b[38;5;124m\"\u001b[39m\u001b[38;5;124mbar\u001b[39m\u001b[38;5;124m\"\u001b[39m}\n\u001b[1;32m      7\u001b[0m \u001b[38;5;28;01mif\u001b[39;00m name \u001b[38;5;129;01mnot\u001b[39;00m \u001b[38;5;129;01min\u001b[39;00m allowed_attributes:\n\u001b[0;32m----> 8\u001b[0m     \u001b[38;5;28;01mraise\u001b[39;00m \u001b[38;5;167;01mAttributeError\u001b[39;00m(\u001b[38;5;124mf\u001b[39m\u001b[38;5;124m\"\u001b[39m\u001b[38;5;124mAttrubute not allowed. Allowed attributes are \u001b[39m\u001b[38;5;132;01m{\u001b[39;00mallowed_attributes\u001b[38;5;132;01m}\u001b[39;00m\u001b[38;5;124m\"\u001b[39m)\n\u001b[1;32m      9\u001b[0m \u001b[38;5;28mobject\u001b[39m\u001b[38;5;241m.\u001b[39m\u001b[38;5;21m__setattr__\u001b[39m(\u001b[38;5;28mself\u001b[39m, name, value)\n",
      "\u001b[0;31mAttributeError\u001b[0m: Attrubute not allowed. Allowed attributes are {'x', 'test', 'bar'}"
     ]
    }
   ],
   "source": [
    "a.another = \"test\""
   ]
  },
  {
   "cell_type": "code",
   "execution_count": 199,
   "id": "0e56b016-86c1-4a99-aac3-b06ea4aeed3a",
   "metadata": {},
   "outputs": [
    {
     "name": "stdout",
     "output_type": "stream",
     "text": [
      "Getting the attribute: non_existant which does not exist\n"
     ]
    },
    {
     "data": {
      "text/plain": [
       "42"
      ]
     },
     "execution_count": 199,
     "metadata": {},
     "output_type": "execute_result"
    }
   ],
   "source": [
    "a.non_existant"
   ]
  },
  {
   "cell_type": "markdown",
   "id": "d0c2557b-b6ed-4ca0-aed3-105bf7adc586",
   "metadata": {},
   "source": [
    "## Slices"
   ]
  },
  {
   "cell_type": "code",
   "execution_count": 200,
   "id": "b6716f11-21d7-4ae1-aacd-c6020ddcd172",
   "metadata": {},
   "outputs": [],
   "source": [
    "a = [1, 12, 24, 42]"
   ]
  },
  {
   "cell_type": "code",
   "execution_count": 201,
   "id": "96bd6410-15bb-4d55-8498-377984a57c78",
   "metadata": {},
   "outputs": [
    {
     "data": {
      "text/plain": [
       "1"
      ]
     },
     "execution_count": 201,
     "metadata": {},
     "output_type": "execute_result"
    }
   ],
   "source": [
    "a[0]"
   ]
  },
  {
   "cell_type": "code",
   "execution_count": 202,
   "id": "f1846935-2e11-4772-b7ae-9db91911a13f",
   "metadata": {},
   "outputs": [
    {
     "data": {
      "text/plain": [
       "[12, 24]"
      ]
     },
     "execution_count": 202,
     "metadata": {},
     "output_type": "execute_result"
    }
   ],
   "source": [
    "a[1:3] # slice(1, 3, 1)"
   ]
  },
  {
   "cell_type": "code",
   "execution_count": 203,
   "id": "c4625a4d-f680-4767-9cdd-28583e022003",
   "metadata": {},
   "outputs": [
    {
     "data": {
      "text/plain": [
       "[1, 24]"
      ]
     },
     "execution_count": 203,
     "metadata": {},
     "output_type": "execute_result"
    }
   ],
   "source": [
    "a[0:3:2]  # slice(0, 3, 2)"
   ]
  },
  {
   "cell_type": "code",
   "execution_count": 204,
   "id": "a70f5dc7-1839-4e97-b075-37bfa359c51b",
   "metadata": {},
   "outputs": [
    {
     "data": {
      "text/plain": [
       "[1, 12, 24]"
      ]
     },
     "execution_count": 204,
     "metadata": {},
     "output_type": "execute_result"
    }
   ],
   "source": [
    "a[:3]  # slice(0, 3, 1)"
   ]
  },
  {
   "cell_type": "code",
   "execution_count": 205,
   "id": "c9c6be72-f84a-4182-966e-23a95717f4c8",
   "metadata": {},
   "outputs": [
    {
     "data": {
      "text/plain": [
       "[24, 42]"
      ]
     },
     "execution_count": 205,
     "metadata": {},
     "output_type": "execute_result"
    }
   ],
   "source": [
    "a[2:]  # slice(2, len(a), 1)"
   ]
  },
  {
   "cell_type": "code",
   "execution_count": 206,
   "id": "0c2ead15-8adb-4a1d-b221-b33595013c7a",
   "metadata": {},
   "outputs": [
    {
     "data": {
      "text/plain": [
       "[1, 24]"
      ]
     },
     "execution_count": 206,
     "metadata": {},
     "output_type": "execute_result"
    }
   ],
   "source": [
    "a[::2]  # slice(0, len(a), 2)"
   ]
  },
  {
   "cell_type": "code",
   "execution_count": 210,
   "id": "f84dba00-8433-4d0d-bfe9-df4db529730f",
   "metadata": {},
   "outputs": [],
   "source": [
    "my_slice = slice(0, len(a), 2)"
   ]
  },
  {
   "cell_type": "code",
   "execution_count": 211,
   "id": "5d212689-7388-4491-beac-026435c4e511",
   "metadata": {},
   "outputs": [
    {
     "data": {
      "text/plain": [
       "slice(0, 4, 2)"
      ]
     },
     "execution_count": 211,
     "metadata": {},
     "output_type": "execute_result"
    }
   ],
   "source": [
    "my_slice"
   ]
  },
  {
   "cell_type": "code",
   "execution_count": 212,
   "id": "b137660b-07a6-4d5e-b18c-e973670dba72",
   "metadata": {},
   "outputs": [
    {
     "data": {
      "text/plain": [
       "0"
      ]
     },
     "execution_count": 212,
     "metadata": {},
     "output_type": "execute_result"
    }
   ],
   "source": [
    "my_slice.start"
   ]
  },
  {
   "cell_type": "code",
   "execution_count": 213,
   "id": "de27de55-7021-4657-8fce-6161d9dec870",
   "metadata": {},
   "outputs": [
    {
     "data": {
      "text/plain": [
       "4"
      ]
     },
     "execution_count": 213,
     "metadata": {},
     "output_type": "execute_result"
    }
   ],
   "source": [
    "my_slice.stop"
   ]
  },
  {
   "cell_type": "code",
   "execution_count": 214,
   "id": "83ed0131-f277-4040-b1e3-574b6361d9df",
   "metadata": {},
   "outputs": [
    {
     "data": {
      "text/plain": [
       "2"
      ]
     },
     "execution_count": 214,
     "metadata": {},
     "output_type": "execute_result"
    }
   ],
   "source": [
    "my_slice.step"
   ]
  },
  {
   "cell_type": "code",
   "execution_count": 225,
   "id": "7381c780-d834-47b1-8800-1948726adb08",
   "metadata": {},
   "outputs": [],
   "source": [
    "class Building:\n",
    "    def __init__(self, name, floors):\n",
    "        self.name = name\n",
    "        self.floors = floors\n",
    "        self.occupants = [None] * floors\n",
    "    \n",
    "    def __setitem__(self, key, value):\n",
    "        self.occupants[key] = value\n",
    "    \n",
    "    def __getitem__(self, key):\n",
    "        if isinstance(key, slice):\n",
    "            return self.occupants[key.start:key.stop:key.step]\n",
    "        if  key > self.floors or key < 0:\n",
    "            raise Exception(f\"This building has {self.floors} floors\")\n",
    "        return self.occupants[key]\n",
    "    \n",
    "    def __len__(self):\n",
    "        return self.floors"
   ]
  },
  {
   "cell_type": "code",
   "execution_count": 226,
   "id": "affeb1d1-e860-4584-8192-39e51a219d7c",
   "metadata": {},
   "outputs": [],
   "source": [
    "building_2 = Building(\"Dvin\", 4)"
   ]
  },
  {
   "cell_type": "code",
   "execution_count": 227,
   "id": "98a16aed-cff1-4ef0-86bd-3fa71b19a3a4",
   "metadata": {},
   "outputs": [],
   "source": [
    "building_2[2] = \"Adam Smith\""
   ]
  },
  {
   "cell_type": "code",
   "execution_count": 228,
   "id": "8d590191-1e95-4c7f-a333-ea25f473d18e",
   "metadata": {},
   "outputs": [
    {
     "data": {
      "text/plain": [
       "'Adam Smith'"
      ]
     },
     "execution_count": 228,
     "metadata": {},
     "output_type": "execute_result"
    }
   ],
   "source": [
    "building_2[2]"
   ]
  },
  {
   "cell_type": "code",
   "execution_count": 230,
   "id": "57931a3d-0576-4ce3-8e76-e6097d99d809",
   "metadata": {},
   "outputs": [
    {
     "data": {
      "text/plain": [
       "[None, 'Adam Smith']"
      ]
     },
     "execution_count": 230,
     "metadata": {},
     "output_type": "execute_result"
    }
   ],
   "source": [
    "building_2[1:3]"
   ]
  },
  {
   "cell_type": "code",
   "execution_count": null,
   "id": "7a7f5532-2c5b-4ebc-997a-8092b897ab7f",
   "metadata": {},
   "outputs": [],
   "source": []
  }
 ],
 "metadata": {
  "kernelspec": {
   "display_name": "Python 3 (ipykernel)",
   "language": "python",
   "name": "python3"
  },
  "language_info": {
   "codemirror_mode": {
    "name": "ipython",
    "version": 3
   },
   "file_extension": ".py",
   "mimetype": "text/x-python",
   "name": "python",
   "nbconvert_exporter": "python",
   "pygments_lexer": "ipython3",
   "version": "3.9.13"
  }
 },
 "nbformat": 4,
 "nbformat_minor": 5
}
