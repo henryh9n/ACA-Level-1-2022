{
 "cells": [
  {
   "cell_type": "code",
   "execution_count": 7,
   "id": "294eefeb-0c17-45d8-8b36-02f8e6b2eb19",
   "metadata": {},
   "outputs": [],
   "source": [
    "def foo(num):\n",
    "    num += 12\n",
    "    yield num\n",
    "    num += 24\n",
    "    yield num"
   ]
  },
  {
   "cell_type": "code",
   "execution_count": 8,
   "id": "3746c087-6d10-4e7a-b668-6d16f4970328",
   "metadata": {},
   "outputs": [],
   "source": [
    "f = foo(42)"
   ]
  },
  {
   "cell_type": "code",
   "execution_count": 9,
   "id": "90ab3343-03f7-415c-9a51-01ba8424ecad",
   "metadata": {},
   "outputs": [
    {
     "data": {
      "text/plain": [
       "54"
      ]
     },
     "execution_count": 9,
     "metadata": {},
     "output_type": "execute_result"
    }
   ],
   "source": [
    "next(f)"
   ]
  },
  {
   "cell_type": "code",
   "execution_count": 10,
   "id": "81ff4f9d-1052-431f-a284-a2307fb87f6e",
   "metadata": {},
   "outputs": [
    {
     "data": {
      "text/plain": [
       "78"
      ]
     },
     "execution_count": 10,
     "metadata": {},
     "output_type": "execute_result"
    }
   ],
   "source": [
    "next(f)"
   ]
  },
  {
   "cell_type": "code",
   "execution_count": 11,
   "id": "3d9b87be-e80d-4a4e-b62c-12d23ad9edee",
   "metadata": {},
   "outputs": [
    {
     "ename": "StopIteration",
     "evalue": "",
     "output_type": "error",
     "traceback": [
      "\u001b[0;31m---------------------------------------------------------------------------\u001b[0m",
      "\u001b[0;31mStopIteration\u001b[0m                             Traceback (most recent call last)",
      "Input \u001b[0;32mIn [11]\u001b[0m, in \u001b[0;36m<cell line: 1>\u001b[0;34m()\u001b[0m\n\u001b[0;32m----> 1\u001b[0m \u001b[38;5;28;43mnext\u001b[39;49m\u001b[43m(\u001b[49m\u001b[43mf\u001b[49m\u001b[43m)\u001b[49m\n",
      "\u001b[0;31mStopIteration\u001b[0m: "
     ]
    }
   ],
   "source": [
    "next(f)"
   ]
  },
  {
   "cell_type": "code",
   "execution_count": 29,
   "id": "dd4d6393-9e2e-4112-9a24-0db8a4eb213f",
   "metadata": {},
   "outputs": [],
   "source": [
    "def foo(num):\n",
    "    default_offset = 12\n",
    "    num += default_offset\n",
    "    i = (yield num)\n",
    "    if i is None:\n",
    "        i = default_offset\n",
    "    num += i\n",
    "    yield num"
   ]
  },
  {
   "cell_type": "code",
   "execution_count": 30,
   "id": "889be0aa-e5c7-4428-9606-8f1104e97948",
   "metadata": {},
   "outputs": [],
   "source": [
    "g = foo(42)"
   ]
  },
  {
   "cell_type": "code",
   "execution_count": 31,
   "id": "9eb75caa-4da7-4c59-87ba-3c00730904a3",
   "metadata": {},
   "outputs": [
    {
     "data": {
      "text/plain": [
       "54"
      ]
     },
     "execution_count": 31,
     "metadata": {},
     "output_type": "execute_result"
    }
   ],
   "source": [
    "next(g)"
   ]
  },
  {
   "cell_type": "code",
   "execution_count": 32,
   "id": "0ffd98e9-d490-40f9-a412-714a156bbf6c",
   "metadata": {},
   "outputs": [
    {
     "data": {
      "text/plain": [
       "70"
      ]
     },
     "execution_count": 32,
     "metadata": {},
     "output_type": "execute_result"
    }
   ],
   "source": [
    "g.send(16)"
   ]
  },
  {
   "cell_type": "code",
   "execution_count": 33,
   "id": "caa57d66-fb72-404c-917e-1d0621ca8354",
   "metadata": {},
   "outputs": [
    {
     "ename": "StopIteration",
     "evalue": "",
     "output_type": "error",
     "traceback": [
      "\u001b[0;31m---------------------------------------------------------------------------\u001b[0m",
      "\u001b[0;31mStopIteration\u001b[0m                             Traceback (most recent call last)",
      "Input \u001b[0;32mIn [33]\u001b[0m, in \u001b[0;36m<cell line: 1>\u001b[0;34m()\u001b[0m\n\u001b[0;32m----> 1\u001b[0m \u001b[38;5;28;43mnext\u001b[39;49m\u001b[43m(\u001b[49m\u001b[43mg\u001b[49m\u001b[43m)\u001b[49m\n",
      "\u001b[0;31mStopIteration\u001b[0m: "
     ]
    }
   ],
   "source": [
    "next(g)"
   ]
  },
  {
   "cell_type": "code",
   "execution_count": 40,
   "id": "76acb928-9c74-4769-9389-92e4c427e425",
   "metadata": {},
   "outputs": [],
   "source": [
    "from itertools import count\n",
    "\n",
    "def factorial():\n",
    "    start = 1\n",
    "    for i in count(1):\n",
    "        start *= i\n",
    "        yield start"
   ]
  },
  {
   "cell_type": "code",
   "execution_count": 41,
   "id": "09393220-2fc9-4114-bde6-972fc46a5d19",
   "metadata": {},
   "outputs": [
    {
     "name": "stdout",
     "output_type": "stream",
     "text": [
      "1\n",
      "2\n",
      "6\n",
      "24\n",
      "120\n",
      "720\n",
      "5040\n",
      "40320\n",
      "362880\n",
      "3628800\n",
      "39916800\n",
      "479001600\n",
      "6227020800\n",
      "87178291200\n",
      "1307674368000\n",
      "20922789888000\n",
      "355687428096000\n",
      "6402373705728000\n",
      "121645100408832000\n",
      "2432902008176640000\n",
      "51090942171709440000\n"
     ]
    }
   ],
   "source": [
    "f = factorial()\n",
    "\n",
    "for idx, val in enumerate(f):\n",
    "    print(val)\n",
    "    if idx == 20:\n",
    "        f.close()"
   ]
  },
  {
   "cell_type": "markdown",
   "id": "f47a7d12-90b1-463b-91f1-936c3703ed89",
   "metadata": {},
   "source": [
    "## Problem 1"
   ]
  },
  {
   "cell_type": "code",
   "execution_count": 42,
   "id": "db522a46-63c3-44ba-bea3-25d14b8d090b",
   "metadata": {},
   "outputs": [
    {
     "name": "stdin",
     "output_type": "stream",
     "text": [
      " 5\n"
     ]
    }
   ],
   "source": [
    "WORD = \"CAR\"\n",
    "\n",
    "n = int(input())\n",
    "\n",
    "\n",
    "# n = 5\n",
    "\n",
    "#         C\n",
    "#       A C A\n",
    "#     R A C A R\n",
    "#   C R A C A R C\n",
    "# A C R A C A R C A\n",
    "\n",
    "\n",
    "# WORD = \"TEST\"\n",
    "\n",
    "# n = 4\n",
    "\n",
    "#       T\n",
    "#     E T E\n",
    "#   S E T E S\n",
    "# T S E T E S T"
   ]
  },
  {
   "cell_type": "code",
   "execution_count": 43,
   "id": "f0354db9-3588-4d1e-bb9a-eb2fea50792b",
   "metadata": {},
   "outputs": [],
   "source": [
    "from itertools import cycle"
   ]
  },
  {
   "cell_type": "code",
   "execution_count": 44,
   "id": "9cc4c369-a1b2-4097-83e7-d7b3087679e1",
   "metadata": {},
   "outputs": [
    {
     "data": {
      "text/plain": [
       "'CARCAR'"
      ]
     },
     "execution_count": 44,
     "metadata": {},
     "output_type": "execute_result"
    }
   ],
   "source": [
    "WORD * 2"
   ]
  },
  {
   "cell_type": "code",
   "execution_count": null,
   "id": "bc579c09-443f-41e9-900a-a89ff96e2489",
   "metadata": {},
   "outputs": [],
   "source": [
    "WORD * math.ceil(n // len(WORD))"
   ]
  }
 ],
 "metadata": {
  "kernelspec": {
   "display_name": "Python 3 (ipykernel)",
   "language": "python",
   "name": "python3"
  },
  "language_info": {
   "codemirror_mode": {
    "name": "ipython",
    "version": 3
   },
   "file_extension": ".py",
   "mimetype": "text/x-python",
   "name": "python",
   "nbconvert_exporter": "python",
   "pygments_lexer": "ipython3",
   "version": "3.9.13"
  }
 },
 "nbformat": 4,
 "nbformat_minor": 5
}
