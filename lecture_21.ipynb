{
 "cells": [
  {
   "cell_type": "markdown",
   "id": "b55f7804-1fe0-448a-9950-cb8793c75996",
   "metadata": {},
   "source": [
    "# Lecture 21"
   ]
  },
  {
   "cell_type": "code",
   "execution_count": 1,
   "id": "29de9892-f8c7-4791-9baa-d2ed6d429ae8",
   "metadata": {},
   "outputs": [],
   "source": [
    "a = [1, 2, 3, 4]"
   ]
  },
  {
   "cell_type": "code",
   "execution_count": 2,
   "id": "4e24a5a6-3162-4c08-9ccf-63caeadfa8a9",
   "metadata": {},
   "outputs": [
    {
     "name": "stdout",
     "output_type": "stream",
     "text": [
      "1\n",
      "2\n",
      "3\n",
      "4\n"
     ]
    }
   ],
   "source": [
    "for i in a:\n",
    "    print(i)"
   ]
  },
  {
   "cell_type": "code",
   "execution_count": 3,
   "id": "4f4cb2b6-f8ea-4f88-8812-f3d211221ed6",
   "metadata": {},
   "outputs": [
    {
     "name": "stdout",
     "output_type": "stream",
     "text": [
      "0\n",
      "1\n",
      "2\n",
      "3\n",
      "4\n",
      "5\n",
      "6\n",
      "7\n",
      "8\n",
      "9\n"
     ]
    }
   ],
   "source": [
    "for i in range(0, 10):\n",
    "    print(i)"
   ]
  },
  {
   "cell_type": "markdown",
   "id": "26a78ee8-43ae-4944-b67e-90c031748994",
   "metadata": {},
   "source": [
    "Iterables: `list`, `string`, `range()`, etc."
   ]
  },
  {
   "cell_type": "code",
   "execution_count": 4,
   "id": "e4049dc9-c4d7-498c-8937-24809b19f9c2",
   "metadata": {},
   "outputs": [],
   "source": [
    "class Foo:\n",
    "    def __init__(self, name):\n",
    "        self.name = name"
   ]
  },
  {
   "cell_type": "code",
   "execution_count": 5,
   "id": "b0f511ab-3327-4439-a5a0-931ce378683b",
   "metadata": {},
   "outputs": [],
   "source": [
    "f = Foo(\"Adam\")"
   ]
  },
  {
   "cell_type": "code",
   "execution_count": 6,
   "id": "f93f8e6e-42aa-4349-aacb-190003885e67",
   "metadata": {},
   "outputs": [
    {
     "ename": "TypeError",
     "evalue": "'Foo' object is not iterable",
     "output_type": "error",
     "traceback": [
      "\u001b[0;31m---------------------------------------------------------------------------\u001b[0m",
      "\u001b[0;31mTypeError\u001b[0m                                 Traceback (most recent call last)",
      "Input \u001b[0;32mIn [6]\u001b[0m, in \u001b[0;36m<cell line: 1>\u001b[0;34m()\u001b[0m\n\u001b[0;32m----> 1\u001b[0m \u001b[38;5;28;01mfor\u001b[39;00m i \u001b[38;5;129;01min\u001b[39;00m f:\n\u001b[1;32m      2\u001b[0m     \u001b[38;5;28mprint\u001b[39m(i)\n",
      "\u001b[0;31mTypeError\u001b[0m: 'Foo' object is not iterable"
     ]
    }
   ],
   "source": [
    "for i in f:\n",
    "    print(i)"
   ]
  },
  {
   "cell_type": "code",
   "execution_count": 7,
   "id": "726c0548-80a2-4b75-a521-5d84036e9286",
   "metadata": {},
   "outputs": [],
   "source": [
    "class Library:\n",
    "    def __init__(self, name, books):\n",
    "        self.name = name\n",
    "        self.books = books"
   ]
  },
  {
   "cell_type": "code",
   "execution_count": 8,
   "id": "827b309f-04b0-4d6d-8b2d-79c59c30903c",
   "metadata": {},
   "outputs": [],
   "source": [
    "library_1 = Library(\"Open Library\", [\"Accelerate\", \"Clean Code\", \"Algorithms\"])"
   ]
  },
  {
   "cell_type": "code",
   "execution_count": 9,
   "id": "c292adb3-daba-497a-bc75-69f8e76881e8",
   "metadata": {},
   "outputs": [
    {
     "data": {
      "text/plain": [
       "['Accelerate', 'Clean Code', 'Algorithms']"
      ]
     },
     "execution_count": 9,
     "metadata": {},
     "output_type": "execute_result"
    }
   ],
   "source": [
    "library_1.books"
   ]
  },
  {
   "cell_type": "code",
   "execution_count": 10,
   "id": "9507491c-8ad8-4277-98b2-161f23b9d978",
   "metadata": {},
   "outputs": [
    {
     "ename": "TypeError",
     "evalue": "'Library' object is not iterable",
     "output_type": "error",
     "traceback": [
      "\u001b[0;31m---------------------------------------------------------------------------\u001b[0m",
      "\u001b[0;31mTypeError\u001b[0m                                 Traceback (most recent call last)",
      "Input \u001b[0;32mIn [10]\u001b[0m, in \u001b[0;36m<cell line: 1>\u001b[0;34m()\u001b[0m\n\u001b[0;32m----> 1\u001b[0m \u001b[38;5;28;01mfor\u001b[39;00m i \u001b[38;5;129;01min\u001b[39;00m library_1:\n\u001b[1;32m      2\u001b[0m     \u001b[38;5;28mprint\u001b[39m(i)\n",
      "\u001b[0;31mTypeError\u001b[0m: 'Library' object is not iterable"
     ]
    }
   ],
   "source": [
    "for i in library_1:\n",
    "    print(i)"
   ]
  },
  {
   "cell_type": "code",
   "execution_count": 11,
   "id": "cd84eef0-dbc7-49d4-b0f2-d9c26e89e488",
   "metadata": {},
   "outputs": [
    {
     "name": "stdout",
     "output_type": "stream",
     "text": [
      "Accelerate\n",
      "Clean Code\n",
      "Algorithms\n"
     ]
    }
   ],
   "source": [
    "for i in library_1.books:\n",
    "    print(i)"
   ]
  },
  {
   "cell_type": "code",
   "execution_count": 15,
   "id": "06bc7f6f-781d-492f-9153-afaeb6d6a58c",
   "metadata": {},
   "outputs": [],
   "source": [
    "class Library:\n",
    "    def __init__(self, name, books):\n",
    "        self.name = name\n",
    "        self.books = books\n",
    "        \n",
    "    def __iter__(self):\n",
    "        return iter(self.books)"
   ]
  },
  {
   "cell_type": "code",
   "execution_count": 16,
   "id": "54704d52-d4b7-4ca8-a42f-959b6f5e97fb",
   "metadata": {},
   "outputs": [],
   "source": [
    "library_2 = Library(\"Open Library #2\", [\"Accelerate\", \"Clean Code\", \"Algorithms\"])"
   ]
  },
  {
   "cell_type": "code",
   "execution_count": 17,
   "id": "619ebf8b-2833-416e-80fd-9908360df478",
   "metadata": {},
   "outputs": [
    {
     "name": "stdout",
     "output_type": "stream",
     "text": [
      "Accelerate\n",
      "Clean Code\n",
      "Algorithms\n"
     ]
    }
   ],
   "source": [
    "for i in library_2:\n",
    "    print(i)"
   ]
  },
  {
   "cell_type": "code",
   "execution_count": 23,
   "id": "5d64a638-7afb-43f5-8dc4-e1603c790315",
   "metadata": {},
   "outputs": [],
   "source": [
    "class Library:\n",
    "    def __init__(self, name, books):\n",
    "        self.name = name\n",
    "        self.books = books\n",
    "        self.__idx = 0\n",
    "        \n",
    "    def __iter__(self):\n",
    "        return self\n",
    "    \n",
    "    def __next__(self):\n",
    "        if self.__idx >= len(self.books):\n",
    "            raise StopIteration()\n",
    "        self.__idx += 1\n",
    "        return self.__idx, self.books[self.__idx-1]"
   ]
  },
  {
   "cell_type": "code",
   "execution_count": 24,
   "id": "d9ec0df0-726b-4546-94d6-a1e77cba1de5",
   "metadata": {},
   "outputs": [],
   "source": [
    "library_3 = Library(\"Open Library #3\", [\"Accelerate\", \"Clean Code\", \"Algorithms\"])"
   ]
  },
  {
   "cell_type": "code",
   "execution_count": 25,
   "id": "68ed3ad4-86ae-46f7-8920-7e66146fccf3",
   "metadata": {},
   "outputs": [
    {
     "name": "stdout",
     "output_type": "stream",
     "text": [
      "(1, 'Accelerate')\n",
      "(2, 'Clean Code')\n",
      "(3, 'Algorithms')\n"
     ]
    }
   ],
   "source": [
    "for i in library_3:\n",
    "    print(i)"
   ]
  },
  {
   "cell_type": "code",
   "execution_count": 27,
   "id": "67b40bd5-d047-4dd3-be50-98d5f8eaf84f",
   "metadata": {},
   "outputs": [],
   "source": [
    "class LibraryIterator:\n",
    "    def __init__(self, books):\n",
    "        self.books = books\n",
    "        self.__idx = 0\n",
    "        \n",
    "    def __next__(self):\n",
    "        if self.__idx >= len(self.books):\n",
    "            raise StopIteration()\n",
    "        self.__idx += 1\n",
    "        return self.__idx, self.books[self.__idx-1]"
   ]
  },
  {
   "cell_type": "code",
   "execution_count": 28,
   "id": "9ef18bb0-5e39-404d-addc-7c6447446e09",
   "metadata": {},
   "outputs": [],
   "source": [
    "a = LibraryIterator([\"Accelerate\", \"Clean Code\", \"Algorithms\"])"
   ]
  },
  {
   "cell_type": "code",
   "execution_count": 29,
   "id": "839fb227-e67f-42d2-9aac-eacd453b78f4",
   "metadata": {},
   "outputs": [
    {
     "ename": "TypeError",
     "evalue": "'LibraryIterator' object is not iterable",
     "output_type": "error",
     "traceback": [
      "\u001b[0;31m---------------------------------------------------------------------------\u001b[0m",
      "\u001b[0;31mTypeError\u001b[0m                                 Traceback (most recent call last)",
      "Input \u001b[0;32mIn [29]\u001b[0m, in \u001b[0;36m<cell line: 1>\u001b[0;34m()\u001b[0m\n\u001b[0;32m----> 1\u001b[0m \u001b[38;5;28;01mfor\u001b[39;00m i \u001b[38;5;129;01min\u001b[39;00m a:\n\u001b[1;32m      2\u001b[0m     \u001b[38;5;28mprint\u001b[39m(i)\n",
      "\u001b[0;31mTypeError\u001b[0m: 'LibraryIterator' object is not iterable"
     ]
    }
   ],
   "source": [
    "for i in a:\n",
    "    print(i)"
   ]
  },
  {
   "cell_type": "code",
   "execution_count": 30,
   "id": "b06a1b07-e996-4fe1-90c3-b4d0fbbc1802",
   "metadata": {},
   "outputs": [],
   "source": [
    "class Library:\n",
    "    def __init__(self, name, books):\n",
    "        self.name = name\n",
    "        self.books = books\n",
    "        \n",
    "    def __iter__(self):\n",
    "        return LibraryIterator(self.books)"
   ]
  },
  {
   "cell_type": "code",
   "execution_count": 31,
   "id": "2097268e-17ca-48a6-afaa-f36b55ab6f8e",
   "metadata": {},
   "outputs": [],
   "source": [
    "library_4 = Library(\"Open Library #4\", [\"Accelerate\", \"Clean Code\", \"Algorithms\"])"
   ]
  },
  {
   "cell_type": "code",
   "execution_count": 32,
   "id": "11cd7651-fb28-41cc-8464-da643341958c",
   "metadata": {},
   "outputs": [
    {
     "name": "stdout",
     "output_type": "stream",
     "text": [
      "(1, 'Accelerate')\n",
      "(2, 'Clean Code')\n",
      "(3, 'Algorithms')\n"
     ]
    }
   ],
   "source": [
    "for i in library_4:\n",
    "    print(i)"
   ]
  },
  {
   "cell_type": "code",
   "execution_count": 33,
   "id": "2e713a39-2648-4881-b740-3837db5d3783",
   "metadata": {},
   "outputs": [],
   "source": [
    "library_4.books.append(\"The Pragmatic Programmer\")"
   ]
  },
  {
   "cell_type": "code",
   "execution_count": 34,
   "id": "93ccfa1b-0df6-4b2d-943a-e2d9d0ede7d8",
   "metadata": {},
   "outputs": [
    {
     "data": {
      "text/plain": [
       "['Accelerate', 'Clean Code', 'Algorithms', 'The Pragmatic Programmer']"
      ]
     },
     "execution_count": 34,
     "metadata": {},
     "output_type": "execute_result"
    }
   ],
   "source": [
    "library_4.books"
   ]
  },
  {
   "cell_type": "code",
   "execution_count": 35,
   "id": "ec40263d-c782-41fe-b207-de694d5ef4ee",
   "metadata": {},
   "outputs": [
    {
     "name": "stdout",
     "output_type": "stream",
     "text": [
      "(1, 'Accelerate')\n",
      "(2, 'Clean Code')\n",
      "(3, 'Algorithms')\n",
      "(4, 'The Pragmatic Programmer')\n"
     ]
    }
   ],
   "source": [
    "for i in library_4:\n",
    "    print(i)"
   ]
  },
  {
   "cell_type": "code",
   "execution_count": 36,
   "id": "145af7f0-046a-4fb4-8918-4815cb192cf4",
   "metadata": {},
   "outputs": [
    {
     "ename": "TypeError",
     "evalue": "'Library' object is not an iterator",
     "output_type": "error",
     "traceback": [
      "\u001b[0;31m---------------------------------------------------------------------------\u001b[0m",
      "\u001b[0;31mTypeError\u001b[0m                                 Traceback (most recent call last)",
      "Input \u001b[0;32mIn [36]\u001b[0m, in \u001b[0;36m<cell line: 1>\u001b[0;34m()\u001b[0m\n\u001b[0;32m----> 1\u001b[0m \u001b[38;5;28;43mnext\u001b[39;49m\u001b[43m(\u001b[49m\u001b[43mlibrary_4\u001b[49m\u001b[43m)\u001b[49m\n",
      "\u001b[0;31mTypeError\u001b[0m: 'Library' object is not an iterator"
     ]
    }
   ],
   "source": [
    "next(library_4)"
   ]
  },
  {
   "cell_type": "code",
   "execution_count": 37,
   "id": "6f6aaebe-9d34-40d7-9f97-7ca28ec764a5",
   "metadata": {},
   "outputs": [],
   "source": [
    "a = iter(library_4)"
   ]
  },
  {
   "cell_type": "code",
   "execution_count": 38,
   "id": "a5cf1a94-9878-4f79-8fcb-2c398e4d701c",
   "metadata": {},
   "outputs": [
    {
     "data": {
      "text/plain": [
       "(1, 'Accelerate')"
      ]
     },
     "execution_count": 38,
     "metadata": {},
     "output_type": "execute_result"
    }
   ],
   "source": [
    "next(a)"
   ]
  },
  {
   "cell_type": "code",
   "execution_count": 39,
   "id": "8021af4f-63ed-481b-a2fb-f07911140879",
   "metadata": {},
   "outputs": [
    {
     "data": {
      "text/plain": [
       "(2, 'Clean Code')"
      ]
     },
     "execution_count": 39,
     "metadata": {},
     "output_type": "execute_result"
    }
   ],
   "source": [
    "next(a)"
   ]
  },
  {
   "cell_type": "code",
   "execution_count": 40,
   "id": "2f9571d1-c5cc-4f0d-847c-4808f93218f9",
   "metadata": {},
   "outputs": [
    {
     "data": {
      "text/plain": [
       "(3, 'Algorithms')"
      ]
     },
     "execution_count": 40,
     "metadata": {},
     "output_type": "execute_result"
    }
   ],
   "source": [
    "next(a)"
   ]
  },
  {
   "cell_type": "code",
   "execution_count": 42,
   "id": "8fcc2f4a-4888-49ff-a1f2-be06e4eb94d6",
   "metadata": {},
   "outputs": [
    {
     "data": {
      "text/plain": [
       "(4, 'The Pragmatic Programmer')"
      ]
     },
     "execution_count": 42,
     "metadata": {},
     "output_type": "execute_result"
    }
   ],
   "source": [
    "next(a)"
   ]
  },
  {
   "cell_type": "code",
   "execution_count": 43,
   "id": "a1dac328-5fff-47df-8e9e-c0bc5e7b0295",
   "metadata": {},
   "outputs": [],
   "source": [
    "t = \"test string\""
   ]
  },
  {
   "cell_type": "code",
   "execution_count": 44,
   "id": "ccee2e9b-b9bb-4c6a-8c6f-0ad3e67ad52a",
   "metadata": {},
   "outputs": [
    {
     "ename": "TypeError",
     "evalue": "'str' object is not an iterator",
     "output_type": "error",
     "traceback": [
      "\u001b[0;31m---------------------------------------------------------------------------\u001b[0m",
      "\u001b[0;31mTypeError\u001b[0m                                 Traceback (most recent call last)",
      "Input \u001b[0;32mIn [44]\u001b[0m, in \u001b[0;36m<cell line: 1>\u001b[0;34m()\u001b[0m\n\u001b[0;32m----> 1\u001b[0m \u001b[38;5;28;43mnext\u001b[39;49m\u001b[43m(\u001b[49m\u001b[43mt\u001b[49m\u001b[43m)\u001b[49m\n",
      "\u001b[0;31mTypeError\u001b[0m: 'str' object is not an iterator"
     ]
    }
   ],
   "source": [
    "next(t)"
   ]
  },
  {
   "cell_type": "code",
   "execution_count": 45,
   "id": "1f3f31b9-66f8-44c6-8d59-56da67c329e1",
   "metadata": {},
   "outputs": [],
   "source": [
    "ti = iter(t)"
   ]
  },
  {
   "cell_type": "code",
   "execution_count": 46,
   "id": "488a6424-cefa-4765-bfa6-1df69cf10e01",
   "metadata": {},
   "outputs": [
    {
     "data": {
      "text/plain": [
       "'t'"
      ]
     },
     "execution_count": 46,
     "metadata": {},
     "output_type": "execute_result"
    }
   ],
   "source": [
    "next(ti)"
   ]
  },
  {
   "cell_type": "code",
   "execution_count": 47,
   "id": "c7d76c91-b336-4b99-a341-ec9cb0cf52bc",
   "metadata": {},
   "outputs": [
    {
     "data": {
      "text/plain": [
       "'e'"
      ]
     },
     "execution_count": 47,
     "metadata": {},
     "output_type": "execute_result"
    }
   ],
   "source": [
    "next(ti)"
   ]
  },
  {
   "cell_type": "code",
   "execution_count": 48,
   "id": "e5218ebc-7ea6-41a4-b625-318f0357c808",
   "metadata": {},
   "outputs": [
    {
     "data": {
      "text/plain": [
       "'s'"
      ]
     },
     "execution_count": 48,
     "metadata": {},
     "output_type": "execute_result"
    }
   ],
   "source": [
    "next(ti)"
   ]
  },
  {
   "cell_type": "code",
   "execution_count": 49,
   "id": "425a0374-f523-4981-b99f-b02d4ca78cd1",
   "metadata": {},
   "outputs": [
    {
     "ename": "TypeError",
     "evalue": "'Library' object is not subscriptable",
     "output_type": "error",
     "traceback": [
      "\u001b[0;31m---------------------------------------------------------------------------\u001b[0m",
      "\u001b[0;31mTypeError\u001b[0m                                 Traceback (most recent call last)",
      "Input \u001b[0;32mIn [49]\u001b[0m, in \u001b[0;36m<cell line: 1>\u001b[0;34m()\u001b[0m\n\u001b[0;32m----> 1\u001b[0m \u001b[43mlibrary_4\u001b[49m\u001b[43m[\u001b[49m\u001b[38;5;241;43m0\u001b[39;49m\u001b[43m]\u001b[49m\n",
      "\u001b[0;31mTypeError\u001b[0m: 'Library' object is not subscriptable"
     ]
    }
   ],
   "source": [
    "library_4[0]"
   ]
  },
  {
   "cell_type": "code",
   "execution_count": 50,
   "id": "5174044a-b4a2-4eae-a853-fcc2e2116288",
   "metadata": {},
   "outputs": [],
   "source": [
    "d = {\n",
    "    \"a\": 1,\n",
    "    \"b\": 2\n",
    "}"
   ]
  },
  {
   "cell_type": "code",
   "execution_count": 51,
   "id": "1a2960b1-86e6-4c91-bbf1-867acf4b50d1",
   "metadata": {},
   "outputs": [
    {
     "name": "stdout",
     "output_type": "stream",
     "text": [
      "a\n",
      "b\n"
     ]
    }
   ],
   "source": [
    "for i in d:\n",
    "    print(i)"
   ]
  },
  {
   "cell_type": "code",
   "execution_count": 52,
   "id": "8590adf7-c94d-406d-b348-19641b5ec776",
   "metadata": {},
   "outputs": [
    {
     "name": "stdout",
     "output_type": "stream",
     "text": [
      "a 1\n",
      "b 2\n"
     ]
    }
   ],
   "source": [
    "for k, v in d.items():\n",
    "    print(k, v)"
   ]
  },
  {
   "cell_type": "code",
   "execution_count": 53,
   "id": "eff5276a-7d34-449f-a446-f28cc159ed4a",
   "metadata": {},
   "outputs": [
    {
     "name": "stdout",
     "output_type": "stream",
     "text": [
      "1\n",
      "2\n"
     ]
    }
   ],
   "source": [
    "for v in d.values():\n",
    "    print(v)"
   ]
  },
  {
   "cell_type": "code",
   "execution_count": 56,
   "id": "049f4934-c9f2-420e-8788-3b160fd83ed4",
   "metadata": {},
   "outputs": [],
   "source": [
    "import itertools"
   ]
  },
  {
   "cell_type": "code",
   "execution_count": 58,
   "id": "b5cb75e4-e47c-4ae0-a9d6-018b39117ca8",
   "metadata": {},
   "outputs": [
    {
     "name": "stdout",
     "output_type": "stream",
     "text": [
      "42\n",
      "43\n",
      "44\n",
      "45\n",
      "46\n",
      "47\n",
      "48\n",
      "49\n",
      "50\n",
      "51\n",
      "52\n"
     ]
    }
   ],
   "source": [
    "for i in itertools.count(42):\n",
    "    print(i)\n",
    "    if i == 52:\n",
    "        break"
   ]
  },
  {
   "cell_type": "code",
   "execution_count": 60,
   "id": "ca69ae58-df56-4db1-a996-81598f0d86b9",
   "metadata": {},
   "outputs": [
    {
     "name": "stdout",
     "output_type": "stream",
     "text": [
      "42\n",
      "45\n",
      "48\n",
      "51\n",
      "54\n"
     ]
    }
   ],
   "source": [
    "for i in itertools.count(42, 3):\n",
    "    print(i)\n",
    "    if i >= 52:\n",
    "        break"
   ]
  },
  {
   "cell_type": "code",
   "execution_count": 61,
   "id": "63e8cf91-79a8-4f36-9bd3-de592fc0f3bb",
   "metadata": {},
   "outputs": [
    {
     "data": {
      "text/plain": [
       "itertools.count"
      ]
     },
     "execution_count": 61,
     "metadata": {},
     "output_type": "execute_result"
    }
   ],
   "source": [
    "type(itertools.count(42, 3))"
   ]
  },
  {
   "cell_type": "code",
   "execution_count": 62,
   "id": "c5ba1c92-d171-41e6-8651-fad2944e1cc8",
   "metadata": {},
   "outputs": [],
   "source": [
    "a = iter(itertools.count(42, 3))"
   ]
  },
  {
   "cell_type": "code",
   "execution_count": 63,
   "id": "736a77cb-29fe-464d-b274-bbdf8b465cc4",
   "metadata": {},
   "outputs": [
    {
     "data": {
      "text/plain": [
       "itertools.count"
      ]
     },
     "execution_count": 63,
     "metadata": {},
     "output_type": "execute_result"
    }
   ],
   "source": [
    "type(a)"
   ]
  },
  {
   "cell_type": "code",
   "execution_count": 64,
   "id": "f9e71c36-5ab1-4c19-a142-a75accb6b62c",
   "metadata": {},
   "outputs": [],
   "source": [
    "a = [12, 24, 42]"
   ]
  },
  {
   "cell_type": "code",
   "execution_count": 69,
   "id": "2b096746-f617-4927-94a9-079761c24334",
   "metadata": {},
   "outputs": [
    {
     "name": "stdout",
     "output_type": "stream",
     "text": [
      "0 12\n",
      "1 24\n",
      "2 42\n",
      "3 12\n",
      "4 24\n",
      "5 42\n",
      "6 12\n",
      "7 24\n",
      "8 42\n",
      "9 12\n",
      "10 24\n"
     ]
    }
   ],
   "source": [
    "for idx, elem in enumerate(itertools.cycle(a)):\n",
    "    print(idx, elem)\n",
    "    if idx == 10:\n",
    "        break"
   ]
  },
  {
   "cell_type": "code",
   "execution_count": 74,
   "id": "cb7729c0-6a2e-490c-b0b2-8ef0ee9104fc",
   "metadata": {},
   "outputs": [
    {
     "data": {
      "text/plain": [
       "[0, 1, 8, 27, 64, 125, 216, 343, 512, 729]"
      ]
     },
     "execution_count": 74,
     "metadata": {},
     "output_type": "execute_result"
    }
   ],
   "source": [
    "y = 3\n",
    "list(map(lambda x: x**y, range(10)))"
   ]
  },
  {
   "cell_type": "code",
   "execution_count": 75,
   "id": "0c94b5f4-01a4-4c9e-a517-d10a472952ff",
   "metadata": {},
   "outputs": [
    {
     "data": {
      "text/plain": [
       "[12, 24, 42]"
      ]
     },
     "execution_count": 75,
     "metadata": {},
     "output_type": "execute_result"
    }
   ],
   "source": [
    "a"
   ]
  },
  {
   "cell_type": "code",
   "execution_count": 76,
   "id": "6c1b78ac-4b12-4ba1-a367-04a2b90ac698",
   "metadata": {},
   "outputs": [
    {
     "data": {
      "text/plain": [
       "'test string'"
      ]
     },
     "execution_count": 76,
     "metadata": {},
     "output_type": "execute_result"
    }
   ],
   "source": [
    "t"
   ]
  },
  {
   "cell_type": "code",
   "execution_count": 78,
   "id": "5eaf2c57-1e8b-4619-83b6-00efb15a428c",
   "metadata": {},
   "outputs": [
    {
     "name": "stdout",
     "output_type": "stream",
     "text": [
      "12\n",
      "24\n",
      "42\n",
      "t\n",
      "e\n",
      "s\n",
      "t\n",
      " \n",
      "s\n",
      "t\n",
      "r\n",
      "i\n",
      "n\n",
      "g\n"
     ]
    }
   ],
   "source": [
    "for i in itertools.chain(a, t):\n",
    "    print(i)"
   ]
  },
  {
   "cell_type": "code",
   "execution_count": 79,
   "id": "53a378c0-44b3-4fdd-ad3f-e19691a4edb5",
   "metadata": {},
   "outputs": [],
   "source": [
    "c = [a, t]"
   ]
  },
  {
   "cell_type": "code",
   "execution_count": 80,
   "id": "b237b1cd-2514-466e-ae28-ca73458f6faa",
   "metadata": {},
   "outputs": [
    {
     "data": {
      "text/plain": [
       "[[12, 24, 42], 'test string']"
      ]
     },
     "execution_count": 80,
     "metadata": {},
     "output_type": "execute_result"
    }
   ],
   "source": [
    "c"
   ]
  },
  {
   "cell_type": "code",
   "execution_count": 81,
   "id": "bd8dbe57-4078-4e06-a764-29a3ec8bf191",
   "metadata": {},
   "outputs": [
    {
     "name": "stdout",
     "output_type": "stream",
     "text": [
      "12\n",
      "24\n",
      "42\n",
      "t\n",
      "e\n",
      "s\n",
      "t\n",
      " \n",
      "s\n",
      "t\n",
      "r\n",
      "i\n",
      "n\n",
      "g\n"
     ]
    }
   ],
   "source": [
    "for i in itertools.chain.from_iterable(c):\n",
    "    print(i)"
   ]
  },
  {
   "cell_type": "code",
   "execution_count": 82,
   "id": "adf8ab20-156f-43d5-99d4-69c5a5822566",
   "metadata": {},
   "outputs": [
    {
     "data": {
      "text/plain": [
       "[12, 24, 42]"
      ]
     },
     "execution_count": 82,
     "metadata": {},
     "output_type": "execute_result"
    }
   ],
   "source": [
    "a"
   ]
  },
  {
   "cell_type": "code",
   "execution_count": 83,
   "id": "e193654f-3cbe-4397-889e-763488425549",
   "metadata": {},
   "outputs": [
    {
     "name": "stdout",
     "output_type": "stream",
     "text": [
      "(12, 'x')\n",
      "(24, 'y')\n",
      "(42, 'x')\n"
     ]
    }
   ],
   "source": [
    "for i in zip(a, itertools.cycle('xy')):\n",
    "    print(i)"
   ]
  },
  {
   "cell_type": "code",
   "execution_count": null,
   "id": "8bfd9ddd-df99-419b-876d-4b65c17a89bd",
   "metadata": {},
   "outputs": [],
   "source": []
  }
 ],
 "metadata": {
  "kernelspec": {
   "display_name": "Python 3 (ipykernel)",
   "language": "python",
   "name": "python3"
  },
  "language_info": {
   "codemirror_mode": {
    "name": "ipython",
    "version": 3
   },
   "file_extension": ".py",
   "mimetype": "text/x-python",
   "name": "python",
   "nbconvert_exporter": "python",
   "pygments_lexer": "ipython3",
   "version": "3.9.13"
  }
 },
 "nbformat": 4,
 "nbformat_minor": 5
}
