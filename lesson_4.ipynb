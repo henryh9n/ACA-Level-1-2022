{
 "cells": [
  {
   "cell_type": "markdown",
   "id": "6e25daec-4ac0-4180-8a9d-107368f3650e",
   "metadata": {},
   "source": [
    "# Lesson 4"
   ]
  },
  {
   "cell_type": "markdown",
   "id": "42aad206-52eb-429b-9c5d-c098774a1874",
   "metadata": {},
   "source": [
    "## Decorators"
   ]
  },
  {
   "cell_type": "markdown",
   "id": "e1c4039d-55d9-4672-bf78-78918dabdf48",
   "metadata": {},
   "source": [
    "### First Class Functions"
   ]
  },
  {
   "cell_type": "code",
   "execution_count": 1,
   "id": "c0712acc-a2a7-4daa-bcc3-6b6447552141",
   "metadata": {},
   "outputs": [],
   "source": [
    "def foo():\n",
    "    print(\"Here I am\")"
   ]
  },
  {
   "cell_type": "code",
   "execution_count": 2,
   "id": "5b116bb2-3eb4-498b-b03e-ac44cd491e8f",
   "metadata": {},
   "outputs": [
    {
     "name": "stdout",
     "output_type": "stream",
     "text": [
      "Here I am\n"
     ]
    }
   ],
   "source": [
    "foo()"
   ]
  },
  {
   "cell_type": "code",
   "execution_count": 3,
   "id": "11eddffc-8654-4e79-824e-1ffac0d2eb31",
   "metadata": {},
   "outputs": [],
   "source": [
    "def bar(func):\n",
    "    print(\"Executing function\")\n",
    "    func()\n",
    "    print(\"Done!\")"
   ]
  },
  {
   "cell_type": "code",
   "execution_count": 4,
   "id": "9b163a01-7078-457e-9bce-165e91258d54",
   "metadata": {},
   "outputs": [
    {
     "name": "stdout",
     "output_type": "stream",
     "text": [
      "Executing function\n",
      "Here I am\n",
      "Done!\n"
     ]
    }
   ],
   "source": [
    "bar(foo)"
   ]
  },
  {
   "cell_type": "code",
   "execution_count": 5,
   "id": "a22719d3-0c5c-4584-94c8-6a35c96b6a70",
   "metadata": {},
   "outputs": [
    {
     "data": {
      "text/plain": [
       "<function __main__.foo()>"
      ]
     },
     "execution_count": 5,
     "metadata": {},
     "output_type": "execute_result"
    }
   ],
   "source": [
    "foo"
   ]
  },
  {
   "cell_type": "code",
   "execution_count": 6,
   "id": "b4eb975f-a23b-4840-af64-0fc13d893d2f",
   "metadata": {},
   "outputs": [],
   "source": [
    "baz = foo"
   ]
  },
  {
   "cell_type": "code",
   "execution_count": 7,
   "id": "652308ea-af87-4e31-b606-306e6e8831eb",
   "metadata": {},
   "outputs": [
    {
     "data": {
      "text/plain": [
       "<function __main__.foo()>"
      ]
     },
     "execution_count": 7,
     "metadata": {},
     "output_type": "execute_result"
    }
   ],
   "source": [
    "baz"
   ]
  },
  {
   "cell_type": "code",
   "execution_count": 8,
   "id": "c4bfc589-4d9f-43d8-87e7-d1935bd4c45c",
   "metadata": {},
   "outputs": [
    {
     "name": "stdout",
     "output_type": "stream",
     "text": [
      "Here I am\n"
     ]
    }
   ],
   "source": [
    "baz()"
   ]
  },
  {
   "cell_type": "code",
   "execution_count": 9,
   "id": "2c226138-44a7-4fa6-a600-3aa14fec5174",
   "metadata": {},
   "outputs": [
    {
     "name": "stdout",
     "output_type": "stream",
     "text": [
      "Here I am\n"
     ]
    }
   ],
   "source": [
    "foo()"
   ]
  },
  {
   "cell_type": "code",
   "execution_count": 10,
   "id": "2ca303f7-cbee-45d2-9cfa-0031292afc04",
   "metadata": {},
   "outputs": [],
   "source": [
    "def foo():\n",
    "    def bar():\n",
    "        print(\"I'm here now\")\n",
    "    \n",
    "    return bar"
   ]
  },
  {
   "cell_type": "code",
   "execution_count": 11,
   "id": "3e8434a3-17be-4fed-82eb-9942d640fd0f",
   "metadata": {},
   "outputs": [],
   "source": [
    "f = foo()"
   ]
  },
  {
   "cell_type": "code",
   "execution_count": 12,
   "id": "b24cb2b3-8add-4a08-b15f-26d6fd16b296",
   "metadata": {},
   "outputs": [
    {
     "data": {
      "text/plain": [
       "<function __main__.foo.<locals>.bar()>"
      ]
     },
     "execution_count": 12,
     "metadata": {},
     "output_type": "execute_result"
    }
   ],
   "source": [
    "f"
   ]
  },
  {
   "cell_type": "code",
   "execution_count": 13,
   "id": "13c15be9-1165-42a0-a17e-a9d1e5599576",
   "metadata": {},
   "outputs": [
    {
     "name": "stdout",
     "output_type": "stream",
     "text": [
      "I'm here now\n"
     ]
    }
   ],
   "source": [
    "f()"
   ]
  },
  {
   "cell_type": "code",
   "execution_count": 14,
   "id": "fd9102fa-1757-4ead-b12b-a9204adc4795",
   "metadata": {},
   "outputs": [],
   "source": [
    "def foo():\n",
    "    def bar(name):\n",
    "        print(f\"My name is: {name}\")\n",
    "    \n",
    "    return bar"
   ]
  },
  {
   "cell_type": "code",
   "execution_count": 15,
   "id": "20b2173a-a206-4153-8c8f-be2c6b9a07ed",
   "metadata": {},
   "outputs": [],
   "source": [
    "f = foo()"
   ]
  },
  {
   "cell_type": "code",
   "execution_count": 16,
   "id": "83758ca3-b2c3-4c96-a211-5dd9f05bf652",
   "metadata": {},
   "outputs": [
    {
     "data": {
      "text/plain": [
       "<function __main__.foo.<locals>.bar(name)>"
      ]
     },
     "execution_count": 16,
     "metadata": {},
     "output_type": "execute_result"
    }
   ],
   "source": [
    "f"
   ]
  },
  {
   "cell_type": "code",
   "execution_count": 18,
   "id": "64ea4e24-6aec-45e1-8e7d-68d841ef6ded",
   "metadata": {},
   "outputs": [
    {
     "name": "stdout",
     "output_type": "stream",
     "text": [
      "My name is: Henry\n"
     ]
    }
   ],
   "source": [
    "f(\"Henry\")"
   ]
  },
  {
   "cell_type": "code",
   "execution_count": 19,
   "id": "23390bd2-459a-4698-b2f7-c03982be5fa2",
   "metadata": {},
   "outputs": [],
   "source": [
    "def foo(name):\n",
    "    def bar():\n",
    "        print(f\"My name is: {name}\")\n",
    "    \n",
    "    return bar"
   ]
  },
  {
   "cell_type": "code",
   "execution_count": 20,
   "id": "fff07ddc-f798-45bc-8504-5db5861e554c",
   "metadata": {},
   "outputs": [],
   "source": [
    "f = foo(\"Henry\")"
   ]
  },
  {
   "cell_type": "code",
   "execution_count": 21,
   "id": "8d87131c-8dff-45be-b9f0-62b98d3dc57e",
   "metadata": {},
   "outputs": [
    {
     "name": "stdout",
     "output_type": "stream",
     "text": [
      "My name is: Henry\n"
     ]
    }
   ],
   "source": [
    "f()"
   ]
  },
  {
   "cell_type": "code",
   "execution_count": 22,
   "id": "8bb43351-1321-44e9-a7ad-52db5cf9ac3b",
   "metadata": {},
   "outputs": [
    {
     "name": "stdout",
     "output_type": "stream",
     "text": [
      "My name is: Henry\n"
     ]
    }
   ],
   "source": [
    "f()"
   ]
  },
  {
   "cell_type": "code",
   "execution_count": 23,
   "id": "7b7d635e-1618-4084-ac41-dd56110e3b22",
   "metadata": {},
   "outputs": [],
   "source": [
    "def greeter():\n",
    "    print(\"Welcome to our program\")"
   ]
  },
  {
   "cell_type": "code",
   "execution_count": 24,
   "id": "2addb2a8-a8fe-4dd0-b4a7-589884ba44b5",
   "metadata": {},
   "outputs": [
    {
     "name": "stdout",
     "output_type": "stream",
     "text": [
      "Welcome to our program\n"
     ]
    }
   ],
   "source": [
    "greeter()"
   ]
  },
  {
   "cell_type": "code",
   "execution_count": 29,
   "id": "38ae82c6-8829-4cd7-811e-b0d1224734ea",
   "metadata": {},
   "outputs": [],
   "source": [
    "def func_logger(func):\n",
    "    print(f\"Executing the function: {func.__name__}\")\n",
    "    func()\n",
    "    print(\"Done!\")"
   ]
  },
  {
   "cell_type": "code",
   "execution_count": 30,
   "id": "c9457ebb-1630-42b5-840f-a37af1013fa9",
   "metadata": {},
   "outputs": [
    {
     "name": "stdout",
     "output_type": "stream",
     "text": [
      "Executing the function: greeter\n",
      "Welcome to our program\n",
      "Done!\n"
     ]
    }
   ],
   "source": [
    "func_logger(greeter)"
   ]
  },
  {
   "cell_type": "code",
   "execution_count": 32,
   "id": "7129f3f1-b893-458f-abbe-7278a4f461c6",
   "metadata": {},
   "outputs": [
    {
     "name": "stdout",
     "output_type": "stream",
     "text": [
      "Welcome to our program\n"
     ]
    }
   ],
   "source": [
    "greeter()"
   ]
  },
  {
   "cell_type": "code",
   "execution_count": 33,
   "id": "bdcff3b2-8112-42b1-b03c-1ebb18c37082",
   "metadata": {},
   "outputs": [],
   "source": [
    "def func_logger(func):\n",
    "    def wrapper():\n",
    "        print(f\"Executing the function: {func.__name__}\")\n",
    "        func()\n",
    "        print(\"Done!\")\n",
    "    \n",
    "    return wrapper"
   ]
  },
  {
   "cell_type": "code",
   "execution_count": 35,
   "id": "6125872f-288f-4516-9578-cd8cee6fe0ae",
   "metadata": {},
   "outputs": [],
   "source": [
    "f = func_logger(greeter)"
   ]
  },
  {
   "cell_type": "code",
   "execution_count": 36,
   "id": "9d799b09-6073-4e88-8d9f-c1c099e533b7",
   "metadata": {},
   "outputs": [
    {
     "data": {
      "text/plain": [
       "<function __main__.func_logger.<locals>.wrapper()>"
      ]
     },
     "execution_count": 36,
     "metadata": {},
     "output_type": "execute_result"
    }
   ],
   "source": [
    "f"
   ]
  },
  {
   "cell_type": "code",
   "execution_count": 37,
   "id": "3d3e7e85-4635-485e-b0d1-c4f8172468dc",
   "metadata": {},
   "outputs": [
    {
     "name": "stdout",
     "output_type": "stream",
     "text": [
      "Executing the function: greeter\n",
      "Welcome to our program\n",
      "Done!\n"
     ]
    }
   ],
   "source": [
    "f()"
   ]
  },
  {
   "cell_type": "code",
   "execution_count": 38,
   "id": "f73fe6c7-129a-432f-8a34-1aca1d80de2f",
   "metadata": {},
   "outputs": [
    {
     "name": "stdout",
     "output_type": "stream",
     "text": [
      "Welcome to our program\n"
     ]
    }
   ],
   "source": [
    "greeter()"
   ]
  },
  {
   "cell_type": "code",
   "execution_count": 39,
   "id": "0184077e-3bd6-4c89-8f54-eea54179951a",
   "metadata": {},
   "outputs": [],
   "source": [
    "greeter = func_logger(greeter)"
   ]
  },
  {
   "cell_type": "code",
   "execution_count": 41,
   "id": "0f65134c-29b1-40f6-9447-93f83b83b87b",
   "metadata": {},
   "outputs": [
    {
     "name": "stdout",
     "output_type": "stream",
     "text": [
      "Executing the function: greeter\n",
      "Welcome to our program\n",
      "Done!\n"
     ]
    }
   ],
   "source": [
    "greeter()"
   ]
  },
  {
   "cell_type": "code",
   "execution_count": 42,
   "id": "5b15b4f7-a045-453c-a7db-36fa439800db",
   "metadata": {},
   "outputs": [],
   "source": [
    "def func_logger(func):\n",
    "    def wrapper():\n",
    "        print(f\"Executing the function: {func.__name__}\")\n",
    "        func()\n",
    "        print(\"Done!\")\n",
    "    \n",
    "    return wrapper"
   ]
  },
  {
   "cell_type": "code",
   "execution_count": 46,
   "id": "166de4aa-02a3-485f-bdd2-b1982e25f0e1",
   "metadata": {},
   "outputs": [],
   "source": [
    "def greeter():\n",
    "    print(\"Welcome\")\n",
    "    \n",
    "greeter = func_logger(greeter)\n",
    "\n",
    "# =========== SAME AS =============\n",
    "\n",
    "@func_logger\n",
    "def greeter():\n",
    "    print(\"Welcome\")"
   ]
  },
  {
   "cell_type": "code",
   "execution_count": 47,
   "id": "6707fb90-5580-446a-bdce-beba60b96f38",
   "metadata": {},
   "outputs": [],
   "source": [
    "@func_logger\n",
    "def greeter():\n",
    "    print(\"Welcome\")"
   ]
  },
  {
   "cell_type": "code",
   "execution_count": 48,
   "id": "b0d23ed1-8e14-460a-abe6-7a9fdc7169f7",
   "metadata": {},
   "outputs": [
    {
     "name": "stdout",
     "output_type": "stream",
     "text": [
      "Executing the function: greeter\n",
      "Welcome\n",
      "Done!\n"
     ]
    }
   ],
   "source": [
    "greeter()"
   ]
  },
  {
   "cell_type": "code",
   "execution_count": 64,
   "id": "a0d88ccb-ad0c-4b19-abf6-58db3eda7a4e",
   "metadata": {},
   "outputs": [],
   "source": [
    "def func_logger(func):\n",
    "    def wrapper(*args, **kwargs):\n",
    "        print(f\"Executing the function: {func.__name__}\")\n",
    "        func(*args, **kwargs)\n",
    "        print(\"Done!\")\n",
    "\n",
    "    return wrapper"
   ]
  },
  {
   "cell_type": "code",
   "execution_count": 65,
   "id": "4d443bb7-3fa8-444f-b6c1-3b12045c52c3",
   "metadata": {},
   "outputs": [],
   "source": [
    "@func_logger\n",
    "def greeter(name):\n",
    "    print(f\"Welcome {name}!\")"
   ]
  },
  {
   "cell_type": "code",
   "execution_count": 66,
   "id": "cdd5699c-463e-4721-a6ba-b3808330b7d3",
   "metadata": {},
   "outputs": [
    {
     "name": "stdout",
     "output_type": "stream",
     "text": [
      "Executing the function: greeter\n",
      "Welcome Henry!\n",
      "Done!\n"
     ]
    }
   ],
   "source": [
    "greeter(\"Henry\")"
   ]
  },
  {
   "cell_type": "code",
   "execution_count": 67,
   "id": "ccbf9c08-97fb-4306-842b-b349fbf66d5e",
   "metadata": {},
   "outputs": [],
   "source": [
    "@func_logger\n",
    "def introducer(name, age):\n",
    "    print(f\"Hello! I'm {name} and I am {age} years old\")"
   ]
  },
  {
   "cell_type": "code",
   "execution_count": 68,
   "id": "ce81cabd-a93c-43af-9706-1021ed54bca0",
   "metadata": {},
   "outputs": [
    {
     "name": "stdout",
     "output_type": "stream",
     "text": [
      "Executing the function: introducer\n",
      "Hello! I'm Adam and I am 18 years old\n",
      "Done!\n"
     ]
    }
   ],
   "source": [
    "introducer(\"Adam\", 18)"
   ]
  },
  {
   "cell_type": "code",
   "execution_count": 81,
   "id": "2808c677-f8ff-4a93-9734-c3000d2de60c",
   "metadata": {},
   "outputs": [],
   "source": [
    "def func_logger(func):\n",
    "    def wrapper(*args, **kwargs):\n",
    "        print(f\"Executing the function: {func.__name__}\")\n",
    "        res = func(*args, **kwargs)\n",
    "        print(\"Done!\")\n",
    "        return res\n",
    "\n",
    "    return wrapper"
   ]
  },
  {
   "cell_type": "code",
   "execution_count": 82,
   "id": "c69a3d24-b0fb-4228-8cbd-fb4a01226466",
   "metadata": {},
   "outputs": [],
   "source": [
    "def square(x):\n",
    "    return x**2"
   ]
  },
  {
   "cell_type": "code",
   "execution_count": 83,
   "id": "1870b9e0-c7e1-4112-ae7a-e6b079c0e293",
   "metadata": {},
   "outputs": [],
   "source": [
    "y = square(2)"
   ]
  },
  {
   "cell_type": "code",
   "execution_count": 84,
   "id": "d597007a-93a6-4e60-9e69-38948a0c055d",
   "metadata": {},
   "outputs": [
    {
     "data": {
      "text/plain": [
       "4"
      ]
     },
     "execution_count": 84,
     "metadata": {},
     "output_type": "execute_result"
    }
   ],
   "source": [
    "y"
   ]
  },
  {
   "cell_type": "code",
   "execution_count": 85,
   "id": "27d2bf1a-c5cb-4113-9cd5-e08d2ff5358c",
   "metadata": {},
   "outputs": [],
   "source": [
    "@func_logger\n",
    "def square(x):\n",
    "    return x**2"
   ]
  },
  {
   "cell_type": "code",
   "execution_count": 86,
   "id": "f57e17a1-6dfb-4665-b9d7-401e3a58dbd1",
   "metadata": {},
   "outputs": [
    {
     "name": "stdout",
     "output_type": "stream",
     "text": [
      "Executing the function: square\n",
      "Done!\n"
     ]
    }
   ],
   "source": [
    "y = square(2)"
   ]
  },
  {
   "cell_type": "code",
   "execution_count": 87,
   "id": "0af90401-bf6f-4198-93f4-008d477b343a",
   "metadata": {},
   "outputs": [
    {
     "data": {
      "text/plain": [
       "4"
      ]
     },
     "execution_count": 87,
     "metadata": {},
     "output_type": "execute_result"
    }
   ],
   "source": [
    "y"
   ]
  },
  {
   "cell_type": "markdown",
   "id": "93dc1d91-0c25-4d24-b45a-507c970d2122",
   "metadata": {},
   "source": [
    "## Unpacking"
   ]
  },
  {
   "cell_type": "code",
   "execution_count": 88,
   "id": "fb4b85c8-249e-47d3-91b3-45be8397a0b7",
   "metadata": {},
   "outputs": [],
   "source": [
    "t = (42, \"Henry\", True)"
   ]
  },
  {
   "cell_type": "code",
   "execution_count": 89,
   "id": "6aec8c24-3eca-43db-afb7-bb0e78769cf5",
   "metadata": {},
   "outputs": [],
   "source": [
    "age, name, is_teacher = t"
   ]
  },
  {
   "cell_type": "code",
   "execution_count": 90,
   "id": "0e68be2d-68a1-4308-92da-907bdf17bd9c",
   "metadata": {},
   "outputs": [
    {
     "data": {
      "text/plain": [
       "42"
      ]
     },
     "execution_count": 90,
     "metadata": {},
     "output_type": "execute_result"
    }
   ],
   "source": [
    "age"
   ]
  },
  {
   "cell_type": "code",
   "execution_count": 91,
   "id": "b1114316-261f-42a3-9ee0-20e0198a035f",
   "metadata": {},
   "outputs": [
    {
     "data": {
      "text/plain": [
       "'Henry'"
      ]
     },
     "execution_count": 91,
     "metadata": {},
     "output_type": "execute_result"
    }
   ],
   "source": [
    "name"
   ]
  },
  {
   "cell_type": "code",
   "execution_count": 92,
   "id": "e408dbe6-5c3a-4c6e-ac7b-41f4f643c1f7",
   "metadata": {},
   "outputs": [
    {
     "data": {
      "text/plain": [
       "True"
      ]
     },
     "execution_count": 92,
     "metadata": {},
     "output_type": "execute_result"
    }
   ],
   "source": [
    "is_teacher"
   ]
  },
  {
   "cell_type": "code",
   "execution_count": 94,
   "id": "ddd6cf83-4ad3-47e2-b362-2eab6f423694",
   "metadata": {},
   "outputs": [],
   "source": [
    "age, *_ = t"
   ]
  },
  {
   "cell_type": "code",
   "execution_count": 95,
   "id": "4cfe2b64-fa18-4e20-a1a1-db50cf23e7b2",
   "metadata": {},
   "outputs": [
    {
     "data": {
      "text/plain": [
       "42"
      ]
     },
     "execution_count": 95,
     "metadata": {},
     "output_type": "execute_result"
    }
   ],
   "source": [
    "age"
   ]
  },
  {
   "cell_type": "code",
   "execution_count": 96,
   "id": "71a423f9-de1a-45b3-b798-a962d9c3187b",
   "metadata": {},
   "outputs": [],
   "source": [
    "def student_list(students):\n",
    "    for i, name in enumerate(students):\n",
    "        print(f\"{i + 1}: {name}\")"
   ]
  },
  {
   "cell_type": "code",
   "execution_count": 97,
   "id": "65fe0019-1632-408f-b26a-7d412db7248c",
   "metadata": {},
   "outputs": [
    {
     "name": "stdout",
     "output_type": "stream",
     "text": [
      "1: Henry\n",
      "2: Adam\n",
      "3: Jack\n",
      "4: John\n"
     ]
    }
   ],
   "source": [
    "student_list([\"Henry\", \"Adam\", \"Jack\", \"John\"])"
   ]
  },
  {
   "cell_type": "code",
   "execution_count": 98,
   "id": "cfaa1d1d-144d-4199-a324-70a69060034e",
   "metadata": {},
   "outputs": [
    {
     "name": "stdout",
     "output_type": "stream",
     "text": [
      "1: Henry\n",
      "2: Adam\n",
      "3: Jack\n",
      "4: John\n"
     ]
    }
   ],
   "source": [
    "student_list((\"Henry\", \"Adam\", \"Jack\", \"John\"))"
   ]
  },
  {
   "cell_type": "code",
   "execution_count": 101,
   "id": "3fbb032d-0393-4566-b2bc-eb8da66d996d",
   "metadata": {},
   "outputs": [],
   "source": [
    "def student_list(*students):\n",
    "    print(students)\n",
    "    print(type(students))\n",
    "    for i, name in enumerate(students):\n",
    "        print(f\"{i + 1}: {name}\")"
   ]
  },
  {
   "cell_type": "code",
   "execution_count": 103,
   "id": "82f10001-9f57-470b-94d0-20194e07fcf7",
   "metadata": {},
   "outputs": [
    {
     "name": "stdout",
     "output_type": "stream",
     "text": [
      "('Henry', 'Adam', 'Jack', 'John', 'Caroline')\n",
      "<class 'tuple'>\n",
      "1: Henry\n",
      "2: Adam\n",
      "3: Jack\n",
      "4: John\n",
      "5: Caroline\n"
     ]
    }
   ],
   "source": [
    "student_list(\"Henry\", \"Adam\", \"Jack\", \"John\", \"Caroline\")"
   ]
  },
  {
   "cell_type": "code",
   "execution_count": 145,
   "id": "4956532c-b304-4213-9d25-6d3fd44ad974",
   "metadata": {},
   "outputs": [],
   "source": [
    "def student_info(name, **kwargs):\n",
    "    print(f\"Student {name} \\n {', '.join([f'{key}: {val}' for key, val in kwargs.items()])}\")"
   ]
  },
  {
   "cell_type": "code",
   "execution_count": 146,
   "id": "f8e828e4-e153-4862-a4d5-02cfb0f542c2",
   "metadata": {},
   "outputs": [
    {
     "name": "stdout",
     "output_type": "stream",
     "text": [
      "Student Adam \n",
      " age: 42, gender: Male, city: Amsterdam\n"
     ]
    }
   ],
   "source": [
    "student_info(\"Adam\", age=42, gender=\"Male\", city=\"Amsterdam\")"
   ]
  },
  {
   "cell_type": "markdown",
   "id": "b616416a-e4e2-465f-8a4c-d84c6f625a35",
   "metadata": {},
   "source": [
    "## Function Names with Decorators"
   ]
  },
  {
   "cell_type": "code",
   "execution_count": 147,
   "id": "b1e6af6c-24f0-451a-9bd4-bfaa4bdadbf0",
   "metadata": {},
   "outputs": [],
   "source": [
    "def func_logger(func):\n",
    "    def wrapper(*args, **kwargs):\n",
    "        print(f\"Executing the function: {func.__name__}\")\n",
    "        res = func(*args, **kwargs)\n",
    "        print(\"Done!\")\n",
    "        return res\n",
    "\n",
    "    return wrapper"
   ]
  },
  {
   "cell_type": "code",
   "execution_count": 151,
   "id": "d5d80a79-e6cb-47cd-9806-b7afa38e81ce",
   "metadata": {},
   "outputs": [],
   "source": [
    "def foo():\n",
    "    \"\"\"This is a simple function.\"\"\"\n",
    "    print(\"welcome\")"
   ]
  },
  {
   "cell_type": "code",
   "execution_count": 152,
   "id": "ede5dd55-20fb-4cbc-85c4-cde2b45c0204",
   "metadata": {},
   "outputs": [
    {
     "data": {
      "text/plain": [
       "'foo'"
      ]
     },
     "execution_count": 152,
     "metadata": {},
     "output_type": "execute_result"
    }
   ],
   "source": [
    "foo.__name__"
   ]
  },
  {
   "cell_type": "code",
   "execution_count": 153,
   "id": "f6472fa1-40e5-475e-b859-48133167485b",
   "metadata": {},
   "outputs": [
    {
     "data": {
      "text/plain": [
       "'This is a simple function.'"
      ]
     },
     "execution_count": 153,
     "metadata": {},
     "output_type": "execute_result"
    }
   ],
   "source": [
    "foo.__doc__"
   ]
  },
  {
   "cell_type": "code",
   "execution_count": 154,
   "id": "ac3fcc2b-7a7a-43ee-b567-475af685e1d0",
   "metadata": {},
   "outputs": [
    {
     "name": "stdout",
     "output_type": "stream",
     "text": [
      "Help on function foo in module __main__:\n",
      "\n",
      "foo()\n",
      "    This is a simple function.\n",
      "\n"
     ]
    }
   ],
   "source": [
    "help(foo)"
   ]
  },
  {
   "cell_type": "code",
   "execution_count": 156,
   "id": "5a70d4e4-8b78-46b8-9732-1dc4a701d894",
   "metadata": {},
   "outputs": [],
   "source": [
    "@func_logger\n",
    "def bar():\n",
    "    \"This is another simple function\"\n",
    "    print(\"Hello!\")"
   ]
  },
  {
   "cell_type": "code",
   "execution_count": 157,
   "id": "040d98cd-61ac-415c-b891-2fc415c81699",
   "metadata": {},
   "outputs": [
    {
     "data": {
      "text/plain": [
       "'wrapper'"
      ]
     },
     "execution_count": 157,
     "metadata": {},
     "output_type": "execute_result"
    }
   ],
   "source": [
    "bar.__name__"
   ]
  },
  {
   "cell_type": "code",
   "execution_count": 158,
   "id": "519bac35-aa3a-4b6a-8c0a-e2bb1632ff0b",
   "metadata": {},
   "outputs": [],
   "source": [
    "bar.__doc__"
   ]
  },
  {
   "cell_type": "code",
   "execution_count": 159,
   "id": "934f159f-4255-4f88-be24-1bc455b8d146",
   "metadata": {},
   "outputs": [
    {
     "name": "stdout",
     "output_type": "stream",
     "text": [
      "Help on function wrapper in module __main__:\n",
      "\n",
      "wrapper(*args, **kwargs)\n",
      "\n"
     ]
    }
   ],
   "source": [
    "help(bar)"
   ]
  },
  {
   "cell_type": "code",
   "execution_count": 165,
   "id": "e2d46caa-5e33-4ac6-9426-9ac629e3374c",
   "metadata": {},
   "outputs": [],
   "source": [
    "def func_logger(func):\n",
    "    def wrapper(*args, **kwargs):\n",
    "        print(f\"Executing the function: {func.__name__}\")\n",
    "        res = func(*args, **kwargs)\n",
    "        print(\"Done!\")\n",
    "        return res\n",
    "\n",
    "    wrapper.__name__ = func.__name__\n",
    "    wrapper.__doc__ = func.__doc__\n",
    "    \n",
    "    return wrapper"
   ]
  },
  {
   "cell_type": "code",
   "execution_count": 166,
   "id": "cdb6d43e-0552-4b5b-a46b-4edc0ab7cdd8",
   "metadata": {},
   "outputs": [],
   "source": [
    "@func_logger\n",
    "def baz(name):\n",
    "    \"\"\"Another simple function with parameter\"\"\"\n",
    "    print(\"Hello\", name)"
   ]
  },
  {
   "cell_type": "code",
   "execution_count": 167,
   "id": "2b182395-cefe-444a-853d-1b62ba78471a",
   "metadata": {},
   "outputs": [
    {
     "data": {
      "text/plain": [
       "'baz'"
      ]
     },
     "execution_count": 167,
     "metadata": {},
     "output_type": "execute_result"
    }
   ],
   "source": [
    "baz.__name__"
   ]
  },
  {
   "cell_type": "code",
   "execution_count": 168,
   "id": "fcf1b0b4-3802-4fc4-be19-68dd1f3d4899",
   "metadata": {},
   "outputs": [
    {
     "data": {
      "text/plain": [
       "'Another simple function with parameter'"
      ]
     },
     "execution_count": 168,
     "metadata": {},
     "output_type": "execute_result"
    }
   ],
   "source": [
    "baz.__doc__"
   ]
  },
  {
   "cell_type": "code",
   "execution_count": 169,
   "id": "176d8203-624f-4d52-b3fb-c0b045188b7b",
   "metadata": {},
   "outputs": [
    {
     "name": "stdout",
     "output_type": "stream",
     "text": [
      "Help on function baz in module __main__:\n",
      "\n",
      "baz(*args, **kwargs)\n",
      "    Another simple function with parameter\n",
      "\n"
     ]
    }
   ],
   "source": [
    "help(baz)"
   ]
  },
  {
   "cell_type": "code",
   "execution_count": 171,
   "id": "ca4b01db-eba9-43c7-a2bc-420bdbe29ba3",
   "metadata": {},
   "outputs": [],
   "source": [
    "from functools import wraps"
   ]
  },
  {
   "cell_type": "code",
   "execution_count": 172,
   "id": "9eda015c-6cdb-47bf-8b3d-eca0a3fbd6bd",
   "metadata": {},
   "outputs": [],
   "source": [
    "def func_logger(func):\n",
    "    @wraps(func)\n",
    "    def wrapper(*args, **kwargs):\n",
    "        print(f\"Executing the function: {func.__name__}\")\n",
    "        res = func(*args, **kwargs)\n",
    "        print(\"Done!\")\n",
    "        return res\n",
    "    \n",
    "    return wrapper"
   ]
  },
  {
   "cell_type": "code",
   "execution_count": 180,
   "id": "2848d0c6-1418-43b1-9373-aa8bd39b4b3f",
   "metadata": {},
   "outputs": [],
   "source": [
    "@func_logger\n",
    "def greeter(name):\n",
    "    \"\"\"Example\"\"\"\n",
    "    print(\"hello\", name)"
   ]
  },
  {
   "cell_type": "code",
   "execution_count": 181,
   "id": "c88941d1-8245-4747-8b2e-1924786143b1",
   "metadata": {},
   "outputs": [
    {
     "data": {
      "text/plain": [
       "'greeter'"
      ]
     },
     "execution_count": 181,
     "metadata": {},
     "output_type": "execute_result"
    }
   ],
   "source": [
    "greeter.__name__"
   ]
  },
  {
   "cell_type": "code",
   "execution_count": 182,
   "id": "fb43fcb0-627e-4bed-a710-c16a77bd9a88",
   "metadata": {},
   "outputs": [
    {
     "data": {
      "text/plain": [
       "'Example'"
      ]
     },
     "execution_count": 182,
     "metadata": {},
     "output_type": "execute_result"
    }
   ],
   "source": [
    "greeter.__doc__"
   ]
  },
  {
   "cell_type": "code",
   "execution_count": 183,
   "id": "8e9701ad-605a-4be3-923e-92cfb45bc57d",
   "metadata": {},
   "outputs": [
    {
     "name": "stdout",
     "output_type": "stream",
     "text": [
      "Help on function greeter in module __main__:\n",
      "\n",
      "greeter(name)\n",
      "    Example\n",
      "\n"
     ]
    }
   ],
   "source": [
    "help(greeter)"
   ]
  },
  {
   "cell_type": "code",
   "execution_count": null,
   "id": "596fe6f3-7b99-4bd7-8ed7-788f7dc6e9e6",
   "metadata": {},
   "outputs": [],
   "source": []
  }
 ],
 "metadata": {
  "kernelspec": {
   "display_name": "Python 3 (ipykernel)",
   "language": "python",
   "name": "python3"
  },
  "language_info": {
   "codemirror_mode": {
    "name": "ipython",
    "version": 3
   },
   "file_extension": ".py",
   "mimetype": "text/x-python",
   "name": "python",
   "nbconvert_exporter": "python",
   "pygments_lexer": "ipython3",
   "version": "3.9.13"
  }
 },
 "nbformat": 4,
 "nbformat_minor": 5
}
