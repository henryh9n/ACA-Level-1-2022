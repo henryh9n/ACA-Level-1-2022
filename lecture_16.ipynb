{
 "cells": [
  {
   "cell_type": "markdown",
   "id": "5ecee2fa-b0cc-4894-b4c6-edc0e6e37df6",
   "metadata": {},
   "source": [
    "# Lecture 16 ~ SOLID"
   ]
  },
  {
   "cell_type": "markdown",
   "id": "8702703d-49d2-4cc3-ad47-a2b7453e5cce",
   "metadata": {},
   "source": [
    "## Single Responsibility Principle"
   ]
  },
  {
   "cell_type": "code",
   "execution_count": null,
   "id": "9632a962-99c0-44e9-affd-c390f5993227",
   "metadata": {},
   "outputs": [],
   "source": [
    "# overengineering"
   ]
  },
  {
   "cell_type": "code",
   "execution_count": 6,
   "id": "f2217179-53aa-4173-932a-cd0de86530e3",
   "metadata": {},
   "outputs": [],
   "source": [
    "class Animal:\n",
    "    def walk(self):\n",
    "        print(\"walking\")\n",
    "\n",
    "    def talk(self, speech):\n",
    "        print(speech)"
   ]
  },
  {
   "cell_type": "code",
   "execution_count": 7,
   "id": "cd23c7d5-51de-4faa-a2c2-083c869ab78c",
   "metadata": {},
   "outputs": [],
   "source": [
    "class CanWalkMixin:\n",
    "    def walk(self):\n",
    "        print(\"walking\")"
   ]
  },
  {
   "cell_type": "code",
   "execution_count": 8,
   "id": "c59362ae-5b23-4752-9c3b-41eeb0e95e9c",
   "metadata": {},
   "outputs": [],
   "source": [
    "class Animal(CanWalkMixin):\n",
    "    def talk(self, speech):\n",
    "        print(speech)"
   ]
  },
  {
   "cell_type": "code",
   "execution_count": 9,
   "id": "0d5d7b1c-a427-456a-a074-6212bc9294f7",
   "metadata": {},
   "outputs": [],
   "source": [
    "class Human(CanWalkMixin):\n",
    "    def talk(self, tone_of_voice, speech):\n",
    "        print(speech)"
   ]
  },
  {
   "cell_type": "markdown",
   "id": "6fd927ca-0027-4b9d-8775-b8b138a3d8f3",
   "metadata": {},
   "source": [
    "## Open/Close Principle"
   ]
  },
  {
   "cell_type": "code",
   "execution_count": 11,
   "id": "c24194ab-ce41-427b-8d04-cb2de72a5f3d",
   "metadata": {},
   "outputs": [],
   "source": [
    "import math\n",
    "from abc import ABC, abstractmethod\n",
    "\n",
    "class Shape(ABC):\n",
    "    @abstractmethod\n",
    "    def area(self):\n",
    "        raise NotImplementedError()\n",
    "\n",
    "\n",
    "class Rectangle(Shape):\n",
    "    def __init__(self, length, width):\n",
    "        self.length = length\n",
    "        self.width = width\n",
    "        \n",
    "    def area(self):\n",
    "        return self.length * self.width\n",
    "\n",
    "\n",
    "class Circle(Shape):\n",
    "    def __init__(self, radius):\n",
    "        self.radius = radius\n",
    "    \n",
    "    def area(self):\n",
    "        return self.radius * math.pi**2"
   ]
  },
  {
   "cell_type": "code",
   "execution_count": 19,
   "id": "4c9bf28e-0743-43a4-90ca-4e7e4b866245",
   "metadata": {},
   "outputs": [],
   "source": [
    "def area_calculator(*args):\n",
    "    total_area = 0\n",
    "    for shape_obj in args:\n",
    "        total_area += shape_obj.area()\n",
    "    return total_area"
   ]
  },
  {
   "cell_type": "code",
   "execution_count": 20,
   "id": "b708db9f-6371-4c0c-8156-db4f81997bbc",
   "metadata": {},
   "outputs": [],
   "source": [
    "a = Rectangle(10, 14)"
   ]
  },
  {
   "cell_type": "code",
   "execution_count": 21,
   "id": "f6e78057-ac96-43c2-b546-ae2fb1458517",
   "metadata": {},
   "outputs": [
    {
     "data": {
      "text/plain": [
       "140"
      ]
     },
     "execution_count": 21,
     "metadata": {},
     "output_type": "execute_result"
    }
   ],
   "source": [
    "area_calculator(a)"
   ]
  },
  {
   "cell_type": "code",
   "execution_count": 22,
   "id": "eb7c8cc5-b1a6-459b-8c20-09878f27d669",
   "metadata": {},
   "outputs": [],
   "source": [
    "b = Circle(10)"
   ]
  },
  {
   "cell_type": "code",
   "execution_count": 23,
   "id": "91994260-949c-4921-9a0c-af30b1f3f295",
   "metadata": {},
   "outputs": [
    {
     "data": {
      "text/plain": [
       "98.69604401089359"
      ]
     },
     "execution_count": 23,
     "metadata": {},
     "output_type": "execute_result"
    }
   ],
   "source": [
    "area_calculator(b)"
   ]
  },
  {
   "cell_type": "code",
   "execution_count": 24,
   "id": "295b2285-06d6-44b1-95e1-2faa6b2cabf2",
   "metadata": {},
   "outputs": [
    {
     "data": {
      "text/plain": [
       "238.6960440108936"
      ]
     },
     "execution_count": 24,
     "metadata": {},
     "output_type": "execute_result"
    }
   ],
   "source": [
    "area_calculator(a, b)"
   ]
  },
  {
   "cell_type": "code",
   "execution_count": 28,
   "id": "cd9fcb16-c131-4742-9dff-58dfe3bfe653",
   "metadata": {},
   "outputs": [],
   "source": [
    "class Object(ABC):\n",
    "    @abstractmethod\n",
    "    def area(self):\n",
    "        raise NotImplementedError()\n",
    "        \n",
    "    @abstractmethod\n",
    "    def volume(self):\n",
    "        raise NotImplementedError()\n",
    "    \n",
    "\n",
    "class Cube:\n",
    "    def __init__(self, height, width, length):\n",
    "        self.height = height\n",
    "        self.width = width\n",
    "        self.length = length\n",
    "        \n",
    "    def area(self):\n",
    "        return 2 * (self.length * self.width + self.length * self.height + self.height * self.width)\n",
    "    \n",
    "    def volume(self):\n",
    "        return self.width * self.height * self.length"
   ]
  },
  {
   "cell_type": "code",
   "execution_count": 29,
   "id": "db8dd071-4bbd-4d85-aefd-0f40d62cc505",
   "metadata": {},
   "outputs": [],
   "source": [
    "c = Cube(10, 10, 20)"
   ]
  },
  {
   "cell_type": "code",
   "execution_count": 30,
   "id": "11e606d2-d702-4607-a09c-6a30b9e6fc4d",
   "metadata": {},
   "outputs": [
    {
     "data": {
      "text/plain": [
       "1000"
      ]
     },
     "execution_count": 30,
     "metadata": {},
     "output_type": "execute_result"
    }
   ],
   "source": [
    "area_calculator(c)"
   ]
  },
  {
   "cell_type": "markdown",
   "id": "ad5dce3c-5f4f-471d-9e8c-e25237deb570",
   "metadata": {},
   "source": [
    "## Liskov Substitution Principle"
   ]
  },
  {
   "cell_type": "code",
   "execution_count": 37,
   "id": "ed7193d7-a6bf-4cdc-9d30-3b00223da5a8",
   "metadata": {},
   "outputs": [],
   "source": [
    "class Square(Rectangle):\n",
    "    def __init__(self, width):\n",
    "        self.width = width\n",
    "    \n",
    "    def area(self):\n",
    "        return self.width**2"
   ]
  },
  {
   "cell_type": "code",
   "execution_count": 38,
   "id": "77eb3d41-55f7-4373-80f6-68cd3ecd546c",
   "metadata": {},
   "outputs": [],
   "source": [
    "d = Square(10)"
   ]
  },
  {
   "cell_type": "code",
   "execution_count": 40,
   "id": "56dc3882-3a96-486e-93df-d6202ceb437e",
   "metadata": {},
   "outputs": [
    {
     "data": {
      "text/plain": [
       "100"
      ]
     },
     "execution_count": 40,
     "metadata": {},
     "output_type": "execute_result"
    }
   ],
   "source": [
    "area_calculator(d)"
   ]
  },
  {
   "cell_type": "markdown",
   "id": "c2352bd8-fa60-4c27-829b-e5ad778a0dd2",
   "metadata": {},
   "source": [
    "## Interface Segragation Principle"
   ]
  },
  {
   "cell_type": "code",
   "execution_count": 41,
   "id": "47f4655c-f654-4d20-b962-0d0fefb74543",
   "metadata": {},
   "outputs": [],
   "source": [
    "class Animal:\n",
    "    def walk(self):\n",
    "        raise NotImplementedError\n",
    "        \n",
    "    def swim(self):\n",
    "        raise NotImplementedError\n",
    "        \n",
    "    def talk(self):\n",
    "        raise NotImplementedError"
   ]
  },
  {
   "cell_type": "code",
   "execution_count": 42,
   "id": "b08807f4-ed43-481d-9514-95769e2f9e6a",
   "metadata": {},
   "outputs": [],
   "source": [
    "class Human(Animal):\n",
    "    def walk(self):\n",
    "        print(\"walking\")\n",
    "        \n",
    "    def swim(self):\n",
    "        print(\"swimming\")\n",
    "        \n",
    "    def talk(self):\n",
    "        print(\"talking\")"
   ]
  },
  {
   "cell_type": "code",
   "execution_count": 43,
   "id": "4e7467ff-dbfb-45be-ba46-33c0a378190e",
   "metadata": {},
   "outputs": [],
   "source": [
    "class Whale(Animal):\n",
    "    pass"
   ]
  },
  {
   "cell_type": "code",
   "execution_count": 52,
   "id": "50797f1c-ca57-4f64-b13b-d340c41bac87",
   "metadata": {},
   "outputs": [],
   "source": [
    "class Animal:\n",
    "    def talk(self):\n",
    "        print(\"talking\")"
   ]
  },
  {
   "cell_type": "code",
   "execution_count": 53,
   "id": "bedd2065-9597-48c4-9b43-32faacf7b6d3",
   "metadata": {},
   "outputs": [],
   "source": [
    "class Walker:\n",
    "    def walk(self):\n",
    "        raise NotImplementedError"
   ]
  },
  {
   "cell_type": "code",
   "execution_count": 54,
   "id": "18e92572-67c0-4d68-bc3f-c05797162e2c",
   "metadata": {},
   "outputs": [],
   "source": [
    "class Swimmer:\n",
    "    def swim(self):\n",
    "        raise NotImplementedError"
   ]
  },
  {
   "cell_type": "code",
   "execution_count": 55,
   "id": "c125ff42-e3e8-4de5-9a7c-117bd3d954fe",
   "metadata": {},
   "outputs": [],
   "source": [
    "class Human(Animal, Walker, Swimmer):\n",
    "    def walk(self):\n",
    "        print(\"walking\")\n",
    "        \n",
    "    def swim(self):\n",
    "        print(\"swimming\")"
   ]
  },
  {
   "cell_type": "code",
   "execution_count": 56,
   "id": "3b595cb5-3b0a-4697-a0c6-71d5026bc760",
   "metadata": {},
   "outputs": [],
   "source": [
    "class Whale(Animal, Swimmer):\n",
    "    def swim(self):\n",
    "        print(\"swimming\")"
   ]
  },
  {
   "cell_type": "markdown",
   "id": "e7ed756a-1b74-4c30-b9c9-83aaceaa1697",
   "metadata": {},
   "source": [
    "## Dependency Inversion Principle"
   ]
  },
  {
   "cell_type": "code",
   "execution_count": null,
   "id": "77dfafe7-3a10-4942-9f47-8d2149cfc043",
   "metadata": {},
   "outputs": [],
   "source": []
  }
 ],
 "metadata": {
  "kernelspec": {
   "display_name": "Python 3 (ipykernel)",
   "language": "python",
   "name": "python3"
  },
  "language_info": {
   "codemirror_mode": {
    "name": "ipython",
    "version": 3
   },
   "file_extension": ".py",
   "mimetype": "text/x-python",
   "name": "python",
   "nbconvert_exporter": "python",
   "pygments_lexer": "ipython3",
   "version": "3.9.13"
  }
 },
 "nbformat": 4,
 "nbformat_minor": 5
}
