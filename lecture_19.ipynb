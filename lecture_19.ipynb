{
 "cells": [
  {
   "cell_type": "markdown",
   "id": "da45a5ef-abaa-40f0-b7cf-c2b3d7f7f3d9",
   "metadata": {},
   "source": [
    "# Lecture 19"
   ]
  },
  {
   "cell_type": "code",
   "execution_count": 1,
   "id": "65250603-3883-40e6-9dc4-217bd52f0a5a",
   "metadata": {},
   "outputs": [
    {
     "data": {
      "text/plain": [
       "0.30000000000000004"
      ]
     },
     "execution_count": 1,
     "metadata": {},
     "output_type": "execute_result"
    }
   ],
   "source": [
    "0.1 + 0.2"
   ]
  },
  {
   "cell_type": "code",
   "execution_count": 2,
   "id": "46b91f4f-0ee0-4daa-a439-ae9c0d9c8866",
   "metadata": {},
   "outputs": [],
   "source": [
    "from decimal import Decimal"
   ]
  },
  {
   "cell_type": "code",
   "execution_count": 5,
   "id": "a30380e5-2c84-4251-a9e5-9f55f3af63d4",
   "metadata": {},
   "outputs": [],
   "source": [
    "x = Decimal(\"0.1\") + Decimal(\"0.2\")"
   ]
  },
  {
   "cell_type": "code",
   "execution_count": 7,
   "id": "587979f0-aeb2-4b34-a906-c5ca4eda787a",
   "metadata": {},
   "outputs": [
    {
     "data": {
      "text/plain": [
       "0.3"
      ]
     },
     "execution_count": 7,
     "metadata": {},
     "output_type": "execute_result"
    }
   ],
   "source": [
    "float(x)"
   ]
  },
  {
   "cell_type": "markdown",
   "id": "ce5ab499-382e-4603-86d1-a7cf26c685af",
   "metadata": {},
   "source": [
    "## `map()` and `zip()` and `filter()`"
   ]
  },
  {
   "cell_type": "code",
   "execution_count": 8,
   "id": "a2f1f672-a917-4ab6-aec1-5ecd2148fb6a",
   "metadata": {},
   "outputs": [],
   "source": [
    "a = [12, 24, 42]\n",
    "b = [1, 2, 3, 4]"
   ]
  },
  {
   "cell_type": "code",
   "execution_count": 9,
   "id": "e51f0260-5eda-4b1f-a3bf-32b2b5f98948",
   "metadata": {},
   "outputs": [
    {
     "name": "stdout",
     "output_type": "stream",
     "text": [
      "12 1\n",
      "24 2\n",
      "42 3\n"
     ]
    }
   ],
   "source": [
    "for x, y in zip(a, b):\n",
    "    print(x, y)"
   ]
  },
  {
   "cell_type": "code",
   "execution_count": 11,
   "id": "b9c0ef39-0b2e-4809-a7fc-0e270c8acf82",
   "metadata": {},
   "outputs": [],
   "source": [
    "a = [12, 24, 42]\n",
    "b = {1, 2, 3, 4}"
   ]
  },
  {
   "cell_type": "code",
   "execution_count": 12,
   "id": "5fee2c89-de6c-4241-bf40-590f5640f5ef",
   "metadata": {},
   "outputs": [
    {
     "name": "stdout",
     "output_type": "stream",
     "text": [
      "12 1\n",
      "24 2\n",
      "42 3\n"
     ]
    }
   ],
   "source": [
    "for x, y in zip(a, b):\n",
    "    print(x, y)"
   ]
  },
  {
   "cell_type": "code",
   "execution_count": 13,
   "id": "7285c61d-8d09-4182-ad64-cb2ac84156f4",
   "metadata": {},
   "outputs": [
    {
     "name": "stdout",
     "output_type": "stream",
     "text": [
      "0 12\n",
      "1 24\n",
      "2 42\n"
     ]
    }
   ],
   "source": [
    "for i, x in zip(range(10), a):\n",
    "    print(i, x)"
   ]
  },
  {
   "cell_type": "code",
   "execution_count": 14,
   "id": "1edfd974-92f6-441c-b44e-51957000cbbb",
   "metadata": {},
   "outputs": [
    {
     "name": "stdout",
     "output_type": "stream",
     "text": [
      "t 12\n",
      "e 24\n",
      "s 42\n"
     ]
    }
   ],
   "source": [
    "for x, y in zip(\"test\", a):\n",
    "    print(x, y)"
   ]
  },
  {
   "cell_type": "code",
   "execution_count": 15,
   "id": "dba567f2-1e62-41a7-b54a-1458d0847d7b",
   "metadata": {},
   "outputs": [
    {
     "ename": "TypeError",
     "evalue": "'int' object is not iterable",
     "output_type": "error",
     "traceback": [
      "\u001b[0;31m---------------------------------------------------------------------------\u001b[0m",
      "\u001b[0;31mTypeError\u001b[0m                                 Traceback (most recent call last)",
      "Input \u001b[0;32mIn [15]\u001b[0m, in \u001b[0;36m<cell line: 1>\u001b[0;34m()\u001b[0m\n\u001b[0;32m----> 1\u001b[0m \u001b[38;5;28;01mfor\u001b[39;00m x, y \u001b[38;5;129;01min\u001b[39;00m \u001b[38;5;28;43mzip\u001b[39;49m\u001b[43m(\u001b[49m\u001b[38;5;241;43m10\u001b[39;49m\u001b[43m,\u001b[49m\u001b[43m \u001b[49m\u001b[43ma\u001b[49m\u001b[43m)\u001b[49m:\n\u001b[1;32m      2\u001b[0m     \u001b[38;5;28mprint\u001b[39m(x, y)\n",
      "\u001b[0;31mTypeError\u001b[0m: 'int' object is not iterable"
     ]
    }
   ],
   "source": [
    "for x, y in zip(10, a):\n",
    "    print(x, y)"
   ]
  },
  {
   "cell_type": "code",
   "execution_count": 16,
   "id": "25e5624c-b152-4df0-aa50-141352dd683b",
   "metadata": {},
   "outputs": [],
   "source": [
    "c = (\"test\", \"this\", \"functionality\")"
   ]
  },
  {
   "cell_type": "code",
   "execution_count": 17,
   "id": "2215b3af-55b2-4450-a756-4d6f495bd306",
   "metadata": {},
   "outputs": [
    {
     "name": "stdout",
     "output_type": "stream",
     "text": [
      "12 1 test\n",
      "24 2 this\n",
      "42 3 functionality\n"
     ]
    }
   ],
   "source": [
    "for x, y, z in zip(a, b, c):\n",
    "    print(x, y, z)"
   ]
  },
  {
   "cell_type": "code",
   "execution_count": 22,
   "id": "70594f36-3a1a-4f94-b280-6a79d8a90045",
   "metadata": {},
   "outputs": [],
   "source": [
    "t = list(zip(a, b))"
   ]
  },
  {
   "cell_type": "code",
   "execution_count": 24,
   "id": "4e880195-99e1-4e20-bc44-dd78ad168f3b",
   "metadata": {},
   "outputs": [],
   "source": [
    "x, y = t[0]"
   ]
  },
  {
   "cell_type": "code",
   "execution_count": 25,
   "id": "4b5f89de-616c-4d27-8e76-7fb0460eecdc",
   "metadata": {},
   "outputs": [
    {
     "data": {
      "text/plain": [
       "12"
      ]
     },
     "execution_count": 25,
     "metadata": {},
     "output_type": "execute_result"
    }
   ],
   "source": [
    "x"
   ]
  },
  {
   "cell_type": "code",
   "execution_count": 26,
   "id": "f12510ea-d987-40d5-80b1-e76932ca920d",
   "metadata": {},
   "outputs": [
    {
     "data": {
      "text/plain": [
       "1"
      ]
     },
     "execution_count": 26,
     "metadata": {},
     "output_type": "execute_result"
    }
   ],
   "source": [
    "y"
   ]
  },
  {
   "cell_type": "code",
   "execution_count": 27,
   "id": "944c062d-f7f9-4c5d-83e9-2bf05c8a42be",
   "metadata": {},
   "outputs": [
    {
     "name": "stdout",
     "output_type": "stream",
     "text": [
      "12 1\n",
      "24 2\n",
      "42 3\n"
     ]
    }
   ],
   "source": [
    "for x, y in zip(a, b):\n",
    "    print(x, y)"
   ]
  },
  {
   "cell_type": "code",
   "execution_count": 28,
   "id": "1af767e9-9af8-417c-afbc-e240d76af130",
   "metadata": {},
   "outputs": [
    {
     "data": {
      "text/plain": [
       "[12, 24, 42]"
      ]
     },
     "execution_count": 28,
     "metadata": {},
     "output_type": "execute_result"
    }
   ],
   "source": [
    "a"
   ]
  },
  {
   "cell_type": "code",
   "execution_count": 29,
   "id": "7e577b55-66ba-44c6-87b6-2283be846766",
   "metadata": {},
   "outputs": [],
   "source": [
    "def foo(x):\n",
    "    return x**x"
   ]
  },
  {
   "cell_type": "code",
   "execution_count": 30,
   "id": "22c7ebf1-9bcd-45fd-a0a5-dca4494247f4",
   "metadata": {},
   "outputs": [
    {
     "name": "stdout",
     "output_type": "stream",
     "text": [
      "8916100448256\n",
      "1333735776850284124449081472843776\n",
      "150130937545296572356771972164254457814047970568738777235893533016064\n"
     ]
    }
   ],
   "source": [
    "for i in a:\n",
    "    print(foo(i))"
   ]
  },
  {
   "cell_type": "code",
   "execution_count": 31,
   "id": "c8b9cb8c-16be-4a38-97f0-4062cc10ae13",
   "metadata": {},
   "outputs": [
    {
     "data": {
      "text/plain": [
       "[8916100448256,\n",
       " 1333735776850284124449081472843776,\n",
       " 150130937545296572356771972164254457814047970568738777235893533016064]"
      ]
     },
     "execution_count": 31,
     "metadata": {},
     "output_type": "execute_result"
    }
   ],
   "source": [
    "[foo(i) for i in a]"
   ]
  },
  {
   "cell_type": "code",
   "execution_count": 33,
   "id": "7ae4c1af-7c07-4e3f-b635-36435ffbdf0f",
   "metadata": {},
   "outputs": [
    {
     "name": "stdout",
     "output_type": "stream",
     "text": [
      "8916100448256\n",
      "1333735776850284124449081472843776\n",
      "150130937545296572356771972164254457814047970568738777235893533016064\n"
     ]
    }
   ],
   "source": [
    "for value in map(foo, a):\n",
    "    print(value)"
   ]
  },
  {
   "cell_type": "code",
   "execution_count": 34,
   "id": "8232e290-a2ce-41cb-805c-df3528897129",
   "metadata": {},
   "outputs": [],
   "source": [
    "def bar(x, y):\n",
    "    return x**y"
   ]
  },
  {
   "cell_type": "code",
   "execution_count": 35,
   "id": "d71cd5df-2142-4aef-8809-c8ab921f018e",
   "metadata": {},
   "outputs": [
    {
     "data": {
      "text/plain": [
       "[12, 24, 42]"
      ]
     },
     "execution_count": 35,
     "metadata": {},
     "output_type": "execute_result"
    }
   ],
   "source": [
    "a"
   ]
  },
  {
   "cell_type": "code",
   "execution_count": 36,
   "id": "a2fd3656-f12e-41cb-ae46-938f851108df",
   "metadata": {},
   "outputs": [
    {
     "data": {
      "text/plain": [
       "{1, 2, 3, 4}"
      ]
     },
     "execution_count": 36,
     "metadata": {},
     "output_type": "execute_result"
    }
   ],
   "source": [
    "b"
   ]
  },
  {
   "cell_type": "code",
   "execution_count": 37,
   "id": "4d39c4a6-efdc-4439-96b1-7a13c8b14c6f",
   "metadata": {},
   "outputs": [
    {
     "name": "stdout",
     "output_type": "stream",
     "text": [
      "12\n",
      "576\n",
      "74088\n"
     ]
    }
   ],
   "source": [
    "for value in map(bar, a, b):\n",
    "    print(value)"
   ]
  },
  {
   "cell_type": "code",
   "execution_count": 40,
   "id": "6cecbdf6-98bd-4c6a-96a6-a3776d9dbd5d",
   "metadata": {},
   "outputs": [
    {
     "data": {
      "text/plain": [
       "[12, 24, 42]"
      ]
     },
     "execution_count": 40,
     "metadata": {},
     "output_type": "execute_result"
    }
   ],
   "source": [
    "a"
   ]
  },
  {
   "cell_type": "code",
   "execution_count": 41,
   "id": "38be626b-33e8-4fc8-b10f-b3e63b93b6fc",
   "metadata": {},
   "outputs": [
    {
     "data": {
      "text/plain": [
       "{1, 2, 3, 4}"
      ]
     },
     "execution_count": 41,
     "metadata": {},
     "output_type": "execute_result"
    }
   ],
   "source": [
    "b"
   ]
  },
  {
   "cell_type": "code",
   "execution_count": 42,
   "id": "bcf65041-35ea-4750-b08e-3f258cc88b3e",
   "metadata": {},
   "outputs": [
    {
     "data": {
      "text/plain": [
       "('test', 'this', 'functionality')"
      ]
     },
     "execution_count": 42,
     "metadata": {},
     "output_type": "execute_result"
    }
   ],
   "source": [
    "c"
   ]
  },
  {
   "cell_type": "code",
   "execution_count": 43,
   "id": "3568c767-7f74-4ba0-965d-44aeed6d0b39",
   "metadata": {},
   "outputs": [
    {
     "name": "stdout",
     "output_type": "stream",
     "text": [
      "2\n",
      "4\n"
     ]
    }
   ],
   "source": [
    "for i in b:\n",
    "    if i % 2 == 0:\n",
    "        print(i)"
   ]
  },
  {
   "cell_type": "code",
   "execution_count": 44,
   "id": "8c6fbf9c-698e-4200-bc41-ab2c3e409817",
   "metadata": {},
   "outputs": [],
   "source": [
    "def is_even(x):\n",
    "    return x % 2 == 0"
   ]
  },
  {
   "cell_type": "code",
   "execution_count": 45,
   "id": "38c7b469-78e0-4d8b-b342-36af0adec54c",
   "metadata": {},
   "outputs": [
    {
     "data": {
      "text/plain": [
       "True"
      ]
     },
     "execution_count": 45,
     "metadata": {},
     "output_type": "execute_result"
    }
   ],
   "source": [
    "is_even(10)"
   ]
  },
  {
   "cell_type": "code",
   "execution_count": 46,
   "id": "8545d4e7-4d76-4b15-a5ff-2b154b8ec03b",
   "metadata": {},
   "outputs": [
    {
     "data": {
      "text/plain": [
       "False"
      ]
     },
     "execution_count": 46,
     "metadata": {},
     "output_type": "execute_result"
    }
   ],
   "source": [
    "is_even(11)"
   ]
  },
  {
   "cell_type": "code",
   "execution_count": 47,
   "id": "ce65e5e3-f8b5-4356-a1fc-d04e218566ca",
   "metadata": {},
   "outputs": [
    {
     "name": "stdout",
     "output_type": "stream",
     "text": [
      "2\n",
      "4\n"
     ]
    }
   ],
   "source": [
    "for i in filter(is_even, b):\n",
    "    print(i)"
   ]
  },
  {
   "cell_type": "code",
   "execution_count": 48,
   "id": "3bbeec7f-1038-402a-a265-0476b8ac756a",
   "metadata": {},
   "outputs": [],
   "source": [
    "def even_reminder(x):\n",
    "    return x % 2"
   ]
  },
  {
   "cell_type": "code",
   "execution_count": 49,
   "id": "349dc458-2063-4e70-85e4-b3a2e63e4cbb",
   "metadata": {},
   "outputs": [
    {
     "data": {
      "text/plain": [
       "0"
      ]
     },
     "execution_count": 49,
     "metadata": {},
     "output_type": "execute_result"
    }
   ],
   "source": [
    "even_reminder(10)"
   ]
  },
  {
   "cell_type": "code",
   "execution_count": 51,
   "id": "c9a269df-214f-4233-8274-34df7941814c",
   "metadata": {},
   "outputs": [
    {
     "data": {
      "text/plain": [
       "1"
      ]
     },
     "execution_count": 51,
     "metadata": {},
     "output_type": "execute_result"
    }
   ],
   "source": [
    "even_reminder(11)"
   ]
  },
  {
   "cell_type": "code",
   "execution_count": 52,
   "id": "e51aa58c-c649-437e-b2c4-cd8bfc9df146",
   "metadata": {},
   "outputs": [
    {
     "name": "stdout",
     "output_type": "stream",
     "text": [
      "1\n",
      "3\n"
     ]
    }
   ],
   "source": [
    "for i in filter(even_reminder, b):\n",
    "    print(i)"
   ]
  },
  {
   "cell_type": "code",
   "execution_count": 55,
   "id": "578158a5-9930-4ff5-b76b-b3940d413132",
   "metadata": {},
   "outputs": [],
   "source": [
    "d = [0, 1, \"\", \"test\"]"
   ]
  },
  {
   "cell_type": "code",
   "execution_count": 56,
   "id": "f47c3c4a-c6fb-458d-8845-16202f639107",
   "metadata": {},
   "outputs": [
    {
     "data": {
      "text/plain": [
       "[1, 'test']"
      ]
     },
     "execution_count": 56,
     "metadata": {},
     "output_type": "execute_result"
    }
   ],
   "source": [
    "list(filter(None, d))"
   ]
  },
  {
   "cell_type": "code",
   "execution_count": 57,
   "id": "7be4a70a-5b5f-43e2-9888-f9a2a9ac9f6a",
   "metadata": {},
   "outputs": [],
   "source": [
    "a = [1, 2, 1, 3, 1, 4, 5, 6]\n",
    "b = [0, 2, 1, 2, 3, 5, 5, 1]"
   ]
  },
  {
   "cell_type": "code",
   "execution_count": 58,
   "id": "8bf4cebc-2707-4f4e-9431-189b1843f6ee",
   "metadata": {},
   "outputs": [],
   "source": [
    "def count_pairs(d_1, d_2):\n",
    "    pass"
   ]
  },
  {
   "cell_type": "code",
   "execution_count": 60,
   "id": "6999fd7f-0c42-4951-a10b-c8fad26258d6",
   "metadata": {},
   "outputs": [],
   "source": [
    "def is_equal(x, y):\n",
    "    return x == y"
   ]
  },
  {
   "cell_type": "code",
   "execution_count": 61,
   "id": "ad5d7828-4348-441d-9323-b54b95859116",
   "metadata": {},
   "outputs": [
    {
     "data": {
      "text/plain": [
       "3"
      ]
     },
     "execution_count": 61,
     "metadata": {},
     "output_type": "execute_result"
    }
   ],
   "source": [
    "sum(map(is_equal, a, b))"
   ]
  },
  {
   "cell_type": "code",
   "execution_count": 62,
   "id": "7bfe0cf7-8b18-46e5-9183-e4ca5d7bbf6a",
   "metadata": {},
   "outputs": [],
   "source": [
    "from operator import eq"
   ]
  },
  {
   "cell_type": "code",
   "execution_count": 63,
   "id": "7ec7c026-e591-47ae-912d-7f65535bba8e",
   "metadata": {},
   "outputs": [
    {
     "data": {
      "text/plain": [
       "3"
      ]
     },
     "execution_count": 63,
     "metadata": {},
     "output_type": "execute_result"
    }
   ],
   "source": [
    "sum(map(eq, a, b))"
   ]
  },
  {
   "cell_type": "code",
   "execution_count": 66,
   "id": "93486203-02c3-4d51-afd7-9cfa8222b948",
   "metadata": {},
   "outputs": [
    {
     "data": {
      "text/plain": [
       "3"
      ]
     },
     "execution_count": 66,
     "metadata": {},
     "output_type": "execute_result"
    }
   ],
   "source": [
    "sum(map(lambda x, y: x == y, a, b))"
   ]
  },
  {
   "cell_type": "code",
   "execution_count": 67,
   "id": "c6092b65-5595-45e1-8b42-1744eb37a01d",
   "metadata": {},
   "outputs": [],
   "source": [
    "c = sum(x == y for x, y in zip(a, b))"
   ]
  },
  {
   "cell_type": "code",
   "execution_count": 68,
   "id": "7a3d5280-cbf2-4372-91df-f22f287f9b94",
   "metadata": {},
   "outputs": [
    {
     "data": {
      "text/plain": [
       "3"
      ]
     },
     "execution_count": 68,
     "metadata": {},
     "output_type": "execute_result"
    }
   ],
   "source": [
    "c"
   ]
  },
  {
   "cell_type": "code",
   "execution_count": 71,
   "id": "2bfe8289-7e3b-4e06-b2e8-996865eb1466",
   "metadata": {},
   "outputs": [],
   "source": [
    "a = [\"RaNdOM\", \"LettERS\", \"tEsT\"]"
   ]
  },
  {
   "cell_type": "code",
   "execution_count": 72,
   "id": "ff3ac3b3-aac6-45fa-b145-a57fc99d5c33",
   "metadata": {},
   "outputs": [],
   "source": [
    "t = \"RaNdOM\""
   ]
  },
  {
   "cell_type": "code",
   "execution_count": 73,
   "id": "e1388c0a-d3e6-4061-9dfc-2ce3421cdc4b",
   "metadata": {},
   "outputs": [
    {
     "data": {
      "text/plain": [
       "'random'"
      ]
     },
     "execution_count": 73,
     "metadata": {},
     "output_type": "execute_result"
    }
   ],
   "source": [
    "t.lower()"
   ]
  },
  {
   "cell_type": "code",
   "execution_count": 74,
   "id": "ddd554a2-974a-48b8-80e2-5c8bb36dbd4b",
   "metadata": {},
   "outputs": [
    {
     "name": "stdout",
     "output_type": "stream",
     "text": [
      "random\n",
      "letters\n",
      "test\n"
     ]
    }
   ],
   "source": [
    "for t in map(str.lower, a):\n",
    "    print(t)"
   ]
  },
  {
   "cell_type": "code",
   "execution_count": 76,
   "id": "503b2198-abb1-4922-a85e-10896bae8d09",
   "metadata": {},
   "outputs": [
    {
     "name": "stdout",
     "output_type": "stream",
     "text": [
      "1 <class 'str'>\n",
      "2 <class 'str'>\n",
      "3 <class 'str'>\n"
     ]
    }
   ],
   "source": [
    "for t in map(str, [1, 2, 3]):\n",
    "    print(t, type(t))"
   ]
  },
  {
   "cell_type": "code",
   "execution_count": 77,
   "id": "a410a735-4ab4-4c68-b70d-fc68f5049716",
   "metadata": {},
   "outputs": [],
   "source": [
    "a = [1, 2, 0, 42]"
   ]
  },
  {
   "cell_type": "code",
   "execution_count": 78,
   "id": "068910cd-a418-412e-8fba-3f8dd0c4bfdd",
   "metadata": {},
   "outputs": [
    {
     "data": {
      "text/plain": [
       "False"
      ]
     },
     "execution_count": 78,
     "metadata": {},
     "output_type": "execute_result"
    }
   ],
   "source": [
    "all(a)"
   ]
  },
  {
   "cell_type": "code",
   "execution_count": 79,
   "id": "7119d3b4-34bf-4520-bbda-98f809da5431",
   "metadata": {},
   "outputs": [
    {
     "data": {
      "text/plain": [
       "True"
      ]
     },
     "execution_count": 79,
     "metadata": {},
     "output_type": "execute_result"
    }
   ],
   "source": [
    "any(a)"
   ]
  },
  {
   "cell_type": "code",
   "execution_count": 80,
   "id": "43d763ed-49d7-45c2-b950-20fa3573017f",
   "metadata": {},
   "outputs": [],
   "source": [
    "b = [1, 2, 3]"
   ]
  },
  {
   "cell_type": "code",
   "execution_count": 81,
   "id": "b043f162-4c3f-472a-a7dc-ef14338c4ead",
   "metadata": {},
   "outputs": [
    {
     "data": {
      "text/plain": [
       "True"
      ]
     },
     "execution_count": 81,
     "metadata": {},
     "output_type": "execute_result"
    }
   ],
   "source": [
    "all(b)"
   ]
  },
  {
   "cell_type": "code",
   "execution_count": 82,
   "id": "b3aadc65-5636-45d3-a0e7-42f0be8f1e61",
   "metadata": {},
   "outputs": [
    {
     "data": {
      "text/plain": [
       "True"
      ]
     },
     "execution_count": 82,
     "metadata": {},
     "output_type": "execute_result"
    }
   ],
   "source": [
    "any(b)"
   ]
  },
  {
   "cell_type": "code",
   "execution_count": 86,
   "id": "46f2c13a-9bd0-40fb-be91-b2fc8ad21aae",
   "metadata": {},
   "outputs": [],
   "source": [
    "c = [0, \"\", False, None, [], {}]"
   ]
  },
  {
   "cell_type": "code",
   "execution_count": 87,
   "id": "d262fea4-2cff-466a-8357-64fa65fc1e9f",
   "metadata": {},
   "outputs": [
    {
     "data": {
      "text/plain": [
       "False"
      ]
     },
     "execution_count": 87,
     "metadata": {},
     "output_type": "execute_result"
    }
   ],
   "source": [
    "all(c)"
   ]
  },
  {
   "cell_type": "code",
   "execution_count": 88,
   "id": "8bf7f6c7-a3f6-4101-b5ef-3f00909320cb",
   "metadata": {},
   "outputs": [
    {
     "data": {
      "text/plain": [
       "False"
      ]
     },
     "execution_count": 88,
     "metadata": {},
     "output_type": "execute_result"
    }
   ],
   "source": [
    "any(c)"
   ]
  },
  {
   "cell_type": "code",
   "execution_count": 89,
   "id": "ff4d0663-f5a1-41b2-a337-8aca119ebc48",
   "metadata": {},
   "outputs": [
    {
     "data": {
      "text/plain": [
       "True"
      ]
     },
     "execution_count": 89,
     "metadata": {},
     "output_type": "execute_result"
    }
   ],
   "source": [
    "all([])"
   ]
  },
  {
   "cell_type": "code",
   "execution_count": 90,
   "id": "62f8fc96-808d-44ef-8f43-55a170cbf80b",
   "metadata": {},
   "outputs": [
    {
     "data": {
      "text/plain": [
       "False"
      ]
     },
     "execution_count": 90,
     "metadata": {},
     "output_type": "execute_result"
    }
   ],
   "source": [
    "any([])"
   ]
  },
  {
   "cell_type": "code",
   "execution_count": 94,
   "id": "f463bbd9-a538-4585-9bf5-011d8d344d01",
   "metadata": {},
   "outputs": [],
   "source": [
    "a = [1, 2, 3, 4, 5, 6]\n",
    "b = [6, 6, 6, 6]"
   ]
  },
  {
   "cell_type": "code",
   "execution_count": 95,
   "id": "f6a8e6af-6ba6-40cb-b278-aa4dc4e73cd6",
   "metadata": {},
   "outputs": [
    {
     "data": {
      "text/plain": [
       "False"
      ]
     },
     "execution_count": 95,
     "metadata": {},
     "output_type": "execute_result"
    }
   ],
   "source": [
    "all(i == 6 for i in a)"
   ]
  },
  {
   "cell_type": "code",
   "execution_count": 96,
   "id": "e4dcc1e0-d512-4cb4-8be2-5d0c685d3b8a",
   "metadata": {},
   "outputs": [
    {
     "data": {
      "text/plain": [
       "True"
      ]
     },
     "execution_count": 96,
     "metadata": {},
     "output_type": "execute_result"
    }
   ],
   "source": [
    "all(i == 6 for i in b)"
   ]
  },
  {
   "cell_type": "code",
   "execution_count": 98,
   "id": "9506abf4-b3bd-425f-bf26-207eb44b38d4",
   "metadata": {},
   "outputs": [
    {
     "data": {
      "text/plain": [
       "True"
      ]
     },
     "execution_count": 98,
     "metadata": {},
     "output_type": "execute_result"
    }
   ],
   "source": [
    "6 in a"
   ]
  },
  {
   "cell_type": "code",
   "execution_count": 101,
   "id": "35b54c40-1f86-45a1-a5e3-535170dde323",
   "metadata": {},
   "outputs": [],
   "source": [
    "def our_any(iterable):\n",
    "    for element in iterable:\n",
    "        if element:\n",
    "            return True\n",
    "    return False"
   ]
  },
  {
   "cell_type": "code",
   "execution_count": 102,
   "id": "eff62696-ce9b-4798-aac4-84fcea5f4829",
   "metadata": {},
   "outputs": [
    {
     "data": {
      "text/plain": [
       "False"
      ]
     },
     "execution_count": 102,
     "metadata": {},
     "output_type": "execute_result"
    }
   ],
   "source": [
    "our_any(c)"
   ]
  },
  {
   "cell_type": "code",
   "execution_count": 103,
   "id": "18c7553a-a841-4452-82a5-581bea56c3d8",
   "metadata": {},
   "outputs": [],
   "source": [
    "def our_all(iterable):\n",
    "    for element in iterable:\n",
    "        if not element:\n",
    "            return False\n",
    "    return True"
   ]
  },
  {
   "cell_type": "code",
   "execution_count": 104,
   "id": "a63879f1-868b-4526-b737-50e33c4c7f3c",
   "metadata": {},
   "outputs": [
    {
     "data": {
      "text/plain": [
       "False"
      ]
     },
     "execution_count": 104,
     "metadata": {},
     "output_type": "execute_result"
    }
   ],
   "source": [
    "our_all(c)"
   ]
  },
  {
   "cell_type": "code",
   "execution_count": 106,
   "id": "9808abc0-3cb3-4bd5-b9f5-db155347fd2b",
   "metadata": {},
   "outputs": [],
   "source": [
    "f = lambda x: x**2"
   ]
  },
  {
   "cell_type": "code",
   "execution_count": 108,
   "id": "ca33e468-9552-4e9b-821c-a4d742dc5756",
   "metadata": {},
   "outputs": [
    {
     "data": {
      "text/plain": [
       "4"
      ]
     },
     "execution_count": 108,
     "metadata": {},
     "output_type": "execute_result"
    }
   ],
   "source": [
    "f(2)"
   ]
  },
  {
   "cell_type": "code",
   "execution_count": 109,
   "id": "958b6043-6153-41ca-8fba-ddf06b933e2d",
   "metadata": {},
   "outputs": [],
   "source": [
    "def f(x):\n",
    "    return x**2"
   ]
  },
  {
   "cell_type": "code",
   "execution_count": 110,
   "id": "c3a32033-b147-4b40-b607-fd6911e34546",
   "metadata": {},
   "outputs": [],
   "source": [
    "a = [1, 2, 3, 4, 5]"
   ]
  },
  {
   "cell_type": "code",
   "execution_count": 111,
   "id": "2054b7b6-d2fe-4452-8b52-f46792fc302c",
   "metadata": {},
   "outputs": [
    {
     "name": "stdout",
     "output_type": "stream",
     "text": [
      "1\n",
      "4\n",
      "9\n",
      "16\n",
      "25\n"
     ]
    }
   ],
   "source": [
    "for i in map(lambda x: x**2, a):\n",
    "    print(i)"
   ]
  },
  {
   "cell_type": "code",
   "execution_count": 112,
   "id": "b33841ff-668b-488f-b1ac-efea568c6643",
   "metadata": {},
   "outputs": [],
   "source": [
    "a = [1, 2, 1, 3, 1, 4, 5, 6]\n",
    "b = [0, 2, 1, 2, 3, 5, 5, 1]"
   ]
  },
  {
   "cell_type": "code",
   "execution_count": 113,
   "id": "17db84b5-2319-408d-a5f3-2f2d72df943e",
   "metadata": {},
   "outputs": [
    {
     "name": "stdout",
     "output_type": "stream",
     "text": [
      "0\n",
      "4\n",
      "1\n",
      "6\n",
      "3\n",
      "20\n",
      "25\n",
      "6\n"
     ]
    }
   ],
   "source": [
    "for i in map(lambda x, y: x*y, a, b):\n",
    "    print(i)"
   ]
  },
  {
   "cell_type": "code",
   "execution_count": 115,
   "id": "f0da3d47-a6ad-4d99-962b-072a6621608e",
   "metadata": {},
   "outputs": [],
   "source": [
    "a = [1, 2, 1, 3, 1, 4, 5, 6]"
   ]
  },
  {
   "cell_type": "code",
   "execution_count": 123,
   "id": "d052210f-a4aa-423c-89cd-d5febc2f03c1",
   "metadata": {},
   "outputs": [
    {
     "name": "stdout",
     "output_type": "stream",
     "text": [
      "2\n",
      "4\n",
      "6\n"
     ]
    }
   ],
   "source": [
    "for i in filter(lambda x: not x % 2, a):\n",
    "    print(i)"
   ]
  },
  {
   "cell_type": "code",
   "execution_count": 125,
   "id": "a2e50cd7-88b5-4b7a-b5ac-ff71b926c285",
   "metadata": {},
   "outputs": [
    {
     "data": {
      "text/plain": [
       "42"
      ]
     },
     "execution_count": 125,
     "metadata": {},
     "output_type": "execute_result"
    }
   ],
   "source": [
    "x"
   ]
  },
  {
   "cell_type": "code",
   "execution_count": 126,
   "id": "bc74e478-eb6d-47a0-8e3a-32c5c54209af",
   "metadata": {},
   "outputs": [
    {
     "data": {
      "text/plain": [
       "0"
      ]
     },
     "execution_count": 126,
     "metadata": {},
     "output_type": "execute_result"
    }
   ],
   "source": [
    "x % 2"
   ]
  },
  {
   "cell_type": "code",
   "execution_count": 127,
   "id": "5065621c-7447-4b76-9d55-6810ae2ed62b",
   "metadata": {},
   "outputs": [
    {
     "data": {
      "text/plain": [
       "True"
      ]
     },
     "execution_count": 127,
     "metadata": {},
     "output_type": "execute_result"
    }
   ],
   "source": [
    "not 0"
   ]
  },
  {
   "cell_type": "code",
   "execution_count": 128,
   "id": "665285a0-77c2-4a93-bb4e-0517763f7d18",
   "metadata": {},
   "outputs": [
    {
     "data": {
      "text/plain": [
       "False"
      ]
     },
     "execution_count": 128,
     "metadata": {},
     "output_type": "execute_result"
    }
   ],
   "source": [
    "not 42"
   ]
  },
  {
   "cell_type": "code",
   "execution_count": null,
   "id": "eebea7f0-5b31-4b64-9381-8b0b497a909e",
   "metadata": {},
   "outputs": [],
   "source": []
  }
 ],
 "metadata": {
  "kernelspec": {
   "display_name": "Python 3 (ipykernel)",
   "language": "python",
   "name": "python3"
  },
  "language_info": {
   "codemirror_mode": {
    "name": "ipython",
    "version": 3
   },
   "file_extension": ".py",
   "mimetype": "text/x-python",
   "name": "python",
   "nbconvert_exporter": "python",
   "pygments_lexer": "ipython3",
   "version": "3.9.13"
  }
 },
 "nbformat": 4,
 "nbformat_minor": 5
}
