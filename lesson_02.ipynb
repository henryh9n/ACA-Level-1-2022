{
 "cells": [
  {
   "cell_type": "markdown",
   "id": "3906bc56-cd83-4d89-8d4f-1a9808443fc7",
   "metadata": {},
   "source": [
    "# Lesson 2"
   ]
  },
  {
   "cell_type": "code",
   "execution_count": 1,
   "id": "6781e049-3058-4b04-80ff-1429e0a5d5bd",
   "metadata": {},
   "outputs": [],
   "source": [
    "num = 42"
   ]
  },
  {
   "cell_type": "code",
   "execution_count": 2,
   "id": "341aa110-8ac9-4b27-a448-a06db33025f7",
   "metadata": {},
   "outputs": [],
   "source": [
    "real = 3.14"
   ]
  },
  {
   "cell_type": "code",
   "execution_count": 3,
   "id": "2e7c6080-019f-49ce-bc96-f0b0c3bce3ca",
   "metadata": {},
   "outputs": [],
   "source": [
    "text = \"This is a text\""
   ]
  },
  {
   "cell_type": "code",
   "execution_count": 4,
   "id": "264792b5-2161-44b7-b518-1a67027424a8",
   "metadata": {},
   "outputs": [],
   "source": [
    "condition = False"
   ]
  },
  {
   "cell_type": "code",
   "execution_count": 5,
   "id": "b3bfa6ad-b70e-47be-813e-d405a43e61cc",
   "metadata": {},
   "outputs": [
    {
     "data": {
      "text/plain": [
       "42"
      ]
     },
     "execution_count": 5,
     "metadata": {},
     "output_type": "execute_result"
    }
   ],
   "source": [
    "num"
   ]
  },
  {
   "cell_type": "code",
   "execution_count": 6,
   "id": "0fcc1407-02d3-4995-9065-fbd5276ffdfe",
   "metadata": {},
   "outputs": [],
   "source": [
    "num = -42"
   ]
  },
  {
   "cell_type": "code",
   "execution_count": 7,
   "id": "b56781e7-8f9f-4532-87c4-85cab7c87c7c",
   "metadata": {},
   "outputs": [
    {
     "data": {
      "text/plain": [
       "-42"
      ]
     },
     "execution_count": 7,
     "metadata": {},
     "output_type": "execute_result"
    }
   ],
   "source": [
    "num"
   ]
  },
  {
   "cell_type": "code",
   "execution_count": 8,
   "id": "324af75b-2c21-422d-bc49-8dc0b0e49e0e",
   "metadata": {},
   "outputs": [],
   "source": [
    "n = None"
   ]
  },
  {
   "cell_type": "code",
   "execution_count": 9,
   "id": "d3edf1d8-1d37-4be4-ae28-43f8c68417ea",
   "metadata": {},
   "outputs": [],
   "source": [
    "text += \"suffix\""
   ]
  },
  {
   "cell_type": "code",
   "execution_count": 10,
   "id": "edb283f0-17e1-468b-babc-3258407c03d8",
   "metadata": {},
   "outputs": [
    {
     "data": {
      "text/plain": [
       "'This is a textsuffix'"
      ]
     },
     "execution_count": 10,
     "metadata": {},
     "output_type": "execute_result"
    }
   ],
   "source": [
    "text"
   ]
  },
  {
   "cell_type": "code",
   "execution_count": 11,
   "id": "146ee134-780f-4d16-9cc7-caccc2c8f401",
   "metadata": {},
   "outputs": [],
   "source": [
    "num += 1"
   ]
  },
  {
   "cell_type": "code",
   "execution_count": 12,
   "id": "971dc14b-da44-4980-98de-3fe7868744e0",
   "metadata": {},
   "outputs": [
    {
     "data": {
      "text/plain": [
       "-41"
      ]
     },
     "execution_count": 12,
     "metadata": {},
     "output_type": "execute_result"
    }
   ],
   "source": [
    "num"
   ]
  },
  {
   "cell_type": "code",
   "execution_count": 13,
   "id": "aaba5e60-6384-4851-aaaf-3c5a5de27fdc",
   "metadata": {},
   "outputs": [],
   "source": [
    "num = 42"
   ]
  },
  {
   "cell_type": "code",
   "execution_count": 14,
   "id": "a0b3e24a-84b6-4e20-8f43-f8c817e985e7",
   "metadata": {},
   "outputs": [
    {
     "data": {
      "text/plain": [
       "4301401680"
      ]
     },
     "execution_count": 14,
     "metadata": {},
     "output_type": "execute_result"
    }
   ],
   "source": [
    "id(num)"
   ]
  },
  {
   "cell_type": "code",
   "execution_count": 15,
   "id": "159aa3d6-291e-4640-aa62-823103c1343a",
   "metadata": {},
   "outputs": [],
   "source": [
    "num += 1"
   ]
  },
  {
   "cell_type": "code",
   "execution_count": 16,
   "id": "be1866a4-c8ed-465c-b607-b9bb3b224ee8",
   "metadata": {},
   "outputs": [
    {
     "data": {
      "text/plain": [
       "43"
      ]
     },
     "execution_count": 16,
     "metadata": {},
     "output_type": "execute_result"
    }
   ],
   "source": [
    "num"
   ]
  },
  {
   "cell_type": "code",
   "execution_count": 17,
   "id": "46dd8fdf-a721-4821-83d9-b657883f591c",
   "metadata": {},
   "outputs": [
    {
     "data": {
      "text/plain": [
       "4301401712"
      ]
     },
     "execution_count": 17,
     "metadata": {},
     "output_type": "execute_result"
    }
   ],
   "source": [
    "id(num)"
   ]
  },
  {
   "cell_type": "code",
   "execution_count": 18,
   "id": "4feb3ee5-ef11-45a2-b84b-e8e05d699002",
   "metadata": {},
   "outputs": [],
   "source": [
    "num = num + 1"
   ]
  },
  {
   "cell_type": "code",
   "execution_count": 19,
   "id": "e3c280f4-5782-404c-bcc3-1595f492f77e",
   "metadata": {},
   "outputs": [],
   "source": [
    "text = \"test\""
   ]
  },
  {
   "cell_type": "code",
   "execution_count": 20,
   "id": "9e808dfd-7de1-422e-a044-e7df972753b5",
   "metadata": {},
   "outputs": [
    {
     "data": {
      "text/plain": [
       "4308801072"
      ]
     },
     "execution_count": 20,
     "metadata": {},
     "output_type": "execute_result"
    }
   ],
   "source": [
    "id(text)"
   ]
  },
  {
   "cell_type": "code",
   "execution_count": 21,
   "id": "73bb72b8-d546-4370-bd71-1e652f85ba8a",
   "metadata": {},
   "outputs": [],
   "source": [
    "text += \"suffix\""
   ]
  },
  {
   "cell_type": "code",
   "execution_count": 22,
   "id": "a0e06fc7-a936-4bcc-99b4-b2d660703c08",
   "metadata": {},
   "outputs": [
    {
     "data": {
      "text/plain": [
       "4394702256"
      ]
     },
     "execution_count": 22,
     "metadata": {},
     "output_type": "execute_result"
    }
   ],
   "source": [
    "id(text)"
   ]
  },
  {
   "cell_type": "code",
   "execution_count": 23,
   "id": "9ae9b386-cff5-4e5f-b6d9-6e19f05515d7",
   "metadata": {},
   "outputs": [],
   "source": [
    "a = 42\n",
    "b = 42"
   ]
  },
  {
   "cell_type": "code",
   "execution_count": 24,
   "id": "003291f9-afc3-4c37-8037-d24c0dbd0be8",
   "metadata": {},
   "outputs": [
    {
     "data": {
      "text/plain": [
       "True"
      ]
     },
     "execution_count": 24,
     "metadata": {},
     "output_type": "execute_result"
    }
   ],
   "source": [
    "a is b"
   ]
  },
  {
   "cell_type": "code",
   "execution_count": 25,
   "id": "f3b695c8-91bc-435c-b4f8-384fc89a31c7",
   "metadata": {},
   "outputs": [
    {
     "data": {
      "text/plain": [
       "4301401680"
      ]
     },
     "execution_count": 25,
     "metadata": {},
     "output_type": "execute_result"
    }
   ],
   "source": [
    "id(a)"
   ]
  },
  {
   "cell_type": "code",
   "execution_count": 26,
   "id": "75d4c551-6e69-498d-92f3-c6800ff42ecb",
   "metadata": {},
   "outputs": [
    {
     "data": {
      "text/plain": [
       "4301401680"
      ]
     },
     "execution_count": 26,
     "metadata": {},
     "output_type": "execute_result"
    }
   ],
   "source": [
    "id(b)"
   ]
  },
  {
   "cell_type": "code",
   "execution_count": 27,
   "id": "d1e7688c-222a-4ead-8c5b-f4be7ef01d71",
   "metadata": {},
   "outputs": [],
   "source": [
    "a += 1"
   ]
  },
  {
   "cell_type": "code",
   "execution_count": 28,
   "id": "e48a72bf-8581-4793-bbeb-551d0b35385c",
   "metadata": {},
   "outputs": [
    {
     "data": {
      "text/plain": [
       "False"
      ]
     },
     "execution_count": 28,
     "metadata": {},
     "output_type": "execute_result"
    }
   ],
   "source": [
    "a is b"
   ]
  },
  {
   "cell_type": "code",
   "execution_count": 29,
   "id": "0c5ba8eb-07f3-4425-8016-55a272040276",
   "metadata": {},
   "outputs": [
    {
     "data": {
      "text/plain": [
       "4301401712"
      ]
     },
     "execution_count": 29,
     "metadata": {},
     "output_type": "execute_result"
    }
   ],
   "source": [
    "id(a)"
   ]
  },
  {
   "cell_type": "code",
   "execution_count": 30,
   "id": "d6e3446b-16d7-48bc-a2ab-2f183ffe96ed",
   "metadata": {},
   "outputs": [
    {
     "data": {
      "text/plain": [
       "4301401680"
      ]
     },
     "execution_count": 30,
     "metadata": {},
     "output_type": "execute_result"
    }
   ],
   "source": [
    "id(b)"
   ]
  },
  {
   "cell_type": "code",
   "execution_count": 31,
   "id": "8bafb7cd-bcf0-48c4-8f2e-4f823eb92bf0",
   "metadata": {},
   "outputs": [],
   "source": [
    "a = 455"
   ]
  },
  {
   "cell_type": "code",
   "execution_count": 32,
   "id": "d1301f27-9066-4f25-881b-bb5d3fec10a1",
   "metadata": {},
   "outputs": [],
   "source": [
    "b = 455"
   ]
  },
  {
   "cell_type": "code",
   "execution_count": 33,
   "id": "c13e8c65-7e67-4c55-abe2-975f2147fe82",
   "metadata": {},
   "outputs": [
    {
     "data": {
      "text/plain": [
       "False"
      ]
     },
     "execution_count": 33,
     "metadata": {},
     "output_type": "execute_result"
    }
   ],
   "source": [
    "a is b"
   ]
  },
  {
   "cell_type": "code",
   "execution_count": 34,
   "id": "7234638a-c6c4-42d2-a76e-219d310208f9",
   "metadata": {},
   "outputs": [
    {
     "data": {
      "text/plain": [
       "4394462352"
      ]
     },
     "execution_count": 34,
     "metadata": {},
     "output_type": "execute_result"
    }
   ],
   "source": [
    "id(a)"
   ]
  },
  {
   "cell_type": "code",
   "execution_count": 35,
   "id": "cf68a7ec-87c4-4847-bae3-4efbaf602d94",
   "metadata": {},
   "outputs": [
    {
     "data": {
      "text/plain": [
       "4394462832"
      ]
     },
     "execution_count": 35,
     "metadata": {},
     "output_type": "execute_result"
    }
   ],
   "source": [
    "id(b)"
   ]
  },
  {
   "cell_type": "code",
   "execution_count": null,
   "id": "795e2b8f-68e4-4952-8052-5d6dc64074d9",
   "metadata": {},
   "outputs": [],
   "source": []
  }
 ],
 "metadata": {
  "kernelspec": {
   "display_name": "Python 3 (ipykernel)",
   "language": "python",
   "name": "python3"
  },
  "language_info": {
   "codemirror_mode": {
    "name": "ipython",
    "version": 3
   },
   "file_extension": ".py",
   "mimetype": "text/x-python",
   "name": "python",
   "nbconvert_exporter": "python",
   "pygments_lexer": "ipython3",
   "version": "3.9.13"
  }
 },
 "nbformat": 4,
 "nbformat_minor": 5
}
