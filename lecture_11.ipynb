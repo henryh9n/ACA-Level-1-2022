{
 "cells": [
  {
   "cell_type": "markdown",
   "id": "abbee1e9-1638-4b41-9fd0-e262e892c8a3",
   "metadata": {},
   "source": [
    "# Lecture 11"
   ]
  },
  {
   "cell_type": "code",
   "execution_count": 9,
   "id": "39430b74-c363-4ba8-9918-42594a3636ab",
   "metadata": {},
   "outputs": [],
   "source": [
    "class Students:\n",
    "    def __init__(self, name, date_of_birth, class_num, subjects):\n",
    "        self.name = name\n",
    "        self.date_of_birth = date_of_birth\n",
    "        self.class_num = class_num\n",
    "        self.grades = {subject: None for subject in subjects}\n",
    "    \n",
    "    @property\n",
    "    def subjects(self):\n",
    "        return self.grades.keys()\n",
    "    \n",
    "    def __repr__(self):\n",
    "        return f\"{self.__class__.__name__}({self.name},{self.date_of_birth},{self.class_num},{self.subjects})\""
   ]
  },
  {
   "cell_type": "code",
   "execution_count": 10,
   "id": "3ecce2ce-017c-4ec1-a1f6-0fb5950e0b6b",
   "metadata": {},
   "outputs": [],
   "source": [
    "import random\n",
    "class Teachers:\n",
    "    def __init__(self, name, subject):\n",
    "        self.name = name\n",
    "        self.subject = subject\n",
    "        \n",
    "    def grade(self, student):\n",
    "        if self.subject not in student.grades:\n",
    "            raise Exception(\"This student does not take this subject\")\n",
    "        student.grades[self.subject] = random.randint(1, 5)\n",
    "\n",
    "    def __repr__(self):\n",
    "        return f\"{self.__class__.__name__}({self.name},{self.subject})\""
   ]
  },
  {
   "cell_type": "code",
   "execution_count": 11,
   "id": "5256120d-4ec2-4018-89e2-56826afba603",
   "metadata": {},
   "outputs": [],
   "source": [
    "student1 = Students(\n",
    "    name=\"Adam\",  \n",
    "    date_of_birth=\"2022-08-15\", \n",
    "    class_num=3, \n",
    "    subjects=[\"math\", \"physics\"],\n",
    ")\n",
    "teacher1 = Teachers(\n",
    "    name=\"Leyla\", \n",
    "    subject=\"math\",\n",
    ")\n",
    "\n",
    "teacher1.grade(student1)"
   ]
  },
  {
   "cell_type": "code",
   "execution_count": 12,
   "id": "794e071f-af99-4a98-932b-472d59b9353a",
   "metadata": {},
   "outputs": [
    {
     "data": {
      "text/plain": [
       "{'math': 5, 'physics': None}"
      ]
     },
     "execution_count": 12,
     "metadata": {},
     "output_type": "execute_result"
    }
   ],
   "source": [
    "student1.grades"
   ]
  },
  {
   "cell_type": "code",
   "execution_count": 18,
   "id": "c18d7887-081c-4703-b870-cc42103f3036",
   "metadata": {},
   "outputs": [],
   "source": [
    "class Foo:\n",
    "    def f(self):\n",
    "        print(\"Foo.f()\")\n",
    "        \n",
    "        \n",
    "class Bar:\n",
    "    def b(self):\n",
    "        print(\"Bar.b()\")"
   ]
  },
  {
   "cell_type": "code",
   "execution_count": 19,
   "id": "8c134026-b020-47bd-a4b2-145d3bcd9cd2",
   "metadata": {},
   "outputs": [],
   "source": [
    "class Baz(Foo, Bar):\n",
    "    pass"
   ]
  },
  {
   "cell_type": "code",
   "execution_count": 20,
   "id": "e724aca4-897d-4ac3-8071-5259fe0717de",
   "metadata": {},
   "outputs": [],
   "source": [
    "obj = Baz()"
   ]
  },
  {
   "cell_type": "code",
   "execution_count": 21,
   "id": "d7f34299-d8ea-450b-a91f-52b5177cc659",
   "metadata": {},
   "outputs": [
    {
     "name": "stdout",
     "output_type": "stream",
     "text": [
      "Foo.f()\n"
     ]
    }
   ],
   "source": [
    "obj.f()"
   ]
  },
  {
   "cell_type": "code",
   "execution_count": 22,
   "id": "3c2d0484-0956-423b-a295-d8827b8712e5",
   "metadata": {},
   "outputs": [
    {
     "name": "stdout",
     "output_type": "stream",
     "text": [
      "Bar.b()\n"
     ]
    }
   ],
   "source": [
    "obj.b()"
   ]
  },
  {
   "cell_type": "code",
   "execution_count": 28,
   "id": "8b605ee2-04a8-4ff1-8f62-bceeafd80d67",
   "metadata": {},
   "outputs": [],
   "source": [
    "class Employee:\n",
    "    def __init__(self, employee_id, name):\n",
    "        self.id = employee_id\n",
    "        self.name = name\n",
    "        \n",
    "    def calculate_payroll(self):\n",
    "        raise NotImplementedError\n",
    "        \n",
    "        \n",
    "class SalaryEmployee(Employee):\n",
    "    def __init__(self, employee_id, name, weekly_salary):\n",
    "        super().__init__(employee_id, name)\n",
    "        self.weekly_salary = weekly_salary\n",
    "        \n",
    "    def calculate_payroll(self):\n",
    "        return self.weekly_salary\n",
    "    \n",
    "\n",
    "class HourlyEmployee(Employee):\n",
    "    def __init__(self, employee_id, name, hourly_salary, hours_per_week):\n",
    "        super().__init__(employee_id, name)\n",
    "        self.hourly_salary = hourly_salary\n",
    "        self.hours_per_week = hours_per_week\n",
    "        \n",
    "    def calculate_payroll(self):\n",
    "        return self.hourly_salary * self.hours_per_week\n",
    "    \n",
    "    \n",
    "class CommissionEmployee(SalaryEmployee):\n",
    "    def __init__(self, id, name, weekly_salary, commission):\n",
    "        super().__init__(id, name, weekly_salary)\n",
    "        self.commission = commission\n",
    "\n",
    "    def calculate_payroll(self):\n",
    "        fixed = super().calculate_payroll()\n",
    "        return fixed + self.commission"
   ]
  },
  {
   "cell_type": "code",
   "execution_count": 29,
   "id": "94b48448-c0de-46a6-87fa-12daa00f0549",
   "metadata": {},
   "outputs": [],
   "source": [
    "class Manager(SalaryEmployee):\n",
    "    def work(self, hours):\n",
    "        print(f'{self.name} screams and yells for {hours} hours.')\n",
    "\n",
    "class Secretary(SalaryEmployee):\n",
    "    def work(self, hours):\n",
    "        print(f'{self.name} expends {hours} hours doing office paperwork.')\n",
    "\n",
    "class SalesPerson(CommissionEmployee):\n",
    "    def work(self, hours):\n",
    "        print(f'{self.name} expends {hours} hours on the phone.')\n",
    "\n",
    "class FactoryWorker(HourlyEmployee):\n",
    "    def work(self, hours):\n",
    "        print(f'{self.name} manufactures gadgets for {hours} hours.')"
   ]
  },
  {
   "cell_type": "code",
   "execution_count": 32,
   "id": "62c7d3ef-93df-41da-96ae-251aa0bbda0d",
   "metadata": {},
   "outputs": [],
   "source": [
    "employee_1 = Secretary(employee_id=1, name=\"Adam\", weekly_salary=100_000)"
   ]
  },
  {
   "cell_type": "code",
   "execution_count": 33,
   "id": "c0d9f910-7dd2-40e7-a390-ff0b800d6ad5",
   "metadata": {},
   "outputs": [
    {
     "data": {
      "text/plain": [
       "100000"
      ]
     },
     "execution_count": 33,
     "metadata": {},
     "output_type": "execute_result"
    }
   ],
   "source": [
    "employee_1.calculate_payroll()"
   ]
  },
  {
   "cell_type": "code",
   "execution_count": 35,
   "id": "9d6d6a0f-dcdd-48fd-9e03-39c0589be1d9",
   "metadata": {},
   "outputs": [
    {
     "name": "stdout",
     "output_type": "stream",
     "text": [
      "Adam expends 5 hours doing office paperwork.\n"
     ]
    }
   ],
   "source": [
    "employee_1.work(5)"
   ]
  },
  {
   "cell_type": "code",
   "execution_count": 37,
   "id": "aef6ac38-1eef-4d65-b8e3-edab72699c1a",
   "metadata": {},
   "outputs": [],
   "source": [
    "class PayrollSystem:\n",
    "    @staticmethod\n",
    "    def pay_salary(employee):\n",
    "        return employee.calculate_payroll()"
   ]
  },
  {
   "cell_type": "code",
   "execution_count": 38,
   "id": "40e9ab01-2758-4330-8107-9f4fce262284",
   "metadata": {},
   "outputs": [],
   "source": [
    "payroll_system = PayrollSystem()"
   ]
  },
  {
   "cell_type": "code",
   "execution_count": 39,
   "id": "aed69ac9-7e0b-4724-807b-7ce5e7cc33c0",
   "metadata": {},
   "outputs": [
    {
     "data": {
      "text/plain": [
       "100000"
      ]
     },
     "execution_count": 39,
     "metadata": {},
     "output_type": "execute_result"
    }
   ],
   "source": [
    "payroll_system.pay_salary(employee_1)"
   ]
  },
  {
   "cell_type": "code",
   "execution_count": 49,
   "id": "a602669d-10d5-4f07-a629-b2172fbaf0ff",
   "metadata": {},
   "outputs": [],
   "source": [
    "class CompanyBudget:\n",
    "    def __init__(self, yearly_budget):\n",
    "        self.yearly_budget = yearly_budget\n",
    "        \n",
    "    def __isub__(self, other):\n",
    "        self.yearly_budget -= other"
   ]
  },
  {
   "cell_type": "code",
   "execution_count": 50,
   "id": "e6194a1a-2cb7-4a4a-b9cd-3762fcf9052d",
   "metadata": {},
   "outputs": [],
   "source": [
    "budget_for_2022 = CompanyBudget(20_000_000)"
   ]
  },
  {
   "cell_type": "code",
   "execution_count": 51,
   "id": "a9af7af3-78ae-4f14-87c1-9d533757f1b0",
   "metadata": {},
   "outputs": [],
   "source": [
    "class PayrollSystem:\n",
    "    def __init__(self, budget):\n",
    "        self.current_budget = budget\n",
    "        \n",
    "    def pay_salary(self, employee):\n",
    "        salary = employee.calculate_payroll()\n",
    "        self.current_budget -= salary\n",
    "        return salary"
   ]
  },
  {
   "cell_type": "code",
   "execution_count": 52,
   "id": "ba4a360a-fc80-44c7-a8be-2204d341fac2",
   "metadata": {},
   "outputs": [],
   "source": [
    "payroll_system = PayrollSystem(budget_for_2022)"
   ]
  },
  {
   "cell_type": "code",
   "execution_count": 53,
   "id": "a14c29d4-1d05-478a-af7a-9f3cb41eff6b",
   "metadata": {},
   "outputs": [
    {
     "data": {
      "text/plain": [
       "100000"
      ]
     },
     "execution_count": 53,
     "metadata": {},
     "output_type": "execute_result"
    }
   ],
   "source": [
    "payroll_system.pay_salary(employee_1)"
   ]
  },
  {
   "cell_type": "code",
   "execution_count": 54,
   "id": "4f0e6245-8d65-4642-bba2-cd9df65d5fe1",
   "metadata": {},
   "outputs": [
    {
     "data": {
      "text/plain": [
       "19900000"
      ]
     },
     "execution_count": 54,
     "metadata": {},
     "output_type": "execute_result"
    }
   ],
   "source": [
    "budget_for_2022.yearly_budget"
   ]
  },
  {
   "cell_type": "code",
   "execution_count": 59,
   "id": "6afd188d-f58f-49f1-a2b7-5a32144d1229",
   "metadata": {},
   "outputs": [],
   "source": [
    "class Foo:\n",
    "    def test(self):\n",
    "        print(\"testing Foo\")\n",
    "     \n",
    "    \n",
    "class Bar:\n",
    "    def test(self):\n",
    "        print(\"testing Bar\")\n",
    "    \n",
    "\n",
    "class Baz(Foo, Bar):\n",
    "    pass"
   ]
  },
  {
   "cell_type": "code",
   "execution_count": 60,
   "id": "8963103a-b41b-431d-affd-6613f532ef04",
   "metadata": {},
   "outputs": [],
   "source": [
    "obj = Baz()"
   ]
  },
  {
   "cell_type": "code",
   "execution_count": 61,
   "id": "32598ee7-5fcf-4e19-8f15-27bad98284d8",
   "metadata": {},
   "outputs": [
    {
     "name": "stdout",
     "output_type": "stream",
     "text": [
      "testing Foo\n"
     ]
    }
   ],
   "source": [
    "obj.test()"
   ]
  },
  {
   "cell_type": "code",
   "execution_count": 62,
   "id": "aead0c1f-0b7e-4158-ab2d-5eb2119c75ec",
   "metadata": {},
   "outputs": [],
   "source": [
    "class Baz(Bar, Foo):\n",
    "    pass"
   ]
  },
  {
   "cell_type": "code",
   "execution_count": 63,
   "id": "1c337cc2-a957-49ea-8095-e26d8780d5f8",
   "metadata": {},
   "outputs": [
    {
     "name": "stdout",
     "output_type": "stream",
     "text": [
      "testing Bar\n"
     ]
    }
   ],
   "source": [
    "obj = Baz()\n",
    "obj.test()"
   ]
  },
  {
   "cell_type": "code",
   "execution_count": 64,
   "id": "cf094edc-a183-48a5-890a-8586ea15e058",
   "metadata": {},
   "outputs": [],
   "source": [
    "class Test(Bar):\n",
    "    pass"
   ]
  },
  {
   "cell_type": "code",
   "execution_count": 65,
   "id": "7a20a9ab-931f-4168-95a9-7eab31882ad5",
   "metadata": {},
   "outputs": [],
   "source": [
    "class Baz(Test, Foo):\n",
    "    pass"
   ]
  },
  {
   "cell_type": "code",
   "execution_count": 66,
   "id": "0d1549a7-1cf8-400d-a9dc-b2d323aa1fc0",
   "metadata": {},
   "outputs": [],
   "source": [
    "obj = Baz()"
   ]
  },
  {
   "cell_type": "code",
   "execution_count": 67,
   "id": "cd490f96-c0b2-4e47-bc2f-ab162250a7de",
   "metadata": {},
   "outputs": [
    {
     "name": "stdout",
     "output_type": "stream",
     "text": [
      "testing Bar\n"
     ]
    }
   ],
   "source": [
    "obj.test()"
   ]
  },
  {
   "cell_type": "code",
   "execution_count": 87,
   "id": "8c14917a-b3ac-4b70-a835-4f3a5d263a1d",
   "metadata": {},
   "outputs": [],
   "source": [
    "class HourlyEmployee(Employee):\n",
    "    def __init__(self, employee_id, name, hourly_salary, hours_per_week):\n",
    "        super().__init__(employee_id, name)\n",
    "        self.hourly_salary = hourly_salary\n",
    "        self.hours_per_week = hours_per_week\n",
    "        \n",
    "    def calculate_payroll(self):\n",
    "        return self.hourly_salary * self.hours_per_week"
   ]
  },
  {
   "cell_type": "code",
   "execution_count": 88,
   "id": "6c74a9eb-3a3a-4cb1-aa03-cbcc64d7e8bf",
   "metadata": {},
   "outputs": [],
   "source": [
    "class TemporarySecratary(HourlyEmployee, Secretary):\n",
    "    pass"
   ]
  },
  {
   "cell_type": "code",
   "execution_count": 89,
   "id": "69c9635f-05f0-4cc1-9cfa-c2645cce7a2b",
   "metadata": {},
   "outputs": [
    {
     "name": "stdout",
     "output_type": "stream",
     "text": [
      "super\n"
     ]
    },
    {
     "ename": "TypeError",
     "evalue": "__init__() missing 1 required positional argument: 'weekly_salary'",
     "output_type": "error",
     "traceback": [
      "\u001b[0;31m---------------------------------------------------------------------------\u001b[0m",
      "\u001b[0;31mTypeError\u001b[0m                                 Traceback (most recent call last)",
      "Input \u001b[0;32mIn [89]\u001b[0m, in \u001b[0;36m<cell line: 1>\u001b[0;34m()\u001b[0m\n\u001b[0;32m----> 1\u001b[0m employee_2 \u001b[38;5;241m=\u001b[39m \u001b[43mTemporarySecratary\u001b[49m\u001b[43m(\u001b[49m\u001b[43memployee_id\u001b[49m\u001b[38;5;241;43m=\u001b[39;49m\u001b[38;5;241;43m2\u001b[39;49m\u001b[43m,\u001b[49m\u001b[43m \u001b[49m\u001b[43mname\u001b[49m\u001b[38;5;241;43m=\u001b[39;49m\u001b[38;5;124;43m\"\u001b[39;49m\u001b[38;5;124;43mJack\u001b[39;49m\u001b[38;5;124;43m\"\u001b[39;49m\u001b[43m,\u001b[49m\u001b[43m \u001b[49m\u001b[43mhourly_salary\u001b[49m\u001b[38;5;241;43m=\u001b[39;49m\u001b[38;5;241;43m20_000\u001b[39;49m\u001b[43m,\u001b[49m\u001b[43m \u001b[49m\u001b[43mhours_per_week\u001b[49m\u001b[38;5;241;43m=\u001b[39;49m\u001b[38;5;241;43m5\u001b[39;49m\u001b[43m)\u001b[49m\n",
      "Input \u001b[0;32mIn [87]\u001b[0m, in \u001b[0;36mHourlyEmployee.__init__\u001b[0;34m(self, employee_id, name, hourly_salary, hours_per_week)\u001b[0m\n\u001b[1;32m      2\u001b[0m \u001b[38;5;28;01mdef\u001b[39;00m \u001b[38;5;21m__init__\u001b[39m(\u001b[38;5;28mself\u001b[39m, employee_id, name, hourly_salary, hours_per_week):\n\u001b[1;32m      3\u001b[0m     \u001b[38;5;28mprint\u001b[39m(\u001b[38;5;28msuper\u001b[39m()\u001b[38;5;241m.\u001b[39m\u001b[38;5;18m__class__\u001b[39m\u001b[38;5;241m.\u001b[39m\u001b[38;5;18m__name__\u001b[39m)\n\u001b[0;32m----> 4\u001b[0m     \u001b[38;5;28;43msuper\u001b[39;49m\u001b[43m(\u001b[49m\u001b[43m)\u001b[49m\u001b[38;5;241;43m.\u001b[39;49m\u001b[38;5;21;43m__init__\u001b[39;49m\u001b[43m(\u001b[49m\u001b[43memployee_id\u001b[49m\u001b[43m,\u001b[49m\u001b[43m \u001b[49m\u001b[43mname\u001b[49m\u001b[43m)\u001b[49m\n\u001b[1;32m      5\u001b[0m     \u001b[38;5;28mself\u001b[39m\u001b[38;5;241m.\u001b[39mhourly_salary \u001b[38;5;241m=\u001b[39m hourly_salary\n\u001b[1;32m      6\u001b[0m     \u001b[38;5;28mself\u001b[39m\u001b[38;5;241m.\u001b[39mhours_per_week \u001b[38;5;241m=\u001b[39m hours_per_week\n",
      "\u001b[0;31mTypeError\u001b[0m: __init__() missing 1 required positional argument: 'weekly_salary'"
     ]
    }
   ],
   "source": [
    "employee_2 = TemporarySecratary(employee_id=2, name=\"Jack\", hourly_salary=20_000, hours_per_week=5)"
   ]
  },
  {
   "cell_type": "code",
   "execution_count": 90,
   "id": "da1c40fe-8f25-494d-83aa-6a9440b4d6ac",
   "metadata": {},
   "outputs": [
    {
     "data": {
      "text/plain": [
       "(__main__.TemporarySecratary,\n",
       " __main__.HourlyEmployee,\n",
       " __main__.Secretary,\n",
       " __main__.SalaryEmployee,\n",
       " __main__.Employee,\n",
       " object)"
      ]
     },
     "execution_count": 90,
     "metadata": {},
     "output_type": "execute_result"
    }
   ],
   "source": [
    "TemporarySecratary.__mro__"
   ]
  },
  {
   "cell_type": "code",
   "execution_count": 123,
   "id": "01efd4d1-caad-4870-8d09-d416086f4be4",
   "metadata": {},
   "outputs": [],
   "source": [
    "class Employee:\n",
    "    def __init__(self, employee_id, name):\n",
    "        self.id = employee_id\n",
    "        self.name = name\n",
    "        \n",
    "    def calculate_payroll(self):\n",
    "        raise NotImplementedError\n",
    "        \n",
    "class HourlyEmployee(Employee):\n",
    "    def __init__(self, employee_id, name, hourly_salary, hours_per_week):\n",
    "        super(Employee).__init__(employee_id, name)\n",
    "        self.hourly_salary = hourly_salary\n",
    "        self.hours_per_week = hours_per_week\n",
    "        \n",
    "    def calculate_payroll(self):\n",
    "        return self.hourly_salary * self.hours_per_week"
   ]
  },
  {
   "cell_type": "code",
   "execution_count": 124,
   "id": "67ff8d27-ef12-46b4-874c-ee60666c1175",
   "metadata": {},
   "outputs": [],
   "source": [
    "class TemporarySecratary(HourlyEmployee, Secretary):\n",
    "    def __init__(self, employee_id, name, hourly_salary, hours_per_week):\n",
    "        HourlyEmployee.__init__(self, employee_id, name, hourly_salary, hours_per_week)"
   ]
  },
  {
   "cell_type": "code",
   "execution_count": 125,
   "id": "f4c48450-2470-405a-a17b-9e461699da82",
   "metadata": {},
   "outputs": [
    {
     "data": {
      "text/plain": [
       "(__main__.TemporarySecratary,\n",
       " __main__.HourlyEmployee,\n",
       " __main__.Employee,\n",
       " __main__.Secretary,\n",
       " __main__.SalaryEmployee,\n",
       " __main__.Employee,\n",
       " object)"
      ]
     },
     "execution_count": 125,
     "metadata": {},
     "output_type": "execute_result"
    }
   ],
   "source": [
    "TemporarySecratary.__mro__"
   ]
  },
  {
   "cell_type": "code",
   "execution_count": 126,
   "id": "32704485-ede2-41b0-9c34-35421eaa47c7",
   "metadata": {},
   "outputs": [
    {
     "ename": "TypeError",
     "evalue": "super() argument 1 must be type, not int",
     "output_type": "error",
     "traceback": [
      "\u001b[0;31m---------------------------------------------------------------------------\u001b[0m",
      "\u001b[0;31mTypeError\u001b[0m                                 Traceback (most recent call last)",
      "Input \u001b[0;32mIn [126]\u001b[0m, in \u001b[0;36m<cell line: 1>\u001b[0;34m()\u001b[0m\n\u001b[0;32m----> 1\u001b[0m employee_2 \u001b[38;5;241m=\u001b[39m \u001b[43mTemporarySecratary\u001b[49m\u001b[43m(\u001b[49m\u001b[43memployee_id\u001b[49m\u001b[38;5;241;43m=\u001b[39;49m\u001b[38;5;241;43m2\u001b[39;49m\u001b[43m,\u001b[49m\u001b[43m \u001b[49m\u001b[43mname\u001b[49m\u001b[38;5;241;43m=\u001b[39;49m\u001b[38;5;124;43m\"\u001b[39;49m\u001b[38;5;124;43mJack\u001b[39;49m\u001b[38;5;124;43m\"\u001b[39;49m\u001b[43m,\u001b[49m\u001b[43m \u001b[49m\u001b[43mhourly_salary\u001b[49m\u001b[38;5;241;43m=\u001b[39;49m\u001b[38;5;241;43m20_000\u001b[39;49m\u001b[43m,\u001b[49m\u001b[43m \u001b[49m\u001b[43mhours_per_week\u001b[49m\u001b[38;5;241;43m=\u001b[39;49m\u001b[38;5;241;43m5\u001b[39;49m\u001b[43m)\u001b[49m\n",
      "Input \u001b[0;32mIn [124]\u001b[0m, in \u001b[0;36mTemporarySecratary.__init__\u001b[0;34m(self, employee_id, name, hourly_salary, hours_per_week)\u001b[0m\n\u001b[1;32m      2\u001b[0m \u001b[38;5;28;01mdef\u001b[39;00m \u001b[38;5;21m__init__\u001b[39m(\u001b[38;5;28mself\u001b[39m, employee_id, name, hourly_salary, hours_per_week):\n\u001b[0;32m----> 3\u001b[0m     \u001b[43mHourlyEmployee\u001b[49m\u001b[38;5;241;43m.\u001b[39;49m\u001b[38;5;21;43m__init__\u001b[39;49m\u001b[43m(\u001b[49m\u001b[38;5;28;43mself\u001b[39;49m\u001b[43m,\u001b[49m\u001b[43m \u001b[49m\u001b[43memployee_id\u001b[49m\u001b[43m,\u001b[49m\u001b[43m \u001b[49m\u001b[43mname\u001b[49m\u001b[43m,\u001b[49m\u001b[43m \u001b[49m\u001b[43mhourly_salary\u001b[49m\u001b[43m,\u001b[49m\u001b[43m \u001b[49m\u001b[43mhours_per_week\u001b[49m\u001b[43m)\u001b[49m\n",
      "Input \u001b[0;32mIn [123]\u001b[0m, in \u001b[0;36mHourlyEmployee.__init__\u001b[0;34m(self, employee_id, name, hourly_salary, hours_per_week)\u001b[0m\n\u001b[1;32m     10\u001b[0m \u001b[38;5;28;01mdef\u001b[39;00m \u001b[38;5;21m__init__\u001b[39m(\u001b[38;5;28mself\u001b[39m, employee_id, name, hourly_salary, hours_per_week):\n\u001b[0;32m---> 11\u001b[0m     \u001b[38;5;28;43msuper\u001b[39;49m\u001b[43m(\u001b[49m\u001b[43mEmployee\u001b[49m\u001b[43m)\u001b[49m\u001b[38;5;241;43m.\u001b[39;49m\u001b[38;5;21;43m__init__\u001b[39;49m\u001b[43m(\u001b[49m\u001b[43memployee_id\u001b[49m\u001b[43m,\u001b[49m\u001b[43m \u001b[49m\u001b[43mname\u001b[49m\u001b[43m)\u001b[49m\n\u001b[1;32m     12\u001b[0m     \u001b[38;5;28mself\u001b[39m\u001b[38;5;241m.\u001b[39mhourly_salary \u001b[38;5;241m=\u001b[39m hourly_salary\n\u001b[1;32m     13\u001b[0m     \u001b[38;5;28mself\u001b[39m\u001b[38;5;241m.\u001b[39mhours_per_week \u001b[38;5;241m=\u001b[39m hours_per_week\n",
      "\u001b[0;31mTypeError\u001b[0m: super() argument 1 must be type, not int"
     ]
    }
   ],
   "source": [
    "employee_2 = TemporarySecratary(employee_id=2, name=\"Jack\", hourly_salary=20_000, hours_per_week=5)"
   ]
  },
  {
   "cell_type": "code",
   "execution_count": 127,
   "id": "37a4e9c1-fdb5-46df-807c-8dab33df8326",
   "metadata": {},
   "outputs": [],
   "source": [
    "class A:\n",
    "    def test(self):\n",
    "        print(\"testing A\")\n",
    "        \n",
    "\n",
    "class B:\n",
    "    def test(self):\n",
    "        print(\"testing B\")\n",
    "        \n",
    "\n",
    "class C(A, B):\n",
    "    pass"
   ]
  },
  {
   "cell_type": "code",
   "execution_count": 128,
   "id": "f5ebf7dd-50aa-4e5a-9229-978dc6921718",
   "metadata": {},
   "outputs": [],
   "source": [
    "obj = C()"
   ]
  },
  {
   "cell_type": "code",
   "execution_count": 129,
   "id": "cc9e26db-1a01-42ce-84f8-a33894308359",
   "metadata": {},
   "outputs": [
    {
     "name": "stdout",
     "output_type": "stream",
     "text": [
      "testing A\n"
     ]
    }
   ],
   "source": [
    "obj.test()"
   ]
  },
  {
   "cell_type": "code",
   "execution_count": 131,
   "id": "19d544bd-4c3c-4be4-9ae4-ee0cbc4a1054",
   "metadata": {},
   "outputs": [
    {
     "data": {
      "text/plain": [
       "(__main__.C, __main__.A, __main__.B, object)"
      ]
     },
     "execution_count": 131,
     "metadata": {},
     "output_type": "execute_result"
    }
   ],
   "source": [
    "C.__mro__"
   ]
  },
  {
   "cell_type": "code",
   "execution_count": 136,
   "id": "8ab685fa-541f-490b-9391-b434736976b1",
   "metadata": {},
   "outputs": [],
   "source": [
    "class A:\n",
    "    def test(self):\n",
    "        print(\"testing A\")\n",
    "        \n",
    "\n",
    "class B:\n",
    "    def test(self):\n",
    "        print(\"testing B\")\n",
    "        \n",
    "    \n",
    "class C(A):\n",
    "    def test(self):\n",
    "        print(\"testing C\")\n",
    "\n",
    "\n",
    "class D(C, B):\n",
    "    pass"
   ]
  },
  {
   "cell_type": "code",
   "execution_count": 137,
   "id": "a2d365c5-8b15-4714-8ee4-9769aad8c9bb",
   "metadata": {},
   "outputs": [],
   "source": [
    "obj = D()"
   ]
  },
  {
   "cell_type": "code",
   "execution_count": 138,
   "id": "5265f6cd-4108-4b86-83b7-193796b40bde",
   "metadata": {},
   "outputs": [
    {
     "name": "stdout",
     "output_type": "stream",
     "text": [
      "testing C\n"
     ]
    }
   ],
   "source": [
    "obj.test()"
   ]
  },
  {
   "cell_type": "code",
   "execution_count": 139,
   "id": "b490d02c-bb27-4526-92aa-4b3e70eada01",
   "metadata": {},
   "outputs": [
    {
     "data": {
      "text/plain": [
       "(__main__.D, __main__.C, __main__.A, __main__.B, object)"
      ]
     },
     "execution_count": 139,
     "metadata": {},
     "output_type": "execute_result"
    }
   ],
   "source": [
    "D.__mro__"
   ]
  },
  {
   "cell_type": "code",
   "execution_count": 164,
   "id": "6db35f6c-f84e-4a05-a391-197e4c2d1f5d",
   "metadata": {},
   "outputs": [],
   "source": [
    "class A:\n",
    "    def test(self):\n",
    "        print(\"testing A\")"
   ]
  },
  {
   "cell_type": "code",
   "execution_count": 165,
   "id": "66168302-b2c0-4d71-8e52-0b7a64511e3c",
   "metadata": {},
   "outputs": [],
   "source": [
    "class B(A):\n",
    "    pass"
   ]
  },
  {
   "cell_type": "code",
   "execution_count": 166,
   "id": "06b556b0-8801-41bb-a9a5-69c5328b3e8c",
   "metadata": {},
   "outputs": [],
   "source": [
    "class C(A):\n",
    "    pass"
   ]
  },
  {
   "cell_type": "code",
   "execution_count": 167,
   "id": "7933abe1-3f9f-4c32-bb0e-3af6902a1e80",
   "metadata": {},
   "outputs": [],
   "source": [
    "class D(B, C):\n",
    "    pass"
   ]
  },
  {
   "cell_type": "code",
   "execution_count": 168,
   "id": "1ea37ae0-29ba-428e-bd00-3e0d8e9219e3",
   "metadata": {},
   "outputs": [],
   "source": [
    "obj = D()"
   ]
  },
  {
   "cell_type": "code",
   "execution_count": 169,
   "id": "cd201148-490c-4c23-8c31-bcad65d123cd",
   "metadata": {},
   "outputs": [
    {
     "name": "stdout",
     "output_type": "stream",
     "text": [
      "testing A\n"
     ]
    }
   ],
   "source": [
    "obj.test()"
   ]
  },
  {
   "cell_type": "code",
   "execution_count": 170,
   "id": "5256d01b-3821-4f2c-bae3-1cbb01acc0f2",
   "metadata": {},
   "outputs": [
    {
     "data": {
      "text/plain": [
       "(__main__.D, __main__.B, __main__.C, __main__.A, object)"
      ]
     },
     "execution_count": 170,
     "metadata": {},
     "output_type": "execute_result"
    }
   ],
   "source": [
    "D.__mro__"
   ]
  },
  {
   "cell_type": "code",
   "execution_count": null,
   "id": "0b4790b2-1cc4-4d70-be24-59e518ae3569",
   "metadata": {},
   "outputs": [],
   "source": []
  }
 ],
 "metadata": {
  "kernelspec": {
   "display_name": "Python 3 (ipykernel)",
   "language": "python",
   "name": "python3"
  },
  "language_info": {
   "codemirror_mode": {
    "name": "ipython",
    "version": 3
   },
   "file_extension": ".py",
   "mimetype": "text/x-python",
   "name": "python",
   "nbconvert_exporter": "python",
   "pygments_lexer": "ipython3",
   "version": "3.9.13"
  }
 },
 "nbformat": 4,
 "nbformat_minor": 5
}
