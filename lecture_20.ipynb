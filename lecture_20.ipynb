{
 "cells": [
  {
   "cell_type": "markdown",
   "id": "afaa2021-a68b-40d5-ba5e-977e1b109f27",
   "metadata": {},
   "source": [
    "# Lecture 20"
   ]
  },
  {
   "cell_type": "code",
   "execution_count": 1,
   "id": "93fb62d1-267f-4299-9dcb-844d440489f9",
   "metadata": {},
   "outputs": [
    {
     "name": "stdout",
     "output_type": "stream",
     "text": [
      "Python 3.9.13\n"
     ]
    }
   ],
   "source": [
    "!python --version"
   ]
  },
  {
   "cell_type": "code",
   "execution_count": 3,
   "id": "29475f82-3e50-48f2-91ca-08a95154a294",
   "metadata": {},
   "outputs": [],
   "source": [
    "def fibo(n):\n",
    "    if n == 0 or n == 1:\n",
    "        return 1\n",
    "    return fibo(n-1) + fibo(n-2)"
   ]
  },
  {
   "cell_type": "code",
   "execution_count": 6,
   "id": "1def2ff8-f927-43a9-aeeb-a4753b452ec4",
   "metadata": {},
   "outputs": [
    {
     "data": {
      "text/plain": [
       "433494437"
      ]
     },
     "execution_count": 6,
     "metadata": {},
     "output_type": "execute_result"
    }
   ],
   "source": [
    "fibo(42)"
   ]
  },
  {
   "cell_type": "markdown",
   "id": "17b80dcc-5765-44df-94c0-d57b67d30658",
   "metadata": {},
   "source": [
    "## Memoization"
   ]
  },
  {
   "cell_type": "code",
   "execution_count": 9,
   "id": "cb23ab42-59c0-4c7b-a821-8cc53c707cca",
   "metadata": {},
   "outputs": [],
   "source": [
    "fibo_values = {\n",
    "    0: 1,\n",
    "    1: 1,\n",
    "}"
   ]
  },
  {
   "cell_type": "code",
   "execution_count": 10,
   "id": "5b75ef3e-96e8-4860-a4e6-e3cf0403ab5d",
   "metadata": {},
   "outputs": [],
   "source": [
    "def fibo(n):\n",
    "    if n in fibo_values:\n",
    "        print(f\"Value for {n} already in fibo_values\")\n",
    "        return fibo_values[n]\n",
    "    print(f\"Computing value for {n}\")\n",
    "    val = fibo(n-1) + fibo(n-2)\n",
    "    fibo_values[n] = val\n",
    "    return val"
   ]
  },
  {
   "cell_type": "code",
   "execution_count": 11,
   "id": "f50359e9-6e38-4846-ad31-13050c2c2f6f",
   "metadata": {},
   "outputs": [
    {
     "name": "stdout",
     "output_type": "stream",
     "text": [
      "Computing value for 42\n",
      "Computing value for 41\n",
      "Computing value for 40\n",
      "Computing value for 39\n",
      "Computing value for 38\n",
      "Computing value for 37\n",
      "Computing value for 36\n",
      "Computing value for 35\n",
      "Computing value for 34\n",
      "Computing value for 33\n",
      "Computing value for 32\n",
      "Computing value for 31\n",
      "Computing value for 30\n",
      "Computing value for 29\n",
      "Computing value for 28\n",
      "Computing value for 27\n",
      "Computing value for 26\n",
      "Computing value for 25\n",
      "Computing value for 24\n",
      "Computing value for 23\n",
      "Computing value for 22\n",
      "Computing value for 21\n",
      "Computing value for 20\n",
      "Computing value for 19\n",
      "Computing value for 18\n",
      "Computing value for 17\n",
      "Computing value for 16\n",
      "Computing value for 15\n",
      "Computing value for 14\n",
      "Computing value for 13\n",
      "Computing value for 12\n",
      "Computing value for 11\n",
      "Computing value for 10\n",
      "Computing value for 9\n",
      "Computing value for 8\n",
      "Computing value for 7\n",
      "Computing value for 6\n",
      "Computing value for 5\n",
      "Computing value for 4\n",
      "Computing value for 3\n",
      "Computing value for 2\n",
      "Value for 1 already in fibo_values\n",
      "Value for 0 already in fibo_values\n",
      "Value for 1 already in fibo_values\n",
      "Value for 2 already in fibo_values\n",
      "Value for 3 already in fibo_values\n",
      "Value for 4 already in fibo_values\n",
      "Value for 5 already in fibo_values\n",
      "Value for 6 already in fibo_values\n",
      "Value for 7 already in fibo_values\n",
      "Value for 8 already in fibo_values\n",
      "Value for 9 already in fibo_values\n",
      "Value for 10 already in fibo_values\n",
      "Value for 11 already in fibo_values\n",
      "Value for 12 already in fibo_values\n",
      "Value for 13 already in fibo_values\n",
      "Value for 14 already in fibo_values\n",
      "Value for 15 already in fibo_values\n",
      "Value for 16 already in fibo_values\n",
      "Value for 17 already in fibo_values\n",
      "Value for 18 already in fibo_values\n",
      "Value for 19 already in fibo_values\n",
      "Value for 20 already in fibo_values\n",
      "Value for 21 already in fibo_values\n",
      "Value for 22 already in fibo_values\n",
      "Value for 23 already in fibo_values\n",
      "Value for 24 already in fibo_values\n",
      "Value for 25 already in fibo_values\n",
      "Value for 26 already in fibo_values\n",
      "Value for 27 already in fibo_values\n",
      "Value for 28 already in fibo_values\n",
      "Value for 29 already in fibo_values\n",
      "Value for 30 already in fibo_values\n",
      "Value for 31 already in fibo_values\n",
      "Value for 32 already in fibo_values\n",
      "Value for 33 already in fibo_values\n",
      "Value for 34 already in fibo_values\n",
      "Value for 35 already in fibo_values\n",
      "Value for 36 already in fibo_values\n",
      "Value for 37 already in fibo_values\n",
      "Value for 38 already in fibo_values\n",
      "Value for 39 already in fibo_values\n",
      "Value for 40 already in fibo_values\n"
     ]
    },
    {
     "data": {
      "text/plain": [
       "433494437"
      ]
     },
     "execution_count": 11,
     "metadata": {},
     "output_type": "execute_result"
    }
   ],
   "source": [
    "fibo(42)"
   ]
  },
  {
   "cell_type": "code",
   "execution_count": 15,
   "id": "54a7f868-cb16-4540-b535-0ca1cbda1a57",
   "metadata": {},
   "outputs": [],
   "source": [
    "def fibo_slow(n):\n",
    "    if n == 0 or n == 1:\n",
    "        return 1\n",
    "    return fibo_slow(n-1) + fibo_slow(n-2)"
   ]
  },
  {
   "cell_type": "code",
   "execution_count": 6,
   "id": "7c33d09c-5e94-4e80-8bf1-3fdefc266bc8",
   "metadata": {},
   "outputs": [],
   "source": [
    "from timeit import timeit"
   ]
  },
  {
   "cell_type": "code",
   "execution_count": 27,
   "id": "4d520f10-450d-4485-b777-472ea1668e2a",
   "metadata": {},
   "outputs": [
    {
     "data": {
      "text/plain": [
       "0.13193262499999037"
      ]
     },
     "execution_count": 27,
     "metadata": {},
     "output_type": "execute_result"
    }
   ],
   "source": [
    "timeit(\"fibo_slow(24)\", setup=\"from __main__ import fibo_slow\", number=10)"
   ]
  },
  {
   "cell_type": "code",
   "execution_count": 28,
   "id": "ca1dd892-62d2-4b7a-a1d5-3a44f6e1e704",
   "metadata": {},
   "outputs": [],
   "source": [
    "fibo_values = {\n",
    "    0: 1,\n",
    "    1: 1,\n",
    "}"
   ]
  },
  {
   "cell_type": "code",
   "execution_count": 29,
   "id": "997c1c87-7763-4c56-83a3-a6baa1530ebf",
   "metadata": {},
   "outputs": [],
   "source": [
    "def fibo(n):\n",
    "    if n in fibo_values:\n",
    "        return fibo_values[n]\n",
    "    val = fibo(n-1) + fibo(n-2)\n",
    "    fibo_values[n] = val\n",
    "    return val"
   ]
  },
  {
   "cell_type": "code",
   "execution_count": 30,
   "id": "52ea1d23-4961-4e6a-a2af-fa55511e4cc4",
   "metadata": {},
   "outputs": [
    {
     "data": {
      "text/plain": [
       "2.479199997651449e-05"
      ]
     },
     "execution_count": 30,
     "metadata": {},
     "output_type": "execute_result"
    }
   ],
   "source": [
    "timeit(\"fibo(24)\", setup=\"from __main__ import fibo\", number=10)"
   ]
  },
  {
   "cell_type": "code",
   "execution_count": 31,
   "id": "5648f7c1-4a0f-4184-a156-e1f486d0f399",
   "metadata": {},
   "outputs": [
    {
     "data": {
      "text/plain": [
       "58.88020933300004"
      ]
     },
     "execution_count": 31,
     "metadata": {},
     "output_type": "execute_result"
    }
   ],
   "source": [
    "timeit(\"fibo_slow(42)\", setup=\"from __main__ import fibo_slow\", number=1)"
   ]
  },
  {
   "cell_type": "code",
   "execution_count": 32,
   "id": "9edc4919-c46e-4ccd-9c8d-ae206c22dad1",
   "metadata": {},
   "outputs": [
    {
     "data": {
      "text/plain": [
       "1.2749999996231054e-05"
      ]
     },
     "execution_count": 32,
     "metadata": {},
     "output_type": "execute_result"
    }
   ],
   "source": [
    "fibo_values = {\n",
    "    0: 1,\n",
    "    1: 1,\n",
    "}\n",
    "timeit(\"fibo(42)\", setup=\"from __main__ import fibo\", number=10)"
   ]
  },
  {
   "cell_type": "code",
   "execution_count": 34,
   "id": "1c27f391-faec-406a-ad12-827643a2af1d",
   "metadata": {},
   "outputs": [
    {
     "data": {
      "text/plain": [
       "2199023255552"
      ]
     },
     "execution_count": 34,
     "metadata": {},
     "output_type": "execute_result"
    }
   ],
   "source": [
    "2**41"
   ]
  },
  {
   "cell_type": "code",
   "execution_count": 20,
   "id": "94c00f42-2129-4c3d-bc52-7ce6f947187e",
   "metadata": {},
   "outputs": [],
   "source": [
    "import sys"
   ]
  },
  {
   "cell_type": "code",
   "execution_count": 21,
   "id": "4f8319d3-d66b-4bc4-af86-dc4397a6b938",
   "metadata": {},
   "outputs": [
    {
     "data": {
      "text/plain": [
       "13000"
      ]
     },
     "execution_count": 21,
     "metadata": {},
     "output_type": "execute_result"
    }
   ],
   "source": [
    "sys.getrecursionlimit()"
   ]
  },
  {
   "cell_type": "code",
   "execution_count": 28,
   "id": "d39d786d-bae1-4f04-b87f-292f453bf4c4",
   "metadata": {},
   "outputs": [],
   "source": [
    "sys.setrecursionlimit(50000)"
   ]
  },
  {
   "cell_type": "code",
   "execution_count": 29,
   "id": "ae3066ca-e635-4366-8824-1d8b91e39ba4",
   "metadata": {},
   "outputs": [],
   "source": [
    "def factorial(n):\n",
    "    if n == 0:\n",
    "        return 1\n",
    "    return n * factorial(n - 1)"
   ]
  },
  {
   "cell_type": "code",
   "execution_count": 30,
   "id": "1961ea24-a8bf-412e-aaa8-b72e302c3941",
   "metadata": {},
   "outputs": [
    {
     "data": {
      "text/plain": [
       "4.930418582999991"
      ]
     },
     "execution_count": 30,
     "metadata": {},
     "output_type": "execute_result"
    }
   ],
   "source": [
    "timeit(\"factorial(12000)\", setup=\"from __main__ import factorial\", number=100)"
   ]
  },
  {
   "cell_type": "code",
   "execution_count": 31,
   "id": "4b2b9ba6-96fe-465b-a5fc-ab0b232f3e6e",
   "metadata": {},
   "outputs": [],
   "source": [
    "from functools import cache"
   ]
  },
  {
   "cell_type": "code",
   "execution_count": 32,
   "id": "69b71808-2d00-4f0c-a011-508eeab8f657",
   "metadata": {},
   "outputs": [],
   "source": [
    "@cache\n",
    "def factorial_cached(n):\n",
    "    if n == 0:\n",
    "        return 1\n",
    "    return n * factorial_cached(n - 1)"
   ]
  },
  {
   "cell_type": "code",
   "execution_count": 33,
   "id": "4bff7c45-3129-478b-9b1a-905c68575834",
   "metadata": {},
   "outputs": [
    {
     "data": {
      "text/plain": [
       "0.07344387499999527"
      ]
     },
     "execution_count": 33,
     "metadata": {},
     "output_type": "execute_result"
    }
   ],
   "source": [
    "timeit(\"factorial_cached(12000)\", setup=\"from __main__ import factorial_cached\", number=100)"
   ]
  },
  {
   "cell_type": "code",
   "execution_count": 36,
   "id": "2b946875-7cf8-40d0-b1df-9a4581974490",
   "metadata": {},
   "outputs": [],
   "source": [
    "@cache\n",
    "def fibo_slow_cached(n):\n",
    "    if n == 0 or n == 1:\n",
    "        return 1\n",
    "    return fibo_slow_cached(n-1) + fibo_slow_cached(n-2)"
   ]
  },
  {
   "cell_type": "code",
   "execution_count": 37,
   "id": "8bf7f334-0b89-4c22-b7ec-99edf953b523",
   "metadata": {},
   "outputs": [
    {
     "data": {
      "text/plain": [
       "0.00042441700000495075"
      ]
     },
     "execution_count": 37,
     "metadata": {},
     "output_type": "execute_result"
    }
   ],
   "source": [
    "timeit(\"fibo_slow_cached(42)\", setup=\"from __main__ import fibo_slow_cached\", number=100)"
   ]
  },
  {
   "cell_type": "code",
   "execution_count": 62,
   "id": "7f335ca5-433a-413d-a1a2-9aba3dbef437",
   "metadata": {},
   "outputs": [],
   "source": [
    "from collections import defaultdict"
   ]
  },
  {
   "cell_type": "code",
   "execution_count": 63,
   "id": "611c29b7-bef3-4e1b-8d63-bfa0f26cfade",
   "metadata": {},
   "outputs": [],
   "source": [
    "d = {}"
   ]
  },
  {
   "cell_type": "code",
   "execution_count": 64,
   "id": "d88d57fb-45ce-476b-a2eb-b6dfbe54cab9",
   "metadata": {},
   "outputs": [],
   "source": [
    "d['a'] = 42"
   ]
  },
  {
   "cell_type": "code",
   "execution_count": 65,
   "id": "5b05d9b8-c890-4f0b-a95e-93fb6b2b1bdb",
   "metadata": {},
   "outputs": [
    {
     "data": {
      "text/plain": [
       "{'a': 42}"
      ]
     },
     "execution_count": 65,
     "metadata": {},
     "output_type": "execute_result"
    }
   ],
   "source": [
    "d"
   ]
  },
  {
   "cell_type": "code",
   "execution_count": 66,
   "id": "10b7e3b2-e159-40e9-9454-de32bb87c0fd",
   "metadata": {},
   "outputs": [],
   "source": [
    "d['b'] = {}"
   ]
  },
  {
   "cell_type": "code",
   "execution_count": 67,
   "id": "9d865d1b-6b29-42d2-881c-f605dd05517b",
   "metadata": {},
   "outputs": [],
   "source": [
    "d['b']['key'] = 'val'"
   ]
  },
  {
   "cell_type": "code",
   "execution_count": 68,
   "id": "4dc225b0-ab3c-49f1-863d-bf3840de839f",
   "metadata": {},
   "outputs": [
    {
     "data": {
      "text/plain": [
       "{'a': 42, 'b': {'key': 'val'}}"
      ]
     },
     "execution_count": 68,
     "metadata": {},
     "output_type": "execute_result"
    }
   ],
   "source": [
    "d"
   ]
  },
  {
   "cell_type": "code",
   "execution_count": 69,
   "id": "65abea89-ba2f-46a7-ba62-0623e7f7906d",
   "metadata": {},
   "outputs": [
    {
     "ename": "KeyError",
     "evalue": "'c'",
     "output_type": "error",
     "traceback": [
      "\u001b[0;31m---------------------------------------------------------------------------\u001b[0m",
      "\u001b[0;31mKeyError\u001b[0m                                  Traceback (most recent call last)",
      "Input \u001b[0;32mIn [69]\u001b[0m, in \u001b[0;36m<cell line: 1>\u001b[0;34m()\u001b[0m\n\u001b[0;32m----> 1\u001b[0m \u001b[43md\u001b[49m\u001b[43m[\u001b[49m\u001b[38;5;124;43m'\u001b[39;49m\u001b[38;5;124;43mc\u001b[39;49m\u001b[38;5;124;43m'\u001b[39;49m\u001b[43m]\u001b[49m[\u001b[38;5;124m'\u001b[39m\u001b[38;5;124mkey\u001b[39m\u001b[38;5;124m'\u001b[39m] \u001b[38;5;241m=\u001b[39m \u001b[38;5;124m'\u001b[39m\u001b[38;5;124mval\u001b[39m\u001b[38;5;124m'\u001b[39m\n",
      "\u001b[0;31mKeyError\u001b[0m: 'c'"
     ]
    }
   ],
   "source": [
    "d['c']['key'] = 'val'"
   ]
  },
  {
   "cell_type": "code",
   "execution_count": 70,
   "id": "81c11601-a8f1-4c0c-b157-2fb005edc1d6",
   "metadata": {},
   "outputs": [],
   "source": [
    "d = defaultdict(dict)"
   ]
  },
  {
   "cell_type": "code",
   "execution_count": 71,
   "id": "15f2c7e7-2536-4d2c-9fbc-7b5534167cf8",
   "metadata": {},
   "outputs": [
    {
     "data": {
      "text/plain": [
       "defaultdict(dict, {})"
      ]
     },
     "execution_count": 71,
     "metadata": {},
     "output_type": "execute_result"
    }
   ],
   "source": [
    "d"
   ]
  },
  {
   "cell_type": "code",
   "execution_count": 72,
   "id": "86942584-7c98-4a32-90ea-78eba208dec7",
   "metadata": {},
   "outputs": [],
   "source": [
    "d['a']['key'] = 'value'"
   ]
  },
  {
   "cell_type": "code",
   "execution_count": 73,
   "id": "e1e674b2-b775-4b2d-ad1e-798e254fcdb9",
   "metadata": {},
   "outputs": [
    {
     "data": {
      "text/plain": [
       "defaultdict(dict, {'a': {'key': 'value'}})"
      ]
     },
     "execution_count": 73,
     "metadata": {},
     "output_type": "execute_result"
    }
   ],
   "source": [
    "d"
   ]
  },
  {
   "cell_type": "code",
   "execution_count": 74,
   "id": "372d7d93-bfd5-424e-bcfb-ccd2d0aada17",
   "metadata": {},
   "outputs": [
    {
     "data": {
      "text/plain": [
       "{}"
      ]
     },
     "execution_count": 74,
     "metadata": {},
     "output_type": "execute_result"
    }
   ],
   "source": [
    "d['c']"
   ]
  },
  {
   "cell_type": "code",
   "execution_count": 83,
   "id": "30c19d9a-0c71-4f8a-9548-e6f08e7d8690",
   "metadata": {},
   "outputs": [],
   "source": [
    "from functools import wraps"
   ]
  },
  {
   "cell_type": "code",
   "execution_count": 84,
   "id": "64538847-2a29-4c8e-add2-b28d9a905930",
   "metadata": {},
   "outputs": [],
   "source": [
    "def our_cache(func):\n",
    "    cached_values = defaultdict(dict)\n",
    "    @wraps(func)\n",
    "    def wrapper(*args, **kwargs):\n",
    "        if (args, str(kwargs)) in cached_values[func]:\n",
    "            return cached_values[func][(args, str(kwargs))]\n",
    "        res = func(*args, **kwargs)\n",
    "        cached_values[func][(args, str(kwargs))] = res\n",
    "        return res\n",
    "    return wrapper"
   ]
  },
  {
   "cell_type": "code",
   "execution_count": 85,
   "id": "cd9fee3f-2eb1-4317-a081-0abcf1f9c4ab",
   "metadata": {},
   "outputs": [],
   "source": [
    "@our_cache\n",
    "def factorial_our_cached(n):\n",
    "    if n == 0:\n",
    "        return 1\n",
    "    return n * factorial_our_cached(n - 1)"
   ]
  },
  {
   "cell_type": "code",
   "execution_count": 86,
   "id": "92784435-b190-4508-8a7a-9b177d92c722",
   "metadata": {},
   "outputs": [
    {
     "data": {
      "text/plain": [
       "3628800"
      ]
     },
     "execution_count": 86,
     "metadata": {},
     "output_type": "execute_result"
    }
   ],
   "source": [
    "factorial_our_cached(10)"
   ]
  },
  {
   "cell_type": "code",
   "execution_count": 87,
   "id": "5f186afb-5a44-482e-a32d-5dd859413690",
   "metadata": {},
   "outputs": [
    {
     "data": {
      "text/plain": [
       "0.14388662500005012"
      ]
     },
     "execution_count": 87,
     "metadata": {},
     "output_type": "execute_result"
    }
   ],
   "source": [
    "timeit(\"factorial_our_cached(12000)\", setup=\"from __main__ import factorial_our_cached\", number=100)"
   ]
  },
  {
   "cell_type": "code",
   "execution_count": 88,
   "id": "aa958742-612a-40d5-8f70-5e9c932d499d",
   "metadata": {},
   "outputs": [],
   "source": [
    "@our_cache\n",
    "def fibo_slow_our_cached(n):\n",
    "    if n == 0 or n == 1:\n",
    "        return 1\n",
    "    return fibo_slow_our_cached(n-1) + fibo_slow_our_cached(n-2)"
   ]
  },
  {
   "cell_type": "code",
   "execution_count": 89,
   "id": "cf7cee76-2015-4d79-a2e8-076b3a865e1b",
   "metadata": {},
   "outputs": [
    {
     "data": {
      "text/plain": [
       "433494437"
      ]
     },
     "execution_count": 89,
     "metadata": {},
     "output_type": "execute_result"
    }
   ],
   "source": [
    "fibo_slow_our_cached(42)"
   ]
  },
  {
   "cell_type": "code",
   "execution_count": 90,
   "id": "95a3da86-9e9a-4bbd-b76a-64dae11ff6c7",
   "metadata": {},
   "outputs": [
    {
     "data": {
      "text/plain": [
       "0.0002908329997808323"
      ]
     },
     "execution_count": 90,
     "metadata": {},
     "output_type": "execute_result"
    }
   ],
   "source": [
    "timeit(\"fibo_slow_our_cached(42)\", setup=\"from __main__ import fibo_slow_our_cached\", number=100)"
   ]
  },
  {
   "cell_type": "code",
   "execution_count": 91,
   "id": "c0db4433-f3ea-4d4a-a706-78b09074e285",
   "metadata": {},
   "outputs": [
    {
     "data": {
      "text/plain": [
       "'factorial_our_cached'"
      ]
     },
     "execution_count": 91,
     "metadata": {},
     "output_type": "execute_result"
    }
   ],
   "source": [
    "factorial_our_cached.__name__"
   ]
  },
  {
   "cell_type": "code",
   "execution_count": 92,
   "id": "f43b2878-31e4-4bf6-ae9a-6ab4a96a214b",
   "metadata": {},
   "outputs": [],
   "source": [
    "from functools import cached_property"
   ]
  },
  {
   "cell_type": "code",
   "execution_count": 96,
   "id": "a005fef1-cfa2-484c-8130-ae81743ac338",
   "metadata": {},
   "outputs": [],
   "source": [
    "class Employee:\n",
    "    def __init__(self, name, surname):\n",
    "        self.name = name\n",
    "        self.surname = surname\n",
    "        \n",
    "    @cached_property\n",
    "    def email(self):\n",
    "        return f\"{self.name}.{self.surname}@aca.am\".lower()"
   ]
  },
  {
   "cell_type": "code",
   "execution_count": 97,
   "id": "d2972896-1dcf-4e9a-a83d-d70a9e11c0fe",
   "metadata": {},
   "outputs": [],
   "source": [
    "employee_1 = Employee(\"Adam\", \"Smith\")"
   ]
  },
  {
   "cell_type": "code",
   "execution_count": 98,
   "id": "eb0bba8d-477f-4f20-96f3-8788c6966342",
   "metadata": {},
   "outputs": [
    {
     "data": {
      "text/plain": [
       "'adam.smith@aca.am'"
      ]
     },
     "execution_count": 98,
     "metadata": {},
     "output_type": "execute_result"
    }
   ],
   "source": [
    "employee_1.email"
   ]
  },
  {
   "cell_type": "code",
   "execution_count": 99,
   "id": "2562a52e-9bb3-4559-b418-ce39a6fbb48b",
   "metadata": {},
   "outputs": [],
   "source": [
    "employee_1.name = \"Jack\""
   ]
  },
  {
   "cell_type": "code",
   "execution_count": 100,
   "id": "bb33d286-36e1-40a6-97d4-137bc297d98c",
   "metadata": {},
   "outputs": [
    {
     "data": {
      "text/plain": [
       "'adam.smith@aca.am'"
      ]
     },
     "execution_count": 100,
     "metadata": {},
     "output_type": "execute_result"
    }
   ],
   "source": [
    "employee_1.email"
   ]
  },
  {
   "cell_type": "code",
   "execution_count": 101,
   "id": "5a579208-76c9-4e7d-a768-63aebe4184e4",
   "metadata": {},
   "outputs": [],
   "source": [
    "domain = \"aca.am\"\n",
    "\n",
    "\n",
    "@cache\n",
    "def generate_email(name, surname):\n",
    "    return f'{name}.{surname}@{domain}'"
   ]
  },
  {
   "cell_type": "code",
   "execution_count": 102,
   "id": "842a2a3a-2c26-4f81-a779-fb1b0057066f",
   "metadata": {},
   "outputs": [
    {
     "data": {
      "text/plain": [
       "'Henry.Harutyunyan@aca.am'"
      ]
     },
     "execution_count": 102,
     "metadata": {},
     "output_type": "execute_result"
    }
   ],
   "source": [
    "generate_email(\"Henry\", \"Harutyunyan\")"
   ]
  },
  {
   "cell_type": "code",
   "execution_count": 103,
   "id": "4b957cf1-f1ea-4728-b293-51dc978a8ae3",
   "metadata": {},
   "outputs": [],
   "source": [
    "domain = \"google.com\""
   ]
  },
  {
   "cell_type": "code",
   "execution_count": 104,
   "id": "6581d693-e616-41be-8f38-0b5dc5f0a6b5",
   "metadata": {},
   "outputs": [
    {
     "data": {
      "text/plain": [
       "'Henry.Harutyunyan@aca.am'"
      ]
     },
     "execution_count": 104,
     "metadata": {},
     "output_type": "execute_result"
    }
   ],
   "source": [
    "generate_email(\"Henry\", \"Harutyunyan\")"
   ]
  },
  {
   "cell_type": "code",
   "execution_count": 110,
   "id": "8fdca11c-a7f9-4ccf-b219-83ddc2764982",
   "metadata": {},
   "outputs": [],
   "source": [
    "class Foo:\n",
    "    def __init__(self, name):\n",
    "        self.name = name"
   ]
  },
  {
   "cell_type": "code",
   "execution_count": 111,
   "id": "c5b15ca1-43a7-4c48-97a1-416c1eeb4fcd",
   "metadata": {},
   "outputs": [],
   "source": [
    "foo = Foo(\"adam\")"
   ]
  },
  {
   "cell_type": "code",
   "execution_count": 112,
   "id": "067967fa-2036-4fc7-8e30-263e9fad3e16",
   "metadata": {},
   "outputs": [
    {
     "data": {
      "text/plain": [
       "'adam'"
      ]
     },
     "execution_count": 112,
     "metadata": {},
     "output_type": "execute_result"
    }
   ],
   "source": [
    "foo.name"
   ]
  },
  {
   "cell_type": "code",
   "execution_count": 113,
   "id": "ac3b2cd7-5ccf-4d5d-a433-41fd2a6778d9",
   "metadata": {},
   "outputs": [],
   "source": [
    "foo.name = \"jack\""
   ]
  },
  {
   "cell_type": "code",
   "execution_count": 115,
   "id": "20d658b7-46dd-4486-a6fc-dbb6e2c8b52d",
   "metadata": {},
   "outputs": [
    {
     "data": {
      "text/plain": [
       "'jack'"
      ]
     },
     "execution_count": 115,
     "metadata": {},
     "output_type": "execute_result"
    }
   ],
   "source": [
    "foo.name"
   ]
  },
  {
   "cell_type": "code",
   "execution_count": 126,
   "id": "a48292fa-9fb4-4a39-b47c-20e2ba466c11",
   "metadata": {},
   "outputs": [],
   "source": [
    "class Foo:\n",
    "    def __init__(self, name):\n",
    "        self.__name = name\n",
    "        \n",
    "    @property\n",
    "    def name(self):\n",
    "        return self.__name"
   ]
  },
  {
   "cell_type": "code",
   "execution_count": 127,
   "id": "fa34e616-5b79-481f-a0cd-db76ee63bea2",
   "metadata": {},
   "outputs": [],
   "source": [
    "foo = Foo(\"Adam\")"
   ]
  },
  {
   "cell_type": "code",
   "execution_count": 128,
   "id": "cdd322b0-89c5-4670-9f14-9003670332e4",
   "metadata": {},
   "outputs": [
    {
     "data": {
      "text/plain": [
       "'Adam'"
      ]
     },
     "execution_count": 128,
     "metadata": {},
     "output_type": "execute_result"
    }
   ],
   "source": [
    "foo.name"
   ]
  },
  {
   "cell_type": "code",
   "execution_count": 129,
   "id": "d5c03933-ebec-4dea-a843-bf88a1552f78",
   "metadata": {},
   "outputs": [
    {
     "ename": "AttributeError",
     "evalue": "can't set attribute",
     "output_type": "error",
     "traceback": [
      "\u001b[0;31m---------------------------------------------------------------------------\u001b[0m",
      "\u001b[0;31mAttributeError\u001b[0m                            Traceback (most recent call last)",
      "Input \u001b[0;32mIn [129]\u001b[0m, in \u001b[0;36m<cell line: 1>\u001b[0;34m()\u001b[0m\n\u001b[0;32m----> 1\u001b[0m \u001b[43mfoo\u001b[49m\u001b[38;5;241;43m.\u001b[39;49m\u001b[43mname\u001b[49m \u001b[38;5;241m=\u001b[39m \u001b[38;5;124m\"\u001b[39m\u001b[38;5;124mJack\u001b[39m\u001b[38;5;124m\"\u001b[39m\n",
      "\u001b[0;31mAttributeError\u001b[0m: can't set attribute"
     ]
    }
   ],
   "source": [
    "foo.name = \"Jack\""
   ]
  },
  {
   "cell_type": "code",
   "execution_count": 136,
   "id": "c7904e06-bf44-44a6-9d49-c37a49b4307a",
   "metadata": {},
   "outputs": [],
   "source": [
    "class Rectangle:    \n",
    "    def __init__(self, length, width):\n",
    "        self.__length = length\n",
    "        self.__width = width\n",
    "    \n",
    "    @property\n",
    "    def length(self):\n",
    "        return self.__length\n",
    "    \n",
    "    @property\n",
    "    def width(self):\n",
    "        return self.__width\n",
    "    \n",
    "    @cached_property\n",
    "    def __area(self):  # 20 * 2 = 40\n",
    "        # logic that takes time (2 seconds)\n",
    "        return self.length * self.width"
   ]
  },
  {
   "cell_type": "code",
   "execution_count": 137,
   "id": "8ab1e059-b545-4f05-b86f-121f52e86e25",
   "metadata": {},
   "outputs": [],
   "source": [
    "rectangle = Rectangle(10, 20)"
   ]
  },
  {
   "cell_type": "code",
   "execution_count": 138,
   "id": "e4483ff0-7b99-4fc2-85ac-43d2160bab35",
   "metadata": {},
   "outputs": [
    {
     "data": {
      "text/plain": [
       "200"
      ]
     },
     "execution_count": 138,
     "metadata": {},
     "output_type": "execute_result"
    }
   ],
   "source": [
    "rectangle.area"
   ]
  },
  {
   "cell_type": "code",
   "execution_count": 139,
   "id": "84448968-ce21-4745-b7aa-5236eeca6f1c",
   "metadata": {},
   "outputs": [
    {
     "ename": "AttributeError",
     "evalue": "can't set attribute",
     "output_type": "error",
     "traceback": [
      "\u001b[0;31m---------------------------------------------------------------------------\u001b[0m",
      "\u001b[0;31mAttributeError\u001b[0m                            Traceback (most recent call last)",
      "Input \u001b[0;32mIn [139]\u001b[0m, in \u001b[0;36m<cell line: 1>\u001b[0;34m()\u001b[0m\n\u001b[0;32m----> 1\u001b[0m \u001b[43mrectangle\u001b[49m\u001b[38;5;241;43m.\u001b[39;49m\u001b[43mlength\u001b[49m \u001b[38;5;241m=\u001b[39m \u001b[38;5;241m15\u001b[39m\n",
      "\u001b[0;31mAttributeError\u001b[0m: can't set attribute"
     ]
    }
   ],
   "source": [
    "rectangle.length = 15"
   ]
  },
  {
   "cell_type": "code",
   "execution_count": 140,
   "id": "4df121b5-09f6-423a-be3f-01685dbb5210",
   "metadata": {},
   "outputs": [
    {
     "data": {
      "text/plain": [
       "200"
      ]
     },
     "execution_count": 140,
     "metadata": {},
     "output_type": "execute_result"
    }
   ],
   "source": [
    "rectangle.area"
   ]
  },
  {
   "cell_type": "code",
   "execution_count": 141,
   "id": "5d171a2b-b77f-4db5-b1e8-1ad1103f0a4a",
   "metadata": {},
   "outputs": [],
   "source": [
    "def foo(x):\n",
    "    return x**2"
   ]
  },
  {
   "cell_type": "code",
   "execution_count": 142,
   "id": "cb202d76-1c43-40ea-ae36-87b7e881e403",
   "metadata": {},
   "outputs": [],
   "source": [
    "a = [1, 2, 3, 4]"
   ]
  },
  {
   "cell_type": "code",
   "execution_count": 143,
   "id": "79e08892-766e-4edf-b02f-6a12d89e4b33",
   "metadata": {},
   "outputs": [
    {
     "name": "stdout",
     "output_type": "stream",
     "text": [
      "1\n",
      "4\n",
      "9\n",
      "16\n"
     ]
    }
   ],
   "source": [
    "for i in map(foo, a):\n",
    "    print(i)"
   ]
  },
  {
   "cell_type": "code",
   "execution_count": 144,
   "id": "4e0a6294-4755-4fb5-8cd8-76d765b82432",
   "metadata": {},
   "outputs": [],
   "source": [
    "b = [5, 6, 7, 8]"
   ]
  },
  {
   "cell_type": "code",
   "execution_count": 145,
   "id": "9ab54e08-99eb-487b-9e8b-3376128ead2f",
   "metadata": {},
   "outputs": [
    {
     "name": "stdout",
     "output_type": "stream",
     "text": [
      "25\n",
      "36\n",
      "49\n",
      "64\n"
     ]
    }
   ],
   "source": [
    "for i in map(foo, b):\n",
    "    print(i)"
   ]
  },
  {
   "cell_type": "code",
   "execution_count": 146,
   "id": "ad146d4f-95a9-477f-8b28-70b995a65b01",
   "metadata": {},
   "outputs": [
    {
     "ename": "TypeError",
     "evalue": "map() must have at least two arguments.",
     "output_type": "error",
     "traceback": [
      "\u001b[0;31m---------------------------------------------------------------------------\u001b[0m",
      "\u001b[0;31mTypeError\u001b[0m                                 Traceback (most recent call last)",
      "Input \u001b[0;32mIn [146]\u001b[0m, in \u001b[0;36m<cell line: 1>\u001b[0;34m()\u001b[0m\n\u001b[0;32m----> 1\u001b[0m f \u001b[38;5;241m=\u001b[39m \u001b[38;5;28;43mmap\u001b[39;49m\u001b[43m(\u001b[49m\u001b[43mfoo\u001b[49m\u001b[43m)\u001b[49m\n\u001b[1;32m      3\u001b[0m \u001b[38;5;28;01mfor\u001b[39;00m i \u001b[38;5;129;01min\u001b[39;00m f(a):\n\u001b[1;32m      4\u001b[0m     \u001b[38;5;28mprint\u001b[39m(i)\n",
      "\u001b[0;31mTypeError\u001b[0m: map() must have at least two arguments."
     ]
    }
   ],
   "source": [
    "f = map(foo)\n",
    "\n",
    "for i in f(a):\n",
    "    print(i)\n",
    "    \n",
    "for i in f(b):\n",
    "    print(i)"
   ]
  },
  {
   "cell_type": "code",
   "execution_count": 147,
   "id": "c312cb42-4fa8-4c3d-9c93-37526f039684",
   "metadata": {},
   "outputs": [],
   "source": [
    "from functools import partial"
   ]
  },
  {
   "cell_type": "code",
   "execution_count": 148,
   "id": "b512db99-9d6a-46a3-9153-7f9beb074aba",
   "metadata": {},
   "outputs": [],
   "source": [
    "f = partial(map, foo)"
   ]
  },
  {
   "cell_type": "code",
   "execution_count": 149,
   "id": "90c1c472-5775-4434-a76b-90c32ca6297b",
   "metadata": {},
   "outputs": [
    {
     "data": {
      "text/plain": [
       "functools.partial(<class 'map'>, <function foo at 0x10a8e8ca0>)"
      ]
     },
     "execution_count": 149,
     "metadata": {},
     "output_type": "execute_result"
    }
   ],
   "source": [
    "f"
   ]
  },
  {
   "cell_type": "code",
   "execution_count": 150,
   "id": "191044cd-b775-46ec-a6d3-5ba964dd66b2",
   "metadata": {},
   "outputs": [
    {
     "name": "stdout",
     "output_type": "stream",
     "text": [
      "1\n",
      "4\n",
      "9\n",
      "16\n"
     ]
    }
   ],
   "source": [
    "for i in f(a):\n",
    "    print(i)"
   ]
  },
  {
   "cell_type": "code",
   "execution_count": 151,
   "id": "bffb65d5-6f5a-458c-844a-60cbb93ec4ca",
   "metadata": {},
   "outputs": [
    {
     "name": "stdout",
     "output_type": "stream",
     "text": [
      "25\n",
      "36\n",
      "49\n",
      "64\n"
     ]
    }
   ],
   "source": [
    "for i in f(b):\n",
    "    print(i)"
   ]
  },
  {
   "cell_type": "code",
   "execution_count": 152,
   "id": "d007d2bb-3a26-4b9c-9bf4-f31881721bde",
   "metadata": {},
   "outputs": [],
   "source": [
    "f = partial(map, lambda x: x**3)"
   ]
  },
  {
   "cell_type": "code",
   "execution_count": 153,
   "id": "898ff251-3f0d-4b72-bb94-0880f79eaff8",
   "metadata": {},
   "outputs": [
    {
     "name": "stdout",
     "output_type": "stream",
     "text": [
      "1\n",
      "1728\n",
      "13824\n"
     ]
    }
   ],
   "source": [
    "for i in f([1, 12, 24]):\n",
    "    print(i)"
   ]
  },
  {
   "cell_type": "code",
   "execution_count": 154,
   "id": "0ffd3492-29ad-44b3-b488-f8691017a2ad",
   "metadata": {},
   "outputs": [],
   "source": [
    "def bar(x, y, z):\n",
    "    return x * y * z"
   ]
  },
  {
   "cell_type": "code",
   "execution_count": 156,
   "id": "92799764-e9d1-4149-9758-8df49ae1a6f2",
   "metadata": {
    "tags": []
   },
   "outputs": [],
   "source": [
    "f = partial(bar, 2, 4)"
   ]
  },
  {
   "cell_type": "code",
   "execution_count": 157,
   "id": "6c901c7b-b2a0-49aa-a4f7-571619210cf4",
   "metadata": {},
   "outputs": [
    {
     "data": {
      "text/plain": [
       "24"
      ]
     },
     "execution_count": 157,
     "metadata": {},
     "output_type": "execute_result"
    }
   ],
   "source": [
    "f(3)"
   ]
  },
  {
   "cell_type": "code",
   "execution_count": 158,
   "id": "b93bf150-f325-47af-9f2b-6f8eb28618b1",
   "metadata": {},
   "outputs": [
    {
     "data": {
      "text/plain": [
       "32"
      ]
     },
     "execution_count": 158,
     "metadata": {},
     "output_type": "execute_result"
    }
   ],
   "source": [
    "f(4)"
   ]
  },
  {
   "cell_type": "code",
   "execution_count": 159,
   "id": "253aee91-ba4f-4559-986b-8c4d34a89c20",
   "metadata": {},
   "outputs": [],
   "source": [
    "f = partial(bar, 12)"
   ]
  },
  {
   "cell_type": "code",
   "execution_count": 160,
   "id": "f833871d-001b-4120-9393-d6840cd5436c",
   "metadata": {},
   "outputs": [
    {
     "data": {
      "text/plain": [
       "48"
      ]
     },
     "execution_count": 160,
     "metadata": {},
     "output_type": "execute_result"
    }
   ],
   "source": [
    "f(2, 2)"
   ]
  },
  {
   "cell_type": "code",
   "execution_count": 161,
   "id": "bd515139-268c-4367-a340-ee62addce9c3",
   "metadata": {},
   "outputs": [],
   "source": [
    "f = lambda k: bar(12, k, 24)"
   ]
  },
  {
   "cell_type": "code",
   "execution_count": 162,
   "id": "d2439914-f458-4e34-9d63-e21d93c529f1",
   "metadata": {},
   "outputs": [
    {
     "data": {
      "text/plain": [
       "288"
      ]
     },
     "execution_count": 162,
     "metadata": {},
     "output_type": "execute_result"
    }
   ],
   "source": [
    "12*24"
   ]
  },
  {
   "cell_type": "code",
   "execution_count": 163,
   "id": "1b8016b5-cae8-43b7-b247-065409723974",
   "metadata": {},
   "outputs": [
    {
     "data": {
      "text/plain": [
       "576"
      ]
     },
     "execution_count": 163,
     "metadata": {},
     "output_type": "execute_result"
    }
   ],
   "source": [
    "f(2)"
   ]
  },
  {
   "cell_type": "code",
   "execution_count": 164,
   "id": "4bfe3d01-0ff3-4c63-b2e7-588f15dec283",
   "metadata": {},
   "outputs": [
    {
     "data": {
      "text/plain": [
       "'<lambda>'"
      ]
     },
     "execution_count": 164,
     "metadata": {},
     "output_type": "execute_result"
    }
   ],
   "source": [
    "f.__name__"
   ]
  },
  {
   "cell_type": "code",
   "execution_count": 167,
   "id": "21abb5ac-d2cb-4165-9a00-70289825cb33",
   "metadata": {},
   "outputs": [],
   "source": [
    "def bar(x, y, z):\n",
    "    \"\"\"Sample docstring\"\"\"\n",
    "    return x * y * z"
   ]
  },
  {
   "cell_type": "code",
   "execution_count": 168,
   "id": "55131161-54a7-4712-9526-0c30e7b654fe",
   "metadata": {},
   "outputs": [],
   "source": [
    "g = partial(bar, 12)"
   ]
  },
  {
   "cell_type": "code",
   "execution_count": 169,
   "id": "5d8e5816-2f08-4ecf-b960-c9a1d4927542",
   "metadata": {},
   "outputs": [
    {
     "data": {
      "text/plain": [
       "'partial(func, *args, **keywords) - new function with partial application\\n    of the given arguments and keywords.\\n'"
      ]
     },
     "execution_count": 169,
     "metadata": {},
     "output_type": "execute_result"
    }
   ],
   "source": [
    "g.__doc__"
   ]
  },
  {
   "cell_type": "code",
   "execution_count": null,
   "id": "b6024e1f-7603-4a25-b4c7-73fe774fbd47",
   "metadata": {},
   "outputs": [],
   "source": []
  }
 ],
 "metadata": {
  "kernelspec": {
   "display_name": "Python 3 (ipykernel)",
   "language": "python",
   "name": "python3"
  },
  "language_info": {
   "codemirror_mode": {
    "name": "ipython",
    "version": 3
   },
   "file_extension": ".py",
   "mimetype": "text/x-python",
   "name": "python",
   "nbconvert_exporter": "python",
   "pygments_lexer": "ipython3",
   "version": "3.9.13"
  }
 },
 "nbformat": 4,
 "nbformat_minor": 5
}
