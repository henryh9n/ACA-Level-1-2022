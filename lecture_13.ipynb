{
 "cells": [
  {
   "cell_type": "markdown",
   "id": "f4188119-41eb-4e7e-b63f-a43dae9565ca",
   "metadata": {},
   "source": [
    "# Lecture 13"
   ]
  },
  {
   "cell_type": "markdown",
   "id": "9fa28b57-3453-462f-b086-425449f7f5de",
   "metadata": {},
   "source": [
    "## Polymorphism"
   ]
  },
  {
   "cell_type": "code",
   "execution_count": 1,
   "id": "f038fc4e-dcb0-4ce8-a5ba-389fb6e9447f",
   "metadata": {},
   "outputs": [],
   "source": [
    "def foo(x):\n",
    "    return x**2\n",
    "\n",
    "\n",
    "def foo(x, y):\n",
    "    return x**y"
   ]
  },
  {
   "cell_type": "code",
   "execution_count": 2,
   "id": "feb887ad-83f3-4ef4-9fa2-04ef071c5db2",
   "metadata": {},
   "outputs": [
    {
     "data": {
      "text/plain": [
       "16"
      ]
     },
     "execution_count": 2,
     "metadata": {},
     "output_type": "execute_result"
    }
   ],
   "source": [
    "foo(2, 4)"
   ]
  },
  {
   "cell_type": "code",
   "execution_count": 3,
   "id": "a794fb61-e006-4e60-a9eb-b9ac79454446",
   "metadata": {},
   "outputs": [
    {
     "ename": "TypeError",
     "evalue": "foo() missing 1 required positional argument: 'y'",
     "output_type": "error",
     "traceback": [
      "\u001b[0;31m---------------------------------------------------------------------------\u001b[0m",
      "\u001b[0;31mTypeError\u001b[0m                                 Traceback (most recent call last)",
      "Input \u001b[0;32mIn [3]\u001b[0m, in \u001b[0;36m<cell line: 1>\u001b[0;34m()\u001b[0m\n\u001b[0;32m----> 1\u001b[0m \u001b[43mfoo\u001b[49m\u001b[43m(\u001b[49m\u001b[38;5;241;43m2\u001b[39;49m\u001b[43m)\u001b[49m\n",
      "\u001b[0;31mTypeError\u001b[0m: foo() missing 1 required positional argument: 'y'"
     ]
    }
   ],
   "source": [
    "foo(2)"
   ]
  },
  {
   "cell_type": "code",
   "execution_count": 4,
   "id": "096a2772-f88c-4a43-841f-ff4f2d59fcf4",
   "metadata": {},
   "outputs": [],
   "source": [
    "def foo(x, y=None):\n",
    "    return x**2 if y is None else x**y"
   ]
  },
  {
   "cell_type": "code",
   "execution_count": 5,
   "id": "afbeadb9-486c-42f3-882d-7593dd1f776b",
   "metadata": {},
   "outputs": [
    {
     "data": {
      "text/plain": [
       "16"
      ]
     },
     "execution_count": 5,
     "metadata": {},
     "output_type": "execute_result"
    }
   ],
   "source": [
    "foo(2, 4)"
   ]
  },
  {
   "cell_type": "code",
   "execution_count": 6,
   "id": "f3a1c03a-49cb-40b6-9ea9-2bac958336ae",
   "metadata": {},
   "outputs": [
    {
     "data": {
      "text/plain": [
       "4"
      ]
     },
     "execution_count": 6,
     "metadata": {},
     "output_type": "execute_result"
    }
   ],
   "source": [
    "foo(2)"
   ]
  },
  {
   "cell_type": "code",
   "execution_count": 7,
   "id": "080b30e1-47bc-4846-946a-9483ecda24b7",
   "metadata": {},
   "outputs": [],
   "source": [
    "def foo(*args):\n",
    "    if len(args) == 0:\n",
    "        raise TypeError(\"at lease one argument required\")\n",
    "    elif len(args) == 1:\n",
    "        return args[0]**2\n",
    "    else:\n",
    "        return args[0]**args[1]"
   ]
  },
  {
   "cell_type": "code",
   "execution_count": 8,
   "id": "8fa5102d-5511-412e-8cae-29571972022f",
   "metadata": {},
   "outputs": [
    {
     "data": {
      "text/plain": [
       "16"
      ]
     },
     "execution_count": 8,
     "metadata": {},
     "output_type": "execute_result"
    }
   ],
   "source": [
    "foo(2, 4)"
   ]
  },
  {
   "cell_type": "code",
   "execution_count": 9,
   "id": "20687ffd-a450-4c7b-b1ba-7b8bb139a480",
   "metadata": {},
   "outputs": [
    {
     "data": {
      "text/plain": [
       "4"
      ]
     },
     "execution_count": 9,
     "metadata": {},
     "output_type": "execute_result"
    }
   ],
   "source": [
    "foo(2)"
   ]
  },
  {
   "cell_type": "code",
   "execution_count": 10,
   "id": "8f8ffb9c-dc7d-41d2-96cb-983af7a30d9e",
   "metadata": {},
   "outputs": [],
   "source": [
    "def foo(*args):\n",
    "    def _foo_square(x):\n",
    "        return x**2\n",
    "    \n",
    "    def _foo_power(x, y):\n",
    "        return x**y\n",
    "    \n",
    "    if len(args) == 1:\n",
    "        return _foo_square(*args)\n",
    "    elif len(args) == 2:\n",
    "        return _foo_power(*args)\n",
    "    else:\n",
    "        raise TypeError(\"at lease one argument required\")"
   ]
  },
  {
   "cell_type": "code",
   "execution_count": 11,
   "id": "182e5934-a741-447b-801c-1642a2201e26",
   "metadata": {},
   "outputs": [
    {
     "data": {
      "text/plain": [
       "16"
      ]
     },
     "execution_count": 11,
     "metadata": {},
     "output_type": "execute_result"
    }
   ],
   "source": [
    "foo(2, 4)"
   ]
  },
  {
   "cell_type": "code",
   "execution_count": 12,
   "id": "e3673187-1b38-46cc-9371-5a2840172783",
   "metadata": {},
   "outputs": [
    {
     "data": {
      "text/plain": [
       "4"
      ]
     },
     "execution_count": 12,
     "metadata": {},
     "output_type": "execute_result"
    }
   ],
   "source": [
    "foo(2)"
   ]
  },
  {
   "cell_type": "code",
   "execution_count": 14,
   "id": "32af2e1b-483a-414e-8015-859743631f13",
   "metadata": {
    "tags": []
   },
   "outputs": [],
   "source": [
    "class Foo:\n",
    "    def bar(self, *args):\n",
    "        if len(args) == 1:\n",
    "            return self.__foo_square(*args)\n",
    "        elif len(args) == 2:\n",
    "            return self.__foo_power(*args)\n",
    "        else:\n",
    "            raise TypeError(\"at lease one argument required\")\n",
    "            \n",
    "    @staticmethod\n",
    "    def __foo_square(x):\n",
    "        return x**2\n",
    "    \n",
    "    @staticmethod\n",
    "    def __foo_power(x, y):\n",
    "        return x**y"
   ]
  },
  {
   "cell_type": "code",
   "execution_count": 15,
   "id": "755009d3-0b26-49e3-98fd-00915a842358",
   "metadata": {},
   "outputs": [],
   "source": [
    "a = Foo()"
   ]
  },
  {
   "cell_type": "code",
   "execution_count": 16,
   "id": "a5aaa858-aa63-4a00-b88e-ba38810605b1",
   "metadata": {},
   "outputs": [
    {
     "data": {
      "text/plain": [
       "4"
      ]
     },
     "execution_count": 16,
     "metadata": {},
     "output_type": "execute_result"
    }
   ],
   "source": [
    "a.bar(2)"
   ]
  },
  {
   "cell_type": "code",
   "execution_count": 17,
   "id": "05eb910c-3479-47bb-8110-d8625a058ad9",
   "metadata": {},
   "outputs": [
    {
     "data": {
      "text/plain": [
       "16"
      ]
     },
     "execution_count": 17,
     "metadata": {},
     "output_type": "execute_result"
    }
   ],
   "source": [
    "a.bar(4, 2)"
   ]
  },
  {
   "cell_type": "code",
   "execution_count": 18,
   "id": "a57ffcff-cf6e-42b6-98e6-02ded0f1d9d4",
   "metadata": {},
   "outputs": [],
   "source": [
    "def foo(x):\n",
    "    if isinstance(x, int):\n",
    "        return x + 1\n",
    "    elif isinstance(x, str):\n",
    "        return x + \"1\"\n",
    "    else:\n",
    "        raise TypeError()"
   ]
  },
  {
   "cell_type": "code",
   "execution_count": 19,
   "id": "cc5f3c51-fcdb-45cc-b7cf-eb8428a11ed4",
   "metadata": {},
   "outputs": [
    {
     "data": {
      "text/plain": [
       "2"
      ]
     },
     "execution_count": 19,
     "metadata": {},
     "output_type": "execute_result"
    }
   ],
   "source": [
    "foo(1)"
   ]
  },
  {
   "cell_type": "code",
   "execution_count": 20,
   "id": "3e5dffd1-baea-4e0e-9b24-e488a2b5e124",
   "metadata": {},
   "outputs": [
    {
     "data": {
      "text/plain": [
       "'11'"
      ]
     },
     "execution_count": 20,
     "metadata": {},
     "output_type": "execute_result"
    }
   ],
   "source": [
    "foo(\"1\")"
   ]
  },
  {
   "cell_type": "markdown",
   "id": "392bb2ab-67bf-4967-acf9-007d1413064d",
   "metadata": {},
   "source": [
    "## Abstraction"
   ]
  },
  {
   "cell_type": "code",
   "execution_count": 22,
   "id": "ba7f05a6-063e-4e2c-8b47-ce9fa7c96efb",
   "metadata": {},
   "outputs": [],
   "source": [
    "from functools import total_ordering"
   ]
  },
  {
   "cell_type": "code",
   "execution_count": 23,
   "id": "6123b387-c745-434a-a219-ba43971d76d4",
   "metadata": {},
   "outputs": [],
   "source": [
    "@total_ordering\n",
    "class Shape:\n",
    "    def area(self):\n",
    "        raise NotImplementedError()\n",
    "        \n",
    "    @staticmethod\n",
    "    def calculate_area(*args):\n",
    "        raise NotImplementedError()\n",
    "        \n",
    "    def __lt__(self, other):\n",
    "        return self.area() < other.area()\n",
    "    \n",
    "    def __eq__(self, other):\n",
    "        return self.area() == other.area()\n",
    "    \n",
    "    def __bool__(self):\n",
    "        return self.area() > 0\n",
    "    \n",
    "    def __add__(self, other):\n",
    "        if isinstance(other, (int, float)):\n",
    "            return self.area() + other\n",
    "        elif isinstance(other, self.__class__):\n",
    "            return self.area() + other.area()\n",
    "        else:\n",
    "            raise TypeError(f\"Can't add Rectangle with {other.__class__}\")\n",
    "       \n",
    "    def __radd__(self, other):\n",
    "        return self.__add__(other)\n",
    "    \n",
    "    def __iadd__(self, other):\n",
    "        raise TypeError(\"+= not supported for this object\")\n",
    "        \n",
    "    def __int__(self):\n",
    "        return int(self.area())\n",
    "    \n",
    "    def __repr__(self):\n",
    "        value_mapping = [f'{attr_name}={attr_value}' for attr_name, attr_value in vars(self).items()]\n",
    "        return f\"{self.__class__.__name__}({', '.join(value_mapping)})\""
   ]
  },
  {
   "cell_type": "code",
   "execution_count": 24,
   "id": "c00d58f2-fbce-40c9-a988-e8300fdbd6e4",
   "metadata": {},
   "outputs": [],
   "source": [
    "a = Shape()"
   ]
  },
  {
   "cell_type": "code",
   "execution_count": 25,
   "id": "a9a9df21-9bb9-4cdb-86cf-b28fbe5c2016",
   "metadata": {},
   "outputs": [
    {
     "ename": "NotImplementedError",
     "evalue": "",
     "output_type": "error",
     "traceback": [
      "\u001b[0;31m---------------------------------------------------------------------------\u001b[0m",
      "\u001b[0;31mNotImplementedError\u001b[0m                       Traceback (most recent call last)",
      "Input \u001b[0;32mIn [25]\u001b[0m, in \u001b[0;36m<cell line: 1>\u001b[0;34m()\u001b[0m\n\u001b[0;32m----> 1\u001b[0m \u001b[43ma\u001b[49m\u001b[38;5;241;43m.\u001b[39;49m\u001b[43marea\u001b[49m\u001b[43m(\u001b[49m\u001b[43m)\u001b[49m\n",
      "Input \u001b[0;32mIn [23]\u001b[0m, in \u001b[0;36mShape.area\u001b[0;34m(self)\u001b[0m\n\u001b[1;32m      3\u001b[0m \u001b[38;5;28;01mdef\u001b[39;00m \u001b[38;5;21marea\u001b[39m(\u001b[38;5;28mself\u001b[39m):\n\u001b[0;32m----> 4\u001b[0m     \u001b[38;5;28;01mraise\u001b[39;00m \u001b[38;5;167;01mNotImplementedError\u001b[39;00m()\n",
      "\u001b[0;31mNotImplementedError\u001b[0m: "
     ]
    }
   ],
   "source": [
    "a.area()"
   ]
  },
  {
   "cell_type": "code",
   "execution_count": 26,
   "id": "9154cecf-b4ca-4b3c-89de-8628051e4a7a",
   "metadata": {},
   "outputs": [],
   "source": [
    "class Rectangle(Shape):\n",
    "    def __init__(self, width, length):\n",
    "        if width < 0 or length < 0:\n",
    "            raise Exception(\"width and length should be positive numbers\")\n",
    "        self.width = width\n",
    "        self.length = length\n",
    "    \n",
    "    def area(self):\n",
    "        return self.calculate_area(self.width, self.length)\n",
    "    \n",
    "    @staticmethod\n",
    "    def calculate_area(width, length):\n",
    "        return width * length"
   ]
  },
  {
   "cell_type": "code",
   "execution_count": 27,
   "id": "aa18aff0-6daf-40df-9154-b88f87858304",
   "metadata": {},
   "outputs": [],
   "source": [
    "import math\n",
    "\n",
    "\n",
    "class Circle(Shape):\n",
    "    def __init__(self, radius):\n",
    "        self.radius = radius\n",
    "        \n",
    "    def area(self):\n",
    "        return self.calculate_area(self.radius)\n",
    "    \n",
    "    @staticmethod\n",
    "    def calculate_area(radius):\n",
    "        return math.pi * radius **2"
   ]
  },
  {
   "cell_type": "code",
   "execution_count": 28,
   "id": "f4c51d63-da40-4cf1-81b4-f4bb89e158f6",
   "metadata": {},
   "outputs": [],
   "source": [
    "class Square(Rectangle):\n",
    "    def __init__(self, width):\n",
    "        super().__init__(width, width)"
   ]
  },
  {
   "cell_type": "code",
   "execution_count": 29,
   "id": "4bfdf2d4-6039-4587-98be-4d963706ab4b",
   "metadata": {},
   "outputs": [],
   "source": [
    "from abc import ABC, abstractmethod"
   ]
  },
  {
   "cell_type": "code",
   "execution_count": 36,
   "id": "eb973aed-315a-4ec8-8873-f9627659570f",
   "metadata": {},
   "outputs": [],
   "source": [
    "class Shape(ABC):\n",
    "    @abstractmethod\n",
    "    def area(self):\n",
    "        return NotImplemented"
   ]
  },
  {
   "cell_type": "code",
   "execution_count": 37,
   "id": "b74e1973-1f26-491e-93f7-d62662c8c002",
   "metadata": {},
   "outputs": [
    {
     "ename": "TypeError",
     "evalue": "Can't instantiate abstract class Shape with abstract method area",
     "output_type": "error",
     "traceback": [
      "\u001b[0;31m---------------------------------------------------------------------------\u001b[0m",
      "\u001b[0;31mTypeError\u001b[0m                                 Traceback (most recent call last)",
      "Input \u001b[0;32mIn [37]\u001b[0m, in \u001b[0;36m<cell line: 1>\u001b[0;34m()\u001b[0m\n\u001b[0;32m----> 1\u001b[0m a \u001b[38;5;241m=\u001b[39m \u001b[43mShape\u001b[49m\u001b[43m(\u001b[49m\u001b[43m)\u001b[49m\n",
      "\u001b[0;31mTypeError\u001b[0m: Can't instantiate abstract class Shape with abstract method area"
     ]
    }
   ],
   "source": [
    "a = Shape()"
   ]
  },
  {
   "cell_type": "code",
   "execution_count": 38,
   "id": "3cd6eebf-d946-4a03-9ff0-392f14e79447",
   "metadata": {},
   "outputs": [],
   "source": [
    "class Rectangle(Shape):\n",
    "    def __init__(self, width, length):\n",
    "        self.width = width\n",
    "        self.length = length\n",
    "        \n",
    "    def area(self):\n",
    "        return self.length * self.width"
   ]
  },
  {
   "cell_type": "code",
   "execution_count": 39,
   "id": "00ba5d8a-d26b-44e6-9117-53fc8086ab1e",
   "metadata": {},
   "outputs": [],
   "source": [
    "a = Rectangle(10, 20)"
   ]
  },
  {
   "cell_type": "code",
   "execution_count": 40,
   "id": "edb8ea5e-d616-4963-8953-681aeed86357",
   "metadata": {},
   "outputs": [
    {
     "data": {
      "text/plain": [
       "200"
      ]
     },
     "execution_count": 40,
     "metadata": {},
     "output_type": "execute_result"
    }
   ],
   "source": [
    "a.area()"
   ]
  },
  {
   "cell_type": "code",
   "execution_count": 41,
   "id": "f0027023-0237-4f91-8a27-d0b11c717ef1",
   "metadata": {},
   "outputs": [],
   "source": [
    "from abc import abstractclassmethod\n",
    "\n",
    "@total_ordering\n",
    "class Shape(ABC):\n",
    "    @abstractmethod\n",
    "    def area(self):\n",
    "        raise NotImplementedError()\n",
    "        \n",
    "    @abstractclassmethod\n",
    "    def calculate_area(*args):\n",
    "        raise NotImplementedError()\n",
    "        \n",
    "    def __lt__(self, other):\n",
    "        return self.area() < other.area()\n",
    "    \n",
    "    def __eq__(self, other):\n",
    "        return self.area() == other.area()\n",
    "    \n",
    "    def __bool__(self):\n",
    "        return self.area() > 0\n",
    "    \n",
    "    def __add__(self, other):\n",
    "        if isinstance(other, (int, float)):\n",
    "            return self.area() + other\n",
    "        elif isinstance(other, self.__class__):\n",
    "            return self.area() + other.area()\n",
    "        else:\n",
    "            raise TypeError(f\"Can't add Rectangle with {other.__class__}\")\n",
    "       \n",
    "    def __radd__(self, other):\n",
    "        return self.__add__(other)\n",
    "    \n",
    "    def __iadd__(self, other):\n",
    "        raise TypeError(\"+= not supported for this object\")\n",
    "        \n",
    "    def __int__(self):\n",
    "        return int(self.area())\n",
    "    \n",
    "    def __repr__(self):\n",
    "        value_mapping = [f'{attr_name}={attr_value}' for attr_name, attr_value in vars(self).items()]\n",
    "        return f\"{self.__class__.__name__}({', '.join(value_mapping)})\""
   ]
  },
  {
   "cell_type": "code",
   "execution_count": 42,
   "id": "ef75766b-d516-4996-bbd6-3a45fc3c0f7f",
   "metadata": {},
   "outputs": [
    {
     "ename": "TypeError",
     "evalue": "Can't instantiate abstract class Shape with abstract methods area, calculate_area",
     "output_type": "error",
     "traceback": [
      "\u001b[0;31m---------------------------------------------------------------------------\u001b[0m",
      "\u001b[0;31mTypeError\u001b[0m                                 Traceback (most recent call last)",
      "Input \u001b[0;32mIn [42]\u001b[0m, in \u001b[0;36m<cell line: 1>\u001b[0;34m()\u001b[0m\n\u001b[0;32m----> 1\u001b[0m a \u001b[38;5;241m=\u001b[39m \u001b[43mShape\u001b[49m\u001b[43m(\u001b[49m\u001b[43m)\u001b[49m\n",
      "\u001b[0;31mTypeError\u001b[0m: Can't instantiate abstract class Shape with abstract methods area, calculate_area"
     ]
    }
   ],
   "source": [
    "a = Shape()"
   ]
  },
  {
   "cell_type": "code",
   "execution_count": 43,
   "id": "685da91d-d1f4-46f2-87ee-8fa54fe19bbd",
   "metadata": {},
   "outputs": [],
   "source": [
    "class Rectangle(Shape):\n",
    "    def __init__(self, width, length):\n",
    "        if width < 0 or length < 0:\n",
    "            raise Exception(\"width and length should be positive numbers\")\n",
    "        self.width = width\n",
    "        self.length = length\n",
    "    \n",
    "    def area(self):\n",
    "        return self.calculate_area(self.width, self.length)\n",
    "    \n",
    "    @staticmethod\n",
    "    def calculate_area(width, length):\n",
    "        return width * length"
   ]
  },
  {
   "cell_type": "code",
   "execution_count": 44,
   "id": "ebf7eeae-103e-4021-8dbe-6e68b69cc6a9",
   "metadata": {},
   "outputs": [],
   "source": [
    "a = Rectangle(10, 20)"
   ]
  },
  {
   "cell_type": "code",
   "execution_count": 45,
   "id": "93f72fbc-3a02-4ee0-ba19-98aa36d643ac",
   "metadata": {},
   "outputs": [
    {
     "data": {
      "text/plain": [
       "200"
      ]
     },
     "execution_count": 45,
     "metadata": {},
     "output_type": "execute_result"
    }
   ],
   "source": [
    "a.area()"
   ]
  },
  {
   "cell_type": "code",
   "execution_count": 46,
   "id": "f938c31e-3eb5-4981-afcd-a52d1ee8207e",
   "metadata": {},
   "outputs": [
    {
     "data": {
      "text/plain": [
       "400"
      ]
     },
     "execution_count": 46,
     "metadata": {},
     "output_type": "execute_result"
    }
   ],
   "source": [
    "a + a"
   ]
  },
  {
   "cell_type": "code",
   "execution_count": 82,
   "id": "b42aabbc-0ee5-44ed-8664-ac0fa588b390",
   "metadata": {},
   "outputs": [],
   "source": [
    "class Foo(ABC):\n",
    "    def greet(self):\n",
    "        return f\"Hello, {self.name}!\"\n",
    "    \n",
    "    @property\n",
    "    @abstractmethod\n",
    "    def name(self):\n",
    "        ..."
   ]
  },
  {
   "cell_type": "code",
   "execution_count": 83,
   "id": "f000ba05-e341-4ba6-a8cb-4b6a5073fa12",
   "metadata": {},
   "outputs": [
    {
     "ename": "TypeError",
     "evalue": "Can't instantiate abstract class Foo with abstract method name",
     "output_type": "error",
     "traceback": [
      "\u001b[0;31m---------------------------------------------------------------------------\u001b[0m",
      "\u001b[0;31mTypeError\u001b[0m                                 Traceback (most recent call last)",
      "Input \u001b[0;32mIn [83]\u001b[0m, in \u001b[0;36m<cell line: 1>\u001b[0;34m()\u001b[0m\n\u001b[0;32m----> 1\u001b[0m a \u001b[38;5;241m=\u001b[39m \u001b[43mFoo\u001b[49m\u001b[43m(\u001b[49m\u001b[43m)\u001b[49m\n",
      "\u001b[0;31mTypeError\u001b[0m: Can't instantiate abstract class Foo with abstract method name"
     ]
    }
   ],
   "source": [
    "a = Foo()"
   ]
  },
  {
   "cell_type": "code",
   "execution_count": 84,
   "id": "adf8f29e-e3c3-4661-a9aa-0da81affbbcf",
   "metadata": {},
   "outputs": [],
   "source": [
    "class Bar(Foo):\n",
    "    def __init__(self, name):\n",
    "        self.__name = name\n",
    "        \n",
    "    @property\n",
    "    def name(self):\n",
    "        return self.__name"
   ]
  },
  {
   "cell_type": "code",
   "execution_count": 85,
   "id": "b0c520ee-5928-4cbd-9f2b-3df9cd8476b0",
   "metadata": {},
   "outputs": [],
   "source": [
    "a = Bar(\"Adam\")"
   ]
  },
  {
   "cell_type": "code",
   "execution_count": 86,
   "id": "bca8faea-9808-45b8-a1ba-a8871c7a72f1",
   "metadata": {},
   "outputs": [
    {
     "data": {
      "text/plain": [
       "'Hello, Adam!'"
      ]
     },
     "execution_count": 86,
     "metadata": {},
     "output_type": "execute_result"
    }
   ],
   "source": [
    "a.greet()"
   ]
  },
  {
   "cell_type": "code",
   "execution_count": 87,
   "id": "3846afc0-1c8b-48a0-b504-a4bcca718f30",
   "metadata": {},
   "outputs": [],
   "source": [
    "class Baz(Foo):\n",
    "    name = None\n",
    "    \n",
    "    def __init__(self, name):\n",
    "        self.name = name"
   ]
  },
  {
   "cell_type": "code",
   "execution_count": 88,
   "id": "a26d91ef-65b9-4e7b-b184-1f2c2097b78a",
   "metadata": {},
   "outputs": [],
   "source": [
    "b = Baz(\"Adam\")"
   ]
  },
  {
   "cell_type": "code",
   "execution_count": 89,
   "id": "1e11e5d2-b53c-41a2-8cfb-2ecbd4ca90ef",
   "metadata": {},
   "outputs": [
    {
     "data": {
      "text/plain": [
       "'Hello, Adam!'"
      ]
     },
     "execution_count": 89,
     "metadata": {},
     "output_type": "execute_result"
    }
   ],
   "source": [
    "b.greet()"
   ]
  },
  {
   "cell_type": "code",
   "execution_count": 90,
   "id": "f6ae540a-c673-4711-8c18-fb99319639f6",
   "metadata": {},
   "outputs": [],
   "source": [
    "class Bar(Foo):\n",
    "    def name(self):\n",
    "        return \"ADAM\""
   ]
  },
  {
   "cell_type": "code",
   "execution_count": 91,
   "id": "5722ae9f-994a-4a33-85fe-d52d1e444d4d",
   "metadata": {},
   "outputs": [],
   "source": [
    "c = Bar()"
   ]
  },
  {
   "cell_type": "code",
   "execution_count": 92,
   "id": "ed14784a-a859-4463-a368-c7a2210496c3",
   "metadata": {},
   "outputs": [
    {
     "data": {
      "text/plain": [
       "'Hello, <bound method Bar.name of <__main__.Bar object at 0x10a535c70>>!'"
      ]
     },
     "execution_count": 92,
     "metadata": {},
     "output_type": "execute_result"
    }
   ],
   "source": [
    "c.greet()"
   ]
  },
  {
   "cell_type": "code",
   "execution_count": null,
   "id": "8a83ddc8-bf38-4d1b-9273-9a6179f060f9",
   "metadata": {},
   "outputs": [],
   "source": []
  }
 ],
 "metadata": {
  "kernelspec": {
   "display_name": "Python 3 (ipykernel)",
   "language": "python",
   "name": "python3"
  },
  "language_info": {
   "codemirror_mode": {
    "name": "ipython",
    "version": 3
   },
   "file_extension": ".py",
   "mimetype": "text/x-python",
   "name": "python",
   "nbconvert_exporter": "python",
   "pygments_lexer": "ipython3",
   "version": "3.9.13"
  }
 },
 "nbformat": 4,
 "nbformat_minor": 5
}
