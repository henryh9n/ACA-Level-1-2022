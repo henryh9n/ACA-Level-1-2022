{
 "cells": [
  {
   "cell_type": "markdown",
   "id": "73fdc954-b477-465c-bc27-46a6a2ecf108",
   "metadata": {},
   "source": [
    "# Lesson 10 ~ Inheritance"
   ]
  },
  {
   "cell_type": "code",
   "execution_count": 8,
   "id": "6eb8f3f2-558c-4904-ae65-bcc2fc4563c6",
   "metadata": {},
   "outputs": [],
   "source": [
    "class Dog:\n",
    "    def __init__(self, name, age):\n",
    "        self.name = name\n",
    "        self.age = age\n",
    "        \n",
    "    def greet(self, users_name):\n",
    "        return f\"Hello {users_name}, how are you?\"\n",
    "    \n",
    "    def speak(self):\n",
    "        return \"Woof, woof!\""
   ]
  },
  {
   "cell_type": "code",
   "execution_count": 9,
   "id": "40600217-bfa9-42a2-9ca6-617d74d5e934",
   "metadata": {},
   "outputs": [],
   "source": [
    "dog_1 = Dog(\"Bob\", 12)"
   ]
  },
  {
   "cell_type": "code",
   "execution_count": 10,
   "id": "d85813bc-9f13-4851-b1df-1740ffd6e848",
   "metadata": {},
   "outputs": [
    {
     "data": {
      "text/plain": [
       "'Hello Henry, how are you?'"
      ]
     },
     "execution_count": 10,
     "metadata": {},
     "output_type": "execute_result"
    }
   ],
   "source": [
    "dog_1.greet(\"Henry\")"
   ]
  },
  {
   "cell_type": "code",
   "execution_count": 11,
   "id": "69965e07-863d-4b8d-b1fa-252bca9c52bf",
   "metadata": {},
   "outputs": [],
   "source": [
    "class Cat:\n",
    "    def __init__(self, name, age):\n",
    "        self.name = name\n",
    "        self.age = age\n",
    "        \n",
    "    def greet(self, users_name):\n",
    "        return f\"Hello {users_name}, how are you?\"\n",
    "    \n",
    "    def speak(self):\n",
    "        return \"Meow, meow!\""
   ]
  },
  {
   "cell_type": "code",
   "execution_count": 12,
   "id": "1e2abb57-f17f-44b2-a9f8-6acc4f3ad445",
   "metadata": {},
   "outputs": [],
   "source": [
    "cat_1 = Cat(\"Luna\", 5)"
   ]
  },
  {
   "cell_type": "code",
   "execution_count": 13,
   "id": "074fcba3-4161-4716-87c6-fc88fc667d97",
   "metadata": {},
   "outputs": [
    {
     "data": {
      "text/plain": [
       "'Hello Henry, how are you?'"
      ]
     },
     "execution_count": 13,
     "metadata": {},
     "output_type": "execute_result"
    }
   ],
   "source": [
    "cat_1.greet(\"Henry\")"
   ]
  },
  {
   "cell_type": "code",
   "execution_count": 49,
   "id": "4738aa3f-ab8b-4ceb-8d73-a37e1464dc63",
   "metadata": {},
   "outputs": [],
   "source": [
    "class Animal:\n",
    "    def __init__(self, name, age):\n",
    "        self.name = name\n",
    "        if age <= 0:\n",
    "            raise ValueError(\"age can't be less than 0\")\n",
    "        self.age = age\n",
    "        \n",
    "    def greet(self, user_name):\n",
    "        return f\"Hello {user_name}, how are you?\""
   ]
  },
  {
   "cell_type": "code",
   "execution_count": 50,
   "id": "1ce4052a-23b4-46ca-a28a-c11c67e5a94a",
   "metadata": {},
   "outputs": [],
   "source": [
    "class Dog(Animal):\n",
    "    def speak(self):\n",
    "        return \"Woof, woof!\""
   ]
  },
  {
   "cell_type": "code",
   "execution_count": 51,
   "id": "2208bad9-de21-4063-b4ad-9491bc47099f",
   "metadata": {},
   "outputs": [],
   "source": [
    "class Cat(Animal):\n",
    "    def speak(self):\n",
    "        return \"Meow, meow!\""
   ]
  },
  {
   "cell_type": "code",
   "execution_count": 52,
   "id": "45785507-343b-424e-b3e2-9d8c505b85f0",
   "metadata": {},
   "outputs": [],
   "source": [
    "dog_2 = Dog(\"Jack\", 24)\n",
    "cat_2 = Cat(\"Tom\", 12)"
   ]
  },
  {
   "cell_type": "code",
   "execution_count": 53,
   "id": "20305a8b-5dc2-418f-be64-075ea2daad4e",
   "metadata": {},
   "outputs": [
    {
     "data": {
      "text/plain": [
       "'Hello Henry, how are you?'"
      ]
     },
     "execution_count": 53,
     "metadata": {},
     "output_type": "execute_result"
    }
   ],
   "source": [
    "dog_2.greet(\"Henry\")"
   ]
  },
  {
   "cell_type": "code",
   "execution_count": 54,
   "id": "8d8201c4-26d9-451d-8add-8ab4631902e9",
   "metadata": {},
   "outputs": [
    {
     "data": {
      "text/plain": [
       "'Woof, woof!'"
      ]
     },
     "execution_count": 54,
     "metadata": {},
     "output_type": "execute_result"
    }
   ],
   "source": [
    "dog_2.speak()"
   ]
  },
  {
   "cell_type": "code",
   "execution_count": 55,
   "id": "fcc4da03-61f8-4e7a-b991-65633c325e29",
   "metadata": {},
   "outputs": [
    {
     "data": {
      "text/plain": [
       "'Meow, meow!'"
      ]
     },
     "execution_count": 55,
     "metadata": {},
     "output_type": "execute_result"
    }
   ],
   "source": [
    "cat_2.speak()"
   ]
  },
  {
   "cell_type": "code",
   "execution_count": 56,
   "id": "97de4905-2cd6-417c-b734-7469c334eb5a",
   "metadata": {},
   "outputs": [],
   "source": [
    "class BullDog(Dog):\n",
    "    pass"
   ]
  },
  {
   "cell_type": "code",
   "execution_count": 57,
   "id": "8eb01544-f301-4a4b-9588-04450e765a37",
   "metadata": {},
   "outputs": [],
   "source": [
    "dog_3 = BullDog(\"Adam\", 42)"
   ]
  },
  {
   "cell_type": "code",
   "execution_count": 58,
   "id": "4edc1d66-a3bc-488e-abc8-c76d4be4a763",
   "metadata": {},
   "outputs": [
    {
     "data": {
      "text/plain": [
       "'Woof, woof!'"
      ]
     },
     "execution_count": 58,
     "metadata": {},
     "output_type": "execute_result"
    }
   ],
   "source": [
    "dog_3.speak()"
   ]
  },
  {
   "cell_type": "code",
   "execution_count": 59,
   "id": "cc1c51bd-1b46-4dc4-8b78-352764925950",
   "metadata": {},
   "outputs": [
    {
     "data": {
      "text/plain": [
       "'Hello Henry, how are you?'"
      ]
     },
     "execution_count": 59,
     "metadata": {},
     "output_type": "execute_result"
    }
   ],
   "source": [
    "dog_3.greet(\"Henry\")"
   ]
  },
  {
   "cell_type": "code",
   "execution_count": 88,
   "id": "6b9b215e-7f09-4296-9b53-3d9d4a04e8af",
   "metadata": {},
   "outputs": [],
   "source": [
    "class BullDog(Dog):\n",
    "    def __init__(self, name, age, color):\n",
    "        super().__init__(name, age)\n",
    "        self.color = color\n",
    "        \n",
    "    def speak(self):  # override\n",
    "        return \"Haff, haff!\"\n",
    "    \n",
    "    def greet(self, user_name):\n",
    "        print(\"Starting\")\n",
    "        return super().greet(f\"Mr. {user_name}\")"
   ]
  },
  {
   "cell_type": "code",
   "execution_count": 89,
   "id": "57d0f6f8-ed31-40f9-a099-69f974542b25",
   "metadata": {},
   "outputs": [],
   "source": [
    "dog_4 = BullDog(\"Cooper\", 12, \"White\")"
   ]
  },
  {
   "cell_type": "code",
   "execution_count": 90,
   "id": "deff0122-4457-4731-b777-c4d5a6586068",
   "metadata": {},
   "outputs": [
    {
     "data": {
      "text/plain": [
       "'Cooper'"
      ]
     },
     "execution_count": 90,
     "metadata": {},
     "output_type": "execute_result"
    }
   ],
   "source": [
    "dog_4.name"
   ]
  },
  {
   "cell_type": "code",
   "execution_count": 91,
   "id": "c28d6faf-bfb8-4e7f-915e-b9871f3e95e4",
   "metadata": {},
   "outputs": [
    {
     "data": {
      "text/plain": [
       "'White'"
      ]
     },
     "execution_count": 91,
     "metadata": {},
     "output_type": "execute_result"
    }
   ],
   "source": [
    "dog_4.color"
   ]
  },
  {
   "cell_type": "code",
   "execution_count": 92,
   "id": "80dfb622-4b27-4ee6-9d50-cf2bf4d48f4c",
   "metadata": {},
   "outputs": [
    {
     "data": {
      "text/plain": [
       "'Haff, haff!'"
      ]
     },
     "execution_count": 92,
     "metadata": {},
     "output_type": "execute_result"
    }
   ],
   "source": [
    "dog_4.speak()"
   ]
  },
  {
   "cell_type": "code",
   "execution_count": 93,
   "id": "c64c1afd-07c3-4b16-8a86-1e41c6c6918e",
   "metadata": {},
   "outputs": [
    {
     "name": "stdout",
     "output_type": "stream",
     "text": [
      "Starting\n"
     ]
    },
    {
     "data": {
      "text/plain": [
       "'Hello Mr. Henry, how are you?'"
      ]
     },
     "execution_count": 93,
     "metadata": {},
     "output_type": "execute_result"
    }
   ],
   "source": [
    "dog_4.greet(\"Henry\")"
   ]
  },
  {
   "cell_type": "code",
   "execution_count": 94,
   "id": "197dc39a-24ef-43b9-8d87-ffa7dbed6819",
   "metadata": {},
   "outputs": [],
   "source": [
    "a = 42"
   ]
  },
  {
   "cell_type": "code",
   "execution_count": 97,
   "id": "3ea6f1f2-9c29-42d7-88cf-b5a7fe6fb889",
   "metadata": {},
   "outputs": [
    {
     "data": {
      "text/plain": [
       "True"
      ]
     },
     "execution_count": 97,
     "metadata": {},
     "output_type": "execute_result"
    }
   ],
   "source": [
    "type(a) is int"
   ]
  },
  {
   "cell_type": "code",
   "execution_count": 99,
   "id": "d821648f-0cab-42dc-8a1b-96f0fccaca89",
   "metadata": {},
   "outputs": [
    {
     "data": {
      "text/plain": [
       "True"
      ]
     },
     "execution_count": 99,
     "metadata": {},
     "output_type": "execute_result"
    }
   ],
   "source": [
    "isinstance(a, int)"
   ]
  },
  {
   "cell_type": "code",
   "execution_count": 100,
   "id": "78cf185c-422b-4633-a4da-7137f2b8cbdf",
   "metadata": {},
   "outputs": [
    {
     "data": {
      "text/plain": [
       "<__main__.Dog at 0x105475af0>"
      ]
     },
     "execution_count": 100,
     "metadata": {},
     "output_type": "execute_result"
    }
   ],
   "source": [
    "dog_1"
   ]
  },
  {
   "cell_type": "code",
   "execution_count": 101,
   "id": "8ac059d0-b00c-4541-a873-d455e38e2a88",
   "metadata": {},
   "outputs": [
    {
     "data": {
      "text/plain": [
       "<__main__.BullDog at 0x1053e5f10>"
      ]
     },
     "execution_count": 101,
     "metadata": {},
     "output_type": "execute_result"
    }
   ],
   "source": [
    "dog_4"
   ]
  },
  {
   "cell_type": "code",
   "execution_count": 102,
   "id": "d774740d-c22a-41a3-be34-df424678b41e",
   "metadata": {},
   "outputs": [
    {
     "data": {
      "text/plain": [
       "True"
      ]
     },
     "execution_count": 102,
     "metadata": {},
     "output_type": "execute_result"
    }
   ],
   "source": [
    "isinstance(dog_4, BullDog)"
   ]
  },
  {
   "cell_type": "code",
   "execution_count": 103,
   "id": "dfb39d82-088a-4f0e-9d8d-5aa466dc39aa",
   "metadata": {},
   "outputs": [
    {
     "data": {
      "text/plain": [
       "True"
      ]
     },
     "execution_count": 103,
     "metadata": {},
     "output_type": "execute_result"
    }
   ],
   "source": [
    "isinstance(dog_4, Dog)"
   ]
  },
  {
   "cell_type": "code",
   "execution_count": 104,
   "id": "7fd8df46-4d77-42f8-8da3-360fb2578ef7",
   "metadata": {},
   "outputs": [
    {
     "data": {
      "text/plain": [
       "True"
      ]
     },
     "execution_count": 104,
     "metadata": {},
     "output_type": "execute_result"
    }
   ],
   "source": [
    "isinstance(dog_4, Animal)"
   ]
  },
  {
   "cell_type": "code",
   "execution_count": 105,
   "id": "31f30ff1-5a8c-4a3b-bf2e-5898a35ef465",
   "metadata": {},
   "outputs": [
    {
     "data": {
      "text/plain": [
       "False"
      ]
     },
     "execution_count": 105,
     "metadata": {},
     "output_type": "execute_result"
    }
   ],
   "source": [
    "isinstance(dog_4, Cat)"
   ]
  },
  {
   "cell_type": "code",
   "execution_count": 106,
   "id": "0a536a79-e506-4028-98f5-c7626cb20713",
   "metadata": {},
   "outputs": [
    {
     "data": {
      "text/plain": [
       "True"
      ]
     },
     "execution_count": 106,
     "metadata": {},
     "output_type": "execute_result"
    }
   ],
   "source": [
    "isinstance(dog_4, object)"
   ]
  },
  {
   "cell_type": "code",
   "execution_count": 110,
   "id": "f3d1fdb5-c27e-4cf3-9f13-ed5aed5a8267",
   "metadata": {},
   "outputs": [
    {
     "data": {
      "text/plain": [
       "__main__.BullDog"
      ]
     },
     "execution_count": 110,
     "metadata": {},
     "output_type": "execute_result"
    }
   ],
   "source": [
    "type(dog_4)"
   ]
  },
  {
   "cell_type": "code",
   "execution_count": 111,
   "id": "e793926e-dd37-4a66-a713-50fa5297408b",
   "metadata": {},
   "outputs": [
    {
     "data": {
      "text/plain": [
       "True"
      ]
     },
     "execution_count": 111,
     "metadata": {},
     "output_type": "execute_result"
    }
   ],
   "source": [
    "isinstance(True, int)"
   ]
  },
  {
   "cell_type": "code",
   "execution_count": 112,
   "id": "c871a046-0ce0-4cdd-87ac-8b7846b2fcf9",
   "metadata": {},
   "outputs": [
    {
     "data": {
      "text/plain": [
       "bool"
      ]
     },
     "execution_count": 112,
     "metadata": {},
     "output_type": "execute_result"
    }
   ],
   "source": [
    "type(True)"
   ]
  },
  {
   "cell_type": "code",
   "execution_count": 114,
   "id": "374e37f5-1fc1-4662-8bef-cfe024ff9ade",
   "metadata": {},
   "outputs": [],
   "source": [
    "from functools import total_ordering\n",
    "\n",
    "@total_ordering\n",
    "class Rectangle:\n",
    "    def __init__(self, width, length):\n",
    "        if width < 0 or length < 0:\n",
    "            raise Exception(\"width and length should be positive numbers\")\n",
    "        self.width = width\n",
    "        self.length = length\n",
    "    \n",
    "    def area(self):\n",
    "        return self.calculate_area(self.width, self.length)\n",
    "    \n",
    "    @staticmethod\n",
    "    def calculate_area(width, length):\n",
    "        return width * length\n",
    "    \n",
    "    def __repr__(self):\n",
    "        return f\"Rectangle({self.width}, {self.length})\"\n",
    "    \n",
    "    def __lt__(self, other):\n",
    "        return self.area() < other.area()\n",
    "    \n",
    "    def __eq__(self, other):\n",
    "        return self.area() == other.area()\n",
    "    \n",
    "    def __bool__(self):\n",
    "        return self.area() > 0\n",
    "    \n",
    "    def __add__(self, other):\n",
    "        if isinstance(other, (int, float)):\n",
    "            return self.area() + other\n",
    "        elif isinstance(other, self.__class__):\n",
    "            return self.area() + other.area()\n",
    "        else:\n",
    "            raise TypeError(f\"Can't add Rectangle with {other.__class__}\")\n",
    "       \n",
    "    def __radd__(self, other):\n",
    "        return self.__add__(other)\n",
    "    \n",
    "    def __iadd__(self, other):\n",
    "        raise TypeError(\"+= not supported for this object\")\n",
    "        \n",
    "    def __int__(self):\n",
    "        return int(self.area())"
   ]
  },
  {
   "cell_type": "code",
   "execution_count": 115,
   "id": "5ef08a14-5e78-4099-a865-fd4e2a3069b8",
   "metadata": {},
   "outputs": [],
   "source": [
    "class Square(Rectangle):\n",
    "    def __init__(self, width):\n",
    "        super().__init__(width, width)"
   ]
  },
  {
   "cell_type": "code",
   "execution_count": 116,
   "id": "b203a446-745c-4870-b8ac-f33f4e008eb3",
   "metadata": {},
   "outputs": [],
   "source": [
    "sq = Square(10)"
   ]
  },
  {
   "cell_type": "code",
   "execution_count": 117,
   "id": "948434b6-9a18-46dd-8f94-199157df3c81",
   "metadata": {},
   "outputs": [
    {
     "data": {
      "text/plain": [
       "Rectangle(10, 10)"
      ]
     },
     "execution_count": 117,
     "metadata": {},
     "output_type": "execute_result"
    }
   ],
   "source": [
    "sq"
   ]
  },
  {
   "cell_type": "code",
   "execution_count": 118,
   "id": "13c96adc-3da8-4251-b00d-fbad60768622",
   "metadata": {},
   "outputs": [
    {
     "data": {
      "text/plain": [
       "100"
      ]
     },
     "execution_count": 118,
     "metadata": {},
     "output_type": "execute_result"
    }
   ],
   "source": [
    "sq.area()"
   ]
  },
  {
   "cell_type": "code",
   "execution_count": 119,
   "id": "cebb39b2-36c0-4a94-b5ee-386d6e5c5aad",
   "metadata": {},
   "outputs": [
    {
     "data": {
      "text/plain": [
       "200"
      ]
     },
     "execution_count": 119,
     "metadata": {},
     "output_type": "execute_result"
    }
   ],
   "source": [
    "sq + sq"
   ]
  },
  {
   "cell_type": "code",
   "execution_count": 197,
   "id": "e84421d0-977c-4db2-ba8a-0923f492b06a",
   "metadata": {},
   "outputs": [],
   "source": [
    "@total_ordering\n",
    "class Shape:\n",
    "    def area(self):\n",
    "        raise NotImplementedError()\n",
    "        \n",
    "    @staticmethod\n",
    "    def calculate_area(*args):\n",
    "        raise NotImplementedError()\n",
    "        \n",
    "    def __lt__(self, other):\n",
    "        return self.area() < other.area()\n",
    "    \n",
    "    def __eq__(self, other):\n",
    "        return self.area() == other.area()\n",
    "    \n",
    "    def __bool__(self):\n",
    "        return self.area() > 0\n",
    "    \n",
    "    def __add__(self, other):\n",
    "        if isinstance(other, (int, float)):\n",
    "            return self.area() + other\n",
    "        elif isinstance(other, self.__class__):\n",
    "            return self.area() + other.area()\n",
    "        else:\n",
    "            raise TypeError(f\"Can't add Rectangle with {other.__class__}\")\n",
    "       \n",
    "    def __radd__(self, other):\n",
    "        return self.__add__(other)\n",
    "    \n",
    "    def __iadd__(self, other):\n",
    "        raise TypeError(\"+= not supported for this object\")\n",
    "        \n",
    "    def __int__(self):\n",
    "        return int(self.area())\n",
    "    \n",
    "    def __repr__(self):\n",
    "        value_mapping = [f'{attr_name}={attr_value}' for attr_name, attr_value in vars(self).items()]\n",
    "        return f\"{self.__class__.__name__}({', '.join(value_mapping)})\""
   ]
  },
  {
   "cell_type": "code",
   "execution_count": 198,
   "id": "5e6a20c8-d749-445c-a26f-b7f4ebcf43d7",
   "metadata": {},
   "outputs": [],
   "source": [
    "class Rectangle(Shape):\n",
    "    def __init__(self, width, length):\n",
    "        if width < 0 or length < 0:\n",
    "            raise Exception(\"width and length should be positive numbers\")\n",
    "        self.width = width\n",
    "        self.length = length\n",
    "    \n",
    "    def area(self):\n",
    "        return self.calculate_area(self.width, self.length)\n",
    "    \n",
    "    @staticmethod\n",
    "    def calculate_area(width, length):\n",
    "        return width * length"
   ]
  },
  {
   "cell_type": "code",
   "execution_count": 199,
   "id": "f2c1c03e-ff72-4a1d-addd-d8a660fb984d",
   "metadata": {},
   "outputs": [],
   "source": [
    "rectangle_1 = Rectangle(12, 24)"
   ]
  },
  {
   "cell_type": "code",
   "execution_count": 196,
   "id": "a26a61e2-2d48-48f7-839a-f0764a82384c",
   "metadata": {},
   "outputs": [
    {
     "data": {
      "text/plain": [
       "Rectangle(width=12, length=24)"
      ]
     },
     "execution_count": 196,
     "metadata": {},
     "output_type": "execute_result"
    }
   ],
   "source": [
    "rectangle_1"
   ]
  },
  {
   "cell_type": "code",
   "execution_count": 185,
   "id": "cf11a23f-44dd-44e8-8158-8cfd7d1111b9",
   "metadata": {},
   "outputs": [
    {
     "data": {
      "text/plain": [
       "576"
      ]
     },
     "execution_count": 185,
     "metadata": {},
     "output_type": "execute_result"
    }
   ],
   "source": [
    "rectangle_1 + rectangle_1"
   ]
  },
  {
   "cell_type": "code",
   "execution_count": 186,
   "id": "fd246bd1-d93f-4d76-9b20-ae40c58a9f39",
   "metadata": {},
   "outputs": [],
   "source": [
    "import math\n",
    "\n",
    "\n",
    "class Circle(Shape):\n",
    "    def __init__(self, radius):\n",
    "        self.radius = radius\n",
    "        \n",
    "    def area(self):\n",
    "        return self.calculate_area(self.radius)\n",
    "    \n",
    "    @staticmethod\n",
    "    def calculate_area(radius):\n",
    "        return math.pi * radius **2"
   ]
  },
  {
   "cell_type": "code",
   "execution_count": 187,
   "id": "13524888-810b-49d1-918d-2aa50f439d12",
   "metadata": {},
   "outputs": [],
   "source": [
    "circle_1 = Circle(1)"
   ]
  },
  {
   "cell_type": "code",
   "execution_count": 188,
   "id": "726d6075-03f4-4198-84dd-2f3a4bb5ee42",
   "metadata": {},
   "outputs": [
    {
     "data": {
      "text/plain": [
       "6.283185307179586"
      ]
     },
     "execution_count": 188,
     "metadata": {},
     "output_type": "execute_result"
    }
   ],
   "source": [
    "circle_1 + circle_1"
   ]
  },
  {
   "cell_type": "code",
   "execution_count": 189,
   "id": "4e0c0ea3-c923-489e-8bdf-4711e419e523",
   "metadata": {},
   "outputs": [
    {
     "data": {
      "text/plain": [
       "Circle(radius=1)"
      ]
     },
     "execution_count": 189,
     "metadata": {},
     "output_type": "execute_result"
    }
   ],
   "source": [
    "circle_1"
   ]
  },
  {
   "cell_type": "code",
   "execution_count": 190,
   "id": "f6942c4e-6b13-49be-81f1-d68e23a85831",
   "metadata": {},
   "outputs": [],
   "source": [
    "class Square(Rectangle):\n",
    "    def __init__(self, width):\n",
    "        super().__init__(width, width)"
   ]
  },
  {
   "cell_type": "code",
   "execution_count": 191,
   "id": "1466fdb0-c5ae-44fb-a68a-29b9ccb25deb",
   "metadata": {},
   "outputs": [],
   "source": [
    "sq = Square(10)"
   ]
  },
  {
   "cell_type": "code",
   "execution_count": 192,
   "id": "49eb7fe7-1c3c-4227-ad79-44ba0e79dd91",
   "metadata": {},
   "outputs": [
    {
     "data": {
      "text/plain": [
       "Square(width=10, length=10)"
      ]
     },
     "execution_count": 192,
     "metadata": {},
     "output_type": "execute_result"
    }
   ],
   "source": [
    "sq"
   ]
  },
  {
   "cell_type": "code",
   "execution_count": null,
   "id": "f21a1fd8-7b6a-470e-8547-27646bfe89dc",
   "metadata": {},
   "outputs": [],
   "source": []
  }
 ],
 "metadata": {
  "kernelspec": {
   "display_name": "Python 3 (ipykernel)",
   "language": "python",
   "name": "python3"
  },
  "language_info": {
   "codemirror_mode": {
    "name": "ipython",
    "version": 3
   },
   "file_extension": ".py",
   "mimetype": "text/x-python",
   "name": "python",
   "nbconvert_exporter": "python",
   "pygments_lexer": "ipython3",
   "version": "3.9.13"
  }
 },
 "nbformat": 4,
 "nbformat_minor": 5
}
