{
 "cells": [
  {
   "cell_type": "markdown",
   "id": "39d42c32-8dde-4015-b380-d80338768720",
   "metadata": {},
   "source": [
    "# Lesson 5"
   ]
  },
  {
   "cell_type": "markdown",
   "id": "72d777d0-f4e3-4423-9b9b-a070d9dc2094",
   "metadata": {},
   "source": [
    "## Scopes"
   ]
  },
  {
   "cell_type": "code",
   "execution_count": 1,
   "id": "d5f0161c-b853-4868-932b-bf063b8cd76e",
   "metadata": {},
   "outputs": [
    {
     "ename": "UnboundLocalError",
     "evalue": "local variable 'n' referenced before assignment",
     "output_type": "error",
     "traceback": [
      "\u001b[0;31m---------------------------------------------------------------------------\u001b[0m",
      "\u001b[0;31mUnboundLocalError\u001b[0m                         Traceback (most recent call last)",
      "Input \u001b[0;32mIn [1]\u001b[0m, in \u001b[0;36m<cell line: 7>\u001b[0;34m()\u001b[0m\n\u001b[1;32m      4\u001b[0m     n \u001b[38;5;241m+\u001b[39m\u001b[38;5;241m=\u001b[39m \u001b[38;5;241m1\u001b[39m\n\u001b[1;32m      5\u001b[0m     \u001b[38;5;28mprint\u001b[39m(n)\n\u001b[0;32m----> 7\u001b[0m \u001b[43mfoo\u001b[49m\u001b[43m(\u001b[49m\u001b[43m)\u001b[49m\n",
      "Input \u001b[0;32mIn [1]\u001b[0m, in \u001b[0;36mfoo\u001b[0;34m()\u001b[0m\n\u001b[1;32m      3\u001b[0m \u001b[38;5;28;01mdef\u001b[39;00m \u001b[38;5;21mfoo\u001b[39m():\n\u001b[0;32m----> 4\u001b[0m     n \u001b[38;5;241m+\u001b[39m\u001b[38;5;241m=\u001b[39m \u001b[38;5;241m1\u001b[39m\n\u001b[1;32m      5\u001b[0m     \u001b[38;5;28mprint\u001b[39m(n)\n",
      "\u001b[0;31mUnboundLocalError\u001b[0m: local variable 'n' referenced before assignment"
     ]
    }
   ],
   "source": [
    "n = 42\n",
    "\n",
    "def foo():\n",
    "    n += 1\n",
    "    print(n)\n",
    "    \n",
    "foo()"
   ]
  },
  {
   "cell_type": "code",
   "execution_count": 3,
   "id": "8bae861b-01f6-4d05-b9bd-650fe174748b",
   "metadata": {},
   "outputs": [
    {
     "name": "stdout",
     "output_type": "stream",
     "text": [
      "[42, 'test', False]\n"
     ]
    }
   ],
   "source": [
    "l = [42, \"test\"]\n",
    "\n",
    "\n",
    "def foo():\n",
    "    l.append(False)\n",
    "    print(l)\n",
    "\n",
    "\n",
    "foo()"
   ]
  },
  {
   "cell_type": "markdown",
   "id": "1a14cf01-e0df-4b3e-bcf9-5faf13f9cc58",
   "metadata": {},
   "source": [
    "## Decorators Contd."
   ]
  },
  {
   "cell_type": "code",
   "execution_count": 4,
   "id": "c4159f32-cc03-468b-8b5a-3744e1a4797a",
   "metadata": {},
   "outputs": [],
   "source": [
    "from time import sleep"
   ]
  },
  {
   "cell_type": "code",
   "execution_count": 5,
   "id": "bc96fbb8-795c-4edc-a726-3c68ff96554f",
   "metadata": {},
   "outputs": [],
   "source": [
    "sleep(3)"
   ]
  },
  {
   "cell_type": "code",
   "execution_count": 6,
   "id": "de6e6d8e-c5d5-4c94-bc14-81fe6132b59d",
   "metadata": {},
   "outputs": [
    {
     "name": "stdin",
     "output_type": "stream",
     "text": [
      "Please enter the n:  3\n"
     ]
    },
    {
     "name": "stdout",
     "output_type": "stream",
     "text": [
      "9\n"
     ]
    }
   ],
   "source": [
    "n = int(input(\"Please enter the n: \"))\n",
    "sleep(3)\n",
    "print(n**2)"
   ]
  },
  {
   "cell_type": "code",
   "execution_count": 7,
   "id": "b43eaed9-aefe-47bc-aedd-d155bf0a4016",
   "metadata": {},
   "outputs": [],
   "source": [
    "from time import time"
   ]
  },
  {
   "cell_type": "code",
   "execution_count": 14,
   "id": "68000d92-05ce-412c-8fd4-c903ea52c80e",
   "metadata": {},
   "outputs": [
    {
     "name": "stdout",
     "output_type": "stream",
     "text": [
      "3.0050437450408936\n"
     ]
    }
   ],
   "source": [
    "start_time = time()\n",
    "sleep(3)\n",
    "end_time = time()\n",
    "print(end_time - start_time)"
   ]
  },
  {
   "cell_type": "code",
   "execution_count": 15,
   "id": "b49cba16-88d9-4a52-9183-2954aaff64cf",
   "metadata": {},
   "outputs": [],
   "source": [
    "from functools import wraps"
   ]
  },
  {
   "cell_type": "code",
   "execution_count": 21,
   "id": "ebc32bc3-ee7b-423d-85cd-984cc8f1e852",
   "metadata": {},
   "outputs": [],
   "source": [
    "def timer(func):\n",
    "    @wraps(func)\n",
    "    def wrapper(*args, **kwargs):\n",
    "        start_time = time()\n",
    "        res = func(*args, **kwargs)\n",
    "        end_time = time()\n",
    "        print(f\"Duration: {end_time - start_time}\")\n",
    "        return res\n",
    "    return wrapper"
   ]
  },
  {
   "cell_type": "code",
   "execution_count": 22,
   "id": "1a366352-e5e2-4e9c-a89f-e887d10ecadb",
   "metadata": {},
   "outputs": [],
   "source": [
    "@timer\n",
    "def foo(x):\n",
    "    sleep(3)\n",
    "    return x**2"
   ]
  },
  {
   "cell_type": "code",
   "execution_count": 23,
   "id": "2bb036a9-be7b-4fb8-a93a-e497fbf55bf6",
   "metadata": {},
   "outputs": [
    {
     "name": "stdout",
     "output_type": "stream",
     "text": [
      "Duration: 3.003056764602661\n"
     ]
    },
    {
     "data": {
      "text/plain": [
       "4"
      ]
     },
     "execution_count": 23,
     "metadata": {},
     "output_type": "execute_result"
    }
   ],
   "source": [
    "foo(2)"
   ]
  },
  {
   "cell_type": "markdown",
   "id": "5e5b1b4b-0c3f-491f-af71-d6bf863a2ed9",
   "metadata": {},
   "source": [
    "## Missing Integer Problem"
   ]
  },
  {
   "cell_type": "code",
   "execution_count": 24,
   "id": "c66f0c52-f389-49a2-90f7-010e428f6414",
   "metadata": {},
   "outputs": [],
   "source": [
    "from random import randint"
   ]
  },
  {
   "cell_type": "code",
   "execution_count": 30,
   "id": "64ee8dfe-b8b1-4564-b635-9e538935aa34",
   "metadata": {},
   "outputs": [],
   "source": [
    "nums = []\n",
    "while len(nums) < 90:\n",
    "    r = randint(1, 100)\n",
    "    if r not in nums:\n",
    "        nums.append(r)"
   ]
  },
  {
   "cell_type": "code",
   "execution_count": 39,
   "id": "4f2eb3e3-d5e0-40f3-912a-fb71784782f2",
   "metadata": {},
   "outputs": [
    {
     "name": "stdout",
     "output_type": "stream",
     "text": [
      "Duration: 2.002716064453125e-05\n",
      "the smallest positive number which is missing is 21\n"
     ]
    }
   ],
   "source": [
    "@timer\n",
    "def minpositive(arr):\n",
    "    if 1 not in arr:  # O(n)\n",
    "        return 1\n",
    "    else:\n",
    "        maxArr = max(arr) #  O(n)\n",
    "        c1 = set(range(2, maxArr+2)) #  O(n)\n",
    "        c2 = c1 - set(arr)  #  O(n)\n",
    "        return f\"the smallest positive number which is missing is {min(c2)}\"\n",
    "\n",
    "print(minpositive(nums))"
   ]
  },
  {
   "cell_type": "code",
   "execution_count": 40,
   "id": "57825cd7-d5a8-48f6-b641-b03416c6d6ee",
   "metadata": {},
   "outputs": [
    {
     "name": "stdout",
     "output_type": "stream",
     "text": [
      "Duration: 1.7881393432617188e-05\n",
      "the smallest positive number which is missing is 21\n"
     ]
    }
   ],
   "source": [
    "@timer\n",
    "def minpositive(arr):\n",
    "    maxArr = max(arr) #  O(n)\n",
    "    c1 = set(range(1, maxArr+2)) #  O(n)\n",
    "    c2 = c1 - set(arr)  #  O(n)\n",
    "    return f\"the smallest positive number which is missing is {min(c2)}\"\n",
    "\n",
    "print(minpositive(nums))"
   ]
  },
  {
   "cell_type": "code",
   "execution_count": 63,
   "id": "e47b0cdc-5c48-4014-a12a-5eb509680281",
   "metadata": {},
   "outputs": [
    {
     "name": "stdout",
     "output_type": "stream",
     "text": [
      "Duration: 1.4781951904296875e-05\n",
      "the smallest positive number which is missing is 2\n"
     ]
    }
   ],
   "source": [
    "@timer\n",
    "def minpositive(arr):\n",
    "    maxArr = max(arr) #  O(n)\n",
    "    c1 = set(range(1, maxArr+2)) #  O(n)\n",
    "    c2 = c1 - set(arr)  #  O(n)\n",
    "    if not c2:\n",
    "        return 1\n",
    "    return f\"the smallest positive number which is missing is {min(c2)}\"\n",
    "\n",
    "print(minpositive([-2, -1, 1]))"
   ]
  },
  {
   "cell_type": "code",
   "execution_count": 64,
   "id": "3a6dadc3-55aa-4f9f-9e42-c8a8046b81fd",
   "metadata": {},
   "outputs": [
    {
     "name": "stdout",
     "output_type": "stream",
     "text": [
      "Duration: 2.9087066650390625e-05\n"
     ]
    },
    {
     "data": {
      "text/plain": [
       "21"
      ]
     },
     "execution_count": 64,
     "metadata": {},
     "output_type": "execute_result"
    }
   ],
   "source": [
    "@timer\n",
    "def missing_nums(x):  # O(n^2)\n",
    "    max_list = max(x)  # O(n)\n",
    "    for y in range(1,max_list):  # O(n)\n",
    "        if y not in x:  # O(n)\n",
    "            return y\n",
    "    else:\n",
    "        return max_list+1\n",
    "\n",
    "missing_nums(nums)"
   ]
  },
  {
   "cell_type": "code",
   "execution_count": 65,
   "id": "bf5f76a7-f23f-46ba-813e-6b528831ec16",
   "metadata": {},
   "outputs": [
    {
     "name": "stdout",
     "output_type": "stream",
     "text": [
      "Duration: 1.0013580322265625e-05\n"
     ]
    },
    {
     "data": {
      "text/plain": [
       "21"
      ]
     },
     "execution_count": 65,
     "metadata": {},
     "output_type": "execute_result"
    }
   ],
   "source": [
    "@timer\n",
    "def missing_number(arr):\n",
    "    s = set(arr)  # O(n)\n",
    "    i = 1\n",
    "    while True:  # O(n)\n",
    "        if i not in s: # O(1)\n",
    "            return i\n",
    "        i += 1\n",
    "        \n",
    "        \n",
    "missing_number(nums)"
   ]
  },
  {
   "cell_type": "code",
   "execution_count": 66,
   "id": "1b38d08f-cf32-44e2-8161-bb04add042d2",
   "metadata": {},
   "outputs": [],
   "source": [
    "import timeit"
   ]
  },
  {
   "cell_type": "code",
   "execution_count": 96,
   "id": "d188d837-4a93-4721-a31a-777bbdad89ab",
   "metadata": {},
   "outputs": [
    {
     "data": {
      "text/plain": [
       "0.06545312499929423"
      ]
     },
     "execution_count": 96,
     "metadata": {},
     "output_type": "execute_result"
    }
   ],
   "source": [
    "def minpositive(arr):\n",
    "    maxArr = max(arr) #  O(n)\n",
    "    c1 = set(range(1, maxArr+2)) #  O(n)\n",
    "    c2 = c1 - set(arr)  #  O(n)\n",
    "    return f\"the smallest positive number which is missing is {min(c2)}\"\n",
    "\n",
    "\n",
    "timeit.timeit('minpositive(nums)', number=10000, setup=\"from __main__ import minpositive, nums\")"
   ]
  },
  {
   "cell_type": "code",
   "execution_count": 97,
   "id": "b01e3217-8932-4c18-a3bb-71cebeac91bd",
   "metadata": {},
   "outputs": [
    {
     "data": {
      "text/plain": [
       "0.11957237499973417"
      ]
     },
     "execution_count": 97,
     "metadata": {},
     "output_type": "execute_result"
    }
   ],
   "source": [
    "def missing_nums(x):  # O(n^2)\n",
    "    max_list = max(x)  # O(n)\n",
    "    for y in range(1,max_list):  # O(n)\n",
    "        if y not in x:  # O(n)\n",
    "            return y\n",
    "    else:\n",
    "        return max_list+1\n",
    "\n",
    "timeit.timeit('missing_nums(nums)', number=10000, setup=\"from __main__ import missing_nums, nums\")"
   ]
  },
  {
   "cell_type": "code",
   "execution_count": 98,
   "id": "479bda07-40ce-41e9-ab63-924f2058585f",
   "metadata": {},
   "outputs": [
    {
     "data": {
      "text/plain": [
       "0.027627374999610765"
      ]
     },
     "execution_count": 98,
     "metadata": {},
     "output_type": "execute_result"
    }
   ],
   "source": [
    "def missing_number(arr):\n",
    "    s = set(arr)  # O(n)\n",
    "    i = 1\n",
    "    while True:  # O(n)\n",
    "        if i not in s: # O(1)\n",
    "            return i\n",
    "        i += 1\n",
    "\n",
    "timeit.timeit('missing_number(nums)', number=10000, setup=\"from __main__ import missing_number, nums\")"
   ]
  },
  {
   "cell_type": "code",
   "execution_count": null,
   "id": "9db8d0ce-b992-4279-9a77-c71fea6d5ef5",
   "metadata": {},
   "outputs": [],
   "source": []
  }
 ],
 "metadata": {
  "kernelspec": {
   "display_name": "Python 3 (ipykernel)",
   "language": "python",
   "name": "python3"
  },
  "language_info": {
   "codemirror_mode": {
    "name": "ipython",
    "version": 3
   },
   "file_extension": ".py",
   "mimetype": "text/x-python",
   "name": "python",
   "nbconvert_exporter": "python",
   "pygments_lexer": "ipython3",
   "version": "3.9.13"
  }
 },
 "nbformat": 4,
 "nbformat_minor": 5
}
