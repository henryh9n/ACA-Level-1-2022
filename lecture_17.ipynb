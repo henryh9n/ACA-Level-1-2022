{
 "cells": [
  {
   "cell_type": "markdown",
   "id": "90e57b7d-f66b-4a73-ad20-1c992c6ec486",
   "metadata": {},
   "source": [
    "# Lecture 17"
   ]
  },
  {
   "cell_type": "markdown",
   "id": "334da40a-2c5d-4db3-9886-4a0c94564b00",
   "metadata": {},
   "source": [
    "## Factory Pattern"
   ]
  },
  {
   "cell_type": "code",
   "execution_count": 2,
   "id": "da695b4b-80b1-414d-a34c-901019f75821",
   "metadata": {},
   "outputs": [],
   "source": [
    "from abc import ABC, abstractmethod"
   ]
  },
  {
   "cell_type": "code",
   "execution_count": 40,
   "id": "eb99bb0b-7312-4496-84ae-ab5c27ec4eae",
   "metadata": {},
   "outputs": [],
   "source": [
    "class Creator(ABC):\n",
    "    @abstractmethod\n",
    "    def factory_method(self, name):\n",
    "        raise NotImplementedError\n",
    "        \n",
    "    def show_products(self, name):\n",
    "        customer = self.factory_method(name)\n",
    "        \n",
    "        products = ['bread', 'milk', 'chocolate']\n",
    "        \n",
    "        if customer.can_buy_alcohol():\n",
    "            products += ['beer', 'wine']\n",
    "        \n",
    "        return products"
   ]
  },
  {
   "cell_type": "code",
   "execution_count": 41,
   "id": "c6b554aa-3542-4647-9303-be88d1e8bde5",
   "metadata": {},
   "outputs": [],
   "source": [
    "class Customer(ABC):\n",
    "    def __init__(self, name):\n",
    "        self.name = name\n",
    "        \n",
    "    @abstractmethod\n",
    "    def can_buy_alcohol(self):\n",
    "        return NotImplementedError"
   ]
  },
  {
   "cell_type": "code",
   "execution_count": 42,
   "id": "ec77c488-0fbe-4328-9627-2c45483815e7",
   "metadata": {},
   "outputs": [],
   "source": [
    "class OrdinaryCustomer(Customer):\n",
    "    def can_buy_alcohol(self):\n",
    "        return True\n",
    "\n",
    "    \n",
    "class UnderagedCustomer(Customer):\n",
    "    def can_buy_alcohol(self):\n",
    "        return False"
   ]
  },
  {
   "cell_type": "code",
   "execution_count": 53,
   "id": "5df2494d-fc3f-4293-acd7-238fa08c58d3",
   "metadata": {},
   "outputs": [],
   "source": [
    "class OrdinaryCustomerCreator(Creator):\n",
    "    def factory_method(self, name):\n",
    "        return OrdinaryCustomer(name)"
   ]
  },
  {
   "cell_type": "code",
   "execution_count": 54,
   "id": "e25fe2d0-f5e4-4f4b-bfe0-0604b55355d9",
   "metadata": {
    "tags": []
   },
   "outputs": [],
   "source": [
    "class UnderagedCustomerCreator(Creator):\n",
    "    def factory_method(self, name):\n",
    "        return UnderagedCustomer(name)"
   ]
  },
  {
   "cell_type": "code",
   "execution_count": 55,
   "id": "99a2f3ce-8598-42a8-b083-64815f7f761f",
   "metadata": {},
   "outputs": [],
   "source": [
    "def display_products_to_customer(customer_factory, name):\n",
    "    print(customer_factory.show_products(name))"
   ]
  },
  {
   "cell_type": "code",
   "execution_count": 56,
   "id": "7a42eeb5-7e91-4792-b499-fd5c1d06c389",
   "metadata": {},
   "outputs": [],
   "source": [
    "ordinary_customer_creator = OrdinaryCustomerCreator()\n",
    "underaged_customer_creator = UnderagedCustomerCreator()"
   ]
  },
  {
   "cell_type": "code",
   "execution_count": 62,
   "id": "ec4eecac-635c-447e-80df-31b00312b278",
   "metadata": {},
   "outputs": [
    {
     "name": "stdin",
     "output_type": "stream",
     "text": [
      " \n",
      " adam\n"
     ]
    }
   ],
   "source": [
    "age = input()\n",
    "age = int(age) if age != '' else -1\n",
    "name = input()"
   ]
  },
  {
   "cell_type": "code",
   "execution_count": 60,
   "id": "12544079-6cc5-4b9f-87c2-76ed369eabf8",
   "metadata": {},
   "outputs": [
    {
     "name": "stdout",
     "output_type": "stream",
     "text": [
      "['bread', 'milk', 'chocolate']\n"
     ]
    }
   ],
   "source": [
    "if age < 18:\n",
    "    display_products_to_customer(underaged_customer_creator, name)\n",
    "else:\n",
    "    display_products_to_customer(ordinary_customer_creator, name)\n"
   ]
  },
  {
   "cell_type": "code",
   "execution_count": 61,
   "id": "011e81c5-833c-4c03-aba3-a367afe240df",
   "metadata": {},
   "outputs": [],
   "source": [
    "class UnverifiedCustomer(Customer):\n",
    "    def can_buy_alcohol(self):\n",
    "        return False"
   ]
  },
  {
   "cell_type": "code",
   "execution_count": 64,
   "id": "0da74f95-95a8-48f5-beeb-da718b543787",
   "metadata": {},
   "outputs": [],
   "source": [
    "class UnverifiedCustomerCreator(Creator):\n",
    "    def factory_method(self, name):\n",
    "        return OrdinaryCustomer(name)"
   ]
  },
  {
   "cell_type": "code",
   "execution_count": 65,
   "id": "ebe335e9-d80e-4920-83bf-91ac89276e7e",
   "metadata": {},
   "outputs": [],
   "source": [
    "unverified_customer_creator = UnverifiedCustomerCreator()"
   ]
  },
  {
   "cell_type": "code",
   "execution_count": 67,
   "id": "569395cf-666a-4fa4-af27-aa0269cc4b5d",
   "metadata": {},
   "outputs": [
    {
     "name": "stdin",
     "output_type": "stream",
     "text": [
      " \n",
      " Adam\n"
     ]
    }
   ],
   "source": [
    "age = input()\n",
    "age = int(age) if age != '' else -1\n",
    "name = input()"
   ]
  },
  {
   "cell_type": "code",
   "execution_count": 68,
   "id": "17e58052-3d3e-4f0b-92f6-33ed0da33aff",
   "metadata": {},
   "outputs": [
    {
     "name": "stdout",
     "output_type": "stream",
     "text": [
      "['bread', 'milk', 'chocolate', 'beer', 'wine']\n"
     ]
    }
   ],
   "source": [
    "if age == -1:\n",
    "    display_products_to_customer(unverified_customer_creator, name)\n",
    "elif age < 18:\n",
    "    display_products_to_customer(underaged_customer_creator, name)\n",
    "else:\n",
    "    display_products_to_customer(ordinary_customer_creator, name)\n"
   ]
  },
  {
   "cell_type": "markdown",
   "id": "cbf0f48f-3c85-43d6-8cc8-6adaeb62c686",
   "metadata": {},
   "source": [
    "## Metaclasses"
   ]
  },
  {
   "cell_type": "code",
   "execution_count": 69,
   "id": "bdf99cf0-1a5b-41a4-b540-c3347d708dd2",
   "metadata": {},
   "outputs": [],
   "source": [
    "class Foo:\n",
    "    def bar(self):\n",
    "        print(\"okay\")"
   ]
  },
  {
   "cell_type": "code",
   "execution_count": 70,
   "id": "6538dcb5-d754-482b-a2cd-7f7833bbba6f",
   "metadata": {},
   "outputs": [],
   "source": [
    "foo = Foo()"
   ]
  },
  {
   "cell_type": "code",
   "execution_count": 71,
   "id": "438345be-a56d-472c-a740-9451f1dd23c2",
   "metadata": {},
   "outputs": [
    {
     "name": "stdout",
     "output_type": "stream",
     "text": [
      "okay\n"
     ]
    }
   ],
   "source": [
    "foo.bar()"
   ]
  },
  {
   "cell_type": "code",
   "execution_count": 72,
   "id": "4cf92f6e-087a-4729-aa14-dd9c00206cbf",
   "metadata": {},
   "outputs": [
    {
     "ename": "TypeError",
     "evalue": "'Foo' object is not callable",
     "output_type": "error",
     "traceback": [
      "\u001b[0;31m---------------------------------------------------------------------------\u001b[0m",
      "\u001b[0;31mTypeError\u001b[0m                                 Traceback (most recent call last)",
      "Input \u001b[0;32mIn [72]\u001b[0m, in \u001b[0;36m<cell line: 1>\u001b[0;34m()\u001b[0m\n\u001b[0;32m----> 1\u001b[0m \u001b[43mfoo\u001b[49m\u001b[43m(\u001b[49m\u001b[43m)\u001b[49m\n",
      "\u001b[0;31mTypeError\u001b[0m: 'Foo' object is not callable"
     ]
    }
   ],
   "source": [
    "foo()"
   ]
  },
  {
   "cell_type": "code",
   "execution_count": 73,
   "id": "2726e218-a26a-4b9f-8506-a2d46ae02fc5",
   "metadata": {},
   "outputs": [
    {
     "ename": "TypeError",
     "evalue": "'Foo' object is not callable",
     "output_type": "error",
     "traceback": [
      "\u001b[0;31m---------------------------------------------------------------------------\u001b[0m",
      "\u001b[0;31mTypeError\u001b[0m                                 Traceback (most recent call last)",
      "Input \u001b[0;32mIn [73]\u001b[0m, in \u001b[0;36m<cell line: 1>\u001b[0;34m()\u001b[0m\n\u001b[0;32m----> 1\u001b[0m \u001b[43mfoo\u001b[49m\u001b[43m(\u001b[49m\u001b[38;5;124;43m\"\u001b[39;49m\u001b[38;5;124;43mtest\u001b[39;49m\u001b[38;5;124;43m\"\u001b[39;49m\u001b[43m)\u001b[49m\n",
      "\u001b[0;31mTypeError\u001b[0m: 'Foo' object is not callable"
     ]
    }
   ],
   "source": [
    "foo(\"test\")"
   ]
  },
  {
   "cell_type": "code",
   "execution_count": 74,
   "id": "55f42b04-c280-4e4b-a6cb-36bab589904b",
   "metadata": {},
   "outputs": [],
   "source": [
    "class Foo:\n",
    "    def __call__(self):\n",
    "        print(\"It works!\")"
   ]
  },
  {
   "cell_type": "code",
   "execution_count": 75,
   "id": "6d6be87f-fb0a-4e18-b133-75dc07bae190",
   "metadata": {},
   "outputs": [],
   "source": [
    "foo = Foo()"
   ]
  },
  {
   "cell_type": "code",
   "execution_count": 76,
   "id": "1a830986-7e7b-427b-9acd-ed4e79bf0b50",
   "metadata": {},
   "outputs": [
    {
     "name": "stdout",
     "output_type": "stream",
     "text": [
      "It works!\n"
     ]
    }
   ],
   "source": [
    "foo()"
   ]
  },
  {
   "cell_type": "code",
   "execution_count": 80,
   "id": "7cb474a1-3766-473b-8373-49f2a2d80338",
   "metadata": {},
   "outputs": [],
   "source": [
    "class Foo:  # Callable\n",
    "    def __call__(self, text):\n",
    "        print(\"It works!\")\n",
    "        print(text)"
   ]
  },
  {
   "cell_type": "code",
   "execution_count": 81,
   "id": "cf0caa99-1858-4efe-ac78-2695f42c7da9",
   "metadata": {},
   "outputs": [],
   "source": [
    "foo = Foo()"
   ]
  },
  {
   "cell_type": "code",
   "execution_count": 82,
   "id": "8f8c1940-ae6f-4a28-9e34-96641796a6cf",
   "metadata": {},
   "outputs": [
    {
     "name": "stdout",
     "output_type": "stream",
     "text": [
      "It works!\n",
      "test\n"
     ]
    }
   ],
   "source": [
    "foo(\"test\")"
   ]
  },
  {
   "cell_type": "code",
   "execution_count": 83,
   "id": "a31dfd96-d391-4ade-929b-fe92c58bbe78",
   "metadata": {},
   "outputs": [],
   "source": [
    "Bar = Foo"
   ]
  },
  {
   "cell_type": "code",
   "execution_count": 84,
   "id": "f0fc4dfb-9e60-4756-8779-4379eae17e6c",
   "metadata": {},
   "outputs": [
    {
     "data": {
      "text/plain": [
       "type"
      ]
     },
     "execution_count": 84,
     "metadata": {},
     "output_type": "execute_result"
    }
   ],
   "source": [
    "type(Bar)"
   ]
  },
  {
   "cell_type": "code",
   "execution_count": 85,
   "id": "fa1980b8-18f8-4088-9563-76b6c6e1c7cb",
   "metadata": {},
   "outputs": [],
   "source": [
    "b = Bar()"
   ]
  },
  {
   "cell_type": "code",
   "execution_count": 86,
   "id": "63722dab-14f9-4dd2-b7a3-48170a80a0ad",
   "metadata": {},
   "outputs": [
    {
     "data": {
      "text/plain": [
       "<__main__.Foo at 0x107acce80>"
      ]
     },
     "execution_count": 86,
     "metadata": {},
     "output_type": "execute_result"
    }
   ],
   "source": [
    "b"
   ]
  },
  {
   "cell_type": "code",
   "execution_count": 87,
   "id": "34bfd594-fbe6-4340-8b6e-5f98112e5ff7",
   "metadata": {},
   "outputs": [
    {
     "data": {
      "text/plain": [
       "type"
      ]
     },
     "execution_count": 87,
     "metadata": {},
     "output_type": "execute_result"
    }
   ],
   "source": [
    "type(type)"
   ]
  },
  {
   "cell_type": "code",
   "execution_count": 91,
   "id": "e0ec590e-a44e-41f2-aee7-5bd213c93fac",
   "metadata": {},
   "outputs": [],
   "source": [
    "a = Foo()\n",
    "b = Foo()"
   ]
  },
  {
   "cell_type": "code",
   "execution_count": 92,
   "id": "b96411ee-6615-4938-b647-f5d51cd1fb71",
   "metadata": {},
   "outputs": [
    {
     "data": {
      "text/plain": [
       "False"
      ]
     },
     "execution_count": 92,
     "metadata": {},
     "output_type": "execute_result"
    }
   ],
   "source": [
    "a is b"
   ]
  },
  {
   "cell_type": "code",
   "execution_count": 93,
   "id": "afa38882-74a9-40d7-a36d-c6b8cf7ab89b",
   "metadata": {},
   "outputs": [
    {
     "data": {
      "text/plain": [
       "False"
      ]
     },
     "execution_count": 93,
     "metadata": {},
     "output_type": "execute_result"
    }
   ],
   "source": [
    "a == b"
   ]
  },
  {
   "cell_type": "code",
   "execution_count": 94,
   "id": "0a605dd9-371f-46f2-833f-2ad80c67cc13",
   "metadata": {},
   "outputs": [
    {
     "data": {
      "text/plain": [
       "4570504208"
      ]
     },
     "execution_count": 94,
     "metadata": {},
     "output_type": "execute_result"
    }
   ],
   "source": [
    "id(a)"
   ]
  },
  {
   "cell_type": "code",
   "execution_count": 95,
   "id": "e5cb9f7a-cb1e-410d-b45b-5a36a4a759c1",
   "metadata": {},
   "outputs": [
    {
     "data": {
      "text/plain": [
       "4563945696"
      ]
     },
     "execution_count": 95,
     "metadata": {},
     "output_type": "execute_result"
    }
   ],
   "source": [
    "id(b)"
   ]
  },
  {
   "cell_type": "code",
   "execution_count": 99,
   "id": "5a596f19-4b33-44a8-82c7-b1dd1bc18e7d",
   "metadata": {},
   "outputs": [],
   "source": [
    "class SingletonMeta(type):\n",
    "    instances = {}\n",
    "    \n",
    "    def __call__(cls, *args, **kwargs):\n",
    "        if cls not in cls.instances:\n",
    "            inst = super().__call__(*args, **kwargs)\n",
    "            cls.instances[cls] = inst\n",
    "            return inst\n",
    "        return cls.instances[cls]"
   ]
  },
  {
   "cell_type": "code",
   "execution_count": 100,
   "id": "fa88c6f3-a82d-4d8e-8204-9633c88dfad5",
   "metadata": {},
   "outputs": [],
   "source": [
    "class FooSingleton(metaclass=SingletonMeta):\n",
    "    def bar(self):\n",
    "        print(\"okay\")"
   ]
  },
  {
   "cell_type": "code",
   "execution_count": 101,
   "id": "5d4e25f1-06cf-4c7d-8f6a-6e70350943e8",
   "metadata": {},
   "outputs": [],
   "source": [
    "a = FooSingleton()"
   ]
  },
  {
   "cell_type": "code",
   "execution_count": 102,
   "id": "11fff3b2-d99e-4ee9-8ed9-41975930c48b",
   "metadata": {},
   "outputs": [
    {
     "data": {
      "text/plain": [
       "4563429072"
      ]
     },
     "execution_count": 102,
     "metadata": {},
     "output_type": "execute_result"
    }
   ],
   "source": [
    "id(a)"
   ]
  },
  {
   "cell_type": "code",
   "execution_count": 103,
   "id": "cbf0a0eb-268e-47cc-9524-aa86466b7661",
   "metadata": {},
   "outputs": [],
   "source": [
    "b = FooSingleton()"
   ]
  },
  {
   "cell_type": "code",
   "execution_count": 104,
   "id": "58eaea5c-87e4-4b09-88d0-97b654462a21",
   "metadata": {},
   "outputs": [
    {
     "data": {
      "text/plain": [
       "4563429072"
      ]
     },
     "execution_count": 104,
     "metadata": {},
     "output_type": "execute_result"
    }
   ],
   "source": [
    "id(b)"
   ]
  },
  {
   "cell_type": "code",
   "execution_count": 105,
   "id": "57551552-3e5d-4008-927b-81a845b06b7d",
   "metadata": {},
   "outputs": [
    {
     "data": {
      "text/plain": [
       "True"
      ]
     },
     "execution_count": 105,
     "metadata": {},
     "output_type": "execute_result"
    }
   ],
   "source": [
    "a is b"
   ]
  },
  {
   "cell_type": "code",
   "execution_count": 106,
   "id": "ae8d3630-1439-4598-a037-775066e88094",
   "metadata": {},
   "outputs": [],
   "source": [
    "c = FooSingleton()"
   ]
  },
  {
   "cell_type": "code",
   "execution_count": 107,
   "id": "f613b24f-da9d-42a4-ac9a-7deafcc2bd7d",
   "metadata": {},
   "outputs": [
    {
     "data": {
      "text/plain": [
       "True"
      ]
     },
     "execution_count": 107,
     "metadata": {},
     "output_type": "execute_result"
    }
   ],
   "source": [
    "c is a"
   ]
  },
  {
   "cell_type": "code",
   "execution_count": 108,
   "id": "5a1201e7-d0ee-4b7d-8a3f-9b27ae435456",
   "metadata": {},
   "outputs": [
    {
     "name": "stdout",
     "output_type": "stream",
     "text": [
      "okay\n"
     ]
    }
   ],
   "source": [
    "c.bar()"
   ]
  },
  {
   "cell_type": "code",
   "execution_count": 109,
   "id": "e7d9f567-b320-4779-ab74-aa0f4580aa45",
   "metadata": {},
   "outputs": [],
   "source": [
    "c.t = \"test\""
   ]
  },
  {
   "cell_type": "code",
   "execution_count": 110,
   "id": "72515be4-2e2e-42a6-83c3-9a1b8ad55a61",
   "metadata": {},
   "outputs": [
    {
     "data": {
      "text/plain": [
       "'test'"
      ]
     },
     "execution_count": 110,
     "metadata": {},
     "output_type": "execute_result"
    }
   ],
   "source": [
    "c.t"
   ]
  },
  {
   "cell_type": "code",
   "execution_count": 111,
   "id": "2904f858-6d4e-4116-ab0b-aa31c01c254d",
   "metadata": {},
   "outputs": [
    {
     "data": {
      "text/plain": [
       "'test'"
      ]
     },
     "execution_count": 111,
     "metadata": {},
     "output_type": "execute_result"
    }
   ],
   "source": [
    "a.t"
   ]
  },
  {
   "cell_type": "code",
   "execution_count": 112,
   "id": "867f4130-2222-480e-9ac7-c4d1a9377065",
   "metadata": {},
   "outputs": [
    {
     "data": {
      "text/plain": [
       "'test'"
      ]
     },
     "execution_count": 112,
     "metadata": {},
     "output_type": "execute_result"
    }
   ],
   "source": [
    "b.t"
   ]
  },
  {
   "cell_type": "code",
   "execution_count": 113,
   "id": "aba7dc68-d556-4b22-b116-73243e2b8b45",
   "metadata": {},
   "outputs": [],
   "source": [
    "class SingletonMeta(type):\n",
    "    instance = None\n",
    "    \n",
    "    def __call__(cls, *args, **kwargs):\n",
    "        if cls.instance is None:\n",
    "            cls.instance = super().__call__(*args, **kwargs)\n",
    "        return cls.instance"
   ]
  },
  {
   "cell_type": "code",
   "execution_count": 114,
   "id": "7d694a34-56bd-49fd-82ee-24ef8e227e47",
   "metadata": {},
   "outputs": [],
   "source": [
    "def Bar(metaclass=SingletonMeta):\n",
    "    pass"
   ]
  },
  {
   "cell_type": "code",
   "execution_count": 115,
   "id": "d8de2e7c-6079-4ed9-8a1a-d731f0edb33e",
   "metadata": {},
   "outputs": [
    {
     "data": {
      "text/plain": [
       "True"
      ]
     },
     "execution_count": 115,
     "metadata": {},
     "output_type": "execute_result"
    }
   ],
   "source": [
    "Bar() is Bar()"
   ]
  },
  {
   "cell_type": "code",
   "execution_count": null,
   "id": "3af95da0-5fc5-4c6e-b82d-8465fbc79105",
   "metadata": {},
   "outputs": [],
   "source": []
  }
 ],
 "metadata": {
  "kernelspec": {
   "display_name": "Python 3 (ipykernel)",
   "language": "python",
   "name": "python3"
  },
  "language_info": {
   "codemirror_mode": {
    "name": "ipython",
    "version": 3
   },
   "file_extension": ".py",
   "mimetype": "text/x-python",
   "name": "python",
   "nbconvert_exporter": "python",
   "pygments_lexer": "ipython3",
   "version": "3.9.13"
  }
 },
 "nbformat": 4,
 "nbformat_minor": 5
}
